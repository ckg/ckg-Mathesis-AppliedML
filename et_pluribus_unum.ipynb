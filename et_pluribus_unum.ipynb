{
 "cells": [
  {
   "cell_type": "markdown",
   "metadata": {
    "slideshow": {
     "slide_type": "slide"
    }
   },
   "source": [
    "# Η Ισχύς εν τη Ενώση\n",
    "\n",
    "* Προσαρμογή από το βιβλίο του Wes McKinney *Python for Data Analysis*, 2η έκδοση, O'Reilly, 2017.\n",
    "\n",
    "---\n",
    "\n",
    "> Πάνος Λουρίδας, Αναπληρωτής Καθηγητής <br />\n",
    "> Τμήμα Διοικητικής Επιστήμης και Τεχνολογίας <br />\n",
    "> Οικονομικό Πανεπιστήμιο Αθηνών <br />\n",
    "> louridas@aueb.gr"
   ]
  },
  {
   "cell_type": "markdown",
   "metadata": {
    "slideshow": {
     "slide_type": "slide"
    }
   },
   "source": [
    "# Περί Τίνος Πρόκειται;\n",
    "\n",
    "* Η [Ομοσπονδιακή Εκλογική Επιτροπή (Federal Election Commission)](https://www.fec.gov/) δημοσιεύει δεδομένα για τις δωρεές που δίνονται στις εκλογικές εκστρατίες στις ΗΠΑ.\n",
    "\n",
    "* Τα δεδομένα είναι διαθέσιμα στο https://www.fec.gov/data/browse-data/?tab=bulk-data.\n",
    "\n",
    "* Θα χρησιμοποιήσουμε τα δεδομένα για το 2012 (απλώς γιατί είναι μικρότερα σε όγκο)."
   ]
  },
  {
   "cell_type": "code",
   "execution_count": 30,
   "metadata": {
    "slideshow": {
     "slide_type": "slide"
    }
   },
   "outputs": [],
   "source": [
    "import pandas as pd\n",
    "import matplotlib.pyplot as plt\n",
    "import matplotlib\n",
    "from collections import defaultdict\n",
    "\n",
    "matplotlib.style.use('ggplot')\n",
    "pd.set_option(\"display.max_columns\", None)"
   ]
  },
  {
   "cell_type": "markdown",
   "metadata": {
    "slideshow": {
     "slide_type": "slide"
    }
   },
   "source": [
    "* Θα διερευνήσουμε τις [ατομικές συνεισφορές για το 2012](https://www.fec.gov/files/bulk-downloads/2012/indiv12.zip).\n",
    "\n",
    "* Τα δεδομένα περιλαμβάνουν τα ονόματα των δωρητών, διεύθυνση, επάγγελμα, και το ποσό της δωρεάς.\n",
    "\n",
    "* Το αρχείο των δεδομένων είναι ξεχωριστό από το [αρχείο των επικεφαλίδων](https://www.fec.gov/files/bulk-downloads/data_dictionaries/indiv_header_file.csv) που θα πρέπει να κατεβάσουμε ξεχωριστά."
   ]
  },
  {
   "cell_type": "code",
   "execution_count": 31,
   "metadata": {
    "slideshow": {
     "slide_type": "fragment"
    }
   },
   "outputs": [
    {
     "data": {
      "text/html": [
       "<div>\n",
       "<style scoped>\n",
       "    .dataframe tbody tr th:only-of-type {\n",
       "        vertical-align: middle;\n",
       "    }\n",
       "\n",
       "    .dataframe tbody tr th {\n",
       "        vertical-align: top;\n",
       "    }\n",
       "\n",
       "    .dataframe thead th {\n",
       "        text-align: right;\n",
       "    }\n",
       "</style>\n",
       "<table border=\"1\" class=\"dataframe\">\n",
       "  <thead>\n",
       "    <tr style=\"text-align: right;\">\n",
       "      <th></th>\n",
       "      <th>CMTE_ID</th>\n",
       "      <th>AMNDT_IND</th>\n",
       "      <th>RPT_TP</th>\n",
       "      <th>TRANSACTION_PGI</th>\n",
       "      <th>IMAGE_NUM</th>\n",
       "      <th>TRANSACTION_TP</th>\n",
       "      <th>ENTITY_TP</th>\n",
       "      <th>NAME</th>\n",
       "      <th>CITY</th>\n",
       "      <th>STATE</th>\n",
       "      <th>ZIP_CODE</th>\n",
       "      <th>EMPLOYER</th>\n",
       "      <th>OCCUPATION</th>\n",
       "      <th>TRANSACTION_DT</th>\n",
       "      <th>TRANSACTION_AMT</th>\n",
       "      <th>OTHER_ID</th>\n",
       "      <th>TRAN_ID</th>\n",
       "      <th>FILE_NUM</th>\n",
       "      <th>MEMO_CD</th>\n",
       "      <th>MEMO_TEXT</th>\n",
       "      <th>SUB_ID</th>\n",
       "    </tr>\n",
       "  </thead>\n",
       "  <tbody>\n",
       "  </tbody>\n",
       "</table>\n",
       "</div>"
      ],
      "text/plain": [
       "Empty DataFrame\n",
       "Columns: [CMTE_ID, AMNDT_IND, RPT_TP, TRANSACTION_PGI, IMAGE_NUM, TRANSACTION_TP, ENTITY_TP, NAME, CITY, STATE, ZIP_CODE, EMPLOYER, OCCUPATION, TRANSACTION_DT, TRANSACTION_AMT, OTHER_ID, TRAN_ID, FILE_NUM, MEMO_CD, MEMO_TEXT, SUB_ID]\n",
       "Index: []"
      ]
     },
     "execution_count": 31,
     "metadata": {},
     "output_type": "execute_result"
    }
   ],
   "source": [
    "headers = pd.read_csv('https://www.fec.gov/files/bulk-downloads/data_dictionaries/indiv_header_file.csv')\n",
    "headers"
   ]
  },
  {
   "cell_type": "markdown",
   "metadata": {
    "slideshow": {
     "slide_type": "slide"
    }
   },
   "source": [
    "* Τώρα μπορούμε να διαβάσουμε και τα ίδια τα δεδομένα."
   ]
  },
  {
   "cell_type": "code",
   "execution_count": 32,
   "metadata": {
    "slideshow": {
     "slide_type": "fragment"
    }
   },
   "outputs": [
    {
     "data": {
      "text/html": [
       "<div>\n",
       "<style scoped>\n",
       "    .dataframe tbody tr th:only-of-type {\n",
       "        vertical-align: middle;\n",
       "    }\n",
       "\n",
       "    .dataframe tbody tr th {\n",
       "        vertical-align: top;\n",
       "    }\n",
       "\n",
       "    .dataframe thead th {\n",
       "        text-align: right;\n",
       "    }\n",
       "</style>\n",
       "<table border=\"1\" class=\"dataframe\">\n",
       "  <thead>\n",
       "    <tr style=\"text-align: right;\">\n",
       "      <th></th>\n",
       "      <th>CMTE_ID</th>\n",
       "      <th>AMNDT_IND</th>\n",
       "      <th>RPT_TP</th>\n",
       "      <th>TRANSACTION_PGI</th>\n",
       "      <th>IMAGE_NUM</th>\n",
       "      <th>TRANSACTION_TP</th>\n",
       "      <th>ENTITY_TP</th>\n",
       "      <th>NAME</th>\n",
       "      <th>CITY</th>\n",
       "      <th>STATE</th>\n",
       "      <th>ZIP_CODE</th>\n",
       "      <th>EMPLOYER</th>\n",
       "      <th>OCCUPATION</th>\n",
       "      <th>TRANSACTION_DT</th>\n",
       "      <th>TRANSACTION_AMT</th>\n",
       "      <th>OTHER_ID</th>\n",
       "      <th>TRAN_ID</th>\n",
       "      <th>FILE_NUM</th>\n",
       "      <th>MEMO_CD</th>\n",
       "      <th>MEMO_TEXT</th>\n",
       "      <th>SUB_ID</th>\n",
       "    </tr>\n",
       "  </thead>\n",
       "  <tbody>\n",
       "    <tr>\n",
       "      <th>0</th>\n",
       "      <td>C00425645</td>\n",
       "      <td>N</td>\n",
       "      <td>M2</td>\n",
       "      <td>NaN</td>\n",
       "      <td>11930332238</td>\n",
       "      <td>15</td>\n",
       "      <td>IND</td>\n",
       "      <td>MYERS, WALTER</td>\n",
       "      <td>TUSTIN RANCH</td>\n",
       "      <td>CA</td>\n",
       "      <td>92782</td>\n",
       "      <td>MICROSOFT</td>\n",
       "      <td>CONSULTANT</td>\n",
       "      <td>1192011</td>\n",
       "      <td>250</td>\n",
       "      <td>NaN</td>\n",
       "      <td>INCA210</td>\n",
       "      <td>713442</td>\n",
       "      <td>NaN</td>\n",
       "      <td>NaN</td>\n",
       "      <td>4030920111137082784</td>\n",
       "    </tr>\n",
       "    <tr>\n",
       "      <th>1</th>\n",
       "      <td>C00377051</td>\n",
       "      <td>N</td>\n",
       "      <td>M2</td>\n",
       "      <td>NaN</td>\n",
       "      <td>11930332597</td>\n",
       "      <td>15</td>\n",
       "      <td>IND</td>\n",
       "      <td>ORROCK, MICHELLE</td>\n",
       "      <td>ELK GROVE</td>\n",
       "      <td>CA</td>\n",
       "      <td>95624</td>\n",
       "      <td>C &amp; M INSURANCE</td>\n",
       "      <td>INSURANCE AGENT</td>\n",
       "      <td>1102011</td>\n",
       "      <td>350</td>\n",
       "      <td>NaN</td>\n",
       "      <td>INCA161</td>\n",
       "      <td>713448</td>\n",
       "      <td>NaN</td>\n",
       "      <td>NaN</td>\n",
       "      <td>4030920111137082785</td>\n",
       "    </tr>\n",
       "    <tr>\n",
       "      <th>2</th>\n",
       "      <td>C00377051</td>\n",
       "      <td>N</td>\n",
       "      <td>M2</td>\n",
       "      <td>NaN</td>\n",
       "      <td>11930332597</td>\n",
       "      <td>15</td>\n",
       "      <td>IND</td>\n",
       "      <td>SCHACHTERLE, DIANE</td>\n",
       "      <td>CARMICHAEL</td>\n",
       "      <td>CA</td>\n",
       "      <td>95608</td>\n",
       "      <td>ACRI</td>\n",
       "      <td>DIRECTOR OF POLICY</td>\n",
       "      <td>1102011</td>\n",
       "      <td>300</td>\n",
       "      <td>NaN</td>\n",
       "      <td>INCA164</td>\n",
       "      <td>713448</td>\n",
       "      <td>NaN</td>\n",
       "      <td>NaN</td>\n",
       "      <td>4030920111137082786</td>\n",
       "    </tr>\n",
       "    <tr>\n",
       "      <th>3</th>\n",
       "      <td>C00487447</td>\n",
       "      <td>N</td>\n",
       "      <td>M2</td>\n",
       "      <td>NaN</td>\n",
       "      <td>11930332701</td>\n",
       "      <td>15</td>\n",
       "      <td>IND</td>\n",
       "      <td>CLEVENGER, DON JEFFERY</td>\n",
       "      <td>SUNNYVALE</td>\n",
       "      <td>TX</td>\n",
       "      <td>75182</td>\n",
       "      <td>ONCOR ELECTRIC DELIVERY</td>\n",
       "      <td>SR VICE PRESIDENT</td>\n",
       "      <td>1312011</td>\n",
       "      <td>283</td>\n",
       "      <td>NaN</td>\n",
       "      <td>PR1611594225441</td>\n",
       "      <td>713467</td>\n",
       "      <td>NaN</td>\n",
       "      <td>P/R DEDUCTION ($283.33 SEMI-MONTHLY)</td>\n",
       "      <td>4030920111137082792</td>\n",
       "    </tr>\n",
       "    <tr>\n",
       "      <th>4</th>\n",
       "      <td>C00487447</td>\n",
       "      <td>N</td>\n",
       "      <td>M2</td>\n",
       "      <td>NaN</td>\n",
       "      <td>11930332701</td>\n",
       "      <td>15</td>\n",
       "      <td>IND</td>\n",
       "      <td>GREER, JAMES ALAN</td>\n",
       "      <td>ROANOKE</td>\n",
       "      <td>TX</td>\n",
       "      <td>76262</td>\n",
       "      <td>ONCOR ELECTRIC DELIVERY</td>\n",
       "      <td>SR VICE PRESIDENT</td>\n",
       "      <td>1312011</td>\n",
       "      <td>250</td>\n",
       "      <td>NaN</td>\n",
       "      <td>PR675291525441</td>\n",
       "      <td>713467</td>\n",
       "      <td>NaN</td>\n",
       "      <td>P/R DEDUCTION ($250.00 SEMI-MONTHLY)</td>\n",
       "      <td>4030920111137082793</td>\n",
       "    </tr>\n",
       "  </tbody>\n",
       "</table>\n",
       "</div>"
      ],
      "text/plain": [
       "     CMTE_ID AMNDT_IND RPT_TP  TRANSACTION_PGI    IMAGE_NUM  TRANSACTION_TP  \\\n",
       "0  C00425645         N     M2              NaN  11930332238              15   \n",
       "1  C00377051         N     M2              NaN  11930332597              15   \n",
       "2  C00377051         N     M2              NaN  11930332597              15   \n",
       "3  C00487447         N     M2              NaN  11930332701              15   \n",
       "4  C00487447         N     M2              NaN  11930332701              15   \n",
       "\n",
       "  ENTITY_TP                    NAME          CITY STATE  ZIP_CODE  \\\n",
       "0       IND           MYERS, WALTER  TUSTIN RANCH    CA     92782   \n",
       "1       IND        ORROCK, MICHELLE     ELK GROVE    CA     95624   \n",
       "2       IND      SCHACHTERLE, DIANE    CARMICHAEL    CA     95608   \n",
       "3       IND  CLEVENGER, DON JEFFERY     SUNNYVALE    TX     75182   \n",
       "4       IND       GREER, JAMES ALAN       ROANOKE    TX     76262   \n",
       "\n",
       "                  EMPLOYER          OCCUPATION  TRANSACTION_DT  \\\n",
       "0                MICROSOFT          CONSULTANT         1192011   \n",
       "1          C & M INSURANCE     INSURANCE AGENT         1102011   \n",
       "2                     ACRI  DIRECTOR OF POLICY         1102011   \n",
       "3  ONCOR ELECTRIC DELIVERY   SR VICE PRESIDENT         1312011   \n",
       "4  ONCOR ELECTRIC DELIVERY   SR VICE PRESIDENT         1312011   \n",
       "\n",
       "   TRANSACTION_AMT  OTHER_ID          TRAN_ID  FILE_NUM  MEMO_CD  \\\n",
       "0              250       NaN          INCA210    713442      NaN   \n",
       "1              350       NaN          INCA161    713448      NaN   \n",
       "2              300       NaN          INCA164    713448      NaN   \n",
       "3              283       NaN  PR1611594225441    713467      NaN   \n",
       "4              250       NaN   PR675291525441    713467      NaN   \n",
       "\n",
       "                              MEMO_TEXT               SUB_ID  \n",
       "0                                   NaN  4030920111137082784  \n",
       "1                                   NaN  4030920111137082785  \n",
       "2                                   NaN  4030920111137082786  \n",
       "3  P/R DEDUCTION ($283.33 SEMI-MONTHLY)  4030920111137082792  \n",
       "4  P/R DEDUCTION ($250.00 SEMI-MONTHLY)  4030920111137082793  "
      ]
     },
     "execution_count": 32,
     "metadata": {},
     "output_type": "execute_result"
    }
   ],
   "source": [
    "fec = pd.read_csv('nyc_taxi/itcont.txt', sep=\"|\", nrows=10, names=headers.columns)\n",
    "fec.head(5)"
   ]
  },
  {
   "cell_type": "markdown",
   "metadata": {
    "slideshow": {
     "slide_type": "slide"
    }
   },
   "source": [
    "* Το αρχείο που θα διαβάσουμε είναι μεγάλο.\n",
    "\n",
    "* Όταν διαβάζουμε ένα αρχείο, διευκολύνουμε το pandas αν του δώσουμε τους τύπους δεδομένων των στηλών.\n",
    "\n",
    "* Τους τύπους δεδομένων τους δίνουμε με ένα λεξικό. Εδώ μας ενδιαφέρει το ποσό της δωρεάς, που θα δηλώσουμε ότι είναι αριθμός, ενώ για όλα τα υπόλοιπα θα τα χειριστούμε ως συμβολοσειρές."
   ]
  },
  {
   "cell_type": "code",
   "execution_count": 33,
   "metadata": {
    "slideshow": {
     "slide_type": "slide"
    }
   },
   "outputs": [
    {
     "data": {
      "text/plain": [
       "{'CMTE_ID': str,\n",
       " 'AMNDT_IND': str,\n",
       " 'RPT_TP': str,\n",
       " 'TRANSACTION_PGI': str,\n",
       " 'IMAGE_NUM': str,\n",
       " 'TRANSACTION_TP': str,\n",
       " 'ENTITY_TP': str,\n",
       " 'NAME': str,\n",
       " 'CITY': str,\n",
       " 'STATE': str,\n",
       " 'ZIP_CODE': str,\n",
       " 'EMPLOYER': str,\n",
       " 'OCCUPATION': str,\n",
       " 'TRANSACTION_DT': str,\n",
       " 'TRANSACTION_AMT': float,\n",
       " 'OTHER_ID': str,\n",
       " 'TRAN_ID': str,\n",
       " 'FILE_NUM': str,\n",
       " 'MEMO_CD': str,\n",
       " 'MEMO_TEXT': str,\n",
       " 'SUB_ID': str}"
      ]
     },
     "execution_count": 33,
     "metadata": {},
     "output_type": "execute_result"
    }
   ],
   "source": [
    "data_types = { header: str for header in headers }\n",
    "data_types['TRANSACTION_AMT'] = float\n",
    "data_types"
   ]
  },
  {
   "cell_type": "markdown",
   "metadata": {
    "slideshow": {
     "slide_type": "slide"
    }
   },
   "source": [
    "* Οπότε τώρα ας διαβάσουμε όλα τα δεδομένα."
   ]
  },
  {
   "cell_type": "code",
   "execution_count": 34,
   "metadata": {
    "slideshow": {
     "slide_type": "fragment"
    }
   },
   "outputs": [
    {
     "data": {
      "text/plain": [
       "(3372139, 21)"
      ]
     },
     "execution_count": 34,
     "metadata": {},
     "output_type": "execute_result"
    }
   ],
   "source": [
    "fec = pd.read_csv('nyc_taxi/itcont.txt', \n",
    "                  sep=\"|\", \n",
    "                  names=headers.columns,\n",
    "                  dtype=data_types)\n",
    "\n",
    "fec.shape"
   ]
  },
  {
   "cell_type": "code",
   "execution_count": 35,
   "metadata": {
    "slideshow": {
     "slide_type": "slide"
    }
   },
   "outputs": [
    {
     "data": {
      "text/html": [
       "<div>\n",
       "<style scoped>\n",
       "    .dataframe tbody tr th:only-of-type {\n",
       "        vertical-align: middle;\n",
       "    }\n",
       "\n",
       "    .dataframe tbody tr th {\n",
       "        vertical-align: top;\n",
       "    }\n",
       "\n",
       "    .dataframe thead th {\n",
       "        text-align: right;\n",
       "    }\n",
       "</style>\n",
       "<table border=\"1\" class=\"dataframe\">\n",
       "  <thead>\n",
       "    <tr style=\"text-align: right;\">\n",
       "      <th></th>\n",
       "      <th>CMTE_ID</th>\n",
       "      <th>AMNDT_IND</th>\n",
       "      <th>RPT_TP</th>\n",
       "      <th>TRANSACTION_PGI</th>\n",
       "      <th>IMAGE_NUM</th>\n",
       "      <th>TRANSACTION_TP</th>\n",
       "      <th>ENTITY_TP</th>\n",
       "      <th>NAME</th>\n",
       "      <th>CITY</th>\n",
       "      <th>STATE</th>\n",
       "      <th>ZIP_CODE</th>\n",
       "      <th>EMPLOYER</th>\n",
       "      <th>OCCUPATION</th>\n",
       "      <th>TRANSACTION_DT</th>\n",
       "      <th>TRANSACTION_AMT</th>\n",
       "      <th>OTHER_ID</th>\n",
       "      <th>TRAN_ID</th>\n",
       "      <th>FILE_NUM</th>\n",
       "      <th>MEMO_CD</th>\n",
       "      <th>MEMO_TEXT</th>\n",
       "      <th>SUB_ID</th>\n",
       "    </tr>\n",
       "  </thead>\n",
       "  <tbody>\n",
       "    <tr>\n",
       "      <th>868131</th>\n",
       "      <td>C00431171</td>\n",
       "      <td>A</td>\n",
       "      <td>Q2</td>\n",
       "      <td>P2012</td>\n",
       "      <td>14942413429</td>\n",
       "      <td>15</td>\n",
       "      <td>IND</td>\n",
       "      <td>JOY, THOMAS KENNETH MR.</td>\n",
       "      <td>OXFORD</td>\n",
       "      <td>MD</td>\n",
       "      <td>21654</td>\n",
       "      <td>THE JOY COMPANIES</td>\n",
       "      <td>PRESIDENT</td>\n",
       "      <td>06202011</td>\n",
       "      <td>500.0</td>\n",
       "      <td>NaN</td>\n",
       "      <td>SA17.447144</td>\n",
       "      <td>944268</td>\n",
       "      <td>NaN</td>\n",
       "      <td>NaN</td>\n",
       "      <td>4080620141220399227</td>\n",
       "    </tr>\n",
       "    <tr>\n",
       "      <th>2475646</th>\n",
       "      <td>C00431445</td>\n",
       "      <td>A</td>\n",
       "      <td>M10</td>\n",
       "      <td>G2012</td>\n",
       "      <td>13943716954</td>\n",
       "      <td>15</td>\n",
       "      <td>IND</td>\n",
       "      <td>DUGAN., JOHN V. JR.</td>\n",
       "      <td>ANNANDALE</td>\n",
       "      <td>VA</td>\n",
       "      <td>22003</td>\n",
       "      <td>SELF-EMPLOYED</td>\n",
       "      <td>CONSULTANT</td>\n",
       "      <td>09182012</td>\n",
       "      <td>250.0</td>\n",
       "      <td>NaN</td>\n",
       "      <td>C22444948</td>\n",
       "      <td>897086</td>\n",
       "      <td>NaN</td>\n",
       "      <td>NaN</td>\n",
       "      <td>4121620131203042140</td>\n",
       "    </tr>\n",
       "    <tr>\n",
       "      <th>1825705</th>\n",
       "      <td>C00279216</td>\n",
       "      <td>N</td>\n",
       "      <td>12G</td>\n",
       "      <td>NaN</td>\n",
       "      <td>12940406756</td>\n",
       "      <td>15</td>\n",
       "      <td>IND</td>\n",
       "      <td>GARBER, MARY BETH</td>\n",
       "      <td>SAN ANTONIO</td>\n",
       "      <td>TX</td>\n",
       "      <td>78209</td>\n",
       "      <td>CLEAR CHANNEL COMMUNICATIONS INC.</td>\n",
       "      <td>EXECUTIVE</td>\n",
       "      <td>10152012</td>\n",
       "      <td>208.0</td>\n",
       "      <td>NaN</td>\n",
       "      <td>A2012-2189318</td>\n",
       "      <td>824916</td>\n",
       "      <td>NaN</td>\n",
       "      <td>NaN</td>\n",
       "      <td>4111520121172096710</td>\n",
       "    </tr>\n",
       "    <tr>\n",
       "      <th>2809243</th>\n",
       "      <td>C00518282</td>\n",
       "      <td>A</td>\n",
       "      <td>12G</td>\n",
       "      <td>P</td>\n",
       "      <td>13942268136</td>\n",
       "      <td>15</td>\n",
       "      <td>IND</td>\n",
       "      <td>RUNKEL, JOHN</td>\n",
       "      <td>SEWICKLEY</td>\n",
       "      <td>PA</td>\n",
       "      <td>15143</td>\n",
       "      <td>RETIRED</td>\n",
       "      <td>RETIRED</td>\n",
       "      <td>10072012</td>\n",
       "      <td>1000.0</td>\n",
       "      <td>NaN</td>\n",
       "      <td>SA11.3218823</td>\n",
       "      <td>894334</td>\n",
       "      <td>NaN</td>\n",
       "      <td>NaN</td>\n",
       "      <td>4110820131198696625</td>\n",
       "    </tr>\n",
       "    <tr>\n",
       "      <th>1422889</th>\n",
       "      <td>C00140855</td>\n",
       "      <td>N</td>\n",
       "      <td>M9</td>\n",
       "      <td>NaN</td>\n",
       "      <td>12952906095</td>\n",
       "      <td>15</td>\n",
       "      <td>IND</td>\n",
       "      <td>BECKHAM, MICHAEL T</td>\n",
       "      <td>HUDSON</td>\n",
       "      <td>OH</td>\n",
       "      <td>44236</td>\n",
       "      <td>FIRSTENERGY</td>\n",
       "      <td>PLANT MGR, LAKESHORE</td>\n",
       "      <td>08312012</td>\n",
       "      <td>204.0</td>\n",
       "      <td>NaN</td>\n",
       "      <td>PR1597158625001</td>\n",
       "      <td>809249</td>\n",
       "      <td>NaN</td>\n",
       "      <td>P/R DEDUCTION ($68.00 BI-WEEKLY)</td>\n",
       "      <td>4091220121163227945</td>\n",
       "    </tr>\n",
       "    <tr>\n",
       "      <th>2928141</th>\n",
       "      <td>C00208991</td>\n",
       "      <td>A</td>\n",
       "      <td>M10</td>\n",
       "      <td>NaN</td>\n",
       "      <td>13962219731</td>\n",
       "      <td>15</td>\n",
       "      <td>IND</td>\n",
       "      <td>THOMAS, FRANKLIN A.</td>\n",
       "      <td>NEW YORK</td>\n",
       "      <td>NY</td>\n",
       "      <td>10168</td>\n",
       "      <td>SELF</td>\n",
       "      <td>CONSULTANT</td>\n",
       "      <td>03072012</td>\n",
       "      <td>360.0</td>\n",
       "      <td>NaN</td>\n",
       "      <td>11AI-000039878</td>\n",
       "      <td>871007</td>\n",
       "      <td>X</td>\n",
       "      <td>SWING STATE VICTORY FUND</td>\n",
       "      <td>4051720131189446963</td>\n",
       "    </tr>\n",
       "    <tr>\n",
       "      <th>1580907</th>\n",
       "      <td>C00495598</td>\n",
       "      <td>A</td>\n",
       "      <td>Q2</td>\n",
       "      <td>G2012</td>\n",
       "      <td>12972531927</td>\n",
       "      <td>15</td>\n",
       "      <td>IND</td>\n",
       "      <td>HUDSON, JAMES C.</td>\n",
       "      <td>OKLAHOMA CITY</td>\n",
       "      <td>OK</td>\n",
       "      <td>73106</td>\n",
       "      <td>SONIC CORP.</td>\n",
       "      <td>PRESIDENT</td>\n",
       "      <td>06252012</td>\n",
       "      <td>500.0</td>\n",
       "      <td>NaN</td>\n",
       "      <td>VN8C3RBWC0</td>\n",
       "      <td>816182</td>\n",
       "      <td>NaN</td>\n",
       "      <td>NaN</td>\n",
       "      <td>4112920121173975887</td>\n",
       "    </tr>\n",
       "    <tr>\n",
       "      <th>1681121</th>\n",
       "      <td>C00468314</td>\n",
       "      <td>N</td>\n",
       "      <td>Q3</td>\n",
       "      <td>G2012</td>\n",
       "      <td>12972577424</td>\n",
       "      <td>24T</td>\n",
       "      <td>IND</td>\n",
       "      <td>EDWARD, WHITE</td>\n",
       "      <td>SANDY</td>\n",
       "      <td>UT</td>\n",
       "      <td>84093</td>\n",
       "      <td>OVERSTOCK.COM</td>\n",
       "      <td>BUSINESS</td>\n",
       "      <td>08242012</td>\n",
       "      <td>500.0</td>\n",
       "      <td>C00518803</td>\n",
       "      <td>SA11AI.82401</td>\n",
       "      <td>817746</td>\n",
       "      <td>NaN</td>\n",
       "      <td>NaN</td>\n",
       "      <td>4102220121167708281</td>\n",
       "    </tr>\n",
       "    <tr>\n",
       "      <th>2740494</th>\n",
       "      <td>C00431445</td>\n",
       "      <td>A</td>\n",
       "      <td>M4</td>\n",
       "      <td>P2012</td>\n",
       "      <td>13943098522</td>\n",
       "      <td>15</td>\n",
       "      <td>IND</td>\n",
       "      <td>STRAYHORN, JOHN C.</td>\n",
       "      <td>NORTHFIELD</td>\n",
       "      <td>OH</td>\n",
       "      <td>44067</td>\n",
       "      <td>GOODYEAR TIRE &amp; RUBBER COMPANY</td>\n",
       "      <td>DEMAND PLANNING MANAGER</td>\n",
       "      <td>03062012</td>\n",
       "      <td>1000.0</td>\n",
       "      <td>NaN</td>\n",
       "      <td>C14180204</td>\n",
       "      <td>896852</td>\n",
       "      <td>NaN</td>\n",
       "      <td>NaN</td>\n",
       "      <td>4121220131201168375</td>\n",
       "    </tr>\n",
       "    <tr>\n",
       "      <th>2107732</th>\n",
       "      <td>C00520379</td>\n",
       "      <td>A</td>\n",
       "      <td>12G</td>\n",
       "      <td>G2012</td>\n",
       "      <td>13960569949</td>\n",
       "      <td>15</td>\n",
       "      <td>IND</td>\n",
       "      <td>LEDERHAUS, TIMOTHY</td>\n",
       "      <td>LOCKPORT</td>\n",
       "      <td>NY</td>\n",
       "      <td>14094</td>\n",
       "      <td>TRANSIT CAR WASH</td>\n",
       "      <td>OWNER</td>\n",
       "      <td>10122012</td>\n",
       "      <td>1000.0</td>\n",
       "      <td>NaN</td>\n",
       "      <td>A-C9443</td>\n",
       "      <td>851246</td>\n",
       "      <td>NaN</td>\n",
       "      <td>NaN</td>\n",
       "      <td>4021220131181185240</td>\n",
       "    </tr>\n",
       "  </tbody>\n",
       "</table>\n",
       "</div>"
      ],
      "text/plain": [
       "           CMTE_ID AMNDT_IND RPT_TP TRANSACTION_PGI    IMAGE_NUM  \\\n",
       "868131   C00431171         A     Q2           P2012  14942413429   \n",
       "2475646  C00431445         A    M10           G2012  13943716954   \n",
       "1825705  C00279216         N    12G             NaN  12940406756   \n",
       "2809243  C00518282         A    12G               P  13942268136   \n",
       "1422889  C00140855         N     M9             NaN  12952906095   \n",
       "2928141  C00208991         A    M10             NaN  13962219731   \n",
       "1580907  C00495598         A     Q2           G2012  12972531927   \n",
       "1681121  C00468314         N     Q3           G2012  12972577424   \n",
       "2740494  C00431445         A     M4           P2012  13943098522   \n",
       "2107732  C00520379         A    12G           G2012  13960569949   \n",
       "\n",
       "        TRANSACTION_TP ENTITY_TP                     NAME           CITY  \\\n",
       "868131              15       IND  JOY, THOMAS KENNETH MR.         OXFORD   \n",
       "2475646             15       IND      DUGAN., JOHN V. JR.      ANNANDALE   \n",
       "1825705             15       IND        GARBER, MARY BETH    SAN ANTONIO   \n",
       "2809243             15       IND             RUNKEL, JOHN      SEWICKLEY   \n",
       "1422889             15       IND       BECKHAM, MICHAEL T         HUDSON   \n",
       "2928141             15       IND      THOMAS, FRANKLIN A.       NEW YORK   \n",
       "1580907             15       IND         HUDSON, JAMES C.  OKLAHOMA CITY   \n",
       "1681121            24T       IND            EDWARD, WHITE          SANDY   \n",
       "2740494             15       IND       STRAYHORN, JOHN C.     NORTHFIELD   \n",
       "2107732             15       IND       LEDERHAUS, TIMOTHY       LOCKPORT   \n",
       "\n",
       "        STATE ZIP_CODE                           EMPLOYER  \\\n",
       "868131     MD    21654                  THE JOY COMPANIES   \n",
       "2475646    VA    22003                      SELF-EMPLOYED   \n",
       "1825705    TX    78209  CLEAR CHANNEL COMMUNICATIONS INC.   \n",
       "2809243    PA    15143                            RETIRED   \n",
       "1422889    OH    44236                        FIRSTENERGY   \n",
       "2928141    NY    10168                               SELF   \n",
       "1580907    OK    73106                        SONIC CORP.   \n",
       "1681121    UT    84093                      OVERSTOCK.COM   \n",
       "2740494    OH    44067     GOODYEAR TIRE & RUBBER COMPANY   \n",
       "2107732    NY    14094                   TRANSIT CAR WASH   \n",
       "\n",
       "                      OCCUPATION TRANSACTION_DT  TRANSACTION_AMT   OTHER_ID  \\\n",
       "868131                 PRESIDENT       06202011            500.0        NaN   \n",
       "2475646               CONSULTANT       09182012            250.0        NaN   \n",
       "1825705                EXECUTIVE       10152012            208.0        NaN   \n",
       "2809243                  RETIRED       10072012           1000.0        NaN   \n",
       "1422889     PLANT MGR, LAKESHORE       08312012            204.0        NaN   \n",
       "2928141               CONSULTANT       03072012            360.0        NaN   \n",
       "1580907                PRESIDENT       06252012            500.0        NaN   \n",
       "1681121                 BUSINESS       08242012            500.0  C00518803   \n",
       "2740494  DEMAND PLANNING MANAGER       03062012           1000.0        NaN   \n",
       "2107732                    OWNER       10122012           1000.0        NaN   \n",
       "\n",
       "                 TRAN_ID FILE_NUM MEMO_CD                         MEMO_TEXT  \\\n",
       "868131       SA17.447144   944268     NaN                               NaN   \n",
       "2475646        C22444948   897086     NaN                               NaN   \n",
       "1825705    A2012-2189318   824916     NaN                               NaN   \n",
       "2809243     SA11.3218823   894334     NaN                               NaN   \n",
       "1422889  PR1597158625001   809249     NaN  P/R DEDUCTION ($68.00 BI-WEEKLY)   \n",
       "2928141   11AI-000039878   871007       X          SWING STATE VICTORY FUND   \n",
       "1580907       VN8C3RBWC0   816182     NaN                               NaN   \n",
       "1681121     SA11AI.82401   817746     NaN                               NaN   \n",
       "2740494        C14180204   896852     NaN                               NaN   \n",
       "2107732          A-C9443   851246     NaN                               NaN   \n",
       "\n",
       "                      SUB_ID  \n",
       "868131   4080620141220399227  \n",
       "2475646  4121620131203042140  \n",
       "1825705  4111520121172096710  \n",
       "2809243  4110820131198696625  \n",
       "1422889  4091220121163227945  \n",
       "2928141  4051720131189446963  \n",
       "1580907  4112920121173975887  \n",
       "1681121  4102220121167708281  \n",
       "2740494  4121220131201168375  \n",
       "2107732  4021220131181185240  "
      ]
     },
     "execution_count": 35,
     "metadata": {},
     "output_type": "execute_result"
    }
   ],
   "source": [
    "fec.sample(10)"
   ]
  },
  {
   "cell_type": "markdown",
   "metadata": {
    "slideshow": {
     "slide_type": "slide"
    }
   },
   "source": [
    "* Δυστυχώς παρατηρούμε ότι δεν υπάρχει η πληροφορία για τον υποψήφιο στον οποίο απευθύνεται μια δωρεά. \n",
    "\n",
    "* Οι δωρεές δίνονται σε επιτροπές (commitees).\n",
    "\n",
    "* Το αρχείο των δωρεών υποδεικνύει την εν λόγω επιτροπή με τον κωδικό `CMTE_ID`.\n",
    "\n",
    "* Επομένως θα πρέπει να στραφούμε σε αυτές και να διαβάσουμε το [αρχείο των επιτροπών](https://www.fec.gov/files/bulk-downloads/2012/cm12.zip).\n",
    "\n",
    "* Όπως και πριν, θα πρέπει να διαβάσουμε ξεχωριστά [το αρχείο των επικεφαλίδων](https://www.fec.gov/data/browse-data/files/bulk-downloads/data_dictionaries/cm_header_file.csv)."
   ]
  },
  {
   "cell_type": "code",
   "execution_count": 36,
   "metadata": {
    "slideshow": {
     "slide_type": "fragment"
    }
   },
   "outputs": [
    {
     "data": {
      "text/html": [
       "<div>\n",
       "<style scoped>\n",
       "    .dataframe tbody tr th:only-of-type {\n",
       "        vertical-align: middle;\n",
       "    }\n",
       "\n",
       "    .dataframe tbody tr th {\n",
       "        vertical-align: top;\n",
       "    }\n",
       "\n",
       "    .dataframe thead th {\n",
       "        text-align: right;\n",
       "    }\n",
       "</style>\n",
       "<table border=\"1\" class=\"dataframe\">\n",
       "  <thead>\n",
       "    <tr style=\"text-align: right;\">\n",
       "      <th></th>\n",
       "      <th>CMTE_ID</th>\n",
       "      <th>CMTE_NM</th>\n",
       "      <th>TRES_NM</th>\n",
       "      <th>CMTE_ST1</th>\n",
       "      <th>CMTE_ST2</th>\n",
       "      <th>CMTE_CITY</th>\n",
       "      <th>CMTE_ST</th>\n",
       "      <th>CMTE_ZIP</th>\n",
       "      <th>CMTE_DSGN</th>\n",
       "      <th>CMTE_TP</th>\n",
       "      <th>CMTE_PTY_AFFILIATION</th>\n",
       "      <th>CMTE_FILING_FREQ</th>\n",
       "      <th>ORG_TP</th>\n",
       "      <th>CONNECTED_ORG_NM</th>\n",
       "      <th>CAND_ID</th>\n",
       "    </tr>\n",
       "  </thead>\n",
       "  <tbody>\n",
       "  </tbody>\n",
       "</table>\n",
       "</div>"
      ],
      "text/plain": [
       "Empty DataFrame\n",
       "Columns: [CMTE_ID, CMTE_NM, TRES_NM, CMTE_ST1, CMTE_ST2, CMTE_CITY, CMTE_ST, CMTE_ZIP, CMTE_DSGN, CMTE_TP, CMTE_PTY_AFFILIATION, CMTE_FILING_FREQ, ORG_TP, CONNECTED_ORG_NM, CAND_ID]\n",
       "Index: []"
      ]
     },
     "execution_count": 36,
     "metadata": {},
     "output_type": "execute_result"
    }
   ],
   "source": [
    "cm_headers =  pd.read_csv('https://www.fec.gov/data/browse-data/files/bulk-downloads/data_dictionaries/cm_header_file.csv')\n",
    "cm_headers"
   ]
  },
  {
   "cell_type": "markdown",
   "metadata": {
    "slideshow": {
     "slide_type": "slide"
    }
   },
   "source": [
    "* Έχοντας διαβάσει τις επικεφαλίδες, μπορούμε να διαβάσουμε και τα ίδια τα δεδομένα των επιτροπών."
   ]
  },
  {
   "cell_type": "code",
   "execution_count": 37,
   "metadata": {
    "slideshow": {
     "slide_type": "fragment"
    }
   },
   "outputs": [
    {
     "name": "stdout",
     "output_type": "stream",
     "text": [
      "(14455, 15)\n"
     ]
    },
    {
     "data": {
      "text/html": [
       "<div>\n",
       "<style scoped>\n",
       "    .dataframe tbody tr th:only-of-type {\n",
       "        vertical-align: middle;\n",
       "    }\n",
       "\n",
       "    .dataframe tbody tr th {\n",
       "        vertical-align: top;\n",
       "    }\n",
       "\n",
       "    .dataframe thead th {\n",
       "        text-align: right;\n",
       "    }\n",
       "</style>\n",
       "<table border=\"1\" class=\"dataframe\">\n",
       "  <thead>\n",
       "    <tr style=\"text-align: right;\">\n",
       "      <th></th>\n",
       "      <th>CMTE_ID</th>\n",
       "      <th>CMTE_NM</th>\n",
       "      <th>TRES_NM</th>\n",
       "      <th>CMTE_ST1</th>\n",
       "      <th>CMTE_ST2</th>\n",
       "      <th>CMTE_CITY</th>\n",
       "      <th>CMTE_ST</th>\n",
       "      <th>CMTE_ZIP</th>\n",
       "      <th>CMTE_DSGN</th>\n",
       "      <th>CMTE_TP</th>\n",
       "      <th>CMTE_PTY_AFFILIATION</th>\n",
       "      <th>CMTE_FILING_FREQ</th>\n",
       "      <th>ORG_TP</th>\n",
       "      <th>CONNECTED_ORG_NM</th>\n",
       "      <th>CAND_ID</th>\n",
       "    </tr>\n",
       "  </thead>\n",
       "  <tbody>\n",
       "    <tr>\n",
       "      <th>0</th>\n",
       "      <td>C00000042</td>\n",
       "      <td>ILLINOIS TOOL WORKS INC. FOR BETTER GOVERNMENT...</td>\n",
       "      <td>LYNCH, MICHAEL J. MR.</td>\n",
       "      <td>3600 WEST LAKE AVENUE</td>\n",
       "      <td>NaN</td>\n",
       "      <td>GLENVIEW</td>\n",
       "      <td>IL</td>\n",
       "      <td>60026.0</td>\n",
       "      <td>B</td>\n",
       "      <td>Q</td>\n",
       "      <td>NaN</td>\n",
       "      <td>Q</td>\n",
       "      <td>C</td>\n",
       "      <td>ILLINOIS TOOL WORKS INC.</td>\n",
       "      <td>NaN</td>\n",
       "    </tr>\n",
       "    <tr>\n",
       "      <th>1</th>\n",
       "      <td>C00000059</td>\n",
       "      <td>HALLMARK CARDS PAC</td>\n",
       "      <td>GREG SWARENS</td>\n",
       "      <td>2501 MCGEE</td>\n",
       "      <td>MD#288</td>\n",
       "      <td>KANSAS CITY</td>\n",
       "      <td>MO</td>\n",
       "      <td>64108.0</td>\n",
       "      <td>U</td>\n",
       "      <td>Q</td>\n",
       "      <td>UNK</td>\n",
       "      <td>M</td>\n",
       "      <td>C</td>\n",
       "      <td>NaN</td>\n",
       "      <td>NaN</td>\n",
       "    </tr>\n",
       "    <tr>\n",
       "      <th>2</th>\n",
       "      <td>C00000422</td>\n",
       "      <td>AMERICAN MEDICAL ASSOCIATION POLITICAL ACTION ...</td>\n",
       "      <td>WALKER, KEVIN</td>\n",
       "      <td>25 MASSACHUSETTS AVE, NW</td>\n",
       "      <td>SUITE 600</td>\n",
       "      <td>WASHINGTON</td>\n",
       "      <td>DC</td>\n",
       "      <td>20001.0</td>\n",
       "      <td>B</td>\n",
       "      <td>Q</td>\n",
       "      <td>NaN</td>\n",
       "      <td>M</td>\n",
       "      <td>M</td>\n",
       "      <td>AMERICAN MEDICAL ASSOCIATION</td>\n",
       "      <td>NaN</td>\n",
       "    </tr>\n",
       "    <tr>\n",
       "      <th>3</th>\n",
       "      <td>C00000489</td>\n",
       "      <td>D R I V E POLITICAL FUND CHAPTER 886</td>\n",
       "      <td>TOM RITTER</td>\n",
       "      <td>3528 W RENO</td>\n",
       "      <td>NaN</td>\n",
       "      <td>OKLAHOMA CITY</td>\n",
       "      <td>OK</td>\n",
       "      <td>73107.0</td>\n",
       "      <td>U</td>\n",
       "      <td>N</td>\n",
       "      <td>NaN</td>\n",
       "      <td>Q</td>\n",
       "      <td>L</td>\n",
       "      <td>TEAMSTERS LOCAL UNION 886</td>\n",
       "      <td>NaN</td>\n",
       "    </tr>\n",
       "    <tr>\n",
       "      <th>4</th>\n",
       "      <td>C00000547</td>\n",
       "      <td>KANSAS MEDICAL SOCIETY POLITICAL ACTION COMMITTEE</td>\n",
       "      <td>C. RICHARD BONEBRAKE, M.D.</td>\n",
       "      <td>623 SW 10TH AVE</td>\n",
       "      <td>NaN</td>\n",
       "      <td>TOPEKA</td>\n",
       "      <td>KS</td>\n",
       "      <td>66612.0</td>\n",
       "      <td>U</td>\n",
       "      <td>Q</td>\n",
       "      <td>UNK</td>\n",
       "      <td>Q</td>\n",
       "      <td>T</td>\n",
       "      <td>MEDICAL ASS'N; KANSAS          [AMPAC]</td>\n",
       "      <td>NaN</td>\n",
       "    </tr>\n",
       "  </tbody>\n",
       "</table>\n",
       "</div>"
      ],
      "text/plain": [
       "     CMTE_ID                                            CMTE_NM  \\\n",
       "0  C00000042  ILLINOIS TOOL WORKS INC. FOR BETTER GOVERNMENT...   \n",
       "1  C00000059                                 HALLMARK CARDS PAC   \n",
       "2  C00000422  AMERICAN MEDICAL ASSOCIATION POLITICAL ACTION ...   \n",
       "3  C00000489               D R I V E POLITICAL FUND CHAPTER 886   \n",
       "4  C00000547  KANSAS MEDICAL SOCIETY POLITICAL ACTION COMMITTEE   \n",
       "\n",
       "                      TRES_NM                  CMTE_ST1   CMTE_ST2  \\\n",
       "0       LYNCH, MICHAEL J. MR.     3600 WEST LAKE AVENUE        NaN   \n",
       "1                GREG SWARENS                2501 MCGEE     MD#288   \n",
       "2               WALKER, KEVIN  25 MASSACHUSETTS AVE, NW  SUITE 600   \n",
       "3                  TOM RITTER               3528 W RENO        NaN   \n",
       "4  C. RICHARD BONEBRAKE, M.D.           623 SW 10TH AVE        NaN   \n",
       "\n",
       "       CMTE_CITY CMTE_ST  CMTE_ZIP CMTE_DSGN CMTE_TP CMTE_PTY_AFFILIATION  \\\n",
       "0       GLENVIEW      IL   60026.0         B       Q                  NaN   \n",
       "1    KANSAS CITY      MO   64108.0         U       Q                  UNK   \n",
       "2     WASHINGTON      DC   20001.0         B       Q                  NaN   \n",
       "3  OKLAHOMA CITY      OK   73107.0         U       N                  NaN   \n",
       "4         TOPEKA      KS   66612.0         U       Q                  UNK   \n",
       "\n",
       "  CMTE_FILING_FREQ ORG_TP                        CONNECTED_ORG_NM CAND_ID  \n",
       "0                Q      C                ILLINOIS TOOL WORKS INC.     NaN  \n",
       "1                M      C                                     NaN     NaN  \n",
       "2                M      M            AMERICAN MEDICAL ASSOCIATION     NaN  \n",
       "3                Q      L               TEAMSTERS LOCAL UNION 886     NaN  \n",
       "4                Q      T  MEDICAL ASS'N; KANSAS          [AMPAC]     NaN  "
      ]
     },
     "execution_count": 37,
     "metadata": {},
     "output_type": "execute_result"
    }
   ],
   "source": [
    "cm = pd.read_csv('nyc_taxi/cm.txt', \n",
    "                  sep=\"|\", \n",
    "                  names=cm_headers.columns)\n",
    "print(cm.shape)\n",
    "cm.head(5)"
   ]
  },
  {
   "cell_type": "markdown",
   "metadata": {
    "slideshow": {
     "slide_type": "slide"
    }
   },
   "source": [
    "* Για να συνδυάσουμε τα δεδομένα των επιτροπών με τα δεδομένα των δωρεών, θα πρέπει να τα *ενώσουμε* (join).\n",
    "\n",
    "* Για να ενώσουμε δύο `DataFrame`s στο pandas χρησιμοποιούμε τη μέθοδο `merge()`."
   ]
  },
  {
   "cell_type": "code",
   "execution_count": 38,
   "metadata": {
    "slideshow": {
     "slide_type": "fragment"
    }
   },
   "outputs": [
    {
     "name": "stdout",
     "output_type": "stream",
     "text": [
      "(3372139, 23)\n"
     ]
    },
    {
     "data": {
      "text/html": [
       "<div>\n",
       "<style scoped>\n",
       "    .dataframe tbody tr th:only-of-type {\n",
       "        vertical-align: middle;\n",
       "    }\n",
       "\n",
       "    .dataframe tbody tr th {\n",
       "        vertical-align: top;\n",
       "    }\n",
       "\n",
       "    .dataframe thead th {\n",
       "        text-align: right;\n",
       "    }\n",
       "</style>\n",
       "<table border=\"1\" class=\"dataframe\">\n",
       "  <thead>\n",
       "    <tr style=\"text-align: right;\">\n",
       "      <th></th>\n",
       "      <th>CMTE_ID</th>\n",
       "      <th>AMNDT_IND</th>\n",
       "      <th>RPT_TP</th>\n",
       "      <th>TRANSACTION_PGI</th>\n",
       "      <th>IMAGE_NUM</th>\n",
       "      <th>TRANSACTION_TP</th>\n",
       "      <th>ENTITY_TP</th>\n",
       "      <th>NAME</th>\n",
       "      <th>CITY</th>\n",
       "      <th>STATE</th>\n",
       "      <th>ZIP_CODE</th>\n",
       "      <th>EMPLOYER</th>\n",
       "      <th>OCCUPATION</th>\n",
       "      <th>TRANSACTION_DT</th>\n",
       "      <th>TRANSACTION_AMT</th>\n",
       "      <th>OTHER_ID</th>\n",
       "      <th>TRAN_ID</th>\n",
       "      <th>FILE_NUM</th>\n",
       "      <th>MEMO_CD</th>\n",
       "      <th>MEMO_TEXT</th>\n",
       "      <th>SUB_ID</th>\n",
       "      <th>CMTE_NM</th>\n",
       "      <th>CAND_ID</th>\n",
       "    </tr>\n",
       "  </thead>\n",
       "  <tbody>\n",
       "    <tr>\n",
       "      <th>0</th>\n",
       "      <td>C00425645</td>\n",
       "      <td>N</td>\n",
       "      <td>M2</td>\n",
       "      <td>NaN</td>\n",
       "      <td>11930332238</td>\n",
       "      <td>15</td>\n",
       "      <td>IND</td>\n",
       "      <td>MYERS, WALTER</td>\n",
       "      <td>TUSTIN RANCH</td>\n",
       "      <td>CA</td>\n",
       "      <td>92782</td>\n",
       "      <td>MICROSOFT</td>\n",
       "      <td>CONSULTANT</td>\n",
       "      <td>01192011</td>\n",
       "      <td>250.0</td>\n",
       "      <td>NaN</td>\n",
       "      <td>INCA210</td>\n",
       "      <td>713442</td>\n",
       "      <td>NaN</td>\n",
       "      <td>NaN</td>\n",
       "      <td>4030920111137082784</td>\n",
       "      <td>ATLAS PAC, FEDERAL</td>\n",
       "      <td>NaN</td>\n",
       "    </tr>\n",
       "    <tr>\n",
       "      <th>1</th>\n",
       "      <td>C00425645</td>\n",
       "      <td>A</td>\n",
       "      <td>M3</td>\n",
       "      <td>NaN</td>\n",
       "      <td>11930501656</td>\n",
       "      <td>15</td>\n",
       "      <td>IND</td>\n",
       "      <td>LOWREY, LEE</td>\n",
       "      <td>NEWPORT BEACH</td>\n",
       "      <td>CA</td>\n",
       "      <td>92658</td>\n",
       "      <td>PACER COMMUNITIES</td>\n",
       "      <td>DIRECTOR OF FINANCE</td>\n",
       "      <td>02032011</td>\n",
       "      <td>500.0</td>\n",
       "      <td>NaN</td>\n",
       "      <td>PAYA212</td>\n",
       "      <td>717650</td>\n",
       "      <td>NaN</td>\n",
       "      <td>NaN</td>\n",
       "      <td>4031820111137613153</td>\n",
       "      <td>ATLAS PAC, FEDERAL</td>\n",
       "      <td>NaN</td>\n",
       "    </tr>\n",
       "    <tr>\n",
       "      <th>2</th>\n",
       "      <td>C00425645</td>\n",
       "      <td>A</td>\n",
       "      <td>M3</td>\n",
       "      <td>NaN</td>\n",
       "      <td>11930501656</td>\n",
       "      <td>15</td>\n",
       "      <td>IND</td>\n",
       "      <td>FEATHER, KATHRYN</td>\n",
       "      <td>GARDEN GROVE</td>\n",
       "      <td>CA</td>\n",
       "      <td>92840</td>\n",
       "      <td>COUNTY OF ORANGE</td>\n",
       "      <td>POLICY ADVISOR</td>\n",
       "      <td>02222011</td>\n",
       "      <td>250.0</td>\n",
       "      <td>NaN</td>\n",
       "      <td>INCA221</td>\n",
       "      <td>717650</td>\n",
       "      <td>NaN</td>\n",
       "      <td>NaN</td>\n",
       "      <td>4031820111137613154</td>\n",
       "      <td>ATLAS PAC, FEDERAL</td>\n",
       "      <td>NaN</td>\n",
       "    </tr>\n",
       "    <tr>\n",
       "      <th>3</th>\n",
       "      <td>C00425645</td>\n",
       "      <td>A</td>\n",
       "      <td>M3</td>\n",
       "      <td>NaN</td>\n",
       "      <td>11930501656</td>\n",
       "      <td>15</td>\n",
       "      <td>IND</td>\n",
       "      <td>TOBIN, KEVIN</td>\n",
       "      <td>COSTA MESA</td>\n",
       "      <td>CA</td>\n",
       "      <td>92626</td>\n",
       "      <td>UCI</td>\n",
       "      <td>ENGINEER</td>\n",
       "      <td>02222011</td>\n",
       "      <td>250.0</td>\n",
       "      <td>NaN</td>\n",
       "      <td>INCA219</td>\n",
       "      <td>717650</td>\n",
       "      <td>NaN</td>\n",
       "      <td>NaN</td>\n",
       "      <td>4031820111137613155</td>\n",
       "      <td>ATLAS PAC, FEDERAL</td>\n",
       "      <td>NaN</td>\n",
       "    </tr>\n",
       "    <tr>\n",
       "      <th>4</th>\n",
       "      <td>C00425645</td>\n",
       "      <td>N</td>\n",
       "      <td>M5</td>\n",
       "      <td>NaN</td>\n",
       "      <td>11931295390</td>\n",
       "      <td>15</td>\n",
       "      <td>IND</td>\n",
       "      <td>DREYER, MARY</td>\n",
       "      <td>DANA POINT</td>\n",
       "      <td>CA</td>\n",
       "      <td>92629</td>\n",
       "      <td>SANTA ANA USD</td>\n",
       "      <td>TEACHER</td>\n",
       "      <td>04272011</td>\n",
       "      <td>250.0</td>\n",
       "      <td>NaN</td>\n",
       "      <td>INCA248</td>\n",
       "      <td>727360</td>\n",
       "      <td>NaN</td>\n",
       "      <td>NaN</td>\n",
       "      <td>4050920111139806337</td>\n",
       "      <td>ATLAS PAC, FEDERAL</td>\n",
       "      <td>NaN</td>\n",
       "    </tr>\n",
       "  </tbody>\n",
       "</table>\n",
       "</div>"
      ],
      "text/plain": [
       "     CMTE_ID AMNDT_IND RPT_TP TRANSACTION_PGI    IMAGE_NUM TRANSACTION_TP  \\\n",
       "0  C00425645         N     M2             NaN  11930332238             15   \n",
       "1  C00425645         A     M3             NaN  11930501656             15   \n",
       "2  C00425645         A     M3             NaN  11930501656             15   \n",
       "3  C00425645         A     M3             NaN  11930501656             15   \n",
       "4  C00425645         N     M5             NaN  11931295390             15   \n",
       "\n",
       "  ENTITY_TP              NAME           CITY STATE ZIP_CODE  \\\n",
       "0       IND     MYERS, WALTER   TUSTIN RANCH    CA    92782   \n",
       "1       IND       LOWREY, LEE  NEWPORT BEACH    CA    92658   \n",
       "2       IND  FEATHER, KATHRYN   GARDEN GROVE    CA    92840   \n",
       "3       IND      TOBIN, KEVIN     COSTA MESA    CA    92626   \n",
       "4       IND      DREYER, MARY     DANA POINT    CA    92629   \n",
       "\n",
       "            EMPLOYER           OCCUPATION TRANSACTION_DT  TRANSACTION_AMT  \\\n",
       "0          MICROSOFT           CONSULTANT       01192011            250.0   \n",
       "1  PACER COMMUNITIES  DIRECTOR OF FINANCE       02032011            500.0   \n",
       "2   COUNTY OF ORANGE       POLICY ADVISOR       02222011            250.0   \n",
       "3                UCI             ENGINEER       02222011            250.0   \n",
       "4      SANTA ANA USD              TEACHER       04272011            250.0   \n",
       "\n",
       "  OTHER_ID  TRAN_ID FILE_NUM MEMO_CD MEMO_TEXT               SUB_ID  \\\n",
       "0      NaN  INCA210   713442     NaN       NaN  4030920111137082784   \n",
       "1      NaN  PAYA212   717650     NaN       NaN  4031820111137613153   \n",
       "2      NaN  INCA221   717650     NaN       NaN  4031820111137613154   \n",
       "3      NaN  INCA219   717650     NaN       NaN  4031820111137613155   \n",
       "4      NaN  INCA248   727360     NaN       NaN  4050920111139806337   \n",
       "\n",
       "              CMTE_NM CAND_ID  \n",
       "0  ATLAS PAC, FEDERAL     NaN  \n",
       "1  ATLAS PAC, FEDERAL     NaN  \n",
       "2  ATLAS PAC, FEDERAL     NaN  \n",
       "3  ATLAS PAC, FEDERAL     NaN  \n",
       "4  ATLAS PAC, FEDERAL     NaN  "
      ]
     },
     "execution_count": 38,
     "metadata": {},
     "output_type": "execute_result"
    }
   ],
   "source": [
    "fec = pd.merge(fec, \n",
    "               cm[['CMTE_ID', 'CMTE_NM', 'CAND_ID']], \n",
    "               on='CMTE_ID', \n",
    "               how='inner')\n",
    "\n",
    "print(fec.shape)\n",
    "fec.head(5)"
   ]
  },
  {
   "cell_type": "markdown",
   "metadata": {
    "slideshow": {
     "slide_type": "slide"
    }
   },
   "source": [
    "* Δυστυχώς παρατηρούμε πάλι ότι δεν βλέπουμε τα πλήρη στοιχεία του υποψηφίου για τον οποίο συγκεντρώνει χρήματα η κάθε επιτροπή. \n",
    "\n",
    "* Υπάρχει μόνο ο κωδικός του, `CAND_ID`.\n",
    "\n",
    "* Οπότε πρέπει να στραφούμε στο αρχείο των [υποψηφίων](https://www.fec.gov/files/bulk-downloads/2012/cn12.zip).\n",
    "\n",
    "* Και, όπως και πριν, θα πρέπει να πάρουμε και τις αντίστοιχες [επικεφαλίδες](https://www.fec.gov/data/browse-data/files/bulk-downloads/data_dictionaries/cn_header_file.csv).\n"
   ]
  },
  {
   "cell_type": "code",
   "execution_count": 39,
   "metadata": {
    "slideshow": {
     "slide_type": "fragment"
    }
   },
   "outputs": [
    {
     "data": {
      "text/html": [
       "<div>\n",
       "<style scoped>\n",
       "    .dataframe tbody tr th:only-of-type {\n",
       "        vertical-align: middle;\n",
       "    }\n",
       "\n",
       "    .dataframe tbody tr th {\n",
       "        vertical-align: top;\n",
       "    }\n",
       "\n",
       "    .dataframe thead th {\n",
       "        text-align: right;\n",
       "    }\n",
       "</style>\n",
       "<table border=\"1\" class=\"dataframe\">\n",
       "  <thead>\n",
       "    <tr style=\"text-align: right;\">\n",
       "      <th></th>\n",
       "      <th>CAND_ID</th>\n",
       "      <th>CAND_NAME</th>\n",
       "      <th>CAND_PTY_AFFILIATION</th>\n",
       "      <th>CAND_ELECTION_YR</th>\n",
       "      <th>CAND_OFFICE_ST</th>\n",
       "      <th>CAND_OFFICE</th>\n",
       "      <th>CAND_OFFICE_DISTRICT</th>\n",
       "      <th>CAND_ICI</th>\n",
       "      <th>CAND_STATUS</th>\n",
       "      <th>CAND_PCC</th>\n",
       "      <th>CAND_ST1</th>\n",
       "      <th>CAND_ST2</th>\n",
       "      <th>CAND_CITY</th>\n",
       "      <th>CAND_ST</th>\n",
       "      <th>CAND_ZIP</th>\n",
       "    </tr>\n",
       "  </thead>\n",
       "  <tbody>\n",
       "  </tbody>\n",
       "</table>\n",
       "</div>"
      ],
      "text/plain": [
       "Empty DataFrame\n",
       "Columns: [CAND_ID, CAND_NAME, CAND_PTY_AFFILIATION, CAND_ELECTION_YR, CAND_OFFICE_ST, CAND_OFFICE, CAND_OFFICE_DISTRICT, CAND_ICI, CAND_STATUS, CAND_PCC, CAND_ST1, CAND_ST2, CAND_CITY, CAND_ST, CAND_ZIP]\n",
       "Index: []"
      ]
     },
     "execution_count": 39,
     "metadata": {},
     "output_type": "execute_result"
    }
   ],
   "source": [
    "cn_headers =  pd.read_csv('https://www.fec.gov/data/browse-data/files/bulk-downloads/data_dictionaries/cn_header_file.csv')\n",
    "cn_headers"
   ]
  },
  {
   "cell_type": "markdown",
   "metadata": {
    "slideshow": {
     "slide_type": "slide"
    }
   },
   "source": [
    "* Διαβάζουμε τώρα και το αρχείο των υποψηφίων."
   ]
  },
  {
   "cell_type": "code",
   "execution_count": 40,
   "metadata": {
    "slideshow": {
     "slide_type": "fragment"
    }
   },
   "outputs": [
    {
     "data": {
      "text/html": [
       "<div>\n",
       "<style scoped>\n",
       "    .dataframe tbody tr th:only-of-type {\n",
       "        vertical-align: middle;\n",
       "    }\n",
       "\n",
       "    .dataframe tbody tr th {\n",
       "        vertical-align: top;\n",
       "    }\n",
       "\n",
       "    .dataframe thead th {\n",
       "        text-align: right;\n",
       "    }\n",
       "</style>\n",
       "<table border=\"1\" class=\"dataframe\">\n",
       "  <thead>\n",
       "    <tr style=\"text-align: right;\">\n",
       "      <th></th>\n",
       "      <th>CAND_ID</th>\n",
       "      <th>CAND_NAME</th>\n",
       "      <th>CAND_PTY_AFFILIATION</th>\n",
       "      <th>CAND_ELECTION_YR</th>\n",
       "      <th>CAND_OFFICE_ST</th>\n",
       "      <th>CAND_OFFICE</th>\n",
       "      <th>CAND_OFFICE_DISTRICT</th>\n",
       "      <th>CAND_ICI</th>\n",
       "      <th>CAND_STATUS</th>\n",
       "      <th>CAND_PCC</th>\n",
       "      <th>CAND_ST1</th>\n",
       "      <th>CAND_ST2</th>\n",
       "      <th>CAND_CITY</th>\n",
       "      <th>CAND_ST</th>\n",
       "      <th>CAND_ZIP</th>\n",
       "    </tr>\n",
       "  </thead>\n",
       "  <tbody>\n",
       "    <tr>\n",
       "      <th>0</th>\n",
       "      <td>H0AK00089</td>\n",
       "      <td>CRAWFORD, HARRY T JR</td>\n",
       "      <td>DEM</td>\n",
       "      <td>2010</td>\n",
       "      <td>AK</td>\n",
       "      <td>H</td>\n",
       "      <td>0.0</td>\n",
       "      <td>C</td>\n",
       "      <td>P</td>\n",
       "      <td>C00466698</td>\n",
       "      <td>4350 BUTTE CIR</td>\n",
       "      <td>NaN</td>\n",
       "      <td>ANCHORAGE</td>\n",
       "      <td>AK</td>\n",
       "      <td>99504.0</td>\n",
       "    </tr>\n",
       "    <tr>\n",
       "      <th>1</th>\n",
       "      <td>H0AK00097</td>\n",
       "      <td>COX, JOHN ROBERT</td>\n",
       "      <td>REP</td>\n",
       "      <td>2012</td>\n",
       "      <td>AK</td>\n",
       "      <td>H</td>\n",
       "      <td>0.0</td>\n",
       "      <td>C</td>\n",
       "      <td>N</td>\n",
       "      <td>C00525261</td>\n",
       "      <td>PO BOX 1092</td>\n",
       "      <td>NaN</td>\n",
       "      <td>ANCHOR POINT</td>\n",
       "      <td>AK</td>\n",
       "      <td>995561092.0</td>\n",
       "    </tr>\n",
       "    <tr>\n",
       "      <th>2</th>\n",
       "      <td>H0AL00016</td>\n",
       "      <td>BOZEMAN, MARTHA RENEE</td>\n",
       "      <td>UNK</td>\n",
       "      <td>2010</td>\n",
       "      <td>AL</td>\n",
       "      <td>H</td>\n",
       "      <td>7.0</td>\n",
       "      <td>O</td>\n",
       "      <td>C</td>\n",
       "      <td>C00464040</td>\n",
       "      <td>PO BOX 2512</td>\n",
       "      <td>NaN</td>\n",
       "      <td>BIRMINGHAM</td>\n",
       "      <td>AL</td>\n",
       "      <td>35201.0</td>\n",
       "    </tr>\n",
       "    <tr>\n",
       "      <th>3</th>\n",
       "      <td>H0AL01030</td>\n",
       "      <td>GOUNARES, PETER HUNTER</td>\n",
       "      <td>REP</td>\n",
       "      <td>2012</td>\n",
       "      <td>AL</td>\n",
       "      <td>H</td>\n",
       "      <td>1.0</td>\n",
       "      <td>C</td>\n",
       "      <td>C</td>\n",
       "      <td>C00459495</td>\n",
       "      <td>PO BOX 1010</td>\n",
       "      <td>NaN</td>\n",
       "      <td>ORANGE BEACH</td>\n",
       "      <td>AL</td>\n",
       "      <td>36561.0</td>\n",
       "    </tr>\n",
       "    <tr>\n",
       "      <th>4</th>\n",
       "      <td>H0AL02087</td>\n",
       "      <td>ROBY, MARTHA</td>\n",
       "      <td>REP</td>\n",
       "      <td>2012</td>\n",
       "      <td>AL</td>\n",
       "      <td>H</td>\n",
       "      <td>2.0</td>\n",
       "      <td>I</td>\n",
       "      <td>C</td>\n",
       "      <td>C00462143</td>\n",
       "      <td>3260 BANKHEAD AVENUE</td>\n",
       "      <td>NaN</td>\n",
       "      <td>MONTGOMERY</td>\n",
       "      <td>AL</td>\n",
       "      <td>36106.0</td>\n",
       "    </tr>\n",
       "  </tbody>\n",
       "</table>\n",
       "</div>"
      ],
      "text/plain": [
       "     CAND_ID               CAND_NAME CAND_PTY_AFFILIATION  CAND_ELECTION_YR  \\\n",
       "0  H0AK00089    CRAWFORD, HARRY T JR                  DEM              2010   \n",
       "1  H0AK00097        COX, JOHN ROBERT                  REP              2012   \n",
       "2  H0AL00016   BOZEMAN, MARTHA RENEE                  UNK              2010   \n",
       "3  H0AL01030  GOUNARES, PETER HUNTER                  REP              2012   \n",
       "4  H0AL02087            ROBY, MARTHA                  REP              2012   \n",
       "\n",
       "  CAND_OFFICE_ST CAND_OFFICE  CAND_OFFICE_DISTRICT CAND_ICI CAND_STATUS  \\\n",
       "0             AK           H                   0.0        C           P   \n",
       "1             AK           H                   0.0        C           N   \n",
       "2             AL           H                   7.0        O           C   \n",
       "3             AL           H                   1.0        C           C   \n",
       "4             AL           H                   2.0        I           C   \n",
       "\n",
       "    CAND_PCC              CAND_ST1 CAND_ST2     CAND_CITY CAND_ST     CAND_ZIP  \n",
       "0  C00466698        4350 BUTTE CIR      NaN     ANCHORAGE      AK      99504.0  \n",
       "1  C00525261           PO BOX 1092      NaN  ANCHOR POINT      AK  995561092.0  \n",
       "2  C00464040          PO BOX 2512       NaN    BIRMINGHAM      AL      35201.0  \n",
       "3  C00459495           PO BOX 1010      NaN  ORANGE BEACH      AL      36561.0  \n",
       "4  C00462143  3260 BANKHEAD AVENUE      NaN    MONTGOMERY      AL      36106.0  "
      ]
     },
     "execution_count": 40,
     "metadata": {},
     "output_type": "execute_result"
    }
   ],
   "source": [
    "cn = pd.read_csv('nyc_taxi/cn.txt', \n",
    "                  sep=\"|\", \n",
    "                  names=cn_headers.columns)\n",
    "cn.head(5)"
   ]
  },
  {
   "cell_type": "markdown",
   "metadata": {
    "slideshow": {
     "slide_type": "slide"
    }
   },
   "source": [
    "* Ποιοι είναι οι υποψήφιοι;"
   ]
  },
  {
   "cell_type": "code",
   "execution_count": 41,
   "metadata": {
    "slideshow": {
     "slide_type": "fragment"
    }
   },
   "outputs": [
    {
     "data": {
      "text/plain": [
       "array(['CRAWFORD, HARRY T JR', 'COX, JOHN ROBERT',\n",
       "       'BOZEMAN, MARTHA RENEE', ..., 'NEUMANN, MARK W',\n",
       "       'FLETCHER, SHEIRL LEE', 'GOODENOUGH, KEITH B.'], dtype=object)"
      ]
     },
     "execution_count": 41,
     "metadata": {},
     "output_type": "execute_result"
    }
   ],
   "source": [
    "cn['CAND_NAME'].unique()"
   ]
  },
  {
   "cell_type": "markdown",
   "metadata": {
    "slideshow": {
     "slide_type": "slide"
    }
   },
   "source": [
    "* Αυτοί μάλλον δεν είναι αυτοί που περιμέναμε.\n",
    "\n",
    "* Πόσοι αλήθεια είναι;"
   ]
  },
  {
   "cell_type": "code",
   "execution_count": 42,
   "metadata": {
    "slideshow": {
     "slide_type": "fragment"
    }
   },
   "outputs": [
    {
     "data": {
      "text/plain": [
       "(5524,)"
      ]
     },
     "execution_count": 42,
     "metadata": {},
     "output_type": "execute_result"
    }
   ],
   "source": [
    "cn['CAND_NAME'].unique().shape"
   ]
  },
  {
   "cell_type": "markdown",
   "metadata": {
    "slideshow": {
     "slide_type": "slide"
    }
   },
   "source": [
    "* Αυτό συμβαίνει γιατί τα δεδομένα περιέχουν δωρέες που έγιναν και σε άλλες προεκλογικές εκστρατείες (όχι μόνο για την εκλογή προέδρου).\n",
    "\n",
    "* Επιπλέον, και όσον αφορά την εκλογή προέδρου, στις ΗΠΑ σε μία προεκλογική εκστρατεία υπάρχουν περισσότεροι από τους δύο τελικούς υποψήφιους (λόγω των προκριματικών εκλογών)."
   ]
  },
  {
   "cell_type": "markdown",
   "metadata": {
    "slideshow": {
     "slide_type": "slide"
    }
   },
   "source": [
    "* Ας βρούμε λοιπόν τους δύο τελικούς προεδρικούς υποψήφιους.\n",
    "\n",
    "* Ξεκινάμε με τον Barack Obama."
   ]
  },
  {
   "cell_type": "code",
   "execution_count": 43,
   "metadata": {
    "slideshow": {
     "slide_type": "fragment"
    }
   },
   "outputs": [
    {
     "data": {
      "text/html": [
       "<div>\n",
       "<style scoped>\n",
       "    .dataframe tbody tr th:only-of-type {\n",
       "        vertical-align: middle;\n",
       "    }\n",
       "\n",
       "    .dataframe tbody tr th {\n",
       "        vertical-align: top;\n",
       "    }\n",
       "\n",
       "    .dataframe thead th {\n",
       "        text-align: right;\n",
       "    }\n",
       "</style>\n",
       "<table border=\"1\" class=\"dataframe\">\n",
       "  <thead>\n",
       "    <tr style=\"text-align: right;\">\n",
       "      <th></th>\n",
       "      <th>CAND_ID</th>\n",
       "      <th>CAND_NAME</th>\n",
       "      <th>CAND_PTY_AFFILIATION</th>\n",
       "      <th>CAND_ELECTION_YR</th>\n",
       "      <th>CAND_OFFICE_ST</th>\n",
       "      <th>CAND_OFFICE</th>\n",
       "      <th>CAND_OFFICE_DISTRICT</th>\n",
       "      <th>CAND_ICI</th>\n",
       "      <th>CAND_STATUS</th>\n",
       "      <th>CAND_PCC</th>\n",
       "      <th>CAND_ST1</th>\n",
       "      <th>CAND_ST2</th>\n",
       "      <th>CAND_CITY</th>\n",
       "      <th>CAND_ST</th>\n",
       "      <th>CAND_ZIP</th>\n",
       "    </tr>\n",
       "  </thead>\n",
       "  <tbody>\n",
       "    <tr>\n",
       "      <th>4618</th>\n",
       "      <td>P80003338</td>\n",
       "      <td>OBAMA, BARACK</td>\n",
       "      <td>DEM</td>\n",
       "      <td>2012</td>\n",
       "      <td>US</td>\n",
       "      <td>P</td>\n",
       "      <td>0.0</td>\n",
       "      <td>I</td>\n",
       "      <td>C</td>\n",
       "      <td>C00431445</td>\n",
       "      <td>PO BOX 8102</td>\n",
       "      <td>NaN</td>\n",
       "      <td>CHICAGO</td>\n",
       "      <td>IL</td>\n",
       "      <td>60680.0</td>\n",
       "    </tr>\n",
       "  </tbody>\n",
       "</table>\n",
       "</div>"
      ],
      "text/plain": [
       "        CAND_ID      CAND_NAME CAND_PTY_AFFILIATION  CAND_ELECTION_YR  \\\n",
       "4618  P80003338  OBAMA, BARACK                  DEM              2012   \n",
       "\n",
       "     CAND_OFFICE_ST CAND_OFFICE  CAND_OFFICE_DISTRICT CAND_ICI CAND_STATUS  \\\n",
       "4618             US           P                   0.0        I           C   \n",
       "\n",
       "       CAND_PCC     CAND_ST1 CAND_ST2 CAND_CITY CAND_ST  CAND_ZIP  \n",
       "4618  C00431445  PO BOX 8102      NaN   CHICAGO      IL   60680.0  "
      ]
     },
     "execution_count": 43,
     "metadata": {},
     "output_type": "execute_result"
    }
   ],
   "source": [
    "cn[cn['CAND_NAME'].str.contains('OBAMA')]"
   ]
  },
  {
   "cell_type": "markdown",
   "metadata": {
    "slideshow": {
     "slide_type": "slide"
    }
   },
   "source": [
    "* Συνεχίζουμε με τον Mitt Romney."
   ]
  },
  {
   "cell_type": "code",
   "execution_count": 44,
   "metadata": {
    "slideshow": {
     "slide_type": "fragment"
    }
   },
   "outputs": [
    {
     "data": {
      "text/html": [
       "<div>\n",
       "<style scoped>\n",
       "    .dataframe tbody tr th:only-of-type {\n",
       "        vertical-align: middle;\n",
       "    }\n",
       "\n",
       "    .dataframe tbody tr th {\n",
       "        vertical-align: top;\n",
       "    }\n",
       "\n",
       "    .dataframe thead th {\n",
       "        text-align: right;\n",
       "    }\n",
       "</style>\n",
       "<table border=\"1\" class=\"dataframe\">\n",
       "  <thead>\n",
       "    <tr style=\"text-align: right;\">\n",
       "      <th></th>\n",
       "      <th>CAND_ID</th>\n",
       "      <th>CAND_NAME</th>\n",
       "      <th>CAND_PTY_AFFILIATION</th>\n",
       "      <th>CAND_ELECTION_YR</th>\n",
       "      <th>CAND_OFFICE_ST</th>\n",
       "      <th>CAND_OFFICE</th>\n",
       "      <th>CAND_OFFICE_DISTRICT</th>\n",
       "      <th>CAND_ICI</th>\n",
       "      <th>CAND_STATUS</th>\n",
       "      <th>CAND_PCC</th>\n",
       "      <th>CAND_ST1</th>\n",
       "      <th>CAND_ST2</th>\n",
       "      <th>CAND_CITY</th>\n",
       "      <th>CAND_ST</th>\n",
       "      <th>CAND_ZIP</th>\n",
       "    </tr>\n",
       "  </thead>\n",
       "  <tbody>\n",
       "    <tr>\n",
       "      <th>4620</th>\n",
       "      <td>P80003353</td>\n",
       "      <td>ROMNEY, MITT / RYAN, PAUL D.</td>\n",
       "      <td>REP</td>\n",
       "      <td>2012</td>\n",
       "      <td>US</td>\n",
       "      <td>P</td>\n",
       "      <td>0.0</td>\n",
       "      <td>C</td>\n",
       "      <td>C</td>\n",
       "      <td>C00431171</td>\n",
       "      <td>585 COMMERCIAL ST.</td>\n",
       "      <td>NaN</td>\n",
       "      <td>BOSTON</td>\n",
       "      <td>MA</td>\n",
       "      <td>2109.0</td>\n",
       "    </tr>\n",
       "  </tbody>\n",
       "</table>\n",
       "</div>"
      ],
      "text/plain": [
       "        CAND_ID                      CAND_NAME CAND_PTY_AFFILIATION  \\\n",
       "4620  P80003353  ROMNEY, MITT / RYAN, PAUL D.                   REP   \n",
       "\n",
       "      CAND_ELECTION_YR CAND_OFFICE_ST CAND_OFFICE  CAND_OFFICE_DISTRICT  \\\n",
       "4620              2012             US           P                   0.0   \n",
       "\n",
       "     CAND_ICI CAND_STATUS   CAND_PCC            CAND_ST1 CAND_ST2 CAND_CITY  \\\n",
       "4620        C           C  C00431171  585 COMMERCIAL ST.      NaN    BOSTON   \n",
       "\n",
       "     CAND_ST  CAND_ZIP  \n",
       "4620      MA    2109.0  "
      ]
     },
     "execution_count": 44,
     "metadata": {},
     "output_type": "execute_result"
    }
   ],
   "source": [
    "cn[cn['CAND_NAME'].str.contains('ROMNEY')]"
   ]
  },
  {
   "cell_type": "markdown",
   "metadata": {
    "slideshow": {
     "slide_type": "slide"
    }
   },
   "source": [
    "* Οπότε ας επιλέξουμε αυτούς τους δύο."
   ]
  },
  {
   "cell_type": "code",
   "execution_count": 45,
   "metadata": {
    "slideshow": {
     "slide_type": "fragment"
    }
   },
   "outputs": [
    {
     "data": {
      "text/html": [
       "<div>\n",
       "<style scoped>\n",
       "    .dataframe tbody tr th:only-of-type {\n",
       "        vertical-align: middle;\n",
       "    }\n",
       "\n",
       "    .dataframe tbody tr th {\n",
       "        vertical-align: top;\n",
       "    }\n",
       "\n",
       "    .dataframe thead th {\n",
       "        text-align: right;\n",
       "    }\n",
       "</style>\n",
       "<table border=\"1\" class=\"dataframe\">\n",
       "  <thead>\n",
       "    <tr style=\"text-align: right;\">\n",
       "      <th></th>\n",
       "      <th>CAND_ID</th>\n",
       "      <th>CAND_NAME</th>\n",
       "      <th>CAND_PTY_AFFILIATION</th>\n",
       "      <th>CAND_ELECTION_YR</th>\n",
       "      <th>CAND_OFFICE_ST</th>\n",
       "      <th>CAND_OFFICE</th>\n",
       "      <th>CAND_OFFICE_DISTRICT</th>\n",
       "      <th>CAND_ICI</th>\n",
       "      <th>CAND_STATUS</th>\n",
       "      <th>CAND_PCC</th>\n",
       "      <th>CAND_ST1</th>\n",
       "      <th>CAND_ST2</th>\n",
       "      <th>CAND_CITY</th>\n",
       "      <th>CAND_ST</th>\n",
       "      <th>CAND_ZIP</th>\n",
       "    </tr>\n",
       "  </thead>\n",
       "  <tbody>\n",
       "    <tr>\n",
       "      <th>4618</th>\n",
       "      <td>P80003338</td>\n",
       "      <td>OBAMA, BARACK</td>\n",
       "      <td>DEM</td>\n",
       "      <td>2012</td>\n",
       "      <td>US</td>\n",
       "      <td>P</td>\n",
       "      <td>0.0</td>\n",
       "      <td>I</td>\n",
       "      <td>C</td>\n",
       "      <td>C00431445</td>\n",
       "      <td>PO BOX 8102</td>\n",
       "      <td>NaN</td>\n",
       "      <td>CHICAGO</td>\n",
       "      <td>IL</td>\n",
       "      <td>60680.0</td>\n",
       "    </tr>\n",
       "  </tbody>\n",
       "</table>\n",
       "</div>"
      ],
      "text/plain": [
       "        CAND_ID      CAND_NAME CAND_PTY_AFFILIATION  CAND_ELECTION_YR  \\\n",
       "4618  P80003338  OBAMA, BARACK                  DEM              2012   \n",
       "\n",
       "     CAND_OFFICE_ST CAND_OFFICE  CAND_OFFICE_DISTRICT CAND_ICI CAND_STATUS  \\\n",
       "4618             US           P                   0.0        I           C   \n",
       "\n",
       "       CAND_PCC     CAND_ST1 CAND_ST2 CAND_CITY CAND_ST  CAND_ZIP  \n",
       "4618  C00431445  PO BOX 8102      NaN   CHICAGO      IL   60680.0  "
      ]
     },
     "execution_count": 45,
     "metadata": {},
     "output_type": "execute_result"
    }
   ],
   "source": [
    "cn[cn['CAND_NAME'].isin(['OBAMA, BARACK', 'ROMNEY, MITT / RYAN, PAUL D.'])]"
   ]
  },
  {
   "cell_type": "markdown",
   "metadata": {
    "slideshow": {
     "slide_type": "slide"
    }
   },
   "source": [
    "* Για ποιο λόγο εξαφανίστηκε ο Mitt Romney;\n",
    "\n",
    "* Διότι δυστυχώς υπάρχει ένα κενό στο τέλος!"
   ]
  },
  {
   "cell_type": "code",
   "execution_count": 46,
   "metadata": {
    "slideshow": {
     "slide_type": "fragment"
    }
   },
   "outputs": [
    {
     "data": {
      "text/plain": [
       "array(['ROMNEY, MITT / RYAN, PAUL D. '], dtype=object)"
      ]
     },
     "execution_count": 46,
     "metadata": {},
     "output_type": "execute_result"
    }
   ],
   "source": [
    "cn.loc[cn['CAND_NAME'].str.contains('ROMNEY'), 'CAND_NAME'].values"
   ]
  },
  {
   "cell_type": "markdown",
   "metadata": {
    "slideshow": {
     "slide_type": "slide"
    }
   },
   "source": [
    "* Ας διορθώσουμε και απλοποιήσουμε την κατάσταση."
   ]
  },
  {
   "cell_type": "code",
   "execution_count": 47,
   "metadata": {
    "slideshow": {
     "slide_type": "fragment"
    }
   },
   "outputs": [
    {
     "data": {
      "text/plain": [
       "array(['ROMNEY, MITT'], dtype=object)"
      ]
     },
     "execution_count": 47,
     "metadata": {},
     "output_type": "execute_result"
    }
   ],
   "source": [
    "cn.loc[cn['CAND_NAME'].str.contains('ROMNEY'), 'CAND_NAME'] = 'ROMNEY, MITT'\n",
    "cn[cn['CAND_NAME'].str.contains('ROMNEY')]['CAND_NAME'].values"
   ]
  },
  {
   "cell_type": "markdown",
   "metadata": {
    "slideshow": {
     "slide_type": "slide"
    }
   },
   "source": [
    "* Για να επιβεβαιώσουμε ότι είμαστε ΟΚ:"
   ]
  },
  {
   "cell_type": "code",
   "execution_count": 48,
   "metadata": {
    "slideshow": {
     "slide_type": "fragment"
    }
   },
   "outputs": [
    {
     "data": {
      "text/html": [
       "<div>\n",
       "<style scoped>\n",
       "    .dataframe tbody tr th:only-of-type {\n",
       "        vertical-align: middle;\n",
       "    }\n",
       "\n",
       "    .dataframe tbody tr th {\n",
       "        vertical-align: top;\n",
       "    }\n",
       "\n",
       "    .dataframe thead th {\n",
       "        text-align: right;\n",
       "    }\n",
       "</style>\n",
       "<table border=\"1\" class=\"dataframe\">\n",
       "  <thead>\n",
       "    <tr style=\"text-align: right;\">\n",
       "      <th></th>\n",
       "      <th>CAND_ID</th>\n",
       "      <th>CAND_NAME</th>\n",
       "      <th>CAND_PTY_AFFILIATION</th>\n",
       "      <th>CAND_ELECTION_YR</th>\n",
       "      <th>CAND_OFFICE_ST</th>\n",
       "      <th>CAND_OFFICE</th>\n",
       "      <th>CAND_OFFICE_DISTRICT</th>\n",
       "      <th>CAND_ICI</th>\n",
       "      <th>CAND_STATUS</th>\n",
       "      <th>CAND_PCC</th>\n",
       "      <th>CAND_ST1</th>\n",
       "      <th>CAND_ST2</th>\n",
       "      <th>CAND_CITY</th>\n",
       "      <th>CAND_ST</th>\n",
       "      <th>CAND_ZIP</th>\n",
       "    </tr>\n",
       "  </thead>\n",
       "  <tbody>\n",
       "    <tr>\n",
       "      <th>4618</th>\n",
       "      <td>P80003338</td>\n",
       "      <td>OBAMA, BARACK</td>\n",
       "      <td>DEM</td>\n",
       "      <td>2012</td>\n",
       "      <td>US</td>\n",
       "      <td>P</td>\n",
       "      <td>0.0</td>\n",
       "      <td>I</td>\n",
       "      <td>C</td>\n",
       "      <td>C00431445</td>\n",
       "      <td>PO BOX 8102</td>\n",
       "      <td>NaN</td>\n",
       "      <td>CHICAGO</td>\n",
       "      <td>IL</td>\n",
       "      <td>60680.0</td>\n",
       "    </tr>\n",
       "    <tr>\n",
       "      <th>4620</th>\n",
       "      <td>P80003353</td>\n",
       "      <td>ROMNEY, MITT</td>\n",
       "      <td>REP</td>\n",
       "      <td>2012</td>\n",
       "      <td>US</td>\n",
       "      <td>P</td>\n",
       "      <td>0.0</td>\n",
       "      <td>C</td>\n",
       "      <td>C</td>\n",
       "      <td>C00431171</td>\n",
       "      <td>585 COMMERCIAL ST.</td>\n",
       "      <td>NaN</td>\n",
       "      <td>BOSTON</td>\n",
       "      <td>MA</td>\n",
       "      <td>2109.0</td>\n",
       "    </tr>\n",
       "  </tbody>\n",
       "</table>\n",
       "</div>"
      ],
      "text/plain": [
       "        CAND_ID      CAND_NAME CAND_PTY_AFFILIATION  CAND_ELECTION_YR  \\\n",
       "4618  P80003338  OBAMA, BARACK                  DEM              2012   \n",
       "4620  P80003353   ROMNEY, MITT                  REP              2012   \n",
       "\n",
       "     CAND_OFFICE_ST CAND_OFFICE  CAND_OFFICE_DISTRICT CAND_ICI CAND_STATUS  \\\n",
       "4618             US           P                   0.0        I           C   \n",
       "4620             US           P                   0.0        C           C   \n",
       "\n",
       "       CAND_PCC            CAND_ST1 CAND_ST2 CAND_CITY CAND_ST  CAND_ZIP  \n",
       "4618  C00431445         PO BOX 8102      NaN   CHICAGO      IL   60680.0  \n",
       "4620  C00431171  585 COMMERCIAL ST.      NaN    BOSTON      MA    2109.0  "
      ]
     },
     "execution_count": 48,
     "metadata": {},
     "output_type": "execute_result"
    }
   ],
   "source": [
    "cn_bomr = cn[cn['CAND_NAME'].isin(['OBAMA, BARACK', 'ROMNEY, MITT'])]\n",
    "cn_bomr"
   ]
  },
  {
   "cell_type": "markdown",
   "metadata": {
    "slideshow": {
     "slide_type": "slide"
    }
   },
   "source": [
    "* Τώρα μπορούμε να ενώσουμε τα στοιχεία των υποψηφίων με τα στοιχεία των δωρεών."
   ]
  },
  {
   "cell_type": "code",
   "execution_count": 49,
   "metadata": {
    "slideshow": {
     "slide_type": "fragment"
    }
   },
   "outputs": [
    {
     "name": "stdout",
     "output_type": "stream",
     "text": [
      "(1059267, 25)\n"
     ]
    },
    {
     "data": {
      "text/html": [
       "<div>\n",
       "<style scoped>\n",
       "    .dataframe tbody tr th:only-of-type {\n",
       "        vertical-align: middle;\n",
       "    }\n",
       "\n",
       "    .dataframe tbody tr th {\n",
       "        vertical-align: top;\n",
       "    }\n",
       "\n",
       "    .dataframe thead th {\n",
       "        text-align: right;\n",
       "    }\n",
       "</style>\n",
       "<table border=\"1\" class=\"dataframe\">\n",
       "  <thead>\n",
       "    <tr style=\"text-align: right;\">\n",
       "      <th></th>\n",
       "      <th>CMTE_ID</th>\n",
       "      <th>AMNDT_IND</th>\n",
       "      <th>RPT_TP</th>\n",
       "      <th>TRANSACTION_PGI</th>\n",
       "      <th>IMAGE_NUM</th>\n",
       "      <th>TRANSACTION_TP</th>\n",
       "      <th>ENTITY_TP</th>\n",
       "      <th>NAME</th>\n",
       "      <th>CITY</th>\n",
       "      <th>STATE</th>\n",
       "      <th>ZIP_CODE</th>\n",
       "      <th>EMPLOYER</th>\n",
       "      <th>OCCUPATION</th>\n",
       "      <th>TRANSACTION_DT</th>\n",
       "      <th>TRANSACTION_AMT</th>\n",
       "      <th>OTHER_ID</th>\n",
       "      <th>TRAN_ID</th>\n",
       "      <th>FILE_NUM</th>\n",
       "      <th>MEMO_CD</th>\n",
       "      <th>MEMO_TEXT</th>\n",
       "      <th>SUB_ID</th>\n",
       "      <th>CMTE_NM</th>\n",
       "      <th>CAND_ID</th>\n",
       "      <th>CAND_NAME</th>\n",
       "      <th>CAND_PTY_AFFILIATION</th>\n",
       "    </tr>\n",
       "  </thead>\n",
       "  <tbody>\n",
       "    <tr>\n",
       "      <th>0</th>\n",
       "      <td>C00431445</td>\n",
       "      <td>N</td>\n",
       "      <td>Q1</td>\n",
       "      <td>P2008</td>\n",
       "      <td>11930701008</td>\n",
       "      <td>22Y</td>\n",
       "      <td>IND</td>\n",
       "      <td>PORTA, BONNIE</td>\n",
       "      <td>CAPE ELIZABETH</td>\n",
       "      <td>ME</td>\n",
       "      <td>04107</td>\n",
       "      <td>NaN</td>\n",
       "      <td>NaN</td>\n",
       "      <td>03092011</td>\n",
       "      <td>2300.0</td>\n",
       "      <td>NaN</td>\n",
       "      <td>SB28A-106502</td>\n",
       "      <td>724196</td>\n",
       "      <td>NaN</td>\n",
       "      <td>NaN</td>\n",
       "      <td>4041920111138175295</td>\n",
       "      <td>OBAMA FOR AMERICA</td>\n",
       "      <td>P80003338</td>\n",
       "      <td>OBAMA, BARACK</td>\n",
       "      <td>DEM</td>\n",
       "    </tr>\n",
       "    <tr>\n",
       "      <th>1</th>\n",
       "      <td>C00431445</td>\n",
       "      <td>N</td>\n",
       "      <td>Q1</td>\n",
       "      <td>G2008</td>\n",
       "      <td>11930701008</td>\n",
       "      <td>22Y</td>\n",
       "      <td>IND</td>\n",
       "      <td>PORTA, BONNIE</td>\n",
       "      <td>CAPE ELIZABETH</td>\n",
       "      <td>ME</td>\n",
       "      <td>04107</td>\n",
       "      <td>NaN</td>\n",
       "      <td>NaN</td>\n",
       "      <td>03092011</td>\n",
       "      <td>2300.0</td>\n",
       "      <td>NaN</td>\n",
       "      <td>SB28A-106503</td>\n",
       "      <td>724196</td>\n",
       "      <td>NaN</td>\n",
       "      <td>NaN</td>\n",
       "      <td>4041920111138175296</td>\n",
       "      <td>OBAMA FOR AMERICA</td>\n",
       "      <td>P80003338</td>\n",
       "      <td>OBAMA, BARACK</td>\n",
       "      <td>DEM</td>\n",
       "    </tr>\n",
       "    <tr>\n",
       "      <th>2</th>\n",
       "      <td>C00431445</td>\n",
       "      <td>A</td>\n",
       "      <td>Q3</td>\n",
       "      <td>P2012</td>\n",
       "      <td>12970029343</td>\n",
       "      <td>15</td>\n",
       "      <td>IND</td>\n",
       "      <td>ANTHONY, KENT</td>\n",
       "      <td>LEAGUE CITY</td>\n",
       "      <td>TX</td>\n",
       "      <td>77573</td>\n",
       "      <td>THE METHODIST HOSPITAL SYSTEM</td>\n",
       "      <td>PHYSICIAN</td>\n",
       "      <td>09302011</td>\n",
       "      <td>1000.0</td>\n",
       "      <td>NaN</td>\n",
       "      <td>C12462768</td>\n",
       "      <td>756218</td>\n",
       "      <td>NaN</td>\n",
       "      <td>NaN</td>\n",
       "      <td>4021620121151193386</td>\n",
       "      <td>OBAMA FOR AMERICA</td>\n",
       "      <td>P80003338</td>\n",
       "      <td>OBAMA, BARACK</td>\n",
       "      <td>DEM</td>\n",
       "    </tr>\n",
       "    <tr>\n",
       "      <th>3</th>\n",
       "      <td>C00431445</td>\n",
       "      <td>A</td>\n",
       "      <td>Q3</td>\n",
       "      <td>P2012</td>\n",
       "      <td>12970029344</td>\n",
       "      <td>15</td>\n",
       "      <td>IND</td>\n",
       "      <td>KAHN, VIRGINIA</td>\n",
       "      <td>CAMBRIDGE</td>\n",
       "      <td>MA</td>\n",
       "      <td>02138</td>\n",
       "      <td>RETIRED</td>\n",
       "      <td>RETIRED</td>\n",
       "      <td>08082011</td>\n",
       "      <td>1000.0</td>\n",
       "      <td>NaN</td>\n",
       "      <td>C11861688</td>\n",
       "      <td>756218</td>\n",
       "      <td>NaN</td>\n",
       "      <td>NaN</td>\n",
       "      <td>4021620121151193391</td>\n",
       "      <td>OBAMA FOR AMERICA</td>\n",
       "      <td>P80003338</td>\n",
       "      <td>OBAMA, BARACK</td>\n",
       "      <td>DEM</td>\n",
       "    </tr>\n",
       "    <tr>\n",
       "      <th>4</th>\n",
       "      <td>C00431445</td>\n",
       "      <td>A</td>\n",
       "      <td>Q3</td>\n",
       "      <td>P2012</td>\n",
       "      <td>12970021794</td>\n",
       "      <td>15</td>\n",
       "      <td>IND</td>\n",
       "      <td>ELSON, SALLY T</td>\n",
       "      <td>CHICAGO</td>\n",
       "      <td>IL</td>\n",
       "      <td>60657</td>\n",
       "      <td>NaN</td>\n",
       "      <td>INFORMATION REQUESTED</td>\n",
       "      <td>09202011</td>\n",
       "      <td>250.0</td>\n",
       "      <td>NaN</td>\n",
       "      <td>C12160885</td>\n",
       "      <td>756218</td>\n",
       "      <td>NaN</td>\n",
       "      <td>NaN</td>\n",
       "      <td>4021620121151170741</td>\n",
       "      <td>OBAMA FOR AMERICA</td>\n",
       "      <td>P80003338</td>\n",
       "      <td>OBAMA, BARACK</td>\n",
       "      <td>DEM</td>\n",
       "    </tr>\n",
       "  </tbody>\n",
       "</table>\n",
       "</div>"
      ],
      "text/plain": [
       "     CMTE_ID AMNDT_IND RPT_TP TRANSACTION_PGI    IMAGE_NUM TRANSACTION_TP  \\\n",
       "0  C00431445         N     Q1           P2008  11930701008            22Y   \n",
       "1  C00431445         N     Q1           G2008  11930701008            22Y   \n",
       "2  C00431445         A     Q3           P2012  12970029343             15   \n",
       "3  C00431445         A     Q3           P2012  12970029344             15   \n",
       "4  C00431445         A     Q3           P2012  12970021794             15   \n",
       "\n",
       "  ENTITY_TP            NAME            CITY STATE ZIP_CODE  \\\n",
       "0       IND   PORTA, BONNIE  CAPE ELIZABETH    ME    04107   \n",
       "1       IND   PORTA, BONNIE  CAPE ELIZABETH    ME    04107   \n",
       "2       IND   ANTHONY, KENT     LEAGUE CITY    TX    77573   \n",
       "3       IND  KAHN, VIRGINIA       CAMBRIDGE    MA    02138   \n",
       "4       IND  ELSON, SALLY T         CHICAGO    IL    60657   \n",
       "\n",
       "                        EMPLOYER             OCCUPATION TRANSACTION_DT  \\\n",
       "0                            NaN                    NaN       03092011   \n",
       "1                            NaN                    NaN       03092011   \n",
       "2  THE METHODIST HOSPITAL SYSTEM              PHYSICIAN       09302011   \n",
       "3                        RETIRED                RETIRED       08082011   \n",
       "4                            NaN  INFORMATION REQUESTED       09202011   \n",
       "\n",
       "   TRANSACTION_AMT OTHER_ID       TRAN_ID FILE_NUM MEMO_CD MEMO_TEXT  \\\n",
       "0           2300.0      NaN  SB28A-106502   724196     NaN       NaN   \n",
       "1           2300.0      NaN  SB28A-106503   724196     NaN       NaN   \n",
       "2           1000.0      NaN     C12462768   756218     NaN       NaN   \n",
       "3           1000.0      NaN     C11861688   756218     NaN       NaN   \n",
       "4            250.0      NaN     C12160885   756218     NaN       NaN   \n",
       "\n",
       "                SUB_ID            CMTE_NM    CAND_ID      CAND_NAME  \\\n",
       "0  4041920111138175295  OBAMA FOR AMERICA  P80003338  OBAMA, BARACK   \n",
       "1  4041920111138175296  OBAMA FOR AMERICA  P80003338  OBAMA, BARACK   \n",
       "2  4021620121151193386  OBAMA FOR AMERICA  P80003338  OBAMA, BARACK   \n",
       "3  4021620121151193391  OBAMA FOR AMERICA  P80003338  OBAMA, BARACK   \n",
       "4  4021620121151170741  OBAMA FOR AMERICA  P80003338  OBAMA, BARACK   \n",
       "\n",
       "  CAND_PTY_AFFILIATION  \n",
       "0                  DEM  \n",
       "1                  DEM  \n",
       "2                  DEM  \n",
       "3                  DEM  \n",
       "4                  DEM  "
      ]
     },
     "execution_count": 49,
     "metadata": {},
     "output_type": "execute_result"
    }
   ],
   "source": [
    "fec = pd.merge(fec, \n",
    "               cn_bomr[['CAND_ID', 'CAND_NAME', 'CAND_PTY_AFFILIATION']], \n",
    "               on='CAND_ID',\n",
    "               how='inner')\n",
    "\n",
    "print(fec.shape)\n",
    "fec.head(5)"
   ]
  },
  {
   "cell_type": "markdown",
   "metadata": {
    "slideshow": {
     "slide_type": "slide"
    }
   },
   "source": [
    "* Τώρα λοιπόν που έχουμε τα δεδομένα στη μορφή που τα θέλουμε, μπορούμε να ξεκινήσουμε τη διερεύνηση με το πόσες δωρεές δόθηκαν σε κάθε υποψήφιο."
   ]
  },
  {
   "cell_type": "code",
   "execution_count": 50,
   "metadata": {
    "slideshow": {
     "slide_type": "fragment"
    }
   },
   "outputs": [
    {
     "data": {
      "text/plain": [
       "OBAMA, BARACK    637617\n",
       "ROMNEY, MITT     421650\n",
       "Name: CAND_NAME, dtype: int64"
      ]
     },
     "execution_count": 50,
     "metadata": {},
     "output_type": "execute_result"
    }
   ],
   "source": [
    "fec['CAND_NAME'].value_counts()"
   ]
  },
  {
   "cell_type": "markdown",
   "metadata": {
    "slideshow": {
     "slide_type": "slide"
    }
   },
   "source": [
    "* Είμαστε όμως σίγουροι ότι αυτές είναι πραγματικά συνεισφορές;"
   ]
  },
  {
   "cell_type": "code",
   "execution_count": 51,
   "metadata": {
    "slideshow": {
     "slide_type": "fragment"
    }
   },
   "outputs": [
    {
     "data": {
      "text/plain": [
       "True     1052127\n",
       "False       7140\n",
       "Name: TRANSACTION_AMT, dtype: int64"
      ]
     },
     "execution_count": 51,
     "metadata": {},
     "output_type": "execute_result"
    }
   ],
   "source": [
    "(fec['TRANSACTION_AMT'] > 0).value_counts()"
   ]
  },
  {
   "cell_type": "markdown",
   "metadata": {
    "slideshow": {
     "slide_type": "slide"
    }
   },
   "source": [
    "* Επομένως, ας κρατήσουμε μόνο τις πραγματικές συνεισφορές."
   ]
  },
  {
   "cell_type": "code",
   "execution_count": 52,
   "metadata": {
    "slideshow": {
     "slide_type": "fragment"
    }
   },
   "outputs": [],
   "source": [
    "fec = fec.loc[fec['TRANSACTION_AMT'] > 0]"
   ]
  },
  {
   "cell_type": "markdown",
   "metadata": {
    "slideshow": {
     "slide_type": "slide"
    }
   },
   "source": [
    "* Μπορούμε τώρα να δούμε τη σχέση μεταξύ υποστηρικτών και επαγγελμάτων.\n",
    "\n",
    "* Για παράδειγμα, υπάρχει η πεποίθηση ότι οι δικηγόροι υποστηρίζουν δημοκρατικούς, ενώ υψηλόβαθμα στελέχη επιχειρήσεων υποστηρίζουν τους ρεπουμπλικάνους.\n",
    "\n",
    "* Το καλό είναι μπορούμε να δούμε εμείς οι ίδιοι τι συμβαίνει!\n",
    "\n",
    "* Για να δούμε τη συνολική εικόνα."
   ]
  },
  {
   "cell_type": "code",
   "execution_count": 53,
   "metadata": {
    "slideshow": {
     "slide_type": "slide"
    }
   },
   "outputs": [
    {
     "data": {
      "text/plain": [
       "RETIRED                  202024\n",
       "ATTORNEY                  60801\n",
       "PHYSICIAN                 38559\n",
       "HOMEMAKER                 33144\n",
       "PROFESSOR                 17480\n",
       "CONSULTANT                17275\n",
       "LAWYER                    15645\n",
       "ENGINEER                  12000\n",
       "PRESIDENT                 11941\n",
       "INFORMATION REQUESTED     11825\n",
       "EXECUTIVE                 10564\n",
       "SELF-EMPLOYED              9889\n",
       "NONE                       8499\n",
       "MANAGER                    8392\n",
       "TEACHER                    7651\n",
       "OWNER                      7115\n",
       "BUSINESS OWNER             6972\n",
       "CEO                        6886\n",
       "SALES                      6723\n",
       "NOT EMPLOYED               6691\n",
       "Name: OCCUPATION, dtype: int64"
      ]
     },
     "execution_count": 53,
     "metadata": {},
     "output_type": "execute_result"
    }
   ],
   "source": [
    "fec['OCCUPATION'].value_counts()[:20]"
   ]
  },
  {
   "cell_type": "markdown",
   "metadata": {
    "slideshow": {
     "slide_type": "slide"
    }
   },
   "source": [
    "* Τώρα μπορούμε να χρησιμοποιήσουμε τη μέθοδο `pivot_table()` ώστε να αθροίσουμε τις δωρεές ανά κόμμα και επάγγελμα."
   ]
  },
  {
   "cell_type": "code",
   "execution_count": 54,
   "metadata": {
    "slideshow": {
     "slide_type": "fragment"
    }
   },
   "outputs": [
    {
     "data": {
      "text/html": [
       "<div>\n",
       "<style scoped>\n",
       "    .dataframe tbody tr th:only-of-type {\n",
       "        vertical-align: middle;\n",
       "    }\n",
       "\n",
       "    .dataframe tbody tr th {\n",
       "        vertical-align: top;\n",
       "    }\n",
       "\n",
       "    .dataframe thead th {\n",
       "        text-align: right;\n",
       "    }\n",
       "</style>\n",
       "<table border=\"1\" class=\"dataframe\">\n",
       "  <thead>\n",
       "    <tr style=\"text-align: right;\">\n",
       "      <th>CAND_PTY_AFFILIATION</th>\n",
       "      <th>DEM</th>\n",
       "      <th>REP</th>\n",
       "    </tr>\n",
       "    <tr>\n",
       "      <th>OCCUPATION</th>\n",
       "      <th></th>\n",
       "      <th></th>\n",
       "    </tr>\n",
       "  </thead>\n",
       "  <tbody>\n",
       "    <tr>\n",
       "      <th>SOFTWARE ENGINEER/HOMEMAKER</th>\n",
       "      <td>2225.0</td>\n",
       "      <td>NaN</td>\n",
       "    </tr>\n",
       "    <tr>\n",
       "      <th>$2500 ALREADY CONTRIBUTED</th>\n",
       "      <td>NaN</td>\n",
       "      <td>5000.0</td>\n",
       "    </tr>\n",
       "    <tr>\n",
       "      <th>(FORMER) COMPUTER TECH MANAGEMENT</th>\n",
       "      <td>500.0</td>\n",
       "      <td>NaN</td>\n",
       "    </tr>\n",
       "    <tr>\n",
       "      <th>(FORMER) COMPUTER TECH. MANAGEMENT</th>\n",
       "      <td>1500.0</td>\n",
       "      <td>NaN</td>\n",
       "    </tr>\n",
       "    <tr>\n",
       "      <th>(SEMI) RETIRED TEACHER</th>\n",
       "      <td>NaN</td>\n",
       "      <td>250.0</td>\n",
       "    </tr>\n",
       "    <tr>\n",
       "      <th>...</th>\n",
       "      <td>...</td>\n",
       "      <td>...</td>\n",
       "    </tr>\n",
       "    <tr>\n",
       "      <th>ZUMBA GOLD INSTRUCTOR</th>\n",
       "      <td>NaN</td>\n",
       "      <td>250.0</td>\n",
       "    </tr>\n",
       "    <tr>\n",
       "      <th>ZUMBA INSTRUCTOR</th>\n",
       "      <td>NaN</td>\n",
       "      <td>2500.0</td>\n",
       "    </tr>\n",
       "    <tr>\n",
       "      <th>\\RESEARCH DIRECTOR</th>\n",
       "      <td>250.0</td>\n",
       "      <td>NaN</td>\n",
       "    </tr>\n",
       "    <tr>\n",
       "      <th>`ATTORNEY</th>\n",
       "      <td>1500.0</td>\n",
       "      <td>NaN</td>\n",
       "    </tr>\n",
       "    <tr>\n",
       "      <th>``PRESIDENT</th>\n",
       "      <td>NaN</td>\n",
       "      <td>250.0</td>\n",
       "    </tr>\n",
       "  </tbody>\n",
       "</table>\n",
       "<p>60010 rows × 2 columns</p>\n",
       "</div>"
      ],
      "text/plain": [
       "CAND_PTY_AFFILIATION                   DEM     REP\n",
       "OCCUPATION                                        \n",
       " SOFTWARE ENGINEER/HOMEMAKER        2225.0     NaN\n",
       "$2500 ALREADY CONTRIBUTED              NaN  5000.0\n",
       "(FORMER) COMPUTER TECH MANAGEMENT    500.0     NaN\n",
       "(FORMER) COMPUTER TECH. MANAGEMENT  1500.0     NaN\n",
       "(SEMI) RETIRED TEACHER                 NaN   250.0\n",
       "...                                    ...     ...\n",
       "ZUMBA GOLD INSTRUCTOR                  NaN   250.0\n",
       "ZUMBA INSTRUCTOR                       NaN  2500.0\n",
       "\\RESEARCH DIRECTOR                   250.0     NaN\n",
       "`ATTORNEY                           1500.0     NaN\n",
       "``PRESIDENT                            NaN   250.0\n",
       "\n",
       "[60010 rows x 2 columns]"
      ]
     },
     "execution_count": 54,
     "metadata": {},
     "output_type": "execute_result"
    }
   ],
   "source": [
    "by_occupation = fec.pivot_table(index='OCCUPATION', \n",
    "                                columns='CAND_PTY_AFFILIATION',\n",
    "                                values='TRANSACTION_AMT',\n",
    "                                aggfunc='sum')\n",
    "by_occupation"
   ]
  },
  {
   "cell_type": "markdown",
   "metadata": {
    "slideshow": {
     "slide_type": "slide"
    }
   },
   "source": [
    "* Για να ξεχωρίσουμε τα άσχετα επαγγέλματα, και να επικεντρωθούμε σε αυτά που τελικά δίνουν συνολικά μεγάλα ποσά, ας δούμε κατ' αρχήν πόσα χρήματα συνολικά δόθηκαν ανά επάγγελμα.\n",
    "\n",
    "* Για να το κάνουμε αυτό, πρέπει να αθροίσουμε τα δεδομένα κάθε γραμμής, δηλαδή να προχωράμε κατά στήλες. Αυτός είναι ο 1ος άξονας σε ένα `DataFrame` (`axis=1`)."
   ]
  },
  {
   "cell_type": "code",
   "execution_count": 55,
   "metadata": {
    "slideshow": {
     "slide_type": "fragment"
    }
   },
   "outputs": [
    {
     "data": {
      "text/html": [
       "<div>\n",
       "<style scoped>\n",
       "    .dataframe tbody tr th:only-of-type {\n",
       "        vertical-align: middle;\n",
       "    }\n",
       "\n",
       "    .dataframe tbody tr th {\n",
       "        vertical-align: top;\n",
       "    }\n",
       "\n",
       "    .dataframe thead th {\n",
       "        text-align: right;\n",
       "    }\n",
       "</style>\n",
       "<table border=\"1\" class=\"dataframe\">\n",
       "  <thead>\n",
       "    <tr style=\"text-align: right;\">\n",
       "      <th>CAND_PTY_AFFILIATION</th>\n",
       "      <th>DEM</th>\n",
       "      <th>REP</th>\n",
       "      <th>SUM</th>\n",
       "    </tr>\n",
       "    <tr>\n",
       "      <th>OCCUPATION</th>\n",
       "      <th></th>\n",
       "      <th></th>\n",
       "      <th></th>\n",
       "    </tr>\n",
       "  </thead>\n",
       "  <tbody>\n",
       "    <tr>\n",
       "      <th>SOFTWARE ENGINEER/HOMEMAKER</th>\n",
       "      <td>2225.0</td>\n",
       "      <td>NaN</td>\n",
       "      <td>2225.0</td>\n",
       "    </tr>\n",
       "    <tr>\n",
       "      <th>$2500 ALREADY CONTRIBUTED</th>\n",
       "      <td>NaN</td>\n",
       "      <td>5000.0</td>\n",
       "      <td>5000.0</td>\n",
       "    </tr>\n",
       "    <tr>\n",
       "      <th>(FORMER) COMPUTER TECH MANAGEMENT</th>\n",
       "      <td>500.0</td>\n",
       "      <td>NaN</td>\n",
       "      <td>500.0</td>\n",
       "    </tr>\n",
       "    <tr>\n",
       "      <th>(FORMER) COMPUTER TECH. MANAGEMENT</th>\n",
       "      <td>1500.0</td>\n",
       "      <td>NaN</td>\n",
       "      <td>1500.0</td>\n",
       "    </tr>\n",
       "    <tr>\n",
       "      <th>(SEMI) RETIRED TEACHER</th>\n",
       "      <td>NaN</td>\n",
       "      <td>250.0</td>\n",
       "      <td>250.0</td>\n",
       "    </tr>\n",
       "    <tr>\n",
       "      <th>...</th>\n",
       "      <td>...</td>\n",
       "      <td>...</td>\n",
       "      <td>...</td>\n",
       "    </tr>\n",
       "    <tr>\n",
       "      <th>ZUMBA GOLD INSTRUCTOR</th>\n",
       "      <td>NaN</td>\n",
       "      <td>250.0</td>\n",
       "      <td>250.0</td>\n",
       "    </tr>\n",
       "    <tr>\n",
       "      <th>ZUMBA INSTRUCTOR</th>\n",
       "      <td>NaN</td>\n",
       "      <td>2500.0</td>\n",
       "      <td>2500.0</td>\n",
       "    </tr>\n",
       "    <tr>\n",
       "      <th>\\RESEARCH DIRECTOR</th>\n",
       "      <td>250.0</td>\n",
       "      <td>NaN</td>\n",
       "      <td>250.0</td>\n",
       "    </tr>\n",
       "    <tr>\n",
       "      <th>`ATTORNEY</th>\n",
       "      <td>1500.0</td>\n",
       "      <td>NaN</td>\n",
       "      <td>1500.0</td>\n",
       "    </tr>\n",
       "    <tr>\n",
       "      <th>``PRESIDENT</th>\n",
       "      <td>NaN</td>\n",
       "      <td>250.0</td>\n",
       "      <td>250.0</td>\n",
       "    </tr>\n",
       "  </tbody>\n",
       "</table>\n",
       "<p>60010 rows × 3 columns</p>\n",
       "</div>"
      ],
      "text/plain": [
       "CAND_PTY_AFFILIATION                   DEM     REP     SUM\n",
       "OCCUPATION                                                \n",
       " SOFTWARE ENGINEER/HOMEMAKER        2225.0     NaN  2225.0\n",
       "$2500 ALREADY CONTRIBUTED              NaN  5000.0  5000.0\n",
       "(FORMER) COMPUTER TECH MANAGEMENT    500.0     NaN   500.0\n",
       "(FORMER) COMPUTER TECH. MANAGEMENT  1500.0     NaN  1500.0\n",
       "(SEMI) RETIRED TEACHER                 NaN   250.0   250.0\n",
       "...                                    ...     ...     ...\n",
       "ZUMBA GOLD INSTRUCTOR                  NaN   250.0   250.0\n",
       "ZUMBA INSTRUCTOR                       NaN  2500.0  2500.0\n",
       "\\RESEARCH DIRECTOR                   250.0     NaN   250.0\n",
       "`ATTORNEY                           1500.0     NaN  1500.0\n",
       "``PRESIDENT                            NaN   250.0   250.0\n",
       "\n",
       "[60010 rows x 3 columns]"
      ]
     },
     "execution_count": 55,
     "metadata": {},
     "output_type": "execute_result"
    }
   ],
   "source": [
    "by_occupation['SUM'] = by_occupation.sum(axis=1)\n",
    "by_occupation"
   ]
  },
  {
   "cell_type": "markdown",
   "metadata": {
    "slideshow": {
     "slide_type": "slide"
    }
   },
   "source": [
    "* Ας κρατήσουμε τα επαγγέλματα που έδωσαν από $10.000.000 και πάνω."
   ]
  },
  {
   "cell_type": "code",
   "execution_count": 56,
   "metadata": {
    "slideshow": {
     "slide_type": "fragment"
    }
   },
   "outputs": [
    {
     "data": {
      "text/html": [
       "<div>\n",
       "<style scoped>\n",
       "    .dataframe tbody tr th:only-of-type {\n",
       "        vertical-align: middle;\n",
       "    }\n",
       "\n",
       "    .dataframe tbody tr th {\n",
       "        vertical-align: top;\n",
       "    }\n",
       "\n",
       "    .dataframe thead th {\n",
       "        text-align: right;\n",
       "    }\n",
       "</style>\n",
       "<table border=\"1\" class=\"dataframe\">\n",
       "  <thead>\n",
       "    <tr style=\"text-align: right;\">\n",
       "      <th>CAND_PTY_AFFILIATION</th>\n",
       "      <th>DEM</th>\n",
       "      <th>REP</th>\n",
       "      <th>SUM</th>\n",
       "    </tr>\n",
       "    <tr>\n",
       "      <th>OCCUPATION</th>\n",
       "      <th></th>\n",
       "      <th></th>\n",
       "      <th></th>\n",
       "    </tr>\n",
       "  </thead>\n",
       "  <tbody>\n",
       "    <tr>\n",
       "      <th>ATTORNEY</th>\n",
       "      <td>49616201.0</td>\n",
       "      <td>21791814.0</td>\n",
       "      <td>71408015.0</td>\n",
       "    </tr>\n",
       "    <tr>\n",
       "      <th>C.E.O.</th>\n",
       "      <td>13500.0</td>\n",
       "      <td>16649148.0</td>\n",
       "      <td>16662648.0</td>\n",
       "    </tr>\n",
       "    <tr>\n",
       "      <th>CEO</th>\n",
       "      <td>12693212.0</td>\n",
       "      <td>5913438.0</td>\n",
       "      <td>18606650.0</td>\n",
       "    </tr>\n",
       "    <tr>\n",
       "      <th>CHAIRMAN</th>\n",
       "      <td>3828164.0</td>\n",
       "      <td>9652011.0</td>\n",
       "      <td>13480175.0</td>\n",
       "    </tr>\n",
       "    <tr>\n",
       "      <th>CONSULTANT</th>\n",
       "      <td>10707939.0</td>\n",
       "      <td>6985307.0</td>\n",
       "      <td>17693246.0</td>\n",
       "    </tr>\n",
       "    <tr>\n",
       "      <th>EXECUTIVE</th>\n",
       "      <td>8329918.0</td>\n",
       "      <td>20468201.0</td>\n",
       "      <td>28798119.0</td>\n",
       "    </tr>\n",
       "    <tr>\n",
       "      <th>HOMEMAKER</th>\n",
       "      <td>23831339.0</td>\n",
       "      <td>60956038.0</td>\n",
       "      <td>84787377.0</td>\n",
       "    </tr>\n",
       "    <tr>\n",
       "      <th>INFORMATION REQUESTED</th>\n",
       "      <td>10231903.0</td>\n",
       "      <td>NaN</td>\n",
       "      <td>10231903.0</td>\n",
       "    </tr>\n",
       "    <tr>\n",
       "      <th>INVESTOR</th>\n",
       "      <td>6038114.0</td>\n",
       "      <td>13428109.0</td>\n",
       "      <td>19466223.0</td>\n",
       "    </tr>\n",
       "    <tr>\n",
       "      <th>LAWYER</th>\n",
       "      <td>14198143.0</td>\n",
       "      <td>2482767.0</td>\n",
       "      <td>16680910.0</td>\n",
       "    </tr>\n",
       "    <tr>\n",
       "      <th>OWNER</th>\n",
       "      <td>5322123.0</td>\n",
       "      <td>8342087.0</td>\n",
       "      <td>13664210.0</td>\n",
       "    </tr>\n",
       "    <tr>\n",
       "      <th>PHYSICIAN</th>\n",
       "      <td>14918921.0</td>\n",
       "      <td>13030969.0</td>\n",
       "      <td>27949890.0</td>\n",
       "    </tr>\n",
       "    <tr>\n",
       "      <th>PRESIDENT</th>\n",
       "      <td>10428104.0</td>\n",
       "      <td>19177075.0</td>\n",
       "      <td>29605179.0</td>\n",
       "    </tr>\n",
       "    <tr>\n",
       "      <th>PROFESSOR</th>\n",
       "      <td>9151859.0</td>\n",
       "      <td>960026.0</td>\n",
       "      <td>10111885.0</td>\n",
       "    </tr>\n",
       "    <tr>\n",
       "      <th>REAL ESTATE</th>\n",
       "      <td>2892382.0</td>\n",
       "      <td>7850966.0</td>\n",
       "      <td>10743348.0</td>\n",
       "    </tr>\n",
       "    <tr>\n",
       "      <th>RETIRED</th>\n",
       "      <td>85212969.0</td>\n",
       "      <td>91770280.0</td>\n",
       "      <td>176983249.0</td>\n",
       "    </tr>\n",
       "    <tr>\n",
       "      <th>SELF-EMPLOYED</th>\n",
       "      <td>3413441.0</td>\n",
       "      <td>8241336.0</td>\n",
       "      <td>11654777.0</td>\n",
       "    </tr>\n",
       "  </tbody>\n",
       "</table>\n",
       "</div>"
      ],
      "text/plain": [
       "CAND_PTY_AFFILIATION          DEM         REP          SUM\n",
       "OCCUPATION                                                \n",
       "ATTORNEY               49616201.0  21791814.0   71408015.0\n",
       "C.E.O.                    13500.0  16649148.0   16662648.0\n",
       "CEO                    12693212.0   5913438.0   18606650.0\n",
       "CHAIRMAN                3828164.0   9652011.0   13480175.0\n",
       "CONSULTANT             10707939.0   6985307.0   17693246.0\n",
       "EXECUTIVE               8329918.0  20468201.0   28798119.0\n",
       "HOMEMAKER              23831339.0  60956038.0   84787377.0\n",
       "INFORMATION REQUESTED  10231903.0         NaN   10231903.0\n",
       "INVESTOR                6038114.0  13428109.0   19466223.0\n",
       "LAWYER                 14198143.0   2482767.0   16680910.0\n",
       "OWNER                   5322123.0   8342087.0   13664210.0\n",
       "PHYSICIAN              14918921.0  13030969.0   27949890.0\n",
       "PRESIDENT              10428104.0  19177075.0   29605179.0\n",
       "PROFESSOR               9151859.0    960026.0   10111885.0\n",
       "REAL ESTATE             2892382.0   7850966.0   10743348.0\n",
       "RETIRED                85212969.0  91770280.0  176983249.0\n",
       "SELF-EMPLOYED           3413441.0   8241336.0   11654777.0"
      ]
     },
     "execution_count": 56,
     "metadata": {},
     "output_type": "execute_result"
    }
   ],
   "source": [
    "over_10mm = by_occupation.loc[by_occupation['SUM'] >= 10**7] \n",
    "over_10mm"
   ]
  },
  {
   "cell_type": "markdown",
   "metadata": {
    "slideshow": {
     "slide_type": "slide"
    }
   },
   "source": [
    "* Εδώ βλέπουμε ένα πρόβλημα, όπου το ίδιο επάγγελμα εμφανίζεται με δύο διαφορετικές γραφές: `C.E.O.` και `CEO`.\n",
    "\n",
    "* Μάλιστα αν ψάξουμε παραπάνω τα δεδομένα, θα δούμε ότι υπάρχει και `C.E.O`.\n",
    "\n",
    "* Επίσης και οι περιπτώσεις όπου δεν δόθηκε πληροφορία για το επάγγελμα εμφανίζονται με διαφορετικούς τρόπους.\n",
    "\n",
    "* Για να το διορθώσουμε, μπορούμε να χρησιμοποιήσουμε το παρακάτω ιδίωμα."
   ]
  },
  {
   "cell_type": "code",
   "execution_count": 57,
   "metadata": {
    "slideshow": {
     "slide_type": "fragment"
    }
   },
   "outputs": [],
   "source": [
    "occ_mapping = {\n",
    "    'INFORMATION REQUESTED PER BEST EFFORTS' : 'NOT PROVIDED', \n",
    "    'INFORMATION REQUESTED' : 'NOT PROVIDED',\n",
    "    'C.E.O.': 'CEO',\n",
    "    'C.E.O': 'CEO'\n",
    "}\n",
    "\n",
    "# If no mapping provided, return x\n",
    "f = lambda x: occ_mapping.get(x, x) \n",
    "fec.loc[:, 'OCCUPATION'] = fec.loc[:, 'OCCUPATION'].map(f)"
   ]
  },
  {
   "cell_type": "markdown",
   "metadata": {
    "slideshow": {
     "slide_type": "slide"
    }
   },
   "source": [
    "* Και πάμε πάλι από την αρχή (περίπου)..."
   ]
  },
  {
   "cell_type": "code",
   "execution_count": 58,
   "metadata": {
    "slideshow": {
     "slide_type": "fragment"
    }
   },
   "outputs": [
    {
     "data": {
      "text/html": [
       "<div>\n",
       "<style scoped>\n",
       "    .dataframe tbody tr th:only-of-type {\n",
       "        vertical-align: middle;\n",
       "    }\n",
       "\n",
       "    .dataframe tbody tr th {\n",
       "        vertical-align: top;\n",
       "    }\n",
       "\n",
       "    .dataframe thead th {\n",
       "        text-align: right;\n",
       "    }\n",
       "</style>\n",
       "<table border=\"1\" class=\"dataframe\">\n",
       "  <thead>\n",
       "    <tr style=\"text-align: right;\">\n",
       "      <th>CAND_PTY_AFFILIATION</th>\n",
       "      <th>DEM</th>\n",
       "      <th>REP</th>\n",
       "      <th>SUM</th>\n",
       "    </tr>\n",
       "    <tr>\n",
       "      <th>OCCUPATION</th>\n",
       "      <th></th>\n",
       "      <th></th>\n",
       "      <th></th>\n",
       "    </tr>\n",
       "  </thead>\n",
       "  <tbody>\n",
       "    <tr>\n",
       "      <th>ATTORNEY</th>\n",
       "      <td>49616201.0</td>\n",
       "      <td>21791814.0</td>\n",
       "      <td>71408015.0</td>\n",
       "    </tr>\n",
       "    <tr>\n",
       "      <th>CEO</th>\n",
       "      <td>12717712.0</td>\n",
       "      <td>25054094.0</td>\n",
       "      <td>37771806.0</td>\n",
       "    </tr>\n",
       "    <tr>\n",
       "      <th>CHAIRMAN</th>\n",
       "      <td>3828164.0</td>\n",
       "      <td>9652011.0</td>\n",
       "      <td>13480175.0</td>\n",
       "    </tr>\n",
       "    <tr>\n",
       "      <th>CONSULTANT</th>\n",
       "      <td>10707939.0</td>\n",
       "      <td>6985307.0</td>\n",
       "      <td>17693246.0</td>\n",
       "    </tr>\n",
       "    <tr>\n",
       "      <th>EXECUTIVE</th>\n",
       "      <td>8329918.0</td>\n",
       "      <td>20468201.0</td>\n",
       "      <td>28798119.0</td>\n",
       "    </tr>\n",
       "    <tr>\n",
       "      <th>HOMEMAKER</th>\n",
       "      <td>23831339.0</td>\n",
       "      <td>60956038.0</td>\n",
       "      <td>84787377.0</td>\n",
       "    </tr>\n",
       "    <tr>\n",
       "      <th>INVESTOR</th>\n",
       "      <td>6038114.0</td>\n",
       "      <td>13428109.0</td>\n",
       "      <td>19466223.0</td>\n",
       "    </tr>\n",
       "    <tr>\n",
       "      <th>LAWYER</th>\n",
       "      <td>14198143.0</td>\n",
       "      <td>2482767.0</td>\n",
       "      <td>16680910.0</td>\n",
       "    </tr>\n",
       "    <tr>\n",
       "      <th>NOT PROVIDED</th>\n",
       "      <td>10231903.0</td>\n",
       "      <td>1701689.0</td>\n",
       "      <td>11933592.0</td>\n",
       "    </tr>\n",
       "    <tr>\n",
       "      <th>OWNER</th>\n",
       "      <td>5322123.0</td>\n",
       "      <td>8342087.0</td>\n",
       "      <td>13664210.0</td>\n",
       "    </tr>\n",
       "    <tr>\n",
       "      <th>PHYSICIAN</th>\n",
       "      <td>14918921.0</td>\n",
       "      <td>13030969.0</td>\n",
       "      <td>27949890.0</td>\n",
       "    </tr>\n",
       "    <tr>\n",
       "      <th>PRESIDENT</th>\n",
       "      <td>10428104.0</td>\n",
       "      <td>19177075.0</td>\n",
       "      <td>29605179.0</td>\n",
       "    </tr>\n",
       "    <tr>\n",
       "      <th>PROFESSOR</th>\n",
       "      <td>9151859.0</td>\n",
       "      <td>960026.0</td>\n",
       "      <td>10111885.0</td>\n",
       "    </tr>\n",
       "    <tr>\n",
       "      <th>REAL ESTATE</th>\n",
       "      <td>2892382.0</td>\n",
       "      <td>7850966.0</td>\n",
       "      <td>10743348.0</td>\n",
       "    </tr>\n",
       "    <tr>\n",
       "      <th>RETIRED</th>\n",
       "      <td>85212969.0</td>\n",
       "      <td>91770280.0</td>\n",
       "      <td>176983249.0</td>\n",
       "    </tr>\n",
       "    <tr>\n",
       "      <th>SELF-EMPLOYED</th>\n",
       "      <td>3413441.0</td>\n",
       "      <td>8241336.0</td>\n",
       "      <td>11654777.0</td>\n",
       "    </tr>\n",
       "  </tbody>\n",
       "</table>\n",
       "</div>"
      ],
      "text/plain": [
       "CAND_PTY_AFFILIATION         DEM         REP          SUM\n",
       "OCCUPATION                                               \n",
       "ATTORNEY              49616201.0  21791814.0   71408015.0\n",
       "CEO                   12717712.0  25054094.0   37771806.0\n",
       "CHAIRMAN               3828164.0   9652011.0   13480175.0\n",
       "CONSULTANT            10707939.0   6985307.0   17693246.0\n",
       "EXECUTIVE              8329918.0  20468201.0   28798119.0\n",
       "HOMEMAKER             23831339.0  60956038.0   84787377.0\n",
       "INVESTOR               6038114.0  13428109.0   19466223.0\n",
       "LAWYER                14198143.0   2482767.0   16680910.0\n",
       "NOT PROVIDED          10231903.0   1701689.0   11933592.0\n",
       "OWNER                  5322123.0   8342087.0   13664210.0\n",
       "PHYSICIAN             14918921.0  13030969.0   27949890.0\n",
       "PRESIDENT             10428104.0  19177075.0   29605179.0\n",
       "PROFESSOR              9151859.0    960026.0   10111885.0\n",
       "REAL ESTATE            2892382.0   7850966.0   10743348.0\n",
       "RETIRED               85212969.0  91770280.0  176983249.0\n",
       "SELF-EMPLOYED          3413441.0   8241336.0   11654777.0"
      ]
     },
     "execution_count": 58,
     "metadata": {},
     "output_type": "execute_result"
    }
   ],
   "source": [
    "by_occupation = fec.pivot_table(index='OCCUPATION', \n",
    "                                columns='CAND_PTY_AFFILIATION',\n",
    "                                values='TRANSACTION_AMT',\n",
    "                                aggfunc='sum')\n",
    "by_occupation['SUM'] = by_occupation.sum(axis=1)\n",
    "over_10mm = by_occupation.loc[by_occupation['SUM'] >= 10**7] \n",
    "over_10mm"
   ]
  },
  {
   "cell_type": "markdown",
   "metadata": {
    "slideshow": {
     "slide_type": "slide"
    }
   },
   "source": [
    "* Ή μπορούμε να τα ταξινομήσουμε σε φθίνουσα σειρά των συνολικών ποσών."
   ]
  },
  {
   "cell_type": "code",
   "execution_count": 59,
   "metadata": {
    "slideshow": {
     "slide_type": "fragment"
    }
   },
   "outputs": [
    {
     "data": {
      "text/html": [
       "<div>\n",
       "<style scoped>\n",
       "    .dataframe tbody tr th:only-of-type {\n",
       "        vertical-align: middle;\n",
       "    }\n",
       "\n",
       "    .dataframe tbody tr th {\n",
       "        vertical-align: top;\n",
       "    }\n",
       "\n",
       "    .dataframe thead th {\n",
       "        text-align: right;\n",
       "    }\n",
       "</style>\n",
       "<table border=\"1\" class=\"dataframe\">\n",
       "  <thead>\n",
       "    <tr style=\"text-align: right;\">\n",
       "      <th>CAND_PTY_AFFILIATION</th>\n",
       "      <th>DEM</th>\n",
       "      <th>REP</th>\n",
       "      <th>SUM</th>\n",
       "    </tr>\n",
       "    <tr>\n",
       "      <th>OCCUPATION</th>\n",
       "      <th></th>\n",
       "      <th></th>\n",
       "      <th></th>\n",
       "    </tr>\n",
       "  </thead>\n",
       "  <tbody>\n",
       "    <tr>\n",
       "      <th>RETIRED</th>\n",
       "      <td>85212969.0</td>\n",
       "      <td>91770280.0</td>\n",
       "      <td>176983249.0</td>\n",
       "    </tr>\n",
       "    <tr>\n",
       "      <th>HOMEMAKER</th>\n",
       "      <td>23831339.0</td>\n",
       "      <td>60956038.0</td>\n",
       "      <td>84787377.0</td>\n",
       "    </tr>\n",
       "    <tr>\n",
       "      <th>ATTORNEY</th>\n",
       "      <td>49616201.0</td>\n",
       "      <td>21791814.0</td>\n",
       "      <td>71408015.0</td>\n",
       "    </tr>\n",
       "    <tr>\n",
       "      <th>CEO</th>\n",
       "      <td>12717712.0</td>\n",
       "      <td>25054094.0</td>\n",
       "      <td>37771806.0</td>\n",
       "    </tr>\n",
       "    <tr>\n",
       "      <th>PRESIDENT</th>\n",
       "      <td>10428104.0</td>\n",
       "      <td>19177075.0</td>\n",
       "      <td>29605179.0</td>\n",
       "    </tr>\n",
       "    <tr>\n",
       "      <th>EXECUTIVE</th>\n",
       "      <td>8329918.0</td>\n",
       "      <td>20468201.0</td>\n",
       "      <td>28798119.0</td>\n",
       "    </tr>\n",
       "    <tr>\n",
       "      <th>PHYSICIAN</th>\n",
       "      <td>14918921.0</td>\n",
       "      <td>13030969.0</td>\n",
       "      <td>27949890.0</td>\n",
       "    </tr>\n",
       "    <tr>\n",
       "      <th>INVESTOR</th>\n",
       "      <td>6038114.0</td>\n",
       "      <td>13428109.0</td>\n",
       "      <td>19466223.0</td>\n",
       "    </tr>\n",
       "    <tr>\n",
       "      <th>CONSULTANT</th>\n",
       "      <td>10707939.0</td>\n",
       "      <td>6985307.0</td>\n",
       "      <td>17693246.0</td>\n",
       "    </tr>\n",
       "    <tr>\n",
       "      <th>LAWYER</th>\n",
       "      <td>14198143.0</td>\n",
       "      <td>2482767.0</td>\n",
       "      <td>16680910.0</td>\n",
       "    </tr>\n",
       "    <tr>\n",
       "      <th>OWNER</th>\n",
       "      <td>5322123.0</td>\n",
       "      <td>8342087.0</td>\n",
       "      <td>13664210.0</td>\n",
       "    </tr>\n",
       "    <tr>\n",
       "      <th>CHAIRMAN</th>\n",
       "      <td>3828164.0</td>\n",
       "      <td>9652011.0</td>\n",
       "      <td>13480175.0</td>\n",
       "    </tr>\n",
       "    <tr>\n",
       "      <th>NOT PROVIDED</th>\n",
       "      <td>10231903.0</td>\n",
       "      <td>1701689.0</td>\n",
       "      <td>11933592.0</td>\n",
       "    </tr>\n",
       "    <tr>\n",
       "      <th>SELF-EMPLOYED</th>\n",
       "      <td>3413441.0</td>\n",
       "      <td>8241336.0</td>\n",
       "      <td>11654777.0</td>\n",
       "    </tr>\n",
       "    <tr>\n",
       "      <th>REAL ESTATE</th>\n",
       "      <td>2892382.0</td>\n",
       "      <td>7850966.0</td>\n",
       "      <td>10743348.0</td>\n",
       "    </tr>\n",
       "    <tr>\n",
       "      <th>PROFESSOR</th>\n",
       "      <td>9151859.0</td>\n",
       "      <td>960026.0</td>\n",
       "      <td>10111885.0</td>\n",
       "    </tr>\n",
       "  </tbody>\n",
       "</table>\n",
       "</div>"
      ],
      "text/plain": [
       "CAND_PTY_AFFILIATION         DEM         REP          SUM\n",
       "OCCUPATION                                               \n",
       "RETIRED               85212969.0  91770280.0  176983249.0\n",
       "HOMEMAKER             23831339.0  60956038.0   84787377.0\n",
       "ATTORNEY              49616201.0  21791814.0   71408015.0\n",
       "CEO                   12717712.0  25054094.0   37771806.0\n",
       "PRESIDENT             10428104.0  19177075.0   29605179.0\n",
       "EXECUTIVE              8329918.0  20468201.0   28798119.0\n",
       "PHYSICIAN             14918921.0  13030969.0   27949890.0\n",
       "INVESTOR               6038114.0  13428109.0   19466223.0\n",
       "CONSULTANT            10707939.0   6985307.0   17693246.0\n",
       "LAWYER                14198143.0   2482767.0   16680910.0\n",
       "OWNER                  5322123.0   8342087.0   13664210.0\n",
       "CHAIRMAN               3828164.0   9652011.0   13480175.0\n",
       "NOT PROVIDED          10231903.0   1701689.0   11933592.0\n",
       "SELF-EMPLOYED          3413441.0   8241336.0   11654777.0\n",
       "REAL ESTATE            2892382.0   7850966.0   10743348.0\n",
       "PROFESSOR              9151859.0    960026.0   10111885.0"
      ]
     },
     "execution_count": 59,
     "metadata": {},
     "output_type": "execute_result"
    }
   ],
   "source": [
    "over_10mm.sort_values(by='SUM', ascending=False)"
   ]
  },
  {
   "cell_type": "markdown",
   "metadata": {
    "slideshow": {
     "slide_type": "slide"
    }
   },
   "source": [
    "* Ίσως είναι πιο εύκολο να δούμε τι συμβαίνει με ένα διάγραμμα."
   ]
  },
  {
   "cell_type": "code",
   "execution_count": 60,
   "metadata": {
    "slideshow": {
     "slide_type": "fragment"
    }
   },
   "outputs": [
    {
     "data": {
      "image/png": "[encoded data removed]",
      "text/plain": [
       "<Figure size 720x576 with 1 Axes>"
      ]
     },
     "metadata": {},
     "output_type": "display_data"
    }
   ],
   "source": [
    "_ = over_10mm.sort_values(by='SUM', ascending=True)[['DEM', 'REP']].\\\n",
    "    plot(kind='barh', color=('deepskyblue', 'salmon'), figsize=(10, 8))"
   ]
  },
  {
   "cell_type": "markdown",
   "metadata": {
    "slideshow": {
     "slide_type": "slide"
    }
   },
   "source": [
    "* Μπορεί να έχει ενδιαφέρον να δούμε και ποσοστιαία τις δωρεές ανά επάγγελμα.\n",
    "\n",
    "* Για να το κάνουμε αυτό θα πρέπει να διαιρέσουμε κάθε στοιχείο των δύο πρώτων στηλών με την τρίτη στήλη (άθροισμα).\n",
    "\n",
    "* Αφού η διαίρεση θα γίνει από πάνω προς τα κάτω, θα κινηθούμε κατά τον άξονα 0 (`axis=0`)."
   ]
  },
  {
   "cell_type": "code",
   "execution_count": 61,
   "metadata": {
    "slideshow": {
     "slide_type": "fragment"
    }
   },
   "outputs": [
    {
     "data": {
      "text/html": [
       "<div>\n",
       "<style scoped>\n",
       "    .dataframe tbody tr th:only-of-type {\n",
       "        vertical-align: middle;\n",
       "    }\n",
       "\n",
       "    .dataframe tbody tr th {\n",
       "        vertical-align: top;\n",
       "    }\n",
       "\n",
       "    .dataframe thead th {\n",
       "        text-align: right;\n",
       "    }\n",
       "</style>\n",
       "<table border=\"1\" class=\"dataframe\">\n",
       "  <thead>\n",
       "    <tr style=\"text-align: right;\">\n",
       "      <th>CAND_PTY_AFFILIATION</th>\n",
       "      <th>DEM</th>\n",
       "      <th>REP</th>\n",
       "    </tr>\n",
       "    <tr>\n",
       "      <th>OCCUPATION</th>\n",
       "      <th></th>\n",
       "      <th></th>\n",
       "    </tr>\n",
       "  </thead>\n",
       "  <tbody>\n",
       "    <tr>\n",
       "      <th>ATTORNEY</th>\n",
       "      <td>0.694827</td>\n",
       "      <td>0.305173</td>\n",
       "    </tr>\n",
       "    <tr>\n",
       "      <th>CEO</th>\n",
       "      <td>0.336699</td>\n",
       "      <td>0.663301</td>\n",
       "    </tr>\n",
       "    <tr>\n",
       "      <th>CHAIRMAN</th>\n",
       "      <td>0.283985</td>\n",
       "      <td>0.716015</td>\n",
       "    </tr>\n",
       "    <tr>\n",
       "      <th>CONSULTANT</th>\n",
       "      <td>0.605199</td>\n",
       "      <td>0.394801</td>\n",
       "    </tr>\n",
       "    <tr>\n",
       "      <th>EXECUTIVE</th>\n",
       "      <td>0.289252</td>\n",
       "      <td>0.710748</td>\n",
       "    </tr>\n",
       "    <tr>\n",
       "      <th>HOMEMAKER</th>\n",
       "      <td>0.281072</td>\n",
       "      <td>0.718928</td>\n",
       "    </tr>\n",
       "    <tr>\n",
       "      <th>INVESTOR</th>\n",
       "      <td>0.310184</td>\n",
       "      <td>0.689816</td>\n",
       "    </tr>\n",
       "    <tr>\n",
       "      <th>LAWYER</th>\n",
       "      <td>0.851161</td>\n",
       "      <td>0.148839</td>\n",
       "    </tr>\n",
       "    <tr>\n",
       "      <th>NOT PROVIDED</th>\n",
       "      <td>0.857403</td>\n",
       "      <td>0.142597</td>\n",
       "    </tr>\n",
       "    <tr>\n",
       "      <th>OWNER</th>\n",
       "      <td>0.389494</td>\n",
       "      <td>0.610506</td>\n",
       "    </tr>\n",
       "    <tr>\n",
       "      <th>PHYSICIAN</th>\n",
       "      <td>0.533774</td>\n",
       "      <td>0.466226</td>\n",
       "    </tr>\n",
       "    <tr>\n",
       "      <th>PRESIDENT</th>\n",
       "      <td>0.352239</td>\n",
       "      <td>0.647761</td>\n",
       "    </tr>\n",
       "    <tr>\n",
       "      <th>PROFESSOR</th>\n",
       "      <td>0.905060</td>\n",
       "      <td>0.094940</td>\n",
       "    </tr>\n",
       "    <tr>\n",
       "      <th>REAL ESTATE</th>\n",
       "      <td>0.269225</td>\n",
       "      <td>0.730775</td>\n",
       "    </tr>\n",
       "    <tr>\n",
       "      <th>RETIRED</th>\n",
       "      <td>0.481475</td>\n",
       "      <td>0.518525</td>\n",
       "    </tr>\n",
       "    <tr>\n",
       "      <th>SELF-EMPLOYED</th>\n",
       "      <td>0.292879</td>\n",
       "      <td>0.707121</td>\n",
       "    </tr>\n",
       "  </tbody>\n",
       "</table>\n",
       "</div>"
      ],
      "text/plain": [
       "CAND_PTY_AFFILIATION       DEM       REP\n",
       "OCCUPATION                              \n",
       "ATTORNEY              0.694827  0.305173\n",
       "CEO                   0.336699  0.663301\n",
       "CHAIRMAN              0.283985  0.716015\n",
       "CONSULTANT            0.605199  0.394801\n",
       "EXECUTIVE             0.289252  0.710748\n",
       "HOMEMAKER             0.281072  0.718928\n",
       "INVESTOR              0.310184  0.689816\n",
       "LAWYER                0.851161  0.148839\n",
       "NOT PROVIDED          0.857403  0.142597\n",
       "OWNER                 0.389494  0.610506\n",
       "PHYSICIAN             0.533774  0.466226\n",
       "PRESIDENT             0.352239  0.647761\n",
       "PROFESSOR             0.905060  0.094940\n",
       "REAL ESTATE           0.269225  0.730775\n",
       "RETIRED               0.481475  0.518525\n",
       "SELF-EMPLOYED         0.292879  0.707121"
      ]
     },
     "execution_count": 61,
     "metadata": {},
     "output_type": "execute_result"
    }
   ],
   "source": [
    "over_10mm_pct = over_10mm[['DEM', 'REP']].div(over_10mm['SUM'], axis=0)\n",
    "over_10mm_pct"
   ]
  },
  {
   "cell_type": "markdown",
   "metadata": {
    "slideshow": {
     "slide_type": "slide"
    }
   },
   "source": [
    "* Και το αντίστοιχο διάγραμμα, όπου αφού έχουμε ποσοστά, όλες οι μπάρες αθροίζουν στο ένα."
   ]
  },
  {
   "cell_type": "code",
   "execution_count": 62,
   "metadata": {
    "slideshow": {
     "slide_type": "fragment"
    }
   },
   "outputs": [
    {
     "data": {
      "text/plain": [
       "<matplotlib.legend.Legend at 0x226de958850>"
      ]
     },
     "execution_count": 62,
     "metadata": {},
     "output_type": "execute_result"
    },
    {
     "data": {
      "image/png": "[encoded data removed]",
      "text/plain": [
       "<Figure size 720x576 with 1 Axes>"
      ]
     },
     "metadata": {},
     "output_type": "display_data"
    }
   ],
   "source": [
    "_ = over_10mm_pct.plot(kind='barh', color=('deepskyblue', 'salmon'), stacked=True, figsize=(10, 8))\n",
    "plt.xlim((0, 1))\n",
    "plt.legend(loc='center left', bbox_to_anchor=(1.01, 0.5))"
   ]
  },
  {
   "cell_type": "markdown",
   "metadata": {
    "slideshow": {
     "slide_type": "slide"
    }
   },
   "source": [
    "* Και αφού είδαμε τη σχέση επαγγελμάτων με υποστήριξη σε συγκεκριμένα κόμματα, ας επιστρέψουμε σε ένα πιο βασικό ερώτημα.\n",
    "\n",
    "* Πόσα χρήματα συγκέντρωσε ο κάθε υποψήφιος;"
   ]
  },
  {
   "cell_type": "code",
   "execution_count": 63,
   "metadata": {
    "slideshow": {
     "slide_type": "fragment"
    }
   },
   "outputs": [
    {
     "data": {
      "text/html": [
       "<div>\n",
       "<style scoped>\n",
       "    .dataframe tbody tr th:only-of-type {\n",
       "        vertical-align: middle;\n",
       "    }\n",
       "\n",
       "    .dataframe tbody tr th {\n",
       "        vertical-align: top;\n",
       "    }\n",
       "\n",
       "    .dataframe thead th {\n",
       "        text-align: right;\n",
       "    }\n",
       "</style>\n",
       "<table border=\"1\" class=\"dataframe\">\n",
       "  <thead>\n",
       "    <tr style=\"text-align: right;\">\n",
       "      <th></th>\n",
       "      <th>TRANSACTION_AMT</th>\n",
       "    </tr>\n",
       "    <tr>\n",
       "      <th>CAND_NAME</th>\n",
       "      <th></th>\n",
       "    </tr>\n",
       "  </thead>\n",
       "  <tbody>\n",
       "    <tr>\n",
       "      <th>OBAMA, BARACK</th>\n",
       "      <td>562711400.0</td>\n",
       "    </tr>\n",
       "    <tr>\n",
       "      <th>ROMNEY, MITT</th>\n",
       "      <td>659176427.0</td>\n",
       "    </tr>\n",
       "  </tbody>\n",
       "</table>\n",
       "</div>"
      ],
      "text/plain": [
       "               TRANSACTION_AMT\n",
       "CAND_NAME                     \n",
       "OBAMA, BARACK      562711400.0\n",
       "ROMNEY, MITT       659176427.0"
      ]
     },
     "execution_count": 63,
     "metadata": {},
     "output_type": "execute_result"
    }
   ],
   "source": [
    "fec.groupby('CAND_NAME').sum()"
   ]
  },
  {
   "cell_type": "markdown",
   "metadata": {
    "slideshow": {
     "slide_type": "slide"
    }
   },
   "source": [
    "* Αυτό είναι πολύ παράδοξο.\n",
    "\n",
    "* Ο Mitt Romney φαίνεται να συγκέντρωσε περισσότερα χρήματα από τον Barack Obama.\n",
    "\n",
    "* Δεν είναι αυτό που περιμέναμε, και επιπλέον δεν είναι αυτό που βρίσκουμε αν ανατρέξουμε σε αναρτήσεις στο διαδίκτυο σε σχέση με τις εκλογές του 2012.\n",
    "\n",
    "* Συμπέρασμα: *Ελέγξτε και ξανα-ελέγξτε τα δεδομένα σας!* Αλλιώς μπορείτε να πείτε ό,τι θέλετε, να φαίνεται όσο πειστικό θέλετε, αλλά να μην έχει σχέση με την πραγματικότητα."
   ]
  }
 ],
 "metadata": {
  "celltoolbar": "Slideshow",
  "kernelspec": {
   "display_name": "Python 3 (ipykernel)",
   "language": "python",
   "name": "python3"
  },
  "language_info": {
   "codemirror_mode": {
    "name": "ipython",
    "version": 3
   },
   "file_extension": ".py",
   "mimetype": "text/x-python",
   "name": "python",
   "nbconvert_exporter": "python",
   "pygments_lexer": "ipython3",
   "version": "3.9.7"
  }
 },
 "nbformat": 4,
 "nbformat_minor": 1
}
