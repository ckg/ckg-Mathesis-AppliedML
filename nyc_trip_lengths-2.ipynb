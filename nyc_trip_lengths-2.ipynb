{
 "cells": [
  {
   "cell_type": "markdown",
   "metadata": {
    "slideshow": {
     "slide_type": "slide"
    }
   },
   "source": [
    "# Πάει Μακριά η Βαλίτσα;\n",
    "\n",
    "* Εμπνευσμένο από το κεφάλαιο 2 του βιβλίου του Cyrille Rossant, Learning IPython for Interactive Computing and Data Visualization, 2η έκδοση, Packt Publishing, 2015.\n",
    "\n",
    "> Πάνος Λουρίδας, Αναπληρωτής Καθηγητής <br />\n",
    "> Τμήμα Διοικητικής Επιστήμης και Τεχνολογίας <br />\n",
    "> Οικονομικό Πανεπιστήμιο Αθηνών <br />\n",
    "> louridas@aueb.gr"
   ]
  },
  {
   "cell_type": "code",
   "execution_count": null,
   "metadata": {
    "slideshow": {
     "slide_type": "slide"
    }
   },
   "outputs": [
    {
     "ename": "",
     "evalue": "",
     "output_type": "error",
     "traceback": [
      "\u001b[1;31mThe kernel failed to start as a dll could not be loaded. \n",
      "View Jupyter <a href='command:jupyter.viewOutput'>log</a> for further details.\n",
      "<a href='https://aka.ms/kernelFailuresDllLoad'>Learn more</a>"
     ]
    }
   ],
   "source": [
    "import numpy as np\n",
    "import pandas as pd\n",
    "import matplotlib.pyplot as plt"
   ]
  },
  {
   "cell_type": "markdown",
   "metadata": {
    "slideshow": {
     "slide_type": "slide"
    }
   },
   "source": [
    "* Αρχίζουμε διαβάζοντας τα δεδομένα."
   ]
  },
  {
   "cell_type": "code",
   "execution_count": null,
   "metadata": {
    "slideshow": {
     "slide_type": "fragment"
    }
   },
   "outputs": [],
   "source": [
    "data_filename = 'nyc_taxi/nyc_data.csv'\n",
    "data = pd.read_csv(data_filename)"
   ]
  },
  {
   "cell_type": "markdown",
   "metadata": {
    "slideshow": {
     "slide_type": "slide"
    }
   },
   "source": [
    "* Έχουμε δει πώς να πάρουμε μια γενική εικόνα των τιμών ενός `DataFrame`  μέσω της μεθόδου `describe()`.\n",
    "\n",
    "* Μπορούμε να διερευνήσουμε και τις τιμές συγκεκριμένης στήλης, καλώντας τις κατάλληλες μεθόδους στο αντικείμενο `Series`."
   ]
  },
  {
   "cell_type": "code",
   "execution_count": null,
   "metadata": {
    "slideshow": {
     "slide_type": "fragment"
    }
   },
   "outputs": [
    {
     "data": {
      "text/plain": [
       "(846945, 0.0, 6005123.0)"
      ]
     },
     "execution_count": 6,
     "metadata": {},
     "output_type": "execute_result"
    }
   ],
   "source": [
    "data['trip_distance'].count(), data['trip_distance'].min(), data['trip_distance'].max()"
   ]
  },
  {
   "cell_type": "code",
   "execution_count": null,
   "metadata": {},
   "outputs": [
    {
     "data": {
      "text/plain": [
       "count    8.469450e+05\n",
       "mean     9.958211e+00\n",
       "std      6.525205e+03\n",
       "min      0.000000e+00\n",
       "25%      1.050000e+00\n",
       "50%      1.800000e+00\n",
       "75%      3.200000e+00\n",
       "max      6.005123e+06\n",
       "Name: trip_distance, dtype: float64"
      ]
     },
     "execution_count": 7,
     "metadata": {},
     "output_type": "execute_result"
    }
   ],
   "source": [
    "data['trip_distance'].describe()"
   ]
  },
  {
   "cell_type": "markdown",
   "metadata": {
    "slideshow": {
     "slide_type": "slide"
    }
   },
   "source": [
    "* Ή ακόμα:"
   ]
  },
  {
   "cell_type": "code",
   "execution_count": null,
   "metadata": {
    "slideshow": {
     "slide_type": "fragment"
    }
   },
   "outputs": [
    {
     "data": {
      "text/plain": [
       "(9.958211076280044, 1.8, 6525.204888168032)"
      ]
     },
     "execution_count": 8,
     "metadata": {},
     "output_type": "execute_result"
    }
   ],
   "source": [
    "data['trip_distance'].mean(), data['trip_distance'].median(), data['trip_distance'].std()"
   ]
  },
  {
   "cell_type": "markdown",
   "metadata": {
    "collapsed": true,
    "slideshow": {
     "slide_type": "slide"
    }
   },
   "source": [
    "* Αν η μέση απόσταση είναι περίπου 3,5 μίλια και η διάμεσος είναι 1,8 μίλια, ποια είναι η τυπική, δηλαδή η πιο συνηθισμένη απόσταση μιας διαδρομής;"
   ]
  },
  {
   "cell_type": "code",
   "execution_count": null,
   "metadata": {
    "slideshow": {
     "slide_type": "fragment"
    }
   },
   "outputs": [
    {
     "data": {
      "text/plain": [
       "0    1.0\n",
       "Name: trip_distance, dtype: float64"
      ]
     },
     "execution_count": 9,
     "metadata": {},
     "output_type": "execute_result"
    }
   ],
   "source": [
    "data['trip_distance'].mode()"
   ]
  },
  {
   "cell_type": "markdown",
   "metadata": {
    "slideshow": {
     "slide_type": "slide"
    }
   },
   "source": [
    "* Και ποιες είναι οι δέκα πιο συνηθισμένες αποστάσεις;\n",
    "\n",
    "* Η μέθοδος`value_counts()` μετράει κάθε διαφορετική τιμή και τις παραθέτει σε φθίνουσα σειρά.\n",
    "\n",
    "* Αν θέλαμε αύξουσα σειρά, θα περνάγαμε την παράμετρο `ascending=True`."
   ]
  },
  {
   "cell_type": "code",
   "execution_count": null,
   "metadata": {
    "slideshow": {
     "slide_type": "fragment"
    }
   },
   "outputs": [
    {
     "data": {
      "text/plain": [
       "1.00     21815\n",
       "0.90     18915\n",
       "0.80     18449\n",
       "1.10     18263\n",
       "1.20     17823\n",
       "         ...  \n",
       "28.21        1\n",
       "41.80        1\n",
       "26.96        1\n",
       "24.29        1\n",
       "31.08        1\n",
       "Name: trip_distance, Length: 2648, dtype: int64"
      ]
     },
     "execution_count": 10,
     "metadata": {},
     "output_type": "execute_result"
    }
   ],
   "source": [
    "data['trip_distance'].value_counts()"
   ]
  },
  {
   "cell_type": "markdown",
   "metadata": {
    "slideshow": {
     "slide_type": "slide"
    }
   },
   "source": [
    "* Όπως βλέπουμε, υπάρχουν χιλιάδες διαφορετικές τιμές. \n",
    "\n",
    "* Έστω ότι θέλουμε να πάρουμε τις δέκα πιο συνηθισμένες.\n",
    "\n",
    "* Μπορούμε να δοκιμάσουμε με το συνηθισμένο συντακτικό της Python."
   ]
  },
  {
   "cell_type": "code",
   "execution_count": null,
   "metadata": {
    "slideshow": {
     "slide_type": "fragment"
    }
   },
   "outputs": [
    {
     "data": {
      "text/plain": [
       "1.00     21815\n",
       "0.90     18915\n",
       "0.80     18449\n",
       "1.10     18263\n",
       "1.20     17823\n",
       "         ...  \n",
       "7.30       624\n",
       "2.73       622\n",
       "2.74       616\n",
       "2.75       614\n",
       "10.00      612\n",
       "Name: trip_distance, Length: 288, dtype: int64"
      ]
     },
     "execution_count": 11,
     "metadata": {},
     "output_type": "execute_result"
    }
   ],
   "source": [
    "data['trip_distance'].value_counts()[:10]"
   ]
  },
  {
   "cell_type": "markdown",
   "metadata": {
    "slideshow": {
     "slide_type": "slide"
    }
   },
   "source": [
    "* Το αποτέλεσμα δεν είναι αυτό που περιμέναμε.\n",
    "\n",
    "* Ο λόγος είναι ότι μας επιστρέφει τις τιμές μέχρι να βρει τη γραμμή με *ετικέτα* (label) ίση με 10.\n",
    "\n",
    "* Εμείς όμως θέλουμε απλώς τις πρώτες 10 στη σειρά, με βάση τη θέση τους.\n",
    "\n",
    "* Για να επιλέξουμε γραμμές με βάση τη θέση τους χρησιμοποιούμε το `iloc[]`."
   ]
  },
  {
   "cell_type": "code",
   "execution_count": null,
   "metadata": {
    "slideshow": {
     "slide_type": "fragment"
    }
   },
   "outputs": [
    {
     "data": {
      "text/plain": [
       "1.0    21815\n",
       "0.9    18915\n",
       "0.8    18449\n",
       "1.1    18263\n",
       "1.2    17823\n",
       "0.7    17155\n",
       "1.3    16779\n",
       "1.4    16021\n",
       "1.5    15070\n",
       "0.6    14769\n",
       "Name: trip_distance, dtype: int64"
      ]
     },
     "execution_count": 12,
     "metadata": {},
     "output_type": "execute_result"
    }
   ],
   "source": [
    "data['trip_distance'].value_counts().iloc[:10]"
   ]
  },
  {
   "cell_type": "markdown",
   "metadata": {
    "slideshow": {
     "slide_type": "slide"
    }
   },
   "source": [
    "* Το συμμετρικό του `iloc[]` για επιλογή με βάση την ετικέτα είναι το `loc[]` (που όπως είδαμε δεν βγάζει το αποτέλεσμα που θέλουμε στην περίπτωσή μας)."
   ]
  },
  {
   "cell_type": "code",
   "execution_count": null,
   "metadata": {
    "slideshow": {
     "slide_type": "fragment"
    }
   },
   "outputs": [
    {
     "data": {
      "text/plain": [
       "1.00     21815\n",
       "0.90     18915\n",
       "0.80     18449\n",
       "1.10     18263\n",
       "1.20     17823\n",
       "         ...  \n",
       "7.30       624\n",
       "2.73       622\n",
       "2.74       616\n",
       "2.75       614\n",
       "10.00      612\n",
       "Name: trip_distance, Length: 288, dtype: int64"
      ]
     },
     "execution_count": 13,
     "metadata": {},
     "output_type": "execute_result"
    }
   ],
   "source": [
    "data['trip_distance'].value_counts().loc[:10]"
   ]
  },
  {
   "cell_type": "markdown",
   "metadata": {
    "slideshow": {
     "slide_type": "slide"
    }
   },
   "source": [
    "* Ας φτιάξουμε ένα διάγραμμα για να δούμε τις αποστάσεις.\n",
    "\n",
    "* Το διάγραμμα θα είναι ένα ιστόγραμμα (histogram).\n",
    "\n",
    "* Αυτό μπορούμε να το φτιάξουμε κατ' ευθείαν μέσα από το pandas."
   ]
  },
  {
   "cell_type": "code",
   "execution_count": null,
   "metadata": {
    "slideshow": {
     "slide_type": "slide"
    }
   },
   "outputs": [
    {
     "data": {
      "text/plain": [
       "<AxesSubplot:>"
      ]
     },
     "execution_count": 14,
     "metadata": {},
     "output_type": "execute_result"
    },
    {
     "data": {
      "image/png": "[encoded data removed]",
      "text/plain": [
       "<Figure size 720x576 with 1 Axes>"
      ]
     },
     "metadata": {
      "needs_background": "light"
     },
     "output_type": "display_data"
    }
   ],
   "source": [
    "data.trip_distance.hist(color='blue', edgecolor='black', alpha=0.5, figsize=(10, 8))"
   ]
  },
  {
   "cell_type": "markdown",
   "metadata": {
    "slideshow": {
     "slide_type": "slide"
    }
   },
   "source": [
    "* Το αποτέλεσμα δεν είναι μάλλον αυτό που θέλαμε.\n",
    "\n",
    "* Ο λόγος είναι ότι υπάρχουν διαδρομές με έκτοπες τιμές (outliers), όπως 950.000 μίλια.\n",
    "\n",
    "* Μάλλον έχει νόημα να περιορίσουμε το ιστόγραμμα στις διαδρομές από 0 έως 10 μίλια."
   ]
  },
  {
   "cell_type": "markdown",
   "metadata": {
    "slideshow": {
     "slide_type": "slide"
    }
   },
   "source": [
    "* Για να το κάνουμε αυτό, θα πρέπει να ορίσουμε εμείς τους κουβάδες στους οποίους θέλουμε να συλλέξουμε τα δεδομένα στο ιστόγραμμα.\n",
    "\n",
    "* Θα βρούμε 100 τιμές, με τη συνάρτηση `linspace()` της NumPy, για να διαμερίσουμε τα δεδομένα με διαδρομές από 0 έως και 10 μίλια."
   ]
  },
  {
   "cell_type": "code",
   "execution_count": null,
   "metadata": {
    "slideshow": {
     "slide_type": "fragment"
    }
   },
   "outputs": [
    {
     "data": {
      "text/plain": [
       "array([ 0.        ,  0.1010101 ,  0.2020202 ,  0.3030303 ,  0.4040404 ,\n",
       "        0.50505051,  0.60606061,  0.70707071,  0.80808081,  0.90909091,\n",
       "        1.01010101,  1.11111111,  1.21212121,  1.31313131,  1.41414141,\n",
       "        1.51515152,  1.61616162,  1.71717172,  1.81818182,  1.91919192,\n",
       "        2.02020202,  2.12121212,  2.22222222,  2.32323232,  2.42424242,\n",
       "        2.52525253,  2.62626263,  2.72727273,  2.82828283,  2.92929293,\n",
       "        3.03030303,  3.13131313,  3.23232323,  3.33333333,  3.43434343,\n",
       "        3.53535354,  3.63636364,  3.73737374,  3.83838384,  3.93939394,\n",
       "        4.04040404,  4.14141414,  4.24242424,  4.34343434,  4.44444444,\n",
       "        4.54545455,  4.64646465,  4.74747475,  4.84848485,  4.94949495,\n",
       "        5.05050505,  5.15151515,  5.25252525,  5.35353535,  5.45454545,\n",
       "        5.55555556,  5.65656566,  5.75757576,  5.85858586,  5.95959596,\n",
       "        6.06060606,  6.16161616,  6.26262626,  6.36363636,  6.46464646,\n",
       "        6.56565657,  6.66666667,  6.76767677,  6.86868687,  6.96969697,\n",
       "        7.07070707,  7.17171717,  7.27272727,  7.37373737,  7.47474747,\n",
       "        7.57575758,  7.67676768,  7.77777778,  7.87878788,  7.97979798,\n",
       "        8.08080808,  8.18181818,  8.28282828,  8.38383838,  8.48484848,\n",
       "        8.58585859,  8.68686869,  8.78787879,  8.88888889,  8.98989899,\n",
       "        9.09090909,  9.19191919,  9.29292929,  9.39393939,  9.49494949,\n",
       "        9.5959596 ,  9.6969697 ,  9.7979798 ,  9.8989899 , 10.        ])"
      ]
     },
     "execution_count": 15,
     "metadata": {},
     "output_type": "execute_result"
    }
   ],
   "source": [
    "np.linspace(0, 10, 100)"
   ]
  },
  {
   "cell_type": "code",
   "execution_count": null,
   "metadata": {
    "slideshow": {
     "slide_type": "slide"
    }
   },
   "outputs": [
    {
     "data": {
      "text/plain": [
       "<AxesSubplot:>"
      ]
     },
     "execution_count": 16,
     "metadata": {},
     "output_type": "execute_result"
    },
    {
     "data": {
      "image/png": "[encoded data removed]",
      "text/plain": [
       "<Figure size 720x576 with 1 Axes>"
      ]
     },
     "metadata": {
      "needs_background": "light"
     },
     "output_type": "display_data"
    }
   ],
   "source": [
    "data.trip_distance.hist(bins=np.linspace(0, 10, 100), \n",
    "                        color='blue', edgecolor='black', \n",
    "                        alpha=0.5, figsize=(10, 8))"
   ]
  },
  {
   "cell_type": "markdown",
   "metadata": {
    "slideshow": {
     "slide_type": "slide"
    }
   },
   "source": [
    "* Παρατηρούμε ότι στο ιστόγραμμα υπάρχουν κάποια τοπικά μέγιστα (κορυφές).\n",
    "\n",
    "* Για να το διερευνήσουμε αυτό.\n",
    "\n",
    "* Ας μετρήσουμε πόσες διαδρομές μετρήθηκαν σε κάθε κουβά (με μία μικρή διαφορά που εδώ δεν μας πειράζει, στο ιστόγραμμα οι κουβάδες είναι δεξιά κλειστοί-αριστερά ανοιχτοί, ενώ εδώ αντίστροφα)."
   ]
  },
  {
   "cell_type": "code",
   "execution_count": null,
   "metadata": {
    "slideshow": {
     "slide_type": "fragment"
    }
   },
   "outputs": [
    {
     "data": {
      "text/plain": [
       "(0.909, 1.01]     38674\n",
       "(0.808, 0.909]    34089\n",
       "(1.01, 1.111]     33621\n",
       "(1.111, 1.212]    32640\n",
       "(0.707, 0.808]    32540\n",
       "                  ...  \n",
       "(9.798, 9.899]      999\n",
       "(7.879, 7.98]       998\n",
       "(9.697, 9.798]      980\n",
       "(9.596, 9.697]      957\n",
       "(8.283, 8.384]      938\n",
       "Name: trip_distance, Length: 99, dtype: int64"
      ]
     },
     "execution_count": 22,
     "metadata": {},
     "output_type": "execute_result"
    }
   ],
   "source": [
    "data['trip_distance'].value_counts(bins=np.linspace(0, 10, 100), ascending=False)"
   ]
  },
  {
   "cell_type": "markdown",
   "metadata": {
    "slideshow": {
     "slide_type": "slide"
    }
   },
   "source": [
    "* Για να εντοπίσουμε τις κορυφές, πρέπει να συγκρίνουμε τον αριθμό των διαδρομών σε κάθε κουβά με τους αντίστοιχους αριθμούς στους γειτονικούς κουβάδες.\n",
    "\n",
    "* Αυτή τη στιγμή έχουμε τους αριθμούς ταξινομημένους με βάση το πλήθος των διαδρομών.\n",
    "\n",
    "* Θα πρέπει να τους ταξινομήσουμε με βάση τον κουβά, δηλαδή την ετικέτα της κάθε γραμμής του αποτελέσματος της  `value_counts()`.\n",
    "\n",
    "* Ουσιαστικά δηλαδή θέλουμε να ταξινομήσουμε με βάση το ευρετήριο του αποτελέσματος της `value_couns()`."
   ]
  },
  {
   "cell_type": "code",
   "execution_count": null,
   "metadata": {
    "slideshow": {
     "slide_type": "fragment"
    }
   },
   "outputs": [
    {
     "data": {
      "text/plain": [
       "(-0.001, 0.101]     6392\n",
       "(0.101, 0.202]      3620\n",
       "(0.202, 0.303]      6394\n",
       "(0.303, 0.404]     11829\n",
       "(0.404, 0.505]     18405\n",
       "                   ...  \n",
       "(9.495, 9.596]      1043\n",
       "(9.596, 9.697]       957\n",
       "(9.697, 9.798]       980\n",
       "(9.798, 9.899]       999\n",
       "(9.899, 10.0]       1589\n",
       "Name: trip_distance, Length: 99, dtype: int64"
      ]
     },
     "execution_count": 18,
     "metadata": {},
     "output_type": "execute_result"
    }
   ],
   "source": [
    "trip_distance_counts = data['trip_distance'].value_counts(bins=np.linspace(0, 10, 100)).sort_index()\n",
    "trip_distance_counts"
   ]
  },
  {
   "cell_type": "markdown",
   "metadata": {
    "slideshow": {
     "slide_type": "slide"
    }
   },
   "source": [
    "* Αφού λοιπόν έχουμε τις μετρήσεις ανά κουβά, με τη σειρά από τον πρώτο κουβά (0 έως 0,10 μίλια) μέχρι τον τελευταίο (9,90 έως 10 μίλια), μπορούμε να βρούμε τις κορυφές συγκρίνοντας τους γείτονες.\n",
    "\n",
    "* Για το σκοπό αυτό μπορούμε να χρησιμοποιήσουμε τη συνάρτηση `find_peaks()` της βιβλιοθήκης [SciPy](https://scipy.org/).\n",
    "\n",
    "* Η συνάρτηση μας επιστρέφει τη θέση των κορυφών και τυχόν επιπλέον τυχόν χαρακτηριστικά που μπορεί να έχουμε ζητήσει (και εμείς τώρα αγνοούμε)."
   ]
  },
  {
   "cell_type": "code",
   "execution_count": null,
   "metadata": {
    "slideshow": {
     "slide_type": "fragment"
    }
   },
   "outputs": [
    {
     "data": {
      "text/plain": [
       "array([ 9, 19, 29, 39, 49, 56, 59, 69, 71, 79, 81, 83, 86, 89, 94],\n",
       "      dtype=int64)"
      ]
     },
     "execution_count": 19,
     "metadata": {},
     "output_type": "execute_result"
    }
   ],
   "source": [
    "from scipy.signal import find_peaks\n",
    "\n",
    "peaks, _ = find_peaks(trip_distance_counts)\n",
    "peaks"
   ]
  },
  {
   "cell_type": "markdown",
   "metadata": {
    "slideshow": {
     "slide_type": "slide"
    }
   },
   "source": [
    "* Πλέον μπορούμε να βρούμε τους κουβάδες που αντιστοιχούν στις κορυφές. \n",
    "\n",
    "* Θα χρησιμοποιήσουμε το `iloc[]` ώστε να εξάγουμε τις γραμμές στις θέσεις των κορυφών."
   ]
  },
  {
   "cell_type": "code",
   "execution_count": null,
   "metadata": {
    "slideshow": {
     "slide_type": "fragment"
    }
   },
   "outputs": [
    {
     "data": {
      "text/plain": [
       "(0.909, 1.01]     38674\n",
       "(1.919, 2.02]     23070\n",
       "(2.929, 3.03]     11247\n",
       "(3.939, 4.04]      6128\n",
       "(4.949, 5.051]     3623\n",
       "(5.657, 5.758]     2402\n",
       "(5.96, 6.061]      2366\n",
       "(6.97, 7.071]      1464\n",
       "(7.172, 7.273]     1285\n",
       "(7.98, 8.081]      1209\n",
       "(8.182, 8.283]     1034\n",
       "(8.384, 8.485]     1013\n",
       "(8.687, 8.788]     1063\n",
       "(8.99, 9.091]      1210\n",
       "(9.495, 9.596]     1043\n",
       "Name: trip_distance, dtype: int64"
      ]
     },
     "execution_count": 20,
     "metadata": {},
     "output_type": "execute_result"
    }
   ],
   "source": [
    "trip_distance_counts.iloc[peaks]"
   ]
  },
  {
   "cell_type": "markdown",
   "metadata": {
    "slideshow": {
     "slide_type": "slide"
    }
   },
   "source": [
    "* Οι περισσότερες κορυφές λοιπόν αντιστοιχούν σε διαδρομές με στρογγυλή απόσταση (1, 2, ..., 8 μίλια)."
   ]
  },
  {
   "cell_type": "code",
   "execution_count": null,
   "metadata": {
    "slideshow": {
     "slide_type": "fragment"
    }
   },
   "outputs": [
    {
     "data": {
      "image/png": "[encoded data removed]",
      "text/plain": [
       "<Figure size 720x576 with 1 Axes>"
      ]
     },
     "metadata": {
      "needs_background": "light"
     },
     "output_type": "display_data"
    }
   ],
   "source": [
    "ax = data.trip_distance.hist(bins=np.linspace(0, 10, 100), \n",
    "                             color='blue', edgecolor='black', \n",
    "                             alpha=0.5, figsize=(10, 8))\n",
    "for i in peaks:\n",
    "    ax.patches[i].set_facecolor('darkorange')"
   ]
  }
 ],
 "metadata": {
  "celltoolbar": "Slideshow",
  "kernelspec": {
   "display_name": "Python 3 (ipykernel)",
   "language": "python",
   "name": "python3"
  },
  "language_info": {
   "codemirror_mode": {
    "name": "ipython",
    "version": 3
   },
   "file_extension": ".py",
   "mimetype": "text/x-python",
   "name": "python",
   "nbconvert_exporter": "python",
   "pygments_lexer": "ipython3",
   "version": "3.9.7"
  }
 },
 "nbformat": 4,
 "nbformat_minor": 1
}
