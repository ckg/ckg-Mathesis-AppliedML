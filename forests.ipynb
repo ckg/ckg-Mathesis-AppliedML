{
 "cells": [
  {
   "cell_type": "markdown",
   "metadata": {
    "slideshow": {
     "slide_type": "slide"
    }
   },
   "source": [
    "# Δένδρα και Δάση\n",
    "\n",
    "\n",
    "---\n",
    "\n",
    "> Πάνος Λουρίδας, Αναπληρωτής Καθηγητής <br />\n",
    "> Τμήμα Διοικητικής Επιστήμης και Τεχνολογίας <br />\n",
    "> Οικονομικό Πανεπιστήμιο Αθηνών <br />\n",
    "> louridas@aueb.gr"
   ]
  },
  {
   "cell_type": "markdown",
   "metadata": {
    "slideshow": {
     "slide_type": "slide"
    }
   },
   "source": [
    "* Μπορούμε να βελτιώσουμε την επίδοση ενός συστήματος Μηχανικής Μάθησης αν, αντί για ένα μοντέλο, χρησιμοποιήσουμε πολλά.\n",
    "\n",
    "* Η βασική ιδέα είναι η *σοφία του πλήθους* (wisdom of crowds).\n",
    "\n",
    "* Συχνά, ο άποψη πολλών ατόμων είναι καλύτερη από την άποψη ενός εμπειρογνώμονα.\n",
    "\n",
    "* Έτσι κι εμείς, μπορούμε αντί για ένα μοντέλο Μηχανικής Μάθησης να εκπαιδεύσουμε πολλά και να συγκεράσουμε τις προβλέψεις τους."
   ]
  },
  {
   "cell_type": "markdown",
   "metadata": {
    "slideshow": {
     "slide_type": "slide"
    }
   },
   "source": [
    "* Ο πιο προφανής ίσως τρόπος να το κάνουμε αυτό είναι να δημιουργήσουμε έναν αριθμό από ανεξάρτητα μεταξύ τους μοντέλα. \n",
    "\n",
    "* Αλλά πώς μπορούμε να το κάνουμε αυτό, αφού έχουμε ένα σύνολο δεδομένων;\n",
    "\n",
    "* Μπορούμε να δημιουργήσουμε «πολλαπλά» σύνολα δεδομένων, με μία τεχνική στην στατιστική η οποία ονομάζεται bootstrap.\n",
    "\n",
    "* Στην τεχνική αυτή, κάνουμε δειγματοληψία με επανάθεση από το σύνολο των δεδομένων μας για να παράξουμε ένα νέο σύνολο, και μετά ένα άλλο νέο σύνολο, κ.λπ.\n",
    "\n",
    "* Εκπαιδεύουμε ένα μοντέλο Μηχανικής Μάθησης σε κάθε ένα από τα σύνολα δεδομένων που έχουμε κατασκευάσει."
   ]
  },
  {
   "cell_type": "markdown",
   "metadata": {
    "slideshow": {
     "slide_type": "slide"
    }
   },
   "source": [
    "* Ας το δούμε στην πράξη, χρησιμοποιώντας τα δεδομένα από τις τιμές σπιτιών στην Καλιφόρνια."
   ]
  },
  {
   "cell_type": "code",
   "execution_count": 14,
   "metadata": {
    "slideshow": {
     "slide_type": "fragment"
    }
   },
   "outputs": [
    {
     "data": {
      "text/html": [
       "<div>\n",
       "<style scoped>\n",
       "    .dataframe tbody tr th:only-of-type {\n",
       "        vertical-align: middle;\n",
       "    }\n",
       "\n",
       "    .dataframe tbody tr th {\n",
       "        vertical-align: top;\n",
       "    }\n",
       "\n",
       "    .dataframe thead th {\n",
       "        text-align: right;\n",
       "    }\n",
       "</style>\n",
       "<table border=\"1\" class=\"dataframe\">\n",
       "  <thead>\n",
       "    <tr style=\"text-align: right;\">\n",
       "      <th></th>\n",
       "      <th>MedInc</th>\n",
       "      <th>HouseAge</th>\n",
       "      <th>AveRooms</th>\n",
       "      <th>AveBedrms</th>\n",
       "      <th>Population</th>\n",
       "      <th>AveOccup</th>\n",
       "      <th>Latitude</th>\n",
       "      <th>Longitude</th>\n",
       "    </tr>\n",
       "  </thead>\n",
       "  <tbody>\n",
       "    <tr>\n",
       "      <th>0</th>\n",
       "      <td>8.3252</td>\n",
       "      <td>41.0</td>\n",
       "      <td>6.984127</td>\n",
       "      <td>1.023810</td>\n",
       "      <td>322.0</td>\n",
       "      <td>2.555556</td>\n",
       "      <td>37.88</td>\n",
       "      <td>-122.23</td>\n",
       "    </tr>\n",
       "    <tr>\n",
       "      <th>1</th>\n",
       "      <td>8.3014</td>\n",
       "      <td>21.0</td>\n",
       "      <td>6.238137</td>\n",
       "      <td>0.971880</td>\n",
       "      <td>2401.0</td>\n",
       "      <td>2.109842</td>\n",
       "      <td>37.86</td>\n",
       "      <td>-122.22</td>\n",
       "    </tr>\n",
       "    <tr>\n",
       "      <th>2</th>\n",
       "      <td>7.2574</td>\n",
       "      <td>52.0</td>\n",
       "      <td>8.288136</td>\n",
       "      <td>1.073446</td>\n",
       "      <td>496.0</td>\n",
       "      <td>2.802260</td>\n",
       "      <td>37.85</td>\n",
       "      <td>-122.24</td>\n",
       "    </tr>\n",
       "    <tr>\n",
       "      <th>3</th>\n",
       "      <td>5.6431</td>\n",
       "      <td>52.0</td>\n",
       "      <td>5.817352</td>\n",
       "      <td>1.073059</td>\n",
       "      <td>558.0</td>\n",
       "      <td>2.547945</td>\n",
       "      <td>37.85</td>\n",
       "      <td>-122.25</td>\n",
       "    </tr>\n",
       "    <tr>\n",
       "      <th>4</th>\n",
       "      <td>3.8462</td>\n",
       "      <td>52.0</td>\n",
       "      <td>6.281853</td>\n",
       "      <td>1.081081</td>\n",
       "      <td>565.0</td>\n",
       "      <td>2.181467</td>\n",
       "      <td>37.85</td>\n",
       "      <td>-122.25</td>\n",
       "    </tr>\n",
       "    <tr>\n",
       "      <th>...</th>\n",
       "      <td>...</td>\n",
       "      <td>...</td>\n",
       "      <td>...</td>\n",
       "      <td>...</td>\n",
       "      <td>...</td>\n",
       "      <td>...</td>\n",
       "      <td>...</td>\n",
       "      <td>...</td>\n",
       "    </tr>\n",
       "    <tr>\n",
       "      <th>20635</th>\n",
       "      <td>1.5603</td>\n",
       "      <td>25.0</td>\n",
       "      <td>5.045455</td>\n",
       "      <td>1.133333</td>\n",
       "      <td>845.0</td>\n",
       "      <td>2.560606</td>\n",
       "      <td>39.48</td>\n",
       "      <td>-121.09</td>\n",
       "    </tr>\n",
       "    <tr>\n",
       "      <th>20636</th>\n",
       "      <td>2.5568</td>\n",
       "      <td>18.0</td>\n",
       "      <td>6.114035</td>\n",
       "      <td>1.315789</td>\n",
       "      <td>356.0</td>\n",
       "      <td>3.122807</td>\n",
       "      <td>39.49</td>\n",
       "      <td>-121.21</td>\n",
       "    </tr>\n",
       "    <tr>\n",
       "      <th>20637</th>\n",
       "      <td>1.7000</td>\n",
       "      <td>17.0</td>\n",
       "      <td>5.205543</td>\n",
       "      <td>1.120092</td>\n",
       "      <td>1007.0</td>\n",
       "      <td>2.325635</td>\n",
       "      <td>39.43</td>\n",
       "      <td>-121.22</td>\n",
       "    </tr>\n",
       "    <tr>\n",
       "      <th>20638</th>\n",
       "      <td>1.8672</td>\n",
       "      <td>18.0</td>\n",
       "      <td>5.329513</td>\n",
       "      <td>1.171920</td>\n",
       "      <td>741.0</td>\n",
       "      <td>2.123209</td>\n",
       "      <td>39.43</td>\n",
       "      <td>-121.32</td>\n",
       "    </tr>\n",
       "    <tr>\n",
       "      <th>20639</th>\n",
       "      <td>2.3886</td>\n",
       "      <td>16.0</td>\n",
       "      <td>5.254717</td>\n",
       "      <td>1.162264</td>\n",
       "      <td>1387.0</td>\n",
       "      <td>2.616981</td>\n",
       "      <td>39.37</td>\n",
       "      <td>-121.24</td>\n",
       "    </tr>\n",
       "  </tbody>\n",
       "</table>\n",
       "<p>20640 rows × 8 columns</p>\n",
       "</div>"
      ],
      "text/plain": [
       "       MedInc  HouseAge  AveRooms  AveBedrms  Population  AveOccup  Latitude  \\\n",
       "0      8.3252      41.0  6.984127   1.023810       322.0  2.555556     37.88   \n",
       "1      8.3014      21.0  6.238137   0.971880      2401.0  2.109842     37.86   \n",
       "2      7.2574      52.0  8.288136   1.073446       496.0  2.802260     37.85   \n",
       "3      5.6431      52.0  5.817352   1.073059       558.0  2.547945     37.85   \n",
       "4      3.8462      52.0  6.281853   1.081081       565.0  2.181467     37.85   \n",
       "...       ...       ...       ...        ...         ...       ...       ...   \n",
       "20635  1.5603      25.0  5.045455   1.133333       845.0  2.560606     39.48   \n",
       "20636  2.5568      18.0  6.114035   1.315789       356.0  3.122807     39.49   \n",
       "20637  1.7000      17.0  5.205543   1.120092      1007.0  2.325635     39.43   \n",
       "20638  1.8672      18.0  5.329513   1.171920       741.0  2.123209     39.43   \n",
       "20639  2.3886      16.0  5.254717   1.162264      1387.0  2.616981     39.37   \n",
       "\n",
       "       Longitude  \n",
       "0        -122.23  \n",
       "1        -122.22  \n",
       "2        -122.24  \n",
       "3        -122.25  \n",
       "4        -122.25  \n",
       "...          ...  \n",
       "20635    -121.09  \n",
       "20636    -121.21  \n",
       "20637    -121.22  \n",
       "20638    -121.32  \n",
       "20639    -121.24  \n",
       "\n",
       "[20640 rows x 8 columns]"
      ]
     },
     "execution_count": 14,
     "metadata": {},
     "output_type": "execute_result"
    }
   ],
   "source": [
    "from sklearn.datasets import fetch_california_housing\n",
    "\n",
    "cal_housing = fetch_california_housing(as_frame=True)\n",
    "cal_housing.data"
   ]
  },
  {
   "cell_type": "markdown",
   "metadata": {
    "slideshow": {
     "slide_type": "slide"
    }
   },
   "source": [
    "* Ο στόχος μας είναι να προβλέψουμε την τιμή του σπιτιού, η οποία μας δίνεται σε εκατοντάδες χιλιάδες δολλάρια."
   ]
  },
  {
   "cell_type": "code",
   "execution_count": 15,
   "metadata": {
    "slideshow": {
     "slide_type": "fragment"
    }
   },
   "outputs": [
    {
     "data": {
      "text/plain": [
       "0        4.526\n",
       "1        3.585\n",
       "2        3.521\n",
       "3        3.413\n",
       "4        3.422\n",
       "         ...  \n",
       "20635    0.781\n",
       "20636    0.771\n",
       "20637    0.923\n",
       "20638    0.847\n",
       "20639    0.894\n",
       "Name: MedHouseVal, Length: 20640, dtype: float64"
      ]
     },
     "execution_count": 15,
     "metadata": {},
     "output_type": "execute_result"
    }
   ],
   "source": [
    "cal_housing.target"
   ]
  },
  {
   "cell_type": "markdown",
   "metadata": {
    "slideshow": {
     "slide_type": "slide"
    }
   },
   "source": [
    "* Για να έχουμε μια ιδέα για τις προβλέψεις μας, ας δούμε τις βασικές μετρικές του στόχου μας:"
   ]
  },
  {
   "cell_type": "code",
   "execution_count": 16,
   "metadata": {
    "slideshow": {
     "slide_type": "fragment"
    }
   },
   "outputs": [
    {
     "data": {
      "text/plain": [
       "count    20640.000000\n",
       "mean         2.068558\n",
       "std          1.153956\n",
       "min          0.149990\n",
       "25%          1.196000\n",
       "50%          1.797000\n",
       "75%          2.647250\n",
       "max          5.000010\n",
       "Name: MedHouseVal, dtype: float64"
      ]
     },
     "execution_count": 16,
     "metadata": {},
     "output_type": "execute_result"
    }
   ],
   "source": [
    "cal_housing.target.describe()"
   ]
  },
  {
   "cell_type": "markdown",
   "metadata": {
    "slideshow": {
     "slide_type": "slide"
    }
   },
   "source": [
    "* Θα ξεκινήσουμε με έναν `DecisionTreeRegressor`.\n",
    "\n",
    "* Θα μετρήσουμε το λάθος με βάση το Μέσο Απόλυτο Λάθος (Mean Absolute Error).\n",
    "\n",
    "* Στο scikit-learn, ως μετρική εμφανίζεται ως `neg_mean_absolute_error` (επειδή συνήθως θέλουμε να το ελαττώσουμε), οπότε θα αλλάζουμε το πρόσημό του."
   ]
  },
  {
   "cell_type": "code",
   "execution_count": 17,
   "metadata": {
    "slideshow": {
     "slide_type": "fragment"
    }
   },
   "outputs": [
    {
     "name": "stdout",
     "output_type": "stream",
     "text": [
      "0.46093347141472873 0.009733379256448842\n"
     ]
    }
   ],
   "source": [
    "from sklearn.tree import DecisionTreeRegressor\n",
    "from sklearn.model_selection import cross_val_score\n",
    "from sklearn.model_selection import KFold\n",
    "\n",
    "cal_tree = DecisionTreeRegressor()\n",
    "cv_scores = cross_val_score(cal_tree,\n",
    "                            cal_housing.data, \n",
    "                            cal_housing.target, \n",
    "                            cv=KFold(n_splits=5, shuffle=True),\n",
    "                            scoring=\"neg_mean_absolute_error\",\n",
    "                            n_jobs=-1)\n",
    "print(-cv_scores.mean(), cv_scores.std())"
   ]
  },
  {
   "cell_type": "markdown",
   "metadata": {
    "slideshow": {
     "slide_type": "slide"
    }
   },
   "source": [
    "* Η υλοποίηση του «πλήθους» στο scikit-learn γίνεται μέσω των `BaggingRegressor` και `BaggingClassifier`."
   ]
  },
  {
   "cell_type": "code",
   "execution_count": 18,
   "metadata": {
    "slideshow": {
     "slide_type": "fragment"
    }
   },
   "outputs": [
    {
     "name": "stdout",
     "output_type": "stream",
     "text": [
      "0.3301340648255814 0.006598848388486227\n"
     ]
    }
   ],
   "source": [
    "from sklearn.ensemble import BaggingRegressor\n",
    "\n",
    "bagging_cal_tree = BaggingRegressor(DecisionTreeRegressor(),\n",
    "                                    n_estimators=50, \n",
    "                                    n_jobs=-1)\n",
    "bagged_cv_scores = cross_val_score(bagging_cal_tree, \n",
    "                                   cal_housing.data,\n",
    "                                   cal_housing.target,\n",
    "                                   cv=KFold(n_splits=5, shuffle=True),\n",
    "                                   scoring=\"neg_mean_absolute_error\",\n",
    "                                   n_jobs=-1)\n",
    "\n",
    "print(-bagged_cv_scores.mean(), bagged_cv_scores.std())"
   ]
  },
  {
   "cell_type": "markdown",
   "metadata": {
    "slideshow": {
     "slide_type": "slide"
    }
   },
   "source": [
    "* Μια πιο εξελιγμένη προσέγγιση είναι τα *τυχαία δάση* (random forests).\n",
    "\n",
    "* Όπως και προηγούμενως, φτιάχνουμε μια σειρά από ανεξάρτητα μοντέλα, συγκεκριμένα, δένδρα αποφάσεων.\n",
    "\n",
    "* Πλην όμως, σε κάθε κόμβο δεν διερευνούμε όλα τα $p$ χαρακτηριστικά των δεδομένων για την ερώτηση που θα κάνουμε, αλλά ένα τυχαίο υποσύνολο αυτών, όπως $\\sqrt{p}$.\n",
    "\n",
    "* Η ιδέα είναι ότι το πλήθος μας θέλουμε να είναι ετερογενές. Οπότε με αυτόν τον τρόπο εξασφαλίζουμε ότι δεν θα είναι όλα τα δένδρα παρόμοια (αφού, για παράδειγμα, δεν θα έχουν όλα την ίδια ερώτηση στη ρίζα)."
   ]
  },
  {
   "cell_type": "markdown",
   "metadata": {
    "slideshow": {
     "slide_type": "slide"
    }
   },
   "source": [
    "* Τα τυχαία δάση υλοποιούνται μέσω `RamdomForestRegressor` και `RandomForestClassifier`."
   ]
  },
  {
   "cell_type": "code",
   "execution_count": 19,
   "metadata": {
    "slideshow": {
     "slide_type": "fragment"
    }
   },
   "outputs": [
    {
     "name": "stdout",
     "output_type": "stream",
     "text": [
      "0.32921023849806197 0.004729624803168721\n"
     ]
    }
   ],
   "source": [
    "from sklearn.ensemble import RandomForestRegressor\n",
    "\n",
    "forest = RandomForestRegressor(n_estimators=50, n_jobs=-1)\n",
    "forest_cv_scores = cross_val_score(forest,  \n",
    "                                   cal_housing.data,\n",
    "                                   cal_housing.target,\n",
    "                                   cv=KFold(n_splits=5, shuffle=True),\n",
    "                                   scoring=\"neg_mean_absolute_error\",\n",
    "                                   n_jobs=-1)\n",
    "print(-forest_cv_scores.mean(), forest_cv_scores.std())"
   ]
  },
  {
   "cell_type": "markdown",
   "metadata": {
    "slideshow": {
     "slide_type": "slide"
    }
   },
   "source": [
    "* Μπορούμε να προχωρήσουμε ένα βήμα ακόμα τη στοχαστικότητα.\n",
    "\n",
    "* Στα *ακραίως στοχαστικά δένδρα* (extremely randomised trees), επιλέγουμε στοχαστικά όχι μόνο το χαρακτηριστικό για το οποίο θα κάνουμε την ερώτηση σε κάθε κόμβο, αλλά και την τιμή της ερώτησης."
   ]
  },
  {
   "cell_type": "markdown",
   "metadata": {
    "slideshow": {
     "slide_type": "slide"
    }
   },
   "source": [
    "* Τα ακραίως στοχαστικά δένδρα υλοποιούνται μέσω `ExtraTreesRegressor` και `ExtraTreesClassifier`."
   ]
  },
  {
   "cell_type": "code",
   "execution_count": 20,
   "metadata": {
    "slideshow": {
     "slide_type": "fragment"
    }
   },
   "outputs": [
    {
     "name": "stdout",
     "output_type": "stream",
     "text": [
      "0.32748431710271314 0.004919698286379035\n"
     ]
    }
   ],
   "source": [
    "from sklearn.ensemble import ExtraTreesRegressor\n",
    "\n",
    "extremely_rts = ExtraTreesRegressor(n_estimators=50, n_jobs=-1)\n",
    "\n",
    "extremely_cv_scores = cross_val_score(extremely_rts, \n",
    "                                      cal_housing.data,\n",
    "                                      cal_housing.target,\n",
    "                                      cv=KFold(n_splits=5, shuffle=True),\n",
    "                                      scoring=\"neg_mean_absolute_error\",\n",
    "                                      n_jobs=-1)\n",
    "print(-extremely_cv_scores.mean(), extremely_cv_scores.std())"
   ]
  },
  {
   "cell_type": "markdown",
   "metadata": {
    "slideshow": {
     "slide_type": "slide"
    }
   },
   "source": [
    "* Συνήθως, οι προσεγγίσεις αυτές φέρνουν καλύτερα αποτελέσματα από ατομικά μοντέλα.\n",
    "\n",
    "* Αλλά ενώ τα δένδρα αποφάσεων έχουν, όπως έχουμε πει, πολύ καλή ερμηνευσιμότητα, όταν έχουμε πολλά δένδρα ή δάση η κατάσταση αλλάζει κάπως.\n",
    "\n",
    "* Αν θέλουμε να δούμε πώς τα σύνθετα μοντέλα μας παίρνουν τις αποφάσεις τους, μπορούμε να εξατάσουμε τις *σημαντικότητες των χαρακτηριστικών* (feature importances), οι οποίες μας δίνουν συνολικά μια ένδειξη για το πόσο σημαντικό είναι το κάθε χαρακτηριστικό στις προβλέψεις του μοντέλου.\n",
    "\n"
   ]
  },
  {
   "cell_type": "code",
   "execution_count": 21,
   "metadata": {
    "slideshow": {
     "slide_type": "slide"
    }
   },
   "outputs": [
    {
     "name": "stdout",
     "output_type": "stream",
     "text": [
      "MedInc 0.4977111339376681\n",
      "Longitude 0.11809054958732883\n",
      "Latitude 0.10780774609462883\n",
      "AveOccup 0.10613295026946508\n",
      "HouseAge 0.06842395577333353\n",
      "AveRooms 0.040986795159586864\n",
      "AveBedrms 0.03408860366071839\n",
      "Population 0.026758265517270566\n"
     ]
    }
   ],
   "source": [
    "import numpy as np\n",
    "\n",
    "extremely_rts = ExtraTreesRegressor(n_estimators=50, n_jobs=-1)\n",
    "extremely_rts.fit(cal_housing.data, cal_housing.target)\n",
    "importances = extremely_rts.feature_importances_\n",
    "\n",
    "std = np.std([tree.feature_importances_ for tree in extremely_rts.estimators_], axis=0)\n",
    "indices = np.argsort(importances)[::-1]\n",
    "\n",
    "for i in indices:\n",
    "    print(cal_housing.feature_names[i], importances[i])"
   ]
  },
  {
   "cell_type": "code",
   "execution_count": 22,
   "metadata": {
    "slideshow": {
     "slide_type": "slide"
    }
   },
   "outputs": [
    {
     "data": {
      "image/png": "[encoded data removed]",
      "text/plain": [
       "<Figure size 576x432 with 1 Axes>"
      ]
     },
     "metadata": {
      "needs_background": "light"
     },
     "output_type": "display_data"
    }
   ],
   "source": [
    "import matplotlib.pyplot as plt\n",
    "\n",
    "plt.figure(figsize=(8, 6))\n",
    "plt.title(\"Feature importances\")\n",
    "plt.bar(range(len(cal_housing.feature_names)), importances[indices],\n",
    "        tick_label=[cal_housing.feature_names[x] for x in indices],\n",
    "        color=\"r\", yerr=std[indices], align=\"center\")\n",
    "_ = plt.xticks(rotation=45)"
   ]
  },
  {
   "cell_type": "markdown",
   "metadata": {
    "slideshow": {
     "slide_type": "slide"
    }
   },
   "source": [
    "* Μια εναλλακτική προσέγγιση είναι, αντί να κατασκευάζουμε μοντέλα που είναι ανεξάρτητα μεταξύ τους, να κατασκευάζουμε μοντέλα διαδοχικά.\n",
    "\n",
    "* Η ιδέα τώρα είναι ότι κάθε μοντέλο θα προβλέπει αυτό που δεν μπορεί να προβλέψουν τα προηγούμενα μοντέλα.\n",
    "\n",
    "* Οπότε με κάθε μοντέλο προχωράμε συνολικά σε καλύτερες προβλέψεις.\n",
    "\n",
    "* Η προσέγγιση αυτή ονομάζεται *ώθηση* (boosting)."
   ]
  },
  {
   "cell_type": "markdown",
   "metadata": {
    "slideshow": {
     "slide_type": "slide"
    }
   },
   "source": [
    "* Στo scikit-learn μπορούμε να χρησιμοποιήσουμε `AdaBoostRegressor` ή `AdaBoostClassifier`."
   ]
  },
  {
   "cell_type": "code",
   "execution_count": 23,
   "metadata": {
    "slideshow": {
     "slide_type": "fragment"
    }
   },
   "outputs": [
    {
     "name": "stdout",
     "output_type": "stream",
     "text": [
      "0.30311932897286825 0.007469541133651586\n"
     ]
    }
   ],
   "source": [
    "from sklearn.ensemble import AdaBoostRegressor\n",
    "\n",
    "clf = DecisionTreeRegressor()\n",
    "ada_boost_rgr = AdaBoostRegressor(clf, n_estimators=50)\n",
    "ada_boost_cv_scores = cross_val_score(ada_boost_rgr, \n",
    "                                      cal_housing.data,\n",
    "                                      cal_housing.target,\n",
    "                                      cv=KFold(n_splits=5, shuffle=True),\n",
    "                                      scoring=\"neg_mean_absolute_error\",\n",
    "                                      n_jobs=-1)\n",
    "print(-ada_boost_cv_scores.mean(), ada_boost_cv_scores.std())"
   ]
  },
  {
   "cell_type": "markdown",
   "metadata": {
    "slideshow": {
     "slide_type": "slide"
    }
   },
   "source": [
    "* Ομοίως μπορούμε να δούμε τη σημαντικότητα κάθε χαρακτηριστικού."
   ]
  },
  {
   "cell_type": "code",
   "execution_count": 24,
   "metadata": {
    "slideshow": {
     "slide_type": "fragment"
    }
   },
   "outputs": [
    {
     "name": "stdout",
     "output_type": "stream",
     "text": [
      "MedInc 0.30711741990425495\n",
      "AveOccup 0.1498713332725331\n",
      "Longitude 0.13599166405763413\n",
      "Latitude 0.13482599419308\n",
      "HouseAge 0.07440649060035817\n",
      "AveRooms 0.07148508067706401\n",
      "Population 0.06768096635015368\n",
      "AveBedrms 0.058621050944922065\n"
     ]
    }
   ],
   "source": [
    "clf = DecisionTreeRegressor()\n",
    "ada_boost_rgr = AdaBoostRegressor(clf, n_estimators=50)\n",
    "ada_boost_rgr.fit(cal_housing.data, cal_housing.target)\n",
    "importances = ada_boost_rgr.feature_importances_\n",
    "\n",
    "std = np.std([tree.feature_importances_ for tree in ada_boost_rgr.estimators_], axis=0)\n",
    "indices = np.argsort(importances)[::-1]\n",
    "\n",
    "for i in indices:\n",
    "    print(cal_housing.feature_names[i], importances[i])"
   ]
  },
  {
   "cell_type": "code",
   "execution_count": 25,
   "metadata": {
    "slideshow": {
     "slide_type": "slide"
    }
   },
   "outputs": [
    {
     "data": {
      "image/png": "[encoded data removed]",
      "text/plain": [
       "<Figure size 576x432 with 1 Axes>"
      ]
     },
     "metadata": {
      "needs_background": "light"
     },
     "output_type": "display_data"
    }
   ],
   "source": [
    "plt.figure(figsize=(8, 6))\n",
    "plt.title(\"Feature importances\")\n",
    "plt.bar(range(len(cal_housing.feature_names)), importances[indices],\n",
    "        tick_label=[cal_housing.feature_names[x] for x in indices],\n",
    "        color=\"r\", yerr=std[indices], align=\"center\")\n",
    "_ = plt.xticks(rotation=45)"
   ]
  },
  {
   "cell_type": "markdown",
   "metadata": {
    "slideshow": {
     "slide_type": "slide"
    }
   },
   "source": [
    "* Μια πολύ καλή υλοποίηση της ιδέας της ώθησης είναι η [XGBoost](https://xgboost.readthedocs.io/en/latest/).\n",
    "\n",
    "* Η υλοποίηση είναι εκτός scikit-learn, αλλά μπορούμε να τη χρησιμοποιήσουμε με εντελώς αντίστοιχο τρόπο."
   ]
  },
  {
   "cell_type": "code",
   "execution_count": 26,
   "metadata": {
    "slideshow": {
     "slide_type": "fragment"
    }
   },
   "outputs": [
    {
     "name": "stderr",
     "output_type": "stream",
     "text": [
      "C:\\Users\\Christos\\Anaconda3\\envs\\py39\\lib\\site-packages\\xgboost\\compat.py:36: FutureWarning: pandas.Int64Index is deprecated and will be removed from pandas in a future version. Use pandas.Index with the appropriate dtype instead.\n",
      "  from pandas import MultiIndex, Int64Index\n"
     ]
    }
   ],
   "source": [
    "import xgboost as xgb\n",
    "xgb_reg = xgb.XGBRegressor()\n",
    "\n",
    "scores = cross_val_score(xgb_reg, \n",
    "                         cal_housing.data, \n",
    "                         cal_housing.target, \n",
    "                         scoring=\"neg_mean_absolute_error\", \n",
    "                         cv=KFold(n_splits=5, shuffle=True),\n",
    "                         n_jobs=-1)"
   ]
  },
  {
   "cell_type": "markdown",
   "metadata": {
    "slideshow": {
     "slide_type": "slide"
    }
   },
   "source": [
    "* Για να δούμε πώς τα πήγαμε:"
   ]
  },
  {
   "cell_type": "code",
   "execution_count": 27,
   "metadata": {
    "slideshow": {
     "slide_type": "fragment"
    }
   },
   "outputs": [
    {
     "name": "stdout",
     "output_type": "stream",
     "text": [
      "0.3104098895812926 0.0028906429592087\n"
     ]
    }
   ],
   "source": [
    "print(-scores.mean(), scores.std())"
   ]
  },
  {
   "cell_type": "markdown",
   "metadata": {
    "slideshow": {
     "slide_type": "slide"
    }
   },
   "source": [
    "* Μπορούμε όπως και πριν, αφού εκπαιδεύσουμε το μοντέλο στα δεδομένα μας, να δούμε τη σημαντικότητα των χαρακτηριστικών."
   ]
  },
  {
   "cell_type": "code",
   "execution_count": 28,
   "metadata": {
    "slideshow": {
     "slide_type": "fragment"
    }
   },
   "outputs": [
    {
     "name": "stderr",
     "output_type": "stream",
     "text": [
      "C:\\Users\\Christos\\Anaconda3\\envs\\py39\\lib\\site-packages\\xgboost\\data.py:262: FutureWarning: pandas.Int64Index is deprecated and will be removed from pandas in a future version. Use pandas.Index with the appropriate dtype instead.\n",
      "  elif isinstance(data.columns, (pd.Int64Index, pd.RangeIndex)):\n"
     ]
    },
    {
     "data": {
      "text/plain": [
       "XGBRegressor(base_score=0.5, booster='gbtree', colsample_bylevel=1,\n",
       "             colsample_bynode=1, colsample_bytree=1, enable_categorical=False,\n",
       "             gamma=0, gpu_id=-1, importance_type=None,\n",
       "             interaction_constraints='', learning_rate=0.300000012,\n",
       "             max_delta_step=0, max_depth=6, min_child_weight=1, missing=nan,\n",
       "             monotone_constraints='()', n_estimators=100, n_jobs=4,\n",
       "             num_parallel_tree=1, predictor='auto', random_state=0, reg_alpha=0,\n",
       "             reg_lambda=1, scale_pos_weight=1, subsample=1, tree_method='exact',\n",
       "             validate_parameters=1, verbosity=None)"
      ]
     },
     "execution_count": 28,
     "metadata": {},
     "output_type": "execute_result"
    }
   ],
   "source": [
    "xgb_reg = xgb.XGBRegressor()\n",
    "xgb_reg.fit(cal_housing.data, cal_housing.target)"
   ]
  },
  {
   "cell_type": "code",
   "execution_count": 29,
   "metadata": {
    "slideshow": {
     "slide_type": "slide"
    }
   },
   "outputs": [
    {
     "data": {
      "text/plain": [
       "<AxesSubplot:title={'center':'Feature importance'}, xlabel='F score', ylabel='Features'>"
      ]
     },
     "execution_count": 29,
     "metadata": {},
     "output_type": "execute_result"
    },
    {
     "data": {
      "image/png": "[encoded data removed]",
      "text/plain": [
       "<Figure size 576x432 with 1 Axes>"
      ]
     },
     "metadata": {
      "needs_background": "light"
     },
     "output_type": "display_data"
    }
   ],
   "source": [
    "fig = plt.figure(figsize=(8, 6))\n",
    "xgb_reg.get_booster().feature_names = cal_housing.feature_names\n",
    "xgb.plot_importance(xgb_reg, ax = fig.gca())"
   ]
  },
  {
   "cell_type": "markdown",
   "metadata": {
    "slideshow": {
     "slide_type": "slide"
    }
   },
   "source": [
    "* Αφού φύγαμε από το scikit-learn, μια άλλη εξαιρετική υλοποίηση της ιδέας της ώθησης είναι το [LightGBM](https://lightgbm.readthedocs.io/en/latest/index.html)."
   ]
  },
  {
   "cell_type": "code",
   "execution_count": 30,
   "metadata": {
    "slideshow": {
     "slide_type": "fragment"
    }
   },
   "outputs": [
    {
     "name": "stdout",
     "output_type": "stream",
     "text": [
      "0.310765400545517 0.005186311756915311\n"
     ]
    }
   ],
   "source": [
    "import lightgbm as lgb\n",
    "\n",
    "lgb_reg = lgb.LGBMRegressor()\n",
    "scores = cross_val_score(lgb_reg, \n",
    "                         cal_housing.data, \n",
    "                         cal_housing.target,\n",
    "                         scoring=\"neg_mean_absolute_error\",\n",
    "                         cv=KFold(n_splits=5, shuffle=True),\n",
    "                         n_jobs=-1)\n",
    "\n",
    "print(-scores.mean(), scores.std())"
   ]
  },
  {
   "cell_type": "code",
   "execution_count": 31,
   "metadata": {
    "slideshow": {
     "slide_type": "slide"
    }
   },
   "outputs": [
    {
     "data": {
      "image/png": "[encoded data removed]",
      "text/plain": [
       "<Figure size 576x432 with 1 Axes>"
      ]
     },
     "metadata": {
      "needs_background": "light"
     },
     "output_type": "display_data"
    }
   ],
   "source": [
    "lgb_reg = lgb.LGBMRegressor()\n",
    "lgb_reg.fit(cal_housing.data, cal_housing.target, \n",
    "            feature_name=cal_housing.feature_names)\n",
    "_ = lgb.plot_importance(lgb_reg, figsize=(8, 6))"
   ]
  },
  {
   "cell_type": "markdown",
   "metadata": {
    "slideshow": {
     "slide_type": "slide"
    }
   },
   "source": [
    "* Αν θέλουμε να συνδυάσουμε τα αποτελέσματα διαφορετικών μοντέλων Μηχανικής Μάθησης, μπορούμε να τα χρησιμοποιήσουμε ταυτόχρονα και να πάρουμε το μέσο όρο των επιμέρους προβλέψεων.\n",
    "\n",
    "* Έτσι, χρησιμοποιώντας έναν`VotingRegressor` (ή `VotingClassifier`) μπορούμε να συνδυάσουμε το LightGBM και το XGBoost."
   ]
  },
  {
   "cell_type": "code",
   "execution_count": 32,
   "metadata": {
    "slideshow": {
     "slide_type": "slide"
    }
   },
   "outputs": [],
   "source": [
    "from sklearn.ensemble import VotingRegressor\n",
    "\n",
    "xgb_reg = xgb.XGBRegressor()\n",
    "lgb_reg = lgb.LGBMRegressor()\n",
    "vreg = VotingRegressor(estimators=[('xgb', xgb_reg), \n",
    "                                   ('lgb', lgb_reg)],\n",
    "                       n_jobs=-1)\n",
    "                       \n",
    "scores = cross_val_score(vreg, \n",
    "                         cal_housing.data, \n",
    "                         cal_housing.target,\n",
    "                         scoring='neg_mean_absolute_error', \n",
    "                         cv=KFold(n_splits=5, shuffle=True),\n",
    "                         n_jobs=-1)"
   ]
  },
  {
   "cell_type": "markdown",
   "metadata": {
    "slideshow": {
     "slide_type": "slide"
    }
   },
   "source": [
    "* Για να δούμε πώς τα πήγαμε:"
   ]
  },
  {
   "cell_type": "code",
   "execution_count": 33,
   "metadata": {
    "slideshow": {
     "slide_type": "fragment"
    }
   },
   "outputs": [
    {
     "name": "stdout",
     "output_type": "stream",
     "text": [
      "0.3003458792641238 0.0039605171131878066\n"
     ]
    }
   ],
   "source": [
    "print(-scores.mean(), scores.std())"
   ]
  },
  {
   "cell_type": "markdown",
   "metadata": {
    "slideshow": {
     "slide_type": "slide"
    }
   },
   "source": [
    "* Άλλος τρόπος συνδυασμού μοντέλων είναι να πάρουμε τα επιμέρους μοντέλα και να τα στοιβάξουμε κάτω από ένα άλλο μοντέλο το οποίο χρησιμοποιεί τις επιμέρους προβλέψεις τους για να παράξει μια συγκερασμένη πρόβλεψη.\n",
    "\n",
    "* Θα χρησιμοποιήσουμε έναν `StackingRegressor`, ο οποίος θα συνδυάζει τις προβλέψεις ενός LightGBM και ενός XGBoost μέσω ενός μοντέλου γραμμικής παλινδρόμησης."
   ]
  },
  {
   "cell_type": "code",
   "execution_count": 34,
   "metadata": {
    "slideshow": {
     "slide_type": "slide"
    }
   },
   "outputs": [],
   "source": [
    "from sklearn.linear_model import LinearRegression\n",
    "from sklearn.ensemble import StackingRegressor\n",
    "\n",
    "xgb_reg = xgb.XGBRegressor()\n",
    "lgb_reg = lgb.LGBMRegressor()\n",
    "\n",
    "estimators = [('xgb', xgb_reg), ('lgb', lgb_reg)]\n",
    "final_estimator = LinearRegression()\n",
    "\n",
    "sreg = StackingRegressor(estimators=estimators, final_estimator=final_estimator, n_jobs=-1)\n",
    "\n",
    "scores = cross_val_score(sreg, cal_housing.data, cal_housing.target,\n",
    "                         cv=KFold(n_splits=5, shuffle=True), \n",
    "                         scoring='neg_mean_absolute_error', \n",
    "                         n_jobs=-1)"
   ]
  },
  {
   "cell_type": "markdown",
   "metadata": {
    "slideshow": {
     "slide_type": "slide"
    }
   },
   "source": [
    "* Για να δούμε πώς τα πήγαμε:"
   ]
  },
  {
   "cell_type": "code",
   "execution_count": 35,
   "metadata": {
    "slideshow": {
     "slide_type": "fragment"
    }
   },
   "outputs": [
    {
     "name": "stdout",
     "output_type": "stream",
     "text": [
      "0.30386379306909994 0.007527473406131147\n"
     ]
    }
   ],
   "source": [
    "print(-scores.mean(), scores.std())"
   ]
  },
  {
   "cell_type": "markdown",
   "metadata": {
    "slideshow": {
     "slide_type": "slide"
    }
   },
   "source": [
    "* Ο συνδυασμός μοντέλων συνήθως είναι ο καλύτερος τρόπος να βελτιώσουμε την επίδοση ενός συστήματος Μηχανικής Μάθησης.\n",
    "\n",
    "* Παρά το ότι είδαμε παραδείγματα παλινδρόμησης, τα ίδια ισχύουν (και υποστηρίζονται από τις βιβλιοθήκες) και για ταξινόμηση.\n",
    "\n",
    "* Σε κάθε περίπτωση, η διερεύνηση εναλλακτικών λύσεων στο πρόβλημα που έχουμε μπροστά μας θα μας οδηγήσει στο βέλτιστο αποτέλεσμα!"
   ]
  }
 ],
 "metadata": {
  "celltoolbar": "Slideshow",
  "kernelspec": {
   "display_name": "Python 3 (ipykernel)",
   "language": "python",
   "name": "python3"
  },
  "language_info": {
   "codemirror_mode": {
    "name": "ipython",
    "version": 3
   },
   "file_extension": ".py",
   "mimetype": "text/x-python",
   "name": "python",
   "nbconvert_exporter": "python",
   "pygments_lexer": "ipython3",
   "version": "3.9.7"
  }
 },
 "nbformat": 4,
 "nbformat_minor": 1
}
