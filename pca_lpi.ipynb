{
 "cells": [
  {
   "cell_type": "markdown",
   "id": "conditional-physiology",
   "metadata": {
    "slideshow": {
     "slide_type": "slide"
    }
   },
   "source": [
    "#   PCA - LPI\n",
    "\n",
    "* Με υλικό από το amoeba (https://stats.stackexchange.com/users/28666/amoeba), Making sense of principal component analysis, eigenvectors & eigenvalues, URL (version: 2021-12-03): https://stats.stackexchange.com/q/140579.\n",
    "\n",
    "---\n",
    "\n",
    "> Πάνος Λουρίδας, Αναπληρωτής Καθηγητής <br />\n",
    "> Τμήμα Διοικητικής Επιστήμης και Τεχνολογίας <br />\n",
    "> Οικονομικό Πανεπιστήμιο Αθηνών <br />\n",
    "> louridas@aueb.gr"
   ]
  },
  {
   "cell_type": "markdown",
   "id": "competitive-complaint",
   "metadata": {
    "slideshow": {
     "slide_type": "slide"
    }
   },
   "source": [
    "* Ας φανταστούμε ότι έχουμε ένα σύνολο κρασιών.\n",
    "\n",
    "* Τα κρασιά περιγράφονται από διάφορα χαρακτηριστικά, όπως χρώμα, ποσοστό οινοπνεύματος, οξύτητα, θειώδη, και πολλά άλλα."
   ]
  },
  {
   "cell_type": "markdown",
   "id": "acute-consultation",
   "metadata": {
    "slideshow": {
     "slide_type": "slide"
    }
   },
   "source": [
    "* Τώρα έστω ότι επιθυμούμε να μπορούμε να περιγράψουμε κάθε κρασί με *λιγότερα* χαρακτηριστικά.\n",
    "\n",
    "* Ποια θα ήταν αυτά;"
   ]
  },
  {
   "cell_type": "markdown",
   "id": "patient-apartment",
   "metadata": {
    "slideshow": {
     "slide_type": "slide"
    }
   },
   "source": [
    "* Θα θέλαμε να βρούμε κάποια χαρακτηριστικά τα οποία από τη μία να διαφέρουν όσο το δυνατόν περισσότερο από κρασί σε κρασί (γιατί αν ένα χαρακτηριστικό είναι το ίδιο σε όλα τα κρασιά, δεν μας λέει τίποτε).\n",
    "\n",
    "* Επίσης τα χαρακτηριστικά που θα βρούμε θα θέλαμε να απηχούν όσο το δυνατόν περισσότερο τα αρχικά χαρακτηριστικά που έχουμε συγκεντρώσει για κάθε κρασί.\n",
    "\n",
    "* Δεν είναι απαραίτητο ότι τα χαρακτηριστικά που θα βρούμε είναι υποσύνολο των αρχικών χαρακτηριστικών!\n",
    "\n",
    "* Τα χαρακτηριστικά αυτά μπορεί να είναι *νέα* χαρακτηριστικά (τα οποία σχετίζονται με τα υπάρχοντα), αλλά όχι κάποια από τα υπάρχοντα."
   ]
  },
  {
   "cell_type": "markdown",
   "id": "challenging-alabama",
   "metadata": {
    "slideshow": {
     "slide_type": "slide"
    }
   },
   "source": [
    "* Ας φανταστούμε λοιπόν ότι έχουμε μόνο δύο χαρακτηριστικά, τα οποία φαίνονται στην επόμενη εικόνα.\n",
    "\n",
    "* Τα χαρακτηριστικά είναι δύο διαφορετικές διαστάσεις.\n",
    "\n",
    "* Κάθε παρατήρησή μας περιγράφεται από ένα ζεύγος συντεταγμένων $(x, y)$ με τις τιμές των δύο διαστάσεων για την παρατήρηση.\n",
    "\n",
    "* Αν θέλαμε κάθε παρατήρησή μας να περιγράφεται από *μία* και μόνη διάσταση, δηλαδή από *έναν* αριθμό, $z$, ποια θα ήταν αυτή η διάσταση;"
   ]
  },
  {
   "cell_type": "markdown",
   "id": "european-abuse",
   "metadata": {
    "slideshow": {
     "slide_type": "slide"
    }
   },
   "source": [
    "<img src=\"https://i.stack.imgur.com/jPw90.png\" />\n",
    "\n",
    "https://stats.stackexchange.com/a/140579"
   ]
  },
  {
   "cell_type": "markdown",
   "id": "cultural-explanation",
   "metadata": {
    "slideshow": {
     "slide_type": "slide"
    }
   },
   "source": [
    "* Να θυμηθούμε τι επιθυμούμε.\n",
    "\n",
    "* Θέλουμε η νέα διάσταση που θα βρούμε να είναι τέτοια ώστε τα δεδομένα μας να έχουν τη μεγαλύτερη δυνατή μεταβλητότητα, διακύμανση, σε αυτή.\n",
    "\n",
    "* Επίσης θέλουμε τα δεδομένα στη νέα διάσταση να απέχουν όσο το δυνατόν λιγότερο από τα δεδομένα στις αρχικές τους διαστάσεις.\n",
    "\n",
    "* Στην επόμενη εικόνα, μπορούμε να δούμε ποια θα είναι αυτή η διάσταση."
   ]
  },
  {
   "cell_type": "markdown",
   "id": "swiss-sunrise",
   "metadata": {
    "slideshow": {
     "slide_type": "slide"
    }
   },
   "source": [
    "* Περιστρέφοντας τον άξονα που αντιστοιχεί στη νέα αυτή διάσταση, μπορούμε να δούμε ποια είναι η θέση που ικανοποιεί τα κριτήρια που θέσαμε:\n",
    "\n",
    "  * Στη διαγώνιο που διασχίζει τα δεδομένα, η διακύμανση των προβολών δεδομένων μας (οι κόκκινες τελείες) είναι η μέγιστη δυνατή.\n",
    "  \n",
    "  * Επίσης στη διαγώνιο που διασχίζει τα δεδομένα, οι αποστάσεις των προβολών από τα αρχικά δεδομένα (οι κόκκινες γραμμές) είναι οι μικρότερες δυνατές.\n",
    "\n",
    "\n",
    "<img src=\"https://i.stack.imgur.com/Q7HIP.gif\" />\n",
    "\n",
    "Πηγή: https://stats.stackexchange.com/a/140579"
   ]
  },
  {
   "cell_type": "markdown",
   "id": "knowing-fusion",
   "metadata": {
    "slideshow": {
     "slide_type": "slide"
    }
   },
   "source": [
    "<img width=\"500\" src=\"https://upload.wikimedia.org/wikipedia/commons/f/f5/GaussianScatterPCA.svg\" />"
   ]
  },
  {
   "cell_type": "markdown",
   "id": "pretty-spanking",
   "metadata": {
    "slideshow": {
     "slide_type": "slide"
    }
   },
   "source": [
    "* Η διαδικασία με την οποία βρίσκουμε αυτές τις νέες διαστάσεις ονομάζεται *Ανάλυση Κύριων Συνιστωσών* (Principal Component Analysis).\n",
    "\n",
    "* Υπάρχει αποτελεσματικός αλγόριθμος για την εύρεση των συνιστωσών (διαστάσεων) που αναζητούμε.\n",
    "\n",
    "* Η μέθοδος ανήκει στη μη επιβλεπόμενη Μηχανική Μάθηση, αφού δεν έχουμε ένα σύνολο δεδομένων και λύσεις.\n",
    "\n",
    "* Έχουμε μόνο ένα σύνολο δεδομένων και τον αριθμό των διαστάσεων που αναζητούμε.\n",
    "\n",
    "* Εμπίπτει λοιπόν στην κατηγορία της *μείωσης διαστασιμότητας* (dimensionality reduction)."
   ]
  },
  {
   "cell_type": "markdown",
   "id": "scheduled-model",
   "metadata": {
    "slideshow": {
     "slide_type": "slide"
    }
   },
   "source": [
    "* Για να το δούμε αυτό στην πράξη.\n",
    "\n",
    "* Να θυμηθούμε τον [δείκτη Αποτελεσματικότητας Λογιστικής Αλυσίδας (Logistic Performance Index indicator, LPI) της Παγκόσμιας Τράπεζας](https://lpi.worldbank.org/).\n",
    "\n",
    "* Η Παγκόσμια Τράπεζα μετράει, όπως είδαμε, έξι επιμέρους δείκτες."
   ]
  },
  {
   "cell_type": "markdown",
   "id": "optimum-fellow",
   "metadata": {
    "slideshow": {
     "slide_type": "slide"
    }
   },
   "source": [
    "* Ανταγωνιστικότητα και ποιότητα υπηρεσιών λογιστικής αλυσίδας (Competence and quality of logistics services).\n",
    "\n",
    "* Συχνότητα με την οποία οι αποστολές παραδίδονται στον προβλεπόμενο χρόνο (Frequency with which shipments reach consignee within scheduled or expected time).\n",
    "\n",
    "* Ευκολία διαχείρισης ανταγωνιστικά κοστολογημένων αποστολών (Ease of arranging competitively priced shipments).\n",
    "\n",
    "* Ποιότητα υποδομής εμπορίου και μεταφορών (Quality of trade and transport-related infrastructure).\n",
    "\n",
    "* Ικανότητα ιχνηλάτησης αποστολών (Ability to track and trace consignments).\n",
    "\n",
    "* Αποτελεσματικότητα της διαδικασίας εκτελωνισμού (Efficiency of customs clearance process)."
   ]
  },
  {
   "cell_type": "markdown",
   "id": "awful-radiation",
   "metadata": {
    "slideshow": {
     "slide_type": "slide"
    }
   },
   "source": [
    "* Από αυτούς του έξι επιμέρους δείκτες, συνθέτει έναν ενιαίο δείκτη.\n",
    "\n",
    "* Πώς προκύπτει ο ενιαίος δείκτης από τους έξι επιμέρους;\n",
    "\n",
    "* Θα μπορούσε κάποιος να πάρει απλώς το μέσο όρο τους.\n",
    "\n",
    "* Είναι όμως λογικό αυτό; \n",
    "\n",
    "* Για να το δούμε, θα χρησιμοποιήσουμε PCA."
   ]
  },
  {
   "cell_type": "markdown",
   "id": "architectural-brown",
   "metadata": {
    "slideshow": {
     "slide_type": "slide"
    }
   },
   "source": [
    "* Πάμε να διαβάσουμε τα στοιχεία του LPI."
   ]
  },
  {
   "cell_type": "code",
   "execution_count": 4,
   "id": "interesting-range",
   "metadata": {
    "slideshow": {
     "slide_type": "fragment"
    }
   },
   "outputs": [
    {
     "data": {
      "text/html": [
       "<div>\n",
       "<style scoped>\n",
       "    .dataframe tbody tr th:only-of-type {\n",
       "        vertical-align: middle;\n",
       "    }\n",
       "\n",
       "    .dataframe tbody tr th {\n",
       "        vertical-align: top;\n",
       "    }\n",
       "\n",
       "    .dataframe thead th {\n",
       "        text-align: right;\n",
       "    }\n",
       "</style>\n",
       "<table border=\"1\" class=\"dataframe\">\n",
       "  <thead>\n",
       "    <tr style=\"text-align: right;\">\n",
       "      <th></th>\n",
       "      <th>Country</th>\n",
       "      <th>LPI</th>\n",
       "      <th>Customs</th>\n",
       "      <th>Infrastructure</th>\n",
       "      <th>International shipments</th>\n",
       "      <th>Logistics quality and competence</th>\n",
       "      <th>Tracking and tracing</th>\n",
       "      <th>Timeliness</th>\n",
       "    </tr>\n",
       "  </thead>\n",
       "  <tbody>\n",
       "    <tr>\n",
       "      <th>0</th>\n",
       "      <td>Germany</td>\n",
       "      <td>4.20</td>\n",
       "      <td>4.09</td>\n",
       "      <td>4.37</td>\n",
       "      <td>3.86</td>\n",
       "      <td>4.31</td>\n",
       "      <td>4.24</td>\n",
       "      <td>4.39</td>\n",
       "    </tr>\n",
       "    <tr>\n",
       "      <th>1</th>\n",
       "      <td>Sweden</td>\n",
       "      <td>4.05</td>\n",
       "      <td>4.05</td>\n",
       "      <td>4.24</td>\n",
       "      <td>3.92</td>\n",
       "      <td>3.98</td>\n",
       "      <td>3.88</td>\n",
       "      <td>4.28</td>\n",
       "    </tr>\n",
       "    <tr>\n",
       "      <th>2</th>\n",
       "      <td>Belgium</td>\n",
       "      <td>4.04</td>\n",
       "      <td>3.66</td>\n",
       "      <td>3.98</td>\n",
       "      <td>3.99</td>\n",
       "      <td>4.13</td>\n",
       "      <td>4.05</td>\n",
       "      <td>4.41</td>\n",
       "    </tr>\n",
       "    <tr>\n",
       "      <th>3</th>\n",
       "      <td>Austria</td>\n",
       "      <td>4.03</td>\n",
       "      <td>3.71</td>\n",
       "      <td>4.18</td>\n",
       "      <td>3.88</td>\n",
       "      <td>4.08</td>\n",
       "      <td>4.09</td>\n",
       "      <td>4.25</td>\n",
       "    </tr>\n",
       "    <tr>\n",
       "      <th>4</th>\n",
       "      <td>Japan</td>\n",
       "      <td>4.03</td>\n",
       "      <td>3.99</td>\n",
       "      <td>4.25</td>\n",
       "      <td>3.59</td>\n",
       "      <td>4.09</td>\n",
       "      <td>4.05</td>\n",
       "      <td>4.25</td>\n",
       "    </tr>\n",
       "    <tr>\n",
       "      <th>...</th>\n",
       "      <td>...</td>\n",
       "      <td>...</td>\n",
       "      <td>...</td>\n",
       "      <td>...</td>\n",
       "      <td>...</td>\n",
       "      <td>...</td>\n",
       "      <td>...</td>\n",
       "      <td>...</td>\n",
       "    </tr>\n",
       "    <tr>\n",
       "      <th>155</th>\n",
       "      <td>Sierra Leone</td>\n",
       "      <td>2.08</td>\n",
       "      <td>1.82</td>\n",
       "      <td>1.82</td>\n",
       "      <td>2.18</td>\n",
       "      <td>2.00</td>\n",
       "      <td>2.27</td>\n",
       "      <td>2.34</td>\n",
       "    </tr>\n",
       "    <tr>\n",
       "      <th>156</th>\n",
       "      <td>Niger</td>\n",
       "      <td>2.07</td>\n",
       "      <td>1.77</td>\n",
       "      <td>2.00</td>\n",
       "      <td>2.00</td>\n",
       "      <td>2.10</td>\n",
       "      <td>2.22</td>\n",
       "      <td>2.33</td>\n",
       "    </tr>\n",
       "    <tr>\n",
       "      <th>157</th>\n",
       "      <td>Burundi</td>\n",
       "      <td>2.06</td>\n",
       "      <td>1.69</td>\n",
       "      <td>1.95</td>\n",
       "      <td>2.21</td>\n",
       "      <td>2.33</td>\n",
       "      <td>2.01</td>\n",
       "      <td>2.17</td>\n",
       "    </tr>\n",
       "    <tr>\n",
       "      <th>158</th>\n",
       "      <td>Angola</td>\n",
       "      <td>2.05</td>\n",
       "      <td>1.57</td>\n",
       "      <td>1.86</td>\n",
       "      <td>2.20</td>\n",
       "      <td>2.00</td>\n",
       "      <td>2.00</td>\n",
       "      <td>2.59</td>\n",
       "    </tr>\n",
       "    <tr>\n",
       "      <th>159</th>\n",
       "      <td>Afghanistan</td>\n",
       "      <td>1.95</td>\n",
       "      <td>1.73</td>\n",
       "      <td>1.81</td>\n",
       "      <td>2.10</td>\n",
       "      <td>1.92</td>\n",
       "      <td>1.70</td>\n",
       "      <td>2.38</td>\n",
       "    </tr>\n",
       "  </tbody>\n",
       "</table>\n",
       "<p>160 rows × 8 columns</p>\n",
       "</div>"
      ],
      "text/plain": [
       "          Country   LPI  Customs  Infrastructure  International shipments  \\\n",
       "0         Germany  4.20     4.09            4.37                     3.86   \n",
       "1          Sweden  4.05     4.05            4.24                     3.92   \n",
       "2         Belgium  4.04     3.66            3.98                     3.99   \n",
       "3         Austria  4.03     3.71            4.18                     3.88   \n",
       "4           Japan  4.03     3.99            4.25                     3.59   \n",
       "..            ...   ...      ...             ...                      ...   \n",
       "155  Sierra Leone  2.08     1.82            1.82                     2.18   \n",
       "156         Niger  2.07     1.77            2.00                     2.00   \n",
       "157       Burundi  2.06     1.69            1.95                     2.21   \n",
       "158        Angola  2.05     1.57            1.86                     2.20   \n",
       "159   Afghanistan  1.95     1.73            1.81                     2.10   \n",
       "\n",
       "     Logistics quality and competence  Tracking and tracing  Timeliness  \n",
       "0                                4.31                  4.24        4.39  \n",
       "1                                3.98                  3.88        4.28  \n",
       "2                                4.13                  4.05        4.41  \n",
       "3                                4.08                  4.09        4.25  \n",
       "4                                4.09                  4.05        4.25  \n",
       "..                                ...                   ...         ...  \n",
       "155                              2.00                  2.27        2.34  \n",
       "156                              2.10                  2.22        2.33  \n",
       "157                              2.33                  2.01        2.17  \n",
       "158                              2.00                  2.00        2.59  \n",
       "159                              1.92                  1.70        2.38  \n",
       "\n",
       "[160 rows x 8 columns]"
      ]
     },
     "execution_count": 4,
     "metadata": {},
     "output_type": "execute_result"
    }
   ],
   "source": [
    "import pandas as pd\n",
    "\n",
    "lpi_df = pd.read_csv(\"data/International_LPI_2018.csv\")\n",
    "lpi_df"
   ]
  },
  {
   "cell_type": "markdown",
   "id": "alternate-winning",
   "metadata": {
    "slideshow": {
     "slide_type": "slide"
    }
   },
   "source": [
    "* Θα εργαστούμε με τις στήλες που αφορούν τους επιμέρους δείκτες."
   ]
  },
  {
   "cell_type": "code",
   "execution_count": 5,
   "id": "expected-works",
   "metadata": {
    "slideshow": {
     "slide_type": "fragment"
    }
   },
   "outputs": [
    {
     "data": {
      "text/html": [
       "<div>\n",
       "<style scoped>\n",
       "    .dataframe tbody tr th:only-of-type {\n",
       "        vertical-align: middle;\n",
       "    }\n",
       "\n",
       "    .dataframe tbody tr th {\n",
       "        vertical-align: top;\n",
       "    }\n",
       "\n",
       "    .dataframe thead th {\n",
       "        text-align: right;\n",
       "    }\n",
       "</style>\n",
       "<table border=\"1\" class=\"dataframe\">\n",
       "  <thead>\n",
       "    <tr style=\"text-align: right;\">\n",
       "      <th></th>\n",
       "      <th>Customs</th>\n",
       "      <th>Infrastructure</th>\n",
       "      <th>International shipments</th>\n",
       "      <th>Logistics quality and competence</th>\n",
       "      <th>Tracking and tracing</th>\n",
       "      <th>Timeliness</th>\n",
       "    </tr>\n",
       "  </thead>\n",
       "  <tbody>\n",
       "    <tr>\n",
       "      <th>0</th>\n",
       "      <td>4.09</td>\n",
       "      <td>4.37</td>\n",
       "      <td>3.86</td>\n",
       "      <td>4.31</td>\n",
       "      <td>4.24</td>\n",
       "      <td>4.39</td>\n",
       "    </tr>\n",
       "    <tr>\n",
       "      <th>1</th>\n",
       "      <td>4.05</td>\n",
       "      <td>4.24</td>\n",
       "      <td>3.92</td>\n",
       "      <td>3.98</td>\n",
       "      <td>3.88</td>\n",
       "      <td>4.28</td>\n",
       "    </tr>\n",
       "    <tr>\n",
       "      <th>2</th>\n",
       "      <td>3.66</td>\n",
       "      <td>3.98</td>\n",
       "      <td>3.99</td>\n",
       "      <td>4.13</td>\n",
       "      <td>4.05</td>\n",
       "      <td>4.41</td>\n",
       "    </tr>\n",
       "    <tr>\n",
       "      <th>3</th>\n",
       "      <td>3.71</td>\n",
       "      <td>4.18</td>\n",
       "      <td>3.88</td>\n",
       "      <td>4.08</td>\n",
       "      <td>4.09</td>\n",
       "      <td>4.25</td>\n",
       "    </tr>\n",
       "    <tr>\n",
       "      <th>4</th>\n",
       "      <td>3.99</td>\n",
       "      <td>4.25</td>\n",
       "      <td>3.59</td>\n",
       "      <td>4.09</td>\n",
       "      <td>4.05</td>\n",
       "      <td>4.25</td>\n",
       "    </tr>\n",
       "    <tr>\n",
       "      <th>...</th>\n",
       "      <td>...</td>\n",
       "      <td>...</td>\n",
       "      <td>...</td>\n",
       "      <td>...</td>\n",
       "      <td>...</td>\n",
       "      <td>...</td>\n",
       "    </tr>\n",
       "    <tr>\n",
       "      <th>155</th>\n",
       "      <td>1.82</td>\n",
       "      <td>1.82</td>\n",
       "      <td>2.18</td>\n",
       "      <td>2.00</td>\n",
       "      <td>2.27</td>\n",
       "      <td>2.34</td>\n",
       "    </tr>\n",
       "    <tr>\n",
       "      <th>156</th>\n",
       "      <td>1.77</td>\n",
       "      <td>2.00</td>\n",
       "      <td>2.00</td>\n",
       "      <td>2.10</td>\n",
       "      <td>2.22</td>\n",
       "      <td>2.33</td>\n",
       "    </tr>\n",
       "    <tr>\n",
       "      <th>157</th>\n",
       "      <td>1.69</td>\n",
       "      <td>1.95</td>\n",
       "      <td>2.21</td>\n",
       "      <td>2.33</td>\n",
       "      <td>2.01</td>\n",
       "      <td>2.17</td>\n",
       "    </tr>\n",
       "    <tr>\n",
       "      <th>158</th>\n",
       "      <td>1.57</td>\n",
       "      <td>1.86</td>\n",
       "      <td>2.20</td>\n",
       "      <td>2.00</td>\n",
       "      <td>2.00</td>\n",
       "      <td>2.59</td>\n",
       "    </tr>\n",
       "    <tr>\n",
       "      <th>159</th>\n",
       "      <td>1.73</td>\n",
       "      <td>1.81</td>\n",
       "      <td>2.10</td>\n",
       "      <td>1.92</td>\n",
       "      <td>1.70</td>\n",
       "      <td>2.38</td>\n",
       "    </tr>\n",
       "  </tbody>\n",
       "</table>\n",
       "<p>160 rows × 6 columns</p>\n",
       "</div>"
      ],
      "text/plain": [
       "     Customs  Infrastructure  International shipments  \\\n",
       "0       4.09            4.37                     3.86   \n",
       "1       4.05            4.24                     3.92   \n",
       "2       3.66            3.98                     3.99   \n",
       "3       3.71            4.18                     3.88   \n",
       "4       3.99            4.25                     3.59   \n",
       "..       ...             ...                      ...   \n",
       "155     1.82            1.82                     2.18   \n",
       "156     1.77            2.00                     2.00   \n",
       "157     1.69            1.95                     2.21   \n",
       "158     1.57            1.86                     2.20   \n",
       "159     1.73            1.81                     2.10   \n",
       "\n",
       "     Logistics quality and competence  Tracking and tracing  Timeliness  \n",
       "0                                4.31                  4.24        4.39  \n",
       "1                                3.98                  3.88        4.28  \n",
       "2                                4.13                  4.05        4.41  \n",
       "3                                4.08                  4.09        4.25  \n",
       "4                                4.09                  4.05        4.25  \n",
       "..                                ...                   ...         ...  \n",
       "155                              2.00                  2.27        2.34  \n",
       "156                              2.10                  2.22        2.33  \n",
       "157                              2.33                  2.01        2.17  \n",
       "158                              2.00                  2.00        2.59  \n",
       "159                              1.92                  1.70        2.38  \n",
       "\n",
       "[160 rows x 6 columns]"
      ]
     },
     "execution_count": 5,
     "metadata": {},
     "output_type": "execute_result"
    }
   ],
   "source": [
    "lpi_components = [\n",
    "    'Customs',\n",
    "    'Infrastructure',\n",
    "    'International shipments',\n",
    "    'Logistics quality and competence',\n",
    "    'Tracking and tracing',\n",
    "    'Timeliness'\n",
    "]\n",
    "\n",
    "lpi_components = lpi_df[lpi_components]\n",
    "lpi_components"
   ]
  },
  {
   "cell_type": "markdown",
   "id": "analyzed-jumping",
   "metadata": {
    "slideshow": {
     "slide_type": "slide"
    }
   },
   "source": [
    "* Δεδομένου ότι η PCA χρησιμοποιεί τη διακύμανση προκειμένου να εντοπίσει τις διαστάσεις που αναζητούμε, είναι μέθοδος η οποία επιδέχεται (ή χρειάζεται) κανονικοποίηση στα δεδομένα."
   ]
  },
  {
   "cell_type": "code",
   "execution_count": 6,
   "id": "favorite-mistake",
   "metadata": {
    "slideshow": {
     "slide_type": "fragment"
    }
   },
   "outputs": [],
   "source": [
    "from sklearn.preprocessing import StandardScaler\n",
    "\n",
    "standard_scaler = StandardScaler()\n",
    "lpi_components_standard_scaled = standard_scaler.fit_transform(lpi_components)"
   ]
  },
  {
   "cell_type": "markdown",
   "id": "colonial-bailey",
   "metadata": {
    "slideshow": {
     "slide_type": "slide"
    }
   },
   "source": [
    "* Προχωράμε στο PCA.\n",
    "\n",
    "* Θέλουμε να κάνουμε PCA για να εντοπίσουμε *μία* συνιστώσα."
   ]
  },
  {
   "cell_type": "code",
   "execution_count": 10,
   "id": "attended-andrews",
   "metadata": {
    "slideshow": {
     "slide_type": "fragment"
    }
   },
   "outputs": [],
   "source": [
    "from sklearn.decomposition import PCA\n",
    "\n",
    "pca = PCA(n_components=1)"
   ]
  },
  {
   "cell_type": "markdown",
   "id": "gorgeous-monte",
   "metadata": {
    "slideshow": {
     "slide_type": "slide"
    }
   },
   "source": [
    "* Εφαρμόζουμε PCA στα δεδομένα μας."
   ]
  },
  {
   "cell_type": "code",
   "execution_count": 11,
   "id": "japanese-highlight",
   "metadata": {
    "slideshow": {
     "slide_type": "fragment"
    }
   },
   "outputs": [
    {
     "data": {
      "text/plain": [
       "PCA(n_components=1)"
      ]
     },
     "execution_count": 11,
     "metadata": {},
     "output_type": "execute_result"
    }
   ],
   "source": [
    "pca.fit(lpi_components_standard_scaled)"
   ]
  },
  {
   "cell_type": "markdown",
   "id": "swedish-prefix",
   "metadata": {
    "slideshow": {
     "slide_type": "slide"
    }
   },
   "source": [
    "* Η ιδιότητα `explained_variance_ratio` μας δίνει πόση από τη διακύμανση εξηγεί η συνιστώσα (διάσταση) που υπολογίστηκε. \n",
    "\n",
    "* Βλέπουμε ότι εξηγεί πάνω από το 92%!"
   ]
  },
  {
   "cell_type": "code",
   "execution_count": 12,
   "id": "destroyed-kenya",
   "metadata": {
    "slideshow": {
     "slide_type": "fragment"
    }
   },
   "outputs": [
    {
     "data": {
      "text/plain": [
       "array([0.92257629])"
      ]
     },
     "execution_count": 12,
     "metadata": {},
     "output_type": "execute_result"
    }
   ],
   "source": [
    "pca.explained_variance_ratio_"
   ]
  },
  {
   "cell_type": "markdown",
   "id": "heavy-stream",
   "metadata": {
    "slideshow": {
     "slide_type": "slide"
    }
   },
   "source": [
    "* Στη συνέχεια, μπορούμε να προβάλουμε τα δεδομένα μας πάνω σε αυτήν τη διάσταση."
   ]
  },
  {
   "cell_type": "code",
   "execution_count": 13,
   "id": "secondary-planet",
   "metadata": {
    "slideshow": {
     "slide_type": "fragment"
    }
   },
   "outputs": [
    {
     "data": {
      "text/plain": [
       "array([[5.54547364],\n",
       "       [4.93808946],\n",
       "       [4.86533482],\n",
       "       [4.81834623],\n",
       "       [4.81569261],\n",
       "       [4.79085083],\n",
       "       [4.69701109],\n",
       "       [4.68746366],\n",
       "       [4.65614658],\n",
       "       [4.58455542]])"
      ]
     },
     "execution_count": 13,
     "metadata": {},
     "output_type": "execute_result"
    }
   ],
   "source": [
    "transformed = pca.transform(lpi_components_standard_scaled)\n",
    "transformed[:10]"
   ]
  },
  {
   "cell_type": "markdown",
   "id": "corresponding-leone",
   "metadata": {
    "slideshow": {
     "slide_type": "slide"
    }
   },
   "source": [
    "* Τι κάνει αυτή η προβολή;\n",
    "\n",
    "* Η νέα διάσταση που προέκυψε είναι ένας γραμμικός συνδυασμός των υπαρχόντων.\n",
    "\n",
    "* Οι συντελεστές του γραμμικού συνδυασμού δίνονται από την ιδιότητα `components_`.\n",
    "\n",
    "* Οι συντελεστές των κυρίων συνιστωσών ονομάζονται *φορτία* (loadings)."
   ]
  },
  {
   "cell_type": "code",
   "execution_count": 14,
   "id": "appreciated-draft",
   "metadata": {
    "slideshow": {
     "slide_type": "fragment"
    }
   },
   "outputs": [
    {
     "data": {
      "text/plain": [
       "array([[0.40728498, 0.41303479, 0.39604297, 0.41660675, 0.41067906,\n",
       "        0.40552768]])"
      ]
     },
     "execution_count": 14,
     "metadata": {},
     "output_type": "execute_result"
    }
   ],
   "source": [
    "pca.components_"
   ]
  },
  {
   "cell_type": "markdown",
   "id": "cognitive-shipping",
   "metadata": {
    "slideshow": {
     "slide_type": "slide"
    }
   },
   "source": [
    "* Έτσι, αν έχουμε τους έξι επιμέρους δείκτες (διαστάσεις), η νέα διάσταση προκύπτει από τη σχέση:\n",
    "\n",
    "$$ 0{,}40728498 x_1 + 0{,}41303479 x_2 + 0{,}39604297 x_3 + 0{,}41660675 x_4 + 0{,}41067906 x_5 + 0{,}40552768 x_6 $$"
   ]
  },
  {
   "cell_type": "markdown",
   "id": "guided-essex",
   "metadata": {
    "slideshow": {
     "slide_type": "slide"
    }
   },
   "source": [
    "* Επομένως θα μπορούσαμε να χρησιμοποιήσουμε την τιμή `transformed` ως τον δείκτη LPI.\n",
    "\n",
    "* Πλην όμως αυτή δεν κυμαίνεται από το 1 έως και το 5."
   ]
  },
  {
   "cell_type": "code",
   "execution_count": 9,
   "id": "removable-count",
   "metadata": {
    "slideshow": {
     "slide_type": "fragment"
    }
   },
   "outputs": [
    {
     "name": "stdout",
     "output_type": "stream",
     "text": [
      "-3.816178904589358 5.545473639886474\n"
     ]
    }
   ],
   "source": [
    "print(transformed.min(), transformed.max())"
   ]
  },
  {
   "cell_type": "markdown",
   "id": "harmful-arbor",
   "metadata": {
    "slideshow": {
     "slide_type": "slide"
    }
   },
   "source": [
    "* Μπορούμε να ξεπεράσουμε το πρόβλημα αν σκεφτούμε ότι μπορούμε να χρησιμοποιήσουμε τα φορτία για να υπολογίσουμε τον σταθμισμένο μέσο όρο των επιμέρους δεικτών.\n",
    "\n",
    "* Πράγματι, οι τιμές που παίρνουμε είναι πολύ κοντά στις τελικές τιμές του LPI που δημοσιεύει η Παγκόσμια Τράπεζα."
   ]
  },
  {
   "cell_type": "code",
   "execution_count": 15,
   "id": "fallen-capacity",
   "metadata": {
    "slideshow": {
     "slide_type": "fragment"
    }
   },
   "outputs": [
    {
     "data": {
      "text/plain": [
       "array([4.2122752 , 4.05869046, 4.03685368, 4.03281921, 4.03928615,\n",
       "       4.03042283, 4.00731942, 4.00371973, 3.99503935, 3.98022523])"
      ]
     },
     "execution_count": 15,
     "metadata": {},
     "output_type": "execute_result"
    }
   ],
   "source": [
    "import numpy as np\n",
    "\n",
    "np.average(lpi_components, axis=1, weights=pca.components_[0])[:10]"
   ]
  },
  {
   "cell_type": "markdown",
   "id": "universal-gazette",
   "metadata": {
    "slideshow": {
     "slide_type": "slide"
    }
   },
   "source": [
    "* Τι καταφέραμε;\n",
    "\n",
    "* Πήγαμε από τις έξι διαστάσεις σε μία.\n",
    "\n",
    "* Γενικότερα, μπορούμε να έχουμε πολλές περισσότερες διαστάσεις και να θέλουμε να τις μειώσουμε:\n",
    "\n",
    "  * Επειδή οι διαστάσεις είναι περισσότερες από όσες μπορούμε να χειριστούμε.\n",
    "  \n",
    "  * Επειδή οι διαστάσεις μπορεί να είναι περιττές (θόρυβος).\n",
    "  \n",
    "  * Επειδή με λιγότερες διαστάσεις μπορούμε να κατανοήσουμε τα προβλήματά μας καλύτερα.\n",
    "  \n",
    "* Αλλά προσοχή: είναι δική μας δουλειά η ερμηνεία των νέων διαστάσεων!"
   ]
  }
 ],
 "metadata": {
  "celltoolbar": "Slideshow",
  "kernelspec": {
   "display_name": "Python 3 (ipykernel)",
   "language": "python",
   "name": "python3"
  },
  "language_info": {
   "codemirror_mode": {
    "name": "ipython",
    "version": 3
   },
   "file_extension": ".py",
   "mimetype": "text/x-python",
   "name": "python",
   "nbconvert_exporter": "python",
   "pygments_lexer": "ipython3",
   "version": "3.9.7"
  }
 },
 "nbformat": 4,
 "nbformat_minor": 5
}
