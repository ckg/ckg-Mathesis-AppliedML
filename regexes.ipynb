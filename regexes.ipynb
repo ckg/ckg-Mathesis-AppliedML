{
 "cells": [
  {
   "cell_type": "markdown",
   "metadata": {
    "slideshow": {
     "slide_type": "slide"
    }
   },
   "source": [
    "# Κανονικές Εκφράσεις\n",
    "\n",
    "* Με υλικό από το [Regular Expression HOWTO](https://docs.python.org/3/howto/regex.html).\n",
    "\n",
    "---\n",
    "\n",
    "> Πάνος Λουρίδας, Αναπληρωτής Καθηγητής <br />\n",
    "> Τμήμα Διοικητικής Επιστήμης και Τεχνολογίας <br />\n",
    "> Οικονομικό Πανεπιστήμιο Αθηνών <br />\n",
    "> louridas@aueb.gr"
   ]
  },
  {
   "cell_type": "markdown",
   "metadata": {
    "slideshow": {
     "slide_type": "slide"
    }
   },
   "source": [
    "* Οι κανονικές εκφράσεις (regular expresssions, REs, regexes) είναι ένας μηχανισμός με τον οποίον μπορούμε να περιγράφουμε συμβολοσειρές.\n",
    "\n",
    "* Με τον τρόπο αυτό μπορούμε να αναζητούμε συμβολοσειρές που έχουν μια συγκεκριμένη μορφή, αντί να είμαστε περιορισμένοι στην αναζήτηση συγκεκριμένων συμβολοσειρών.\n",
    "\n",
    "* Για παράδειγμα, έστω ότι δεν θέλουμε να βρούμε ένα συγκεκριμένο τηλέφωνο μέσα σε κάποια δεδομένα, αλλά όλους τους αριθμούς τηλεφώνου μέσα στα δεδομένα. Πώς θα το κάνουμε αυτό;"
   ]
  },
  {
   "cell_type": "markdown",
   "metadata": {
    "slideshow": {
     "slide_type": "slide"
    }
   },
   "source": [
    "* Μια κανονική έκφραση αποτελείται από χαρακτήρες και σύμβολα.\n",
    "\n",
    "* Οι περισσότεροι χαρακτήρες *ταιριάζουν* (περιγράφουν, match) στον εαυτό τους.\n",
    "\n",
    "  * Η κανονική έκφραση `test` ταιριάζει στη συμβολοσειρά `test`. \n",
    "  \n",
    "  * Η κανονική έκφραση `banana` ταιριάζει στη συμβολοσειρά `banana`."
   ]
  },
  {
   "cell_type": "markdown",
   "metadata": {
    "slideshow": {
     "slide_type": "slide"
    }
   },
   "source": [
    "* Υπάρχουν όμως εξαιρέσεις (και εκεί γίνεται ενδιαφέρον το πράγμα).\n",
    "\n",
    "* Μερικοί χαρακτήρες είναι *μεταχαρακτήρες*, και δεν ταιριάζουν στον εαυτό τους. \n",
    "\n",
    "* Σηματοδοτούν κάποιο γεγονός, ή κάποιο ταίριασμα που δεν απλώς ταυτοποίηση ενός χαρακτήρα.\n",
    "\n",
    "* Οι μεταχαρακτήρες είναι οι εξής:\n",
    "\n",
    "  `. ^ $ * + ? { } [ ] \\ | ( )`"
   ]
  },
  {
   "cell_type": "markdown",
   "metadata": {
    "slideshow": {
     "slide_type": "slide"
    }
   },
   "source": [
    "* Οι μεταχαρακτήρες `[` and `]` χρησιμοποιούνται για να ορίσουν μία *κλάση χαρακτήρων* (character class), ένα σύνολο από χαρακτήρες που θέλουμε να ταιριάξουμε.\n",
    "\n",
    "* Για παράδειγμα, η κανονική έκφραση `[abc]` ταιριάζει με το `a`, `b`, ή `c`. \n",
    "\n",
    "* Η κανονική έκφραση `[fgm]ood` ταιριάζει με τις λέξεις `food`, `good`, `mood`."
   ]
  },
  {
   "cell_type": "markdown",
   "metadata": {
    "slideshow": {
     "slide_type": "slide"
    }
   },
   "source": [
    "* Μπορούμε να ορίσουμε ένα πεδίο χαρακτήρων χρησιμοποιώντας το `-`.\n",
    "\n",
    "* Αντί να γράφουμε `[abc]` μπορούμε να γράφουμε `[a-c]`.\n",
    "\n",
    "* Οπότε, αν θέλουμε να ταιριάξουμε οποιονδήποτε πεζό λατινικό χαρακτήρα μπορούμε να χρησιμοποιήσουμε την κανονική έκφραση `[a-z]`."
   ]
  },
  {
   "cell_type": "markdown",
   "metadata": {
    "slideshow": {
     "slide_type": "slide"
    }
   },
   "source": [
    "* Οι μεταχαρακτήρες συμπεριφέρονται ως κανονικοί χαρακτήρες όταν βρίσκονται στην περιγραφή μιας κλάσης.\n",
    "\n",
    "* Η `[akm$]` θα ταιριάξει με οποιοδήποτε από τα `a`, `k`, `m`, ή `$`.\n",
    "\n",
    "* Το `$` είναι συνήθως μεταχαρακτήρας, αλλά όχι μέσα στην περιγραφή μιας κλάσης."
   ]
  },
  {
   "cell_type": "markdown",
   "metadata": {
    "slideshow": {
     "slide_type": "slide"
    }
   },
   "source": [
    "* Αν θέλουμε να πάρουμε τους χαρακτήρες που δεν περιλαμβάνονται σε μία κλάση, μπορούμε να τη *συμπληρώσουμε* (complement). \n",
    "\n",
    "* Αυτό το κάνουμε βάζοντας το `^` ως τον πρώτο χαρακτήρα της κλάσης.\n",
    "\n",
    "* Η έκφραση `[^5]` θα ταιριάξει με οποιονδήποτε χαρακτήρα *εκτός* του `5`. \n",
    "\n",
    "* Η έκφραση `[^m]iss` θα ταιριάξει με το `kiss`, `hiss`, `diss`, όπως και κάθε άλλη λέξη που τελειώνει σε `iss` χωρίς να αρχίζει με `m`."
   ]
  },
  {
   "cell_type": "markdown",
   "metadata": {
    "slideshow": {
     "slide_type": "slide"
    }
   },
   "source": [
    "* Αν το `^` δεν είναι στην αρχή μιας κλάσης χάνει την ειδική σημασία του.\n",
    "\n",
    "* Η `[5^]` θα ταιριάξει με το `5` ή το `^`."
   ]
  },
  {
   "cell_type": "markdown",
   "metadata": {
    "slideshow": {
     "slide_type": "slide"
    }
   },
   "source": [
    "* Ίσως ο σημαντικότερος μεταχαρακτήρας να είναι ο `\\` (backslash).\n",
    "\n",
    "* Με αυτόν περιγράφουμε συγκεκριμένες κλάσεις χαρακτήρων.\n",
    "\n",
    "* Το `\\d` περιγράφει οποιοδήποτε δεκαδικό ψηφίο: `[0-9]`.\n",
    "\n",
    "* Το `\\D` περιγράφει τους χαρακτήρες που *δεν* είναι δεκαδικά ψηφία: `[^0-9]`.\n",
    "\n",
    "* Το `\\s` περιγράφει τους χαρακτήρες κενών: `[ \\t\\n\\r\\f\\v]`:\n",
    "  \n",
    "  * `\\f` είναι ο χαρακτήρας για νέα σελίδα (formfeed)\n",
    "  * `\\n` είναι ο χαρακτήρας νέας γραμμής (linefeed)\n",
    "  * `\\r` είναι o χαρακτήρας μετακίνησης στην αρχή της γραμμής (carriage return)\n",
    "  * `\\t` είναι ο στηλογνώμονας (tab)\n",
    "  * `\\v` είναι ο κάθετος στηλογνώμονας (vertical tab)\n",
    "\n",
    "* To `\\S` περιγράφει ό,τι δεν είναι κενός χαρακτήρας: `[^ \\t\\n\\r\\f\\v]`.\n",
    "\n",
    "* Το `\\w` ταιριάζει με οποιονδήποτε αλφαριθμητικό χαρακτήρα: `[a-zA-Z0-9_]` (περίπου).\n",
    "\n",
    "* `\\W` περιγράφει ότι δεν είναι αλφαριθμητικός χαρακτήρας: `[^a-zA-Z0-9_]` (περίπου)."
   ]
  },
  {
   "cell_type": "markdown",
   "metadata": {
    "slideshow": {
     "slide_type": "slide"
    }
   },
   "source": [
    "* Μια ειδική κλάση είναι ο *οποιοσδήποτε χαρακτήρας*, `.`.\n",
    "\n",
    "* Αυτός ταιριάζει με κάθε χαρακτήρα εκτός της νέας γραμμής."
   ]
  },
  {
   "cell_type": "markdown",
   "metadata": {
    "slideshow": {
     "slide_type": "slide"
    }
   },
   "source": [
    "* Η περιγραφή κλάσεων χαρακτήρων δεν είναι το μόνο πράγμα που μπορούμε να κάνουμε με κανονικές εκφράσεις.\n",
    "\n",
    "* Μια άλλη δυνατότητα που μας δίνουν είναι να περιγράφουμε ότι κομμάτια τους μπορούν να επαναλαμβάνονται."
   ]
  },
  {
   "cell_type": "markdown",
   "metadata": {
    "slideshow": {
     "slide_type": "slide"
    }
   },
   "source": [
    "* Ο μεταχαρακτήρας `*` σημαίνει ότι ο προηγούμενός του χαρακτήρας μπορεί να ταιριάξει από μηδέν έως οσεσδήποτε φορές, όσες περισσότερες μπορεί, είναι δηλαδή *λαίμαργος* (greedy).\n",
    "\n",
    "* Η έκφραση `ca*t` μπορεί να ταιριάξει με το `ct` (0 `a`), `cat` (1 `a`), `caaat` (3 `a`), κ.λπ."
   ]
  },
  {
   "cell_type": "markdown",
   "metadata": {
    "slideshow": {
     "slide_type": "slide"
    }
   },
   "source": [
    "* Ένας άλλος σχετικός χαρακτήρας είναι ο `+`, ο οποίος μπορεί να ταιριάξει λαίμαργα από *μία* έως οσεσδήποτε φορές. \n",
    "\n",
    "* Η έκφραση `ca+t` μπορεί να ταιριάξει με το `cat` (1 `a`), `caaat` (3 `a`s), αλλά όχι με το`ct`."
   ]
  },
  {
   "cell_type": "markdown",
   "metadata": {
    "slideshow": {
     "slide_type": "slide"
    }
   },
   "source": [
    "* Το ερωτηματικό `?`, ταιριάζει 0 ή 1 φορά.\n",
    "\n",
    "* Δηλαδή, δηλώνει ότι κάτι είναι προαιρετικό.\n",
    "\n",
    "* Η έκφραση`home-?brew` ταιριάζει με το`homebrew` ή το `home-brew`."
   ]
  },
  {
   "cell_type": "markdown",
   "metadata": {
    "slideshow": {
     "slide_type": "slide"
    }
   },
   "source": [
    "* Μπορούμε να δώσουμε συγκεκριμένο αριθμό επαναλήψεων γράφοντας `{m,n}`, όπου `m` και `n` είναι ψηφία (το `n` θα δούμε ότι μπορεί να λείπει). \n",
    "\n",
    "* Αυτό σημαίνει ότι θέλουμε από `m` έως και `n` επαναλήψεις.\n",
    "\n",
    "* Η έκφραση `a/{1,3}b` ταιριάζει με τα `a/b`, `a//b`, και `a///b`. "
   ]
  },
  {
   "cell_type": "markdown",
   "metadata": {
    "slideshow": {
     "slide_type": "slide"
    }
   },
   "source": [
    "* Το `{0,}`είναι το ίδιο με το `*`.\n",
    "\n",
    "* Το `{1,}` είναι το ίδιο με το `+`.\n",
    "\n",
    "* Το `{0,1}` είναι το ίδιο με το `?`. "
   ]
  },
  {
   "cell_type": "markdown",
   "metadata": {
    "slideshow": {
     "slide_type": "slide"
    }
   },
   "source": [
    "* Ο μεταχαρακτήρας `|` είναι το λογικό \"Ή\".\n",
    "\n",
    "* Η έκφραση `Cat|Dog` ταιριάζει με το `Cat` ή με το  `Dog`."
   ]
  },
  {
   "cell_type": "markdown",
   "metadata": {
    "slideshow": {
     "slide_type": "slide"
    }
   },
   "source": [
    "* Ο μεταχαρακτήρας `^` ταιριάζει στην αρχή της συμβολοσειράς.\n",
    "\n",
    "* Για παράδειγμα, αν θέλουμε να ταιριάξουμε τη λέξη `From` μόνο στην αρχή της συμβολοσειράς, θα δώσουμε `^From`.\n",
    "\n",
    "* Έτσι, το `^From` ταιριάζει με το `'From Here to Eternity'`.\n",
    "\n",
    "* Αλλά *δεν* ταιριάζει με το `'Reciting From Memory'`."
   ]
  },
  {
   "cell_type": "markdown",
   "metadata": {
    "slideshow": {
     "slide_type": "slide"
    }
   },
   "source": [
    "* Συμμετρικός του `^` είναι ο μεταχαρακτήρας`$` που ταιριάζει στο τέλος της συμβολοσειράς.\n",
    "\n",
    "* Έτσι το `fear$` ταιριάζει με το `do not fear`.\n",
    "\n",
    "* Αλλά δεν ταιριάζει με το `fear not`."
   ]
  },
  {
   "cell_type": "markdown",
   "metadata": {
    "slideshow": {
     "slide_type": "slide"
    }
   },
   "source": [
    "* Αν θέλουμε να αφαιρέσουμε τη σημασία ενός μεταχαρακτήρα, χρησιμοποιούμε το `\\`.\n",
    "\n",
    "* Άρα, για να ταιριάξουμε το `$` δίνουμε `\\$`."
   ]
  },
  {
   "cell_type": "markdown",
   "metadata": {
    "slideshow": {
     "slide_type": "slide"
    }
   },
   "source": [
    "* Άρα πώς θα ταιριάξουμε αριθμούς τηλεφώνων;\n",
    "\n",
    "* Αν ο αριθμός μας αποτελείται από επτά ψηφία θα γράψουμε:\n",
    "\n",
    "   `\\d{7}`\n",
    "   \n",
    "* Αν θέλουμε να πιάσουμε τους αριθμούς στην Αθήνα, θα γράψουμε:\n",
    "\n",
    "   `210 \\d{7}`\n",
    "   \n",
    "* Αλλά το κενό μπορεί να είναι προαιρετικό, οπότε καλύτερα:\n",
    "\n",
    "   `210\\s?\\d{7}`"
   ]
  },
  {
   "cell_type": "markdown",
   "metadata": {
    "slideshow": {
     "slide_type": "slide"
    }
   },
   "source": [
    "* Ας δούμε ένα ρεαλιστικό παράδειγμα.\n",
    "\n",
    "* Το παράδειγμα αφορά ένα σύνολο περισσότερων από 500.000 μηνυμάτων ηλεκτρονικού ταχυδρομείου που σχετίζονταν με το [Σκάνδαλο Enron](https://en.wikipedia.org/wiki/Enron_scandal).\n",
    "\n",
    "* Αυτά έχουν συγκεντρωθεί σε ένα αρχείο, το οποίο περιέχει ένα αρχείο CSV.\n",
    "\n",
    "* Το αρχείο μπορούμε να το κατεβάσουμε από το [Kaggle](https://www.kaggle.com/wcukierski/enron-email-dataset). "
   ]
  },
  {
   "cell_type": "code",
   "execution_count": 1,
   "metadata": {
    "slideshow": {
     "slide_type": "slide"
    }
   },
   "outputs": [
    {
     "data": {
      "text/html": [
       "<div>\n",
       "<style scoped>\n",
       "    .dataframe tbody tr th:only-of-type {\n",
       "        vertical-align: middle;\n",
       "    }\n",
       "\n",
       "    .dataframe tbody tr th {\n",
       "        vertical-align: top;\n",
       "    }\n",
       "\n",
       "    .dataframe thead th {\n",
       "        text-align: right;\n",
       "    }\n",
       "</style>\n",
       "<table border=\"1\" class=\"dataframe\">\n",
       "  <thead>\n",
       "    <tr style=\"text-align: right;\">\n",
       "      <th></th>\n",
       "      <th>file</th>\n",
       "      <th>message</th>\n",
       "    </tr>\n",
       "  </thead>\n",
       "  <tbody>\n",
       "    <tr>\n",
       "      <th>0</th>\n",
       "      <td>allen-p/_sent_mail/1.</td>\n",
       "      <td>Message-ID: &lt;18782981.1075855378110.JavaMail.e...</td>\n",
       "    </tr>\n",
       "    <tr>\n",
       "      <th>1</th>\n",
       "      <td>allen-p/_sent_mail/10.</td>\n",
       "      <td>Message-ID: &lt;15464986.1075855378456.JavaMail.e...</td>\n",
       "    </tr>\n",
       "    <tr>\n",
       "      <th>2</th>\n",
       "      <td>allen-p/_sent_mail/100.</td>\n",
       "      <td>Message-ID: &lt;24216240.1075855687451.JavaMail.e...</td>\n",
       "    </tr>\n",
       "    <tr>\n",
       "      <th>3</th>\n",
       "      <td>allen-p/_sent_mail/1000.</td>\n",
       "      <td>Message-ID: &lt;13505866.1075863688222.JavaMail.e...</td>\n",
       "    </tr>\n",
       "    <tr>\n",
       "      <th>4</th>\n",
       "      <td>allen-p/_sent_mail/1001.</td>\n",
       "      <td>Message-ID: &lt;30922949.1075863688243.JavaMail.e...</td>\n",
       "    </tr>\n",
       "    <tr>\n",
       "      <th>...</th>\n",
       "      <td>...</td>\n",
       "      <td>...</td>\n",
       "    </tr>\n",
       "    <tr>\n",
       "      <th>517396</th>\n",
       "      <td>zufferli-j/sent_items/95.</td>\n",
       "      <td>Message-ID: &lt;26807948.1075842029936.JavaMail.e...</td>\n",
       "    </tr>\n",
       "    <tr>\n",
       "      <th>517397</th>\n",
       "      <td>zufferli-j/sent_items/96.</td>\n",
       "      <td>Message-ID: &lt;25835861.1075842029959.JavaMail.e...</td>\n",
       "    </tr>\n",
       "    <tr>\n",
       "      <th>517398</th>\n",
       "      <td>zufferli-j/sent_items/97.</td>\n",
       "      <td>Message-ID: &lt;28979867.1075842029988.JavaMail.e...</td>\n",
       "    </tr>\n",
       "    <tr>\n",
       "      <th>517399</th>\n",
       "      <td>zufferli-j/sent_items/98.</td>\n",
       "      <td>Message-ID: &lt;22052556.1075842030013.JavaMail.e...</td>\n",
       "    </tr>\n",
       "    <tr>\n",
       "      <th>517400</th>\n",
       "      <td>zufferli-j/sent_items/99.</td>\n",
       "      <td>Message-ID: &lt;28618979.1075842030037.JavaMail.e...</td>\n",
       "    </tr>\n",
       "  </tbody>\n",
       "</table>\n",
       "<p>517401 rows × 2 columns</p>\n",
       "</div>"
      ],
      "text/plain": [
       "                             file  \\\n",
       "0           allen-p/_sent_mail/1.   \n",
       "1          allen-p/_sent_mail/10.   \n",
       "2         allen-p/_sent_mail/100.   \n",
       "3        allen-p/_sent_mail/1000.   \n",
       "4        allen-p/_sent_mail/1001.   \n",
       "...                           ...   \n",
       "517396  zufferli-j/sent_items/95.   \n",
       "517397  zufferli-j/sent_items/96.   \n",
       "517398  zufferli-j/sent_items/97.   \n",
       "517399  zufferli-j/sent_items/98.   \n",
       "517400  zufferli-j/sent_items/99.   \n",
       "\n",
       "                                                  message  \n",
       "0       Message-ID: <18782981.1075855378110.JavaMail.e...  \n",
       "1       Message-ID: <15464986.1075855378456.JavaMail.e...  \n",
       "2       Message-ID: <24216240.1075855687451.JavaMail.e...  \n",
       "3       Message-ID: <13505866.1075863688222.JavaMail.e...  \n",
       "4       Message-ID: <30922949.1075863688243.JavaMail.e...  \n",
       "...                                                   ...  \n",
       "517396  Message-ID: <26807948.1075842029936.JavaMail.e...  \n",
       "517397  Message-ID: <25835861.1075842029959.JavaMail.e...  \n",
       "517398  Message-ID: <28979867.1075842029988.JavaMail.e...  \n",
       "517399  Message-ID: <22052556.1075842030013.JavaMail.e...  \n",
       "517400  Message-ID: <28618979.1075842030037.JavaMail.e...  \n",
       "\n",
       "[517401 rows x 2 columns]"
      ]
     },
     "execution_count": 1,
     "metadata": {},
     "output_type": "execute_result"
    }
   ],
   "source": [
    "import pandas as pd\n",
    "\n",
    "enron = pd.read_csv('nyc_taxi/emails.csv.zip')\n",
    "enron"
   ]
  },
  {
   "cell_type": "code",
   "execution_count": 2,
   "metadata": {
    "slideshow": {
     "slide_type": "slide"
    }
   },
   "outputs": [
    {
     "name": "stdout",
     "output_type": "stream",
     "text": [
      "Message-ID: <15464986.1075855378456.JavaMail.evans@thyme>\n",
      "Date: Fri, 4 May 2001 13:51:00 -0700 (PDT)\n",
      "From: phillip.allen@enron.com\n",
      "To: john.lavorato@enron.com\n",
      "Subject: Re:\n",
      "Mime-Version: 1.0\n",
      "Content-Type: text/plain; charset=us-ascii\n",
      "Content-Transfer-Encoding: 7bit\n",
      "X-From: Phillip K Allen\n",
      "X-To: John J Lavorato <John J Lavorato/ENRON@enronXgate@ENRON>\n",
      "X-cc: \n",
      "X-bcc: \n",
      "X-Folder: \\Phillip_Allen_Jan2002_1\\Allen, Phillip K.\\'Sent Mail\n",
      "X-Origin: Allen-P\n",
      "X-FileName: pallen (Non-Privileged).pst\n",
      "\n",
      "Traveling to have a business meeting takes the fun out of the trip.  Especially if you have to prepare a presentation.  I would suggest holding the business plan meetings here then take a trip without any formal business meetings.  I would even try and get some honest opinions on whether a trip is even desired or necessary.\n",
      "\n",
      "As far as the business meetings, I think it would be more productive to try and stimulate discussions across the different groups about what is working and what is not.  Too often the presenter speaks and the others are quiet just waiting for their turn.   The meetings might be better if held in a round table discussion format.  \n",
      "\n",
      "My suggestion for where to go is Austin.  Play golf and rent a ski boat and jet ski's.  Flying somewhere takes too much time.\n",
      "\n"
     ]
    }
   ],
   "source": [
    "print(enron.loc[1].message)"
   ]
  },
  {
   "cell_type": "markdown",
   "metadata": {
    "slideshow": {
     "slide_type": "slide"
    }
   },
   "source": [
    "* Έστω ότι θέλουμε να εξάγουμε όλους τους αποστολείς μηνυμάτων.\n",
    "\n",
    "* Αυτό μπορεί να γίνει εύκολα με μια κανονική έκφραση (που μπορούμε να τη βρούμε έτοιμη)."
   ]
  },
  {
   "cell_type": "code",
   "execution_count": 3,
   "metadata": {
    "slideshow": {
     "slide_type": "fragment"
    }
   },
   "outputs": [
    {
     "data": {
      "text/html": [
       "<div>\n",
       "<style scoped>\n",
       "    .dataframe tbody tr th:only-of-type {\n",
       "        vertical-align: middle;\n",
       "    }\n",
       "\n",
       "    .dataframe tbody tr th {\n",
       "        vertical-align: top;\n",
       "    }\n",
       "\n",
       "    .dataframe thead th {\n",
       "        text-align: right;\n",
       "    }\n",
       "</style>\n",
       "<table border=\"1\" class=\"dataframe\">\n",
       "  <thead>\n",
       "    <tr style=\"text-align: right;\">\n",
       "      <th></th>\n",
       "      <th>0</th>\n",
       "    </tr>\n",
       "  </thead>\n",
       "  <tbody>\n",
       "    <tr>\n",
       "      <th>0</th>\n",
       "      <td>phillip.allen@enron.com</td>\n",
       "    </tr>\n",
       "    <tr>\n",
       "      <th>1</th>\n",
       "      <td>phillip.allen@enron.com</td>\n",
       "    </tr>\n",
       "    <tr>\n",
       "      <th>2</th>\n",
       "      <td>phillip.allen@enron.com</td>\n",
       "    </tr>\n",
       "    <tr>\n",
       "      <th>3</th>\n",
       "      <td>phillip.allen@enron.com</td>\n",
       "    </tr>\n",
       "    <tr>\n",
       "      <th>4</th>\n",
       "      <td>phillip.allen@enron.com</td>\n",
       "    </tr>\n",
       "    <tr>\n",
       "      <th>...</th>\n",
       "      <td>...</td>\n",
       "    </tr>\n",
       "    <tr>\n",
       "      <th>517396</th>\n",
       "      <td>john.zufferli@enron.com</td>\n",
       "    </tr>\n",
       "    <tr>\n",
       "      <th>517397</th>\n",
       "      <td>john.zufferli@enron.com</td>\n",
       "    </tr>\n",
       "    <tr>\n",
       "      <th>517398</th>\n",
       "      <td>john.zufferli@enron.com</td>\n",
       "    </tr>\n",
       "    <tr>\n",
       "      <th>517399</th>\n",
       "      <td>john.zufferli@enron.com</td>\n",
       "    </tr>\n",
       "    <tr>\n",
       "      <th>517400</th>\n",
       "      <td>john.zufferli@enron.com</td>\n",
       "    </tr>\n",
       "  </tbody>\n",
       "</table>\n",
       "<p>517401 rows × 1 columns</p>\n",
       "</div>"
      ],
      "text/plain": [
       "                              0\n",
       "0       phillip.allen@enron.com\n",
       "1       phillip.allen@enron.com\n",
       "2       phillip.allen@enron.com\n",
       "3       phillip.allen@enron.com\n",
       "4       phillip.allen@enron.com\n",
       "...                         ...\n",
       "517396  john.zufferli@enron.com\n",
       "517397  john.zufferli@enron.com\n",
       "517398  john.zufferli@enron.com\n",
       "517399  john.zufferli@enron.com\n",
       "517400  john.zufferli@enron.com\n",
       "\n",
       "[517401 rows x 1 columns]"
      ]
     },
     "execution_count": 3,
     "metadata": {},
     "output_type": "execute_result"
    }
   ],
   "source": [
    "matches = enron.message.str.extract(r'From: ([a-zA-Z0-9_.+-]+@[a-zA-Z0-9-]+\\.[a-zA-Z0-9-.]+)')\n",
    "matches"
   ]
  },
  {
   "cell_type": "markdown",
   "metadata": {
    "slideshow": {
     "slide_type": "slide"
    }
   },
   "source": [
    "* Το αποτέλεσμα ήταν ένα `DataFrame` όπου τα μηνύματα ήταν στη στήλη `0`.\n",
    "\n",
    "* Μπορούμε να δώσουμε ένα όνομα στο τμήμα που εξάγουμε με την κανονική έκφραση, ώστε το `DataFrame` να είναι πιο φιλικό."
   ]
  },
  {
   "cell_type": "code",
   "execution_count": 4,
   "metadata": {
    "slideshow": {
     "slide_type": "fragment"
    }
   },
   "outputs": [
    {
     "data": {
      "text/html": [
       "<div>\n",
       "<style scoped>\n",
       "    .dataframe tbody tr th:only-of-type {\n",
       "        vertical-align: middle;\n",
       "    }\n",
       "\n",
       "    .dataframe tbody tr th {\n",
       "        vertical-align: top;\n",
       "    }\n",
       "\n",
       "    .dataframe thead th {\n",
       "        text-align: right;\n",
       "    }\n",
       "</style>\n",
       "<table border=\"1\" class=\"dataframe\">\n",
       "  <thead>\n",
       "    <tr style=\"text-align: right;\">\n",
       "      <th></th>\n",
       "      <th>from</th>\n",
       "    </tr>\n",
       "  </thead>\n",
       "  <tbody>\n",
       "    <tr>\n",
       "      <th>0</th>\n",
       "      <td>phillip.allen@enron.com</td>\n",
       "    </tr>\n",
       "    <tr>\n",
       "      <th>1</th>\n",
       "      <td>phillip.allen@enron.com</td>\n",
       "    </tr>\n",
       "    <tr>\n",
       "      <th>2</th>\n",
       "      <td>phillip.allen@enron.com</td>\n",
       "    </tr>\n",
       "    <tr>\n",
       "      <th>3</th>\n",
       "      <td>phillip.allen@enron.com</td>\n",
       "    </tr>\n",
       "    <tr>\n",
       "      <th>4</th>\n",
       "      <td>phillip.allen@enron.com</td>\n",
       "    </tr>\n",
       "    <tr>\n",
       "      <th>...</th>\n",
       "      <td>...</td>\n",
       "    </tr>\n",
       "    <tr>\n",
       "      <th>517396</th>\n",
       "      <td>john.zufferli@enron.com</td>\n",
       "    </tr>\n",
       "    <tr>\n",
       "      <th>517397</th>\n",
       "      <td>john.zufferli@enron.com</td>\n",
       "    </tr>\n",
       "    <tr>\n",
       "      <th>517398</th>\n",
       "      <td>john.zufferli@enron.com</td>\n",
       "    </tr>\n",
       "    <tr>\n",
       "      <th>517399</th>\n",
       "      <td>john.zufferli@enron.com</td>\n",
       "    </tr>\n",
       "    <tr>\n",
       "      <th>517400</th>\n",
       "      <td>john.zufferli@enron.com</td>\n",
       "    </tr>\n",
       "  </tbody>\n",
       "</table>\n",
       "<p>517401 rows × 1 columns</p>\n",
       "</div>"
      ],
      "text/plain": [
       "                           from\n",
       "0       phillip.allen@enron.com\n",
       "1       phillip.allen@enron.com\n",
       "2       phillip.allen@enron.com\n",
       "3       phillip.allen@enron.com\n",
       "4       phillip.allen@enron.com\n",
       "...                         ...\n",
       "517396  john.zufferli@enron.com\n",
       "517397  john.zufferli@enron.com\n",
       "517398  john.zufferli@enron.com\n",
       "517399  john.zufferli@enron.com\n",
       "517400  john.zufferli@enron.com\n",
       "\n",
       "[517401 rows x 1 columns]"
      ]
     },
     "execution_count": 4,
     "metadata": {},
     "output_type": "execute_result"
    }
   ],
   "source": [
    "matches = enron.message.str.extract(r'From: (?P<from>[a-zA-Z0-9_.+-]+@[a-zA-Z0-9-]+\\.[a-zA-Z0-9-.]+)')\n",
    "matches"
   ]
  },
  {
   "cell_type": "markdown",
   "metadata": {
    "slideshow": {
     "slide_type": "slide"
    }
   },
   "source": [
    "* Τότε μπορούμε να μετρήσουμε τα μηνύματα που στάλθηκαν και να βρούμε τους πιο συχνούς αποστολείς."
   ]
  },
  {
   "cell_type": "code",
   "execution_count": 5,
   "metadata": {
    "slideshow": {
     "slide_type": "fragment"
    }
   },
   "outputs": [
    {
     "data": {
      "text/plain": [
       "kay.mann@enron.com               16735\n",
       "vince.kaminski@enron.com         14368\n",
       "jeff.dasovich@enron.com          11411\n",
       "pete.davis@enron.com              9149\n",
       "chris.germany@enron.com           8801\n",
       "sara.shackleton@enron.com         8777\n",
       "enron.announcements@enron.com     8587\n",
       "tana.jones@enron.com              8490\n",
       "steven.kean@enron.com             6759\n",
       "kate.symes@enron.com              5438\n",
       "Name: from, dtype: int64"
      ]
     },
     "execution_count": 5,
     "metadata": {},
     "output_type": "execute_result"
    }
   ],
   "source": [
    "matches['from'].value_counts()[:10]"
   ]
  },
  {
   "cell_type": "markdown",
   "metadata": {
    "slideshow": {
     "slide_type": "slide"
    }
   },
   "source": [
    "* O `kay.mann@enron.com`, Kay Mann, ήταν νομικός σύμβουλος στην Enron.\n",
    "\n",
    "* O `vince.kaminsky@enron.com` είναι ο Vincent Kaminski, διευθυντής έρευνας στην Enron. Αντιτάχθηκε στις πρακτικές που οδήγησαν στη χρεοκοπία (αλλά δεν εισακούστηκε)."
   ]
  }
 ],
 "metadata": {
  "celltoolbar": "Slideshow",
  "kernelspec": {
   "display_name": "Python 3 (ipykernel)",
   "language": "python",
   "name": "python3"
  },
  "language_info": {
   "codemirror_mode": {
    "name": "ipython",
    "version": 3
   },
   "file_extension": ".py",
   "mimetype": "text/x-python",
   "name": "python",
   "nbconvert_exporter": "python",
   "pygments_lexer": "ipython3",
   "version": "3.9.7"
  }
 },
 "nbformat": 4,
 "nbformat_minor": 2
}
