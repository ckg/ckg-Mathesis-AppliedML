{
 "cells": [
  {
   "cell_type": "markdown",
   "metadata": {
    "slideshow": {
     "slide_type": "slide"
    }
   },
   "source": [
    "# Από τους Νευρώνες στα Ρούχα\n",
    "\n",
    "Προσαρμοσμένο από την [τεκμηρίωση του TensorFlow](https://www.tensorflow.org/tutorials/keras/classification).\n",
    "\n",
    "---\n",
    "\n",
    "> Πάνος Λουρίδας, Αναπληρωτής Καθηγητής <br />\n",
    "> Τμήμα Διοικητικής Επιστήμης και Τεχνολογίας <br />\n",
    "> Οικονομικό Πανεπιστήμιο Αθηνών <br />\n",
    "> louridas@aueb.gr"
   ]
  },
  {
   "cell_type": "code",
   "execution_count": 1,
   "metadata": {
    "slideshow": {
     "slide_type": "slide"
    }
   },
   "outputs": [],
   "source": [
    "import matplotlib.pyplot as plt\n",
    "import numpy as np\n",
    "\n",
    "import tensorflow as tf\n",
    "from tensorflow import keras\n",
    "from tensorflow.keras import optimizers"
   ]
  },
  {
   "cell_type": "markdown",
   "metadata": {
    "slideshow": {
     "slide_type": "slide"
    }
   },
   "source": [
    "* Η πρώτη μας πραγματική εφαρμογή με νευρωνικά δίκτυα θα είναι η ταξινόμηση στο σύνολο δεδομένων [MNIST](https://github.com/zalandoresearch/fashion-mnist).\n",
    "\n",
    "* Περιέχει 70.000 γκριζόασπρες εικόνες που ανήκουν σε 10 κατηγορίες ιματισμού.\n",
    "\n",
    "* Η κάθε φωτογραφία είναι 28x28 pixels."
   ]
  },
  {
   "cell_type": "markdown",
   "metadata": {
    "slideshow": {
     "slide_type": "slide"
    }
   },
   "source": [
    "<img src=\"mnist_100.png\" width=\"500px\"/>"
   ]
  },
  {
   "cell_type": "markdown",
   "metadata": {
    "slideshow": {
     "slide_type": "slide"
    }
   },
   "source": [
    "* Τα δεδομένα είναι διαθέσιμα από το TensorFlow."
   ]
  },
  {
   "cell_type": "code",
   "execution_count": 2,
   "metadata": {
    "slideshow": {
     "slide_type": "fragment"
    }
   },
   "outputs": [
    {
     "name": "stdout",
     "output_type": "stream",
     "text": [
      "Downloading data from https://storage.googleapis.com/tensorflow/tf-keras-datasets/train-labels-idx1-ubyte.gz\n",
      "32768/29515 [=================================] - 0s 2us/step\n",
      "40960/29515 [=========================================] - 0s 2us/step\n",
      "Downloading data from https://storage.googleapis.com/tensorflow/tf-keras-datasets/train-images-idx3-ubyte.gz\n",
      "26427392/26421880 [==============================] - 4s 0us/step\n",
      "26435584/26421880 [==============================] - 4s 0us/step\n",
      "Downloading data from https://storage.googleapis.com/tensorflow/tf-keras-datasets/t10k-labels-idx1-ubyte.gz\n",
      "16384/5148 [===============================================================================================] - 0s 0s/step\n",
      "Downloading data from https://storage.googleapis.com/tensorflow/tf-keras-datasets/t10k-images-idx3-ubyte.gz\n",
      "4423680/4422102 [==============================] - 1s 0us/step\n",
      "4431872/4422102 [==============================] - 1s 0us/step\n"
     ]
    }
   ],
   "source": [
    "fashion_mnist = keras.datasets.fashion_mnist\n",
    "\n",
    "(train_images, train_labels), (test_images, test_labels) = fashion_mnist.load_data()"
   ]
  },
  {
   "cell_type": "markdown",
   "metadata": {
    "slideshow": {
     "slide_type": "slide"
    }
   },
   "source": [
    "* Οι ετικέτες είναι τα ονόματα των κλάσεων."
   ]
  },
  {
   "cell_type": "markdown",
   "metadata": {
    "slideshow": {
     "slide_type": "fragment"
    }
   },
   "source": [
    "| Label\t| Class |\n",
    "|-------|-------|\n",
    "|   0   | T-shirt/top |\n",
    "|   1   | Trouser |\n",
    "|   2   | Pullover |\n",
    "|   3   | Dress |\n",
    "|   4   | Coat |\n",
    "|   5   | Sandal |\n",
    "|   6   | Shirt |\n",
    "|   7   | Sneaker |\n",
    "|   8   | Bag |\n",
    "|   9   | Ankle boot |\n"
   ]
  },
  {
   "cell_type": "markdown",
   "metadata": {
    "slideshow": {
     "slide_type": "slide"
    }
   },
   "source": [
    "* Θα αποθηκεύσουμε τα ονόματα των κλάσεων σε μία λίστα για να τα έχουμε διαθέσιμα στη συνέχεια."
   ]
  },
  {
   "cell_type": "code",
   "execution_count": 3,
   "metadata": {
    "slideshow": {
     "slide_type": "fragment"
    }
   },
   "outputs": [],
   "source": [
    "class_names = ['T-shirt/top', 'Trouser', 'Pullover', 'Dress', 'Coat', \n",
    "               'Sandal', 'Shirt', 'Sneaker', 'Bag', 'Ankle boot']"
   ]
  },
  {
   "cell_type": "markdown",
   "metadata": {
    "slideshow": {
     "slide_type": "slide"
    }
   },
   "source": [
    "* Τα δεδομένα εκμάθησης είναι 60.000 εικόνες, κάθε μία διαστάσεων 28x28 pixels.\n",
    "\n",
    "* Υπάρχουν επίσης 60.000 ετικέτες, η κάθε μία από 0 έως και το 9."
   ]
  },
  {
   "cell_type": "code",
   "execution_count": 4,
   "metadata": {
    "slideshow": {
     "slide_type": "fragment"
    }
   },
   "outputs": [
    {
     "name": "stdout",
     "output_type": "stream",
     "text": [
      "(60000, 28, 28)\n",
      "60000\n",
      "[9 0 0 ... 3 0 5]\n"
     ]
    }
   ],
   "source": [
    "print(train_images.shape)\n",
    "print(len(train_labels))\n",
    "print(train_labels)"
   ]
  },
  {
   "cell_type": "markdown",
   "metadata": {
    "slideshow": {
     "slide_type": "slide"
    }
   },
   "source": [
    "* Τα δεδομένα ελέγχου αποτελούνται από 10.000 εικόνες, κάθε μία 28x28 pixels.\n",
    "\n",
    "* Και, φυσικά, 10.000 ετικέτες."
   ]
  },
  {
   "cell_type": "code",
   "execution_count": 5,
   "metadata": {
    "slideshow": {
     "slide_type": "fragment"
    }
   },
   "outputs": [
    {
     "name": "stdout",
     "output_type": "stream",
     "text": [
      "(10000, 28, 28)\n",
      "10000\n"
     ]
    }
   ],
   "source": [
    "print(test_images.shape)\n",
    "print(len(test_labels))"
   ]
  },
  {
   "cell_type": "markdown",
   "metadata": {
    "slideshow": {
     "slide_type": "slide"
    }
   },
   "source": [
    "* Ας δούμε μια εικόνα.\n",
    "\n",
    "* Οι τιμές στα pixels μπορούν να κυμαίνονται από το 0 έως και το 255."
   ]
  },
  {
   "cell_type": "code",
   "execution_count": 6,
   "metadata": {
    "slideshow": {
     "slide_type": "fragment"
    },
    "tags": [
     "remove_input"
    ]
   },
   "outputs": [
    {
     "data": {
      "image/png": "[encoded data removed]",
      "text/plain": [
       "<Figure size 432x288 with 2 Axes>"
      ]
     },
     "metadata": {
      "needs_background": "light"
     },
     "output_type": "display_data"
    }
   ],
   "source": [
    "fig = plt.figure()\n",
    "ax = fig.add_subplot(1, 1, 1)\n",
    "ax.margins(0, 0)  \n",
    "plt.imshow(train_images[0], \n",
    "           extent=(0, train_images[0].shape[0], train_images[0].shape[1], 0),\n",
    "           cmap=plt.cm.binary)\n",
    "plt.colorbar()\n",
    "plt.xlim(0, 28)\n",
    "plt.ylim(28, 0)\n",
    "minor_ticks = np.arange(0, 28, 1)\n",
    "ax.set_xticks(minor_ticks, minor=True)\n",
    "ax.set_yticks(minor_ticks, minor=True)\n",
    "ax.grid(which='both')"
   ]
  },
  {
   "cell_type": "markdown",
   "metadata": {
    "slideshow": {
     "slide_type": "slide"
    }
   },
   "source": [
    "<img src=\"mnist_ankle_boot_table.png\" width=\"700\"/>"
   ]
  },
  {
   "cell_type": "markdown",
   "metadata": {
    "slideshow": {
     "slide_type": "slide"
    }
   },
   "source": [
    "* Στα νευρωνικά δίκτυα επίσης δεν αρέσουν τα δεδομένα με μεγάλες διακυμάνσεις, οπότε θα τα μετατρέψουμε ώστε να έχουν τιμές μεταξύ 0 και 1."
   ]
  },
  {
   "cell_type": "code",
   "execution_count": 7,
   "metadata": {
    "slideshow": {
     "slide_type": "fragment"
    }
   },
   "outputs": [],
   "source": [
    "train_images = train_images / 255.0\n",
    "\n",
    "test_images = test_images / 255.0"
   ]
  },
  {
   "cell_type": "markdown",
   "metadata": {
    "slideshow": {
     "slide_type": "slide"
    }
   },
   "source": [
    "* Για να δούμε τις πρώτες 25 φωτογραφίες."
   ]
  },
  {
   "cell_type": "code",
   "execution_count": 8,
   "metadata": {
    "slideshow": {
     "slide_type": "fragment"
    },
    "tags": [
     "remove_input"
    ]
   },
   "outputs": [
    {
     "data": {
      "image/png": "[encoded data removed]",
      "text/plain": [
       "<Figure size 720x720 with 25 Axes>"
      ]
     },
     "metadata": {},
     "output_type": "display_data"
    }
   ],
   "source": [
    "plt.figure(figsize=(10,10))\n",
    "for i in range(25):\n",
    "    plt.subplot(5,5,i+1)\n",
    "    plt.xticks([])\n",
    "    plt.yticks([])\n",
    "    plt.grid(False)\n",
    "    plt.imshow(train_images[i], cmap=plt.cm.binary)\n",
    "    plt.xlabel(class_names[train_labels[i]])"
   ]
  },
  {
   "cell_type": "markdown",
   "metadata": {
    "slideshow": {
     "slide_type": "slide"
    }
   },
   "source": [
    "* Θα χρησιμοποιήσουμε μια νέα συνάρτηση ενεργοποίησης, τον *ανορθωτή* (rectifier):\n",
    "$$ f(x)=x^{+}=\\max(0,x)$$\n",
    "\n",
    "* Ένας νευρώνας, ή *μονάδα* (unit) που χρησιμοποιεί τον ανορθωτή ονομάζεται *ανορθωμένη γραμμική μονάδα*, rectified linear unit, ή απλώς ReLU.\n",
    "\n",
    "* Κάποιες φορές χρησιμοποιούμε μια ομαλή προσέγγιση του , τη συνάρτηση *softplus*:\n",
    "$$f(x)=\\log(1+ e^{x})$$"
   ]
  },
  {
   "cell_type": "code",
   "execution_count": 9,
   "metadata": {
    "slideshow": {
     "slide_type": "slide"
    },
    "tags": [
     "remove_input"
    ]
   },
   "outputs": [
    {
     "data": {
      "text/plain": [
       "<matplotlib.legend.Legend at 0x18314c78880>"
      ]
     },
     "execution_count": 9,
     "metadata": {},
     "output_type": "execute_result"
    },
    {
     "data": {
      "image/png": "[encoded data removed]",
      "text/plain": [
       "<Figure size 576x432 with 1 Axes>"
      ]
     },
     "metadata": {
      "needs_background": "light"
     },
     "output_type": "display_data"
    }
   ],
   "source": [
    "fig = plt.figure(figsize=(8, 6))\n",
    "ax = plt.axes()\n",
    "ax.spines['right'].set_visible(False)\n",
    "ax.spines['top'].set_visible(False)\n",
    "plt.xlim((-5, 5))\n",
    "plt.xticks(np.arange(-5, 6, 1))\n",
    "x = np.linspace(-5, 0, 50)\n",
    "y = np.zeros_like(x)\n",
    "plt.plot(x, y, color='blue')\n",
    "x = np.linspace(0, 5, 50)\n",
    "y = x\n",
    "relu, = plt.plot(x, y, color='blue', label=r\"$f(x) = \\max(0, x)$\")\n",
    "x = np.linspace(-5, 5, 100)\n",
    "y = np.log(1 + np.exp(x))\n",
    "softplus, = plt.plot(x, y, label=r\"$f(x) = \\log(1 + e^{x})$\")\n",
    "plt.legend(handles=[relu, softplus], loc='best')"
   ]
  },
  {
   "cell_type": "markdown",
   "metadata": {
    "slideshow": {
     "slide_type": "slide"
    }
   },
   "source": [
    "* Τώρα ας στήσουμε το μοντέλο μας.\n",
    "\n",
    "* Θα αποτελείται από τρία στρώματα.\n",
    "\n",
    "* Το πρώτο στρώμα μετά την είσοδο θα μετατρέψει την είσοδο από πίνακες 28x28 σε μονοδιάστατους πίνακες των 784 pixels.\n",
    "\n",
    "* Το δεύτερο στρώμα θα είναι πυκνά συνδεμένο. Θα έχει 128 κόμβους (νευρώνες), που θα είναι ReLU.\n",
    "\n",
    "* Το τρίτο στρώμα θα είναι πάλι πυκνά συνδεμένο και δεν θα έχει συνάρτηση ενεργοποίησης. \n",
    "\n",
    "* Άρα η ενεργοποίηση θα είναι γραμμική, $a(x) = x$, και ο νευρώνας θα δίνει απλώς τη σταθμισμένη είσοδο συν την πόλωση."
   ]
  },
  {
   "cell_type": "code",
   "execution_count": 10,
   "metadata": {
    "slideshow": {
     "slide_type": "fragment"
    }
   },
   "outputs": [],
   "source": [
    "model = keras.Sequential([\n",
    "    keras.layers.Flatten(input_shape=(28, 28)),\n",
    "    keras.layers.Dense(128, activation=tf.nn.relu),\n",
    "    keras.layers.Dense(10)\n",
    "])"
   ]
  },
  {
   "cell_type": "markdown",
   "metadata": {
    "slideshow": {
     "slide_type": "slide"
    }
   },
   "source": [
    "* Με τη μέθοδο `summary()` μπορούμε να δούμε σε μορφή πίνακα το δίκτυο."
   ]
  },
  {
   "cell_type": "code",
   "execution_count": 11,
   "metadata": {
    "slideshow": {
     "slide_type": "fragment"
    }
   },
   "outputs": [
    {
     "name": "stdout",
     "output_type": "stream",
     "text": [
      "Model: \"sequential\"\n",
      "_________________________________________________________________\n",
      " Layer (type)                Output Shape              Param #   \n",
      "=================================================================\n",
      " flatten (Flatten)           (None, 784)               0         \n",
      "                                                                 \n",
      " dense (Dense)               (None, 128)               100480    \n",
      "                                                                 \n",
      " dense_1 (Dense)             (None, 10)                1290      \n",
      "                                                                 \n",
      "=================================================================\n",
      "Total params: 101,770\n",
      "Trainable params: 101,770\n",
      "Non-trainable params: 0\n",
      "_________________________________________________________________\n"
     ]
    }
   ],
   "source": [
    "model.summary()"
   ]
  },
  {
   "cell_type": "markdown",
   "metadata": {
    "slideshow": {
     "slide_type": "slide"
    }
   },
   "source": [
    "* Εναλλακτικά, μπορούμε να το δούμε με γραφικό τρόπο.\n",
    "\n",
    "* Η είσοδος στο πρώτο στρώμα και στο στρώμα `Flatten` είναι τρισδιάστατη. Αυτό συμβαίνει επειδή τα δεδομένα έρχονται σε φουρνιές, αλλά το μέγεθος της φουρνιάς θα γίνει γνωστό κατά την εκτέλεση, οπότε εμφανίζεται ως `None`."
   ]
  },
  {
   "cell_type": "code",
   "execution_count": 12,
   "metadata": {
    "slideshow": {
     "slide_type": "slide"
    }
   },
   "outputs": [
    {
     "data": {
      "image/svg+xml": "<svg xmlns=\"http://www.w3.org/2000/svg\" xmlns:xlink=\"http://www.w3.org/1999/xlink\" width=\"354pt\" height=\"296pt\" viewBox=\"0.00 0.00 364.00 304.00\">\n<g id=\"graph0\" class=\"graph\" transform=\"scale(0.972222 0.972222) rotate(0) translate(4 300)\">\n<title>G</title>\n<polygon fill=\"white\" stroke=\"none\" points=\"-4,4 -4,-300 360,-300 360,4 -4,4\"/>\n<!-- 1662502466656 -->\n<g id=\"node1\" class=\"node\"><title>1662502466656</title>\n<polygon fill=\"none\" stroke=\"black\" points=\"0,-249.5 0,-295.5 356,-295.5 356,-249.5 0,-249.5\"/>\n<text text-anchor=\"middle\" x=\"43\" y=\"-280.3\" font-family=\"Times New Roman,serif\" font-size=\"14.00\">flatten_input</text>\n<polyline fill=\"none\" stroke=\"black\" points=\"0,-272.5 86,-272.5 \"/>\n<text text-anchor=\"middle\" x=\"43\" y=\"-257.3\" font-family=\"Times New Roman,serif\" font-size=\"14.00\">InputLayer</text>\n<polyline fill=\"none\" stroke=\"black\" points=\"86,-249.5 86,-295.5 \"/>\n<text text-anchor=\"middle\" x=\"114\" y=\"-280.3\" font-family=\"Times New Roman,serif\" font-size=\"14.00\">input:</text>\n<polyline fill=\"none\" stroke=\"black\" points=\"86,-272.5 142,-272.5 \"/>\n<text text-anchor=\"middle\" x=\"114\" y=\"-257.3\" font-family=\"Times New Roman,serif\" font-size=\"14.00\">output:</text>\n<polyline fill=\"none\" stroke=\"black\" points=\"142,-249.5 142,-295.5 \"/>\n<text text-anchor=\"middle\" x=\"195.5\" y=\"-268.8\" font-family=\"Times New Roman,serif\" font-size=\"14.00\">[(None, 28, 28)]</text>\n<polyline fill=\"none\" stroke=\"black\" points=\"249,-249.5 249,-295.5 \"/>\n<text text-anchor=\"middle\" x=\"302.5\" y=\"-268.8\" font-family=\"Times New Roman,serif\" font-size=\"14.00\">[(None, 28, 28)]</text>\n</g>\n<!-- 1662500659984 -->\n<g id=\"node2\" class=\"node\"><title>1662500659984</title>\n<polygon fill=\"none\" stroke=\"black\" points=\"32.5,-166.5 32.5,-212.5 323.5,-212.5 323.5,-166.5 32.5,-166.5\"/>\n<text text-anchor=\"middle\" x=\"59.5\" y=\"-197.3\" font-family=\"Times New Roman,serif\" font-size=\"14.00\">flatten</text>\n<polyline fill=\"none\" stroke=\"black\" points=\"32.5,-189.5 86.5,-189.5 \"/>\n<text text-anchor=\"middle\" x=\"59.5\" y=\"-174.3\" font-family=\"Times New Roman,serif\" font-size=\"14.00\">Flatten</text>\n<polyline fill=\"none\" stroke=\"black\" points=\"86.5,-166.5 86.5,-212.5 \"/>\n<text text-anchor=\"middle\" x=\"114.5\" y=\"-197.3\" font-family=\"Times New Roman,serif\" font-size=\"14.00\">input:</text>\n<polyline fill=\"none\" stroke=\"black\" points=\"86.5,-189.5 142.5,-189.5 \"/>\n<text text-anchor=\"middle\" x=\"114.5\" y=\"-174.3\" font-family=\"Times New Roman,serif\" font-size=\"14.00\">output:</text>\n<polyline fill=\"none\" stroke=\"black\" points=\"142.5,-166.5 142.5,-212.5 \"/>\n<text text-anchor=\"middle\" x=\"191.5\" y=\"-185.8\" font-family=\"Times New Roman,serif\" font-size=\"14.00\">(None, 28, 28)</text>\n<polyline fill=\"none\" stroke=\"black\" points=\"240.5,-166.5 240.5,-212.5 \"/>\n<text text-anchor=\"middle\" x=\"282\" y=\"-185.8\" font-family=\"Times New Roman,serif\" font-size=\"14.00\">(None, 784)</text>\n</g>\n<!-- 1662502466656&#45;&gt;1662500659984 -->\n<g id=\"edge1\" class=\"edge\"><title>1662502466656-&gt;1662500659984</title>\n<path fill=\"none\" stroke=\"black\" d=\"M178,-249.366C178,-241.152 178,-231.658 178,-222.725\"/>\n<polygon fill=\"black\" stroke=\"black\" points=\"181.5,-222.607 178,-212.607 174.5,-222.607 181.5,-222.607\"/>\n</g>\n<!-- 1662502002016 -->\n<g id=\"node3\" class=\"node\"><title>1662502002016</title>\n<polygon fill=\"none\" stroke=\"black\" points=\"41.5,-83.5 41.5,-129.5 314.5,-129.5 314.5,-83.5 41.5,-83.5\"/>\n<text text-anchor=\"middle\" x=\"67\" y=\"-114.3\" font-family=\"Times New Roman,serif\" font-size=\"14.00\">dense</text>\n<polyline fill=\"none\" stroke=\"black\" points=\"41.5,-106.5 92.5,-106.5 \"/>\n<text text-anchor=\"middle\" x=\"67\" y=\"-91.3\" font-family=\"Times New Roman,serif\" font-size=\"14.00\">Dense</text>\n<polyline fill=\"none\" stroke=\"black\" points=\"92.5,-83.5 92.5,-129.5 \"/>\n<text text-anchor=\"middle\" x=\"120.5\" y=\"-114.3\" font-family=\"Times New Roman,serif\" font-size=\"14.00\">input:</text>\n<polyline fill=\"none\" stroke=\"black\" points=\"92.5,-106.5 148.5,-106.5 \"/>\n<text text-anchor=\"middle\" x=\"120.5\" y=\"-91.3\" font-family=\"Times New Roman,serif\" font-size=\"14.00\">output:</text>\n<polyline fill=\"none\" stroke=\"black\" points=\"148.5,-83.5 148.5,-129.5 \"/>\n<text text-anchor=\"middle\" x=\"190\" y=\"-102.8\" font-family=\"Times New Roman,serif\" font-size=\"14.00\">(None, 784)</text>\n<polyline fill=\"none\" stroke=\"black\" points=\"231.5,-83.5 231.5,-129.5 \"/>\n<text text-anchor=\"middle\" x=\"273\" y=\"-102.8\" font-family=\"Times New Roman,serif\" font-size=\"14.00\">(None, 128)</text>\n</g>\n<!-- 1662500659984&#45;&gt;1662502002016 -->\n<g id=\"edge2\" class=\"edge\"><title>1662500659984-&gt;1662502002016</title>\n<path fill=\"none\" stroke=\"black\" d=\"M178,-166.366C178,-158.152 178,-148.658 178,-139.725\"/>\n<polygon fill=\"black\" stroke=\"black\" points=\"181.5,-139.607 178,-129.607 174.5,-139.607 181.5,-139.607\"/>\n</g>\n<!-- 1662502465600 -->\n<g id=\"node4\" class=\"node\"><title>1662502465600</title>\n<polygon fill=\"none\" stroke=\"black\" points=\"38.5,-0.5 38.5,-46.5 317.5,-46.5 317.5,-0.5 38.5,-0.5\"/>\n<text text-anchor=\"middle\" x=\"70\" y=\"-31.3\" font-family=\"Times New Roman,serif\" font-size=\"14.00\">dense_1</text>\n<polyline fill=\"none\" stroke=\"black\" points=\"38.5,-23.5 101.5,-23.5 \"/>\n<text text-anchor=\"middle\" x=\"70\" y=\"-8.3\" font-family=\"Times New Roman,serif\" font-size=\"14.00\">Dense</text>\n<polyline fill=\"none\" stroke=\"black\" points=\"101.5,-0.5 101.5,-46.5 \"/>\n<text text-anchor=\"middle\" x=\"129.5\" y=\"-31.3\" font-family=\"Times New Roman,serif\" font-size=\"14.00\">input:</text>\n<polyline fill=\"none\" stroke=\"black\" points=\"101.5,-23.5 157.5,-23.5 \"/>\n<text text-anchor=\"middle\" x=\"129.5\" y=\"-8.3\" font-family=\"Times New Roman,serif\" font-size=\"14.00\">output:</text>\n<polyline fill=\"none\" stroke=\"black\" points=\"157.5,-0.5 157.5,-46.5 \"/>\n<text text-anchor=\"middle\" x=\"199\" y=\"-19.8\" font-family=\"Times New Roman,serif\" font-size=\"14.00\">(None, 128)</text>\n<polyline fill=\"none\" stroke=\"black\" points=\"240.5,-0.5 240.5,-46.5 \"/>\n<text text-anchor=\"middle\" x=\"279\" y=\"-19.8\" font-family=\"Times New Roman,serif\" font-size=\"14.00\">(None, 10)</text>\n</g>\n<!-- 1662502002016&#45;&gt;1662502465600 -->\n<g id=\"edge3\" class=\"edge\"><title>1662502002016-&gt;1662502465600</title>\n<path fill=\"none\" stroke=\"black\" d=\"M178,-83.3664C178,-75.1516 178,-65.6579 178,-56.7252\"/>\n<polygon fill=\"black\" stroke=\"black\" points=\"181.5,-56.6068 178,-46.6068 174.5,-56.6069 181.5,-56.6068\"/>\n</g>\n</g>\n</svg>",
      "text/plain": [
       "<IPython.core.display.SVG object>"
      ]
     },
     "execution_count": 12,
     "metadata": {},
     "output_type": "execute_result"
    }
   ],
   "source": [
    "from IPython.display import SVG\n",
    "from tensorflow.keras.utils import model_to_dot\n",
    "SVG(model_to_dot(model, show_shapes=True, dpi=70).create(prog='dot', format='svg'))"
   ]
  },
  {
   "cell_type": "markdown",
   "metadata": {
    "slideshow": {
     "slide_type": "slide"
    }
   },
   "source": [
    "<img src=\"mnist_nn_flatten.png\" width=\"600\"/>"
   ]
  },
  {
   "cell_type": "markdown",
   "metadata": {
    "slideshow": {
     "slide_type": "slide"
    }
   },
   "source": [
    "* Μπορούμε να επιβεβαιώσουμε τον αριθμό των παραμέτρων: \n",
    "\n",
    "  * $784 \\times 128 = 100.352$ βάρη μεταξύ του στρώματος `Flatten` και του επόμενου στρώματος.\n",
    "  \n",
    "  * $128 \\times 10 = 1280$ βάρη μεταξύ του κρυφού στρώματος και του στρώματος εξόδου.\n",
    "  \n",
    "  * $128$ πολώσεις στο κρυφό στρώμα.\n",
    "  \n",
    "  * $10$ πολώσεις στο στρώμα εξόδου.\n",
    "  \n",
    "  * Σύνολο: $100.352 + 1280 + 128 + 10 = 101.770$"
   ]
  },
  {
   "cell_type": "code",
   "execution_count": 13,
   "metadata": {
    "slideshow": {
     "slide_type": "fragment"
    }
   },
   "outputs": [
    {
     "data": {
      "text/plain": [
       "101770"
      ]
     },
     "execution_count": 13,
     "metadata": {},
     "output_type": "execute_result"
    }
   ],
   "source": [
    "model.count_params()"
   ]
  },
  {
   "cell_type": "markdown",
   "metadata": {
    "slideshow": {
     "slide_type": "slide"
    }
   },
   "source": [
    "* Τώρα μπορούμε να προχωρήσουμε στον ορισμό:\n",
    "\n",
    "  * Της συνάρτησης απώλειας.\n",
    "  * Του βελτιστοποιητή.\n",
    "  * Της μετρικής αξιολόγησης."
   ]
  },
  {
   "cell_type": "markdown",
   "metadata": {
    "slideshow": {
     "slide_type": "slide"
    }
   },
   "source": [
    "* Θέλουμε η συνάρτηση απώλειας να υπολογίζει το λάθος στην έξοδο του δικτύου.\n",
    "\n",
    "* Αλλά τι ακριβώς είναι η έξοδος;\n",
    "\n",
    "* Είναι ένα διάνυσμα με 10 αριθμούς, έναν για κάθε νευρώνα στο στρώμα εξόδου.\n",
    "\n",
    "* Κάθε ένας από αυτούς του αριθμούς δίνει την πεποίθηση του δικτύου ότι το δείγμα στην είσοδο ανήκει στη συγκεκριμένη κλάση."
   ]
  },
  {
   "cell_type": "code",
   "execution_count": 14,
   "metadata": {
    "slideshow": {
     "slide_type": "fragment"
    }
   },
   "outputs": [
    {
     "name": "stdout",
     "output_type": "stream",
     "text": [
      "[[-1.2195202  -1.1984278  -0.48894247 -2.283947    0.44691008 -0.7324747\n",
      "   0.49005455 -1.129656    0.6654974  -0.10148689]]\n",
      "min = -2.283947 max = 0.6654974 sum = -5.551993\n"
     ]
    }
   ],
   "source": [
    "# As we have not trained the model yet, these are random values.\n",
    "predictions = model(train_images[:1]).numpy()\n",
    "print(predictions)\n",
    "print('min =', np.min(predictions), \n",
    "      'max =', np.max(predictions), \n",
    "      'sum =', np.sum(predictions))"
   ]
  },
  {
   "cell_type": "markdown",
   "metadata": {
    "slideshow": {
     "slide_type": "slide"
    }
   },
   "source": [
    "* Οι στόχοι μας είναι επίσης διανύσματα με 10 αριθμούς, π.χ. αν το ρούχο είναι μποτάκι:\n",
    "\n",
    "  ```[0, 0, 0, 0, 0, 0, 0, 0, 0, 1]```\n",
    "\n",
    "* Κάθε ένα από αυτά τα διανύσματα έχει μία τιμή ίση με 1 (η σωστή κλάση), ενώ οι άλλες τιμές είναι ίσες με 0.\n",
    "\n",
    "* Αυτό σημαίνει ότι κάθε στόχος είναι στην πραγματικότητα μια κατανομή πιθανοτήτων, αφού είναι ένα σύνολο τιμών από το μηδέν έως το ένα που αθροίζουν στο ένα."
   ]
  },
  {
   "cell_type": "markdown",
   "metadata": {
    "slideshow": {
     "slide_type": "slide"
    }
   },
   "source": [
    "* Άρα θέλουμε να μετατρέψουμε την έξοδο του δικτύου σε μία κατανομή πιθανοτήτων.\n",
    "\n",
    "* Θα είναι ένα διάνυσμα με δέκα τιμές, κάθε μία μεταξύ μηδέν και ένα, που θα αθροίζουν στο ένα."
   ]
  },
  {
   "cell_type": "markdown",
   "metadata": {
    "slideshow": {
     "slide_type": "slide"
    }
   },
   "source": [
    "* Όμως αυτή τη στιγμή η έξοδος του δικτύου δεν είναι μια τέτοια κατανομή.\n",
    "\n",
    "* Είναι απλώς η έξοδος των νευρώνων του τελεταίου στρώματος, οι οποίοι μάλιστα δεν έχουν συνάρτηση ενεργοποίησης, άρα απλώς ένας γραμμικός συνδυασμών των εισόδων.\n",
    "\n",
    "* Οι προβλέψεις του μοντέλου σε αυτή τη μορφή ονομάζονται *logits*."
   ]
  },
  {
   "cell_type": "markdown",
   "metadata": {
    "slideshow": {
     "slide_type": "slide"
    }
   },
   "source": [
    "* Για να μετατρέψουμε τα logits σε μια κατανομή πιθανοτήτων χρησιμοποιούμε τη συνάρτηση *softmax*.\n",
    "\n",
    "* Αν έχουμε $K$ κλάσεις, και ο $k$ νευρώνας έχει έξοδο $z_k$, η συνάρτηση softmax ορίζεται ως:\n",
    "$$\\sigma(z_{j}) = {\\frac {e^{z_{j}}}{\\sum _{k=1}^{K}e^{z_{k}}}}\\, , j = 1, 2, \\ldots, k$$"
   ]
  },
  {
   "cell_type": "markdown",
   "metadata": {
    "slideshow": {
     "slide_type": "slide"
    }
   },
   "source": [
    "* Στην ουσία, η softmax δίνει τις εισόδους στην εκθετική συνάρτηση και κανονικοποιεί.\n",
    "\n",
    "* Η εκθετική συνάρτηση σημαίνει ότι μια μονάδα αύξηση στην είσοδο έχει πολλαπλασιαστικά αποτελέσματα στην έξοδο.\n",
    "\n",
    "* Αντιστρόφως, αν μειώνεται η είσοδος, στην έξοδο παίρνουμε κλάσμα της εισόδου.\n",
    "\n",
    "* Η softmax διαιρεί με το άθροισμα της εκθετικής συνάρτησης στις εισόδους, ώστε το αποτελέσμα να είναι μεταξύ και ένα."
   ]
  },
  {
   "cell_type": "code",
   "execution_count": 15,
   "metadata": {
    "slideshow": {
     "slide_type": "fragment"
    }
   },
   "outputs": [
    {
     "name": "stdout",
     "output_type": "stream",
     "text": [
      "[[0.03619359 0.03696511 0.07514802 0.0124841  0.19158132 0.0589051\n",
      "  0.2000279  0.03959673 0.23838803 0.11071014]]\n",
      "min = 0.012484095 max = 0.23838803 sum = 1.0\n"
     ]
    }
   ],
   "source": [
    "softmax_predictions = tf.nn.softmax(predictions).numpy()\n",
    "print(softmax_predictions)\n",
    "print('min =', np.min(softmax_predictions), \n",
    "      'max =', np.max(softmax_predictions), \n",
    "      'sum =', np.sum(softmax_predictions))"
   ]
  },
  {
   "cell_type": "markdown",
   "metadata": {
    "slideshow": {
     "slide_type": "slide"
    }
   },
   "source": [
    "* Στο TensorFlow, ορίζουμε ότι θα χρησιμοποιήσουμε το αποτέλεσμα της softmax στον υπολογισμό της απώλειας δίνοντας την παράμετρο `from_logits=True`.\n",
    "\n",
    "* Η δε συνάρτηση απώλειας που θα χρησιμοποιήσουμε υλοποιείται στην κλάση  `SparseCategoricalCrossEntropy`, άρα θα δώσουμε `SparseCategoricalCrossEntropy(from_logits=True)`."
   ]
  },
  {
   "cell_type": "markdown",
   "metadata": {
    "slideshow": {
     "slide_type": "slide"
    }
   },
   "source": [
    "* Θα ορίσουμε τον βελτιστοποιητή, αυτή τη φορά έναν άλλο, τον Adam optimizer (Adaptive Moment Estimation).\n",
    "\n",
    "* Δίνουμε την απώλεια όπως εξηγήσαμε παραπάνω, και τη μετρική της απόδοσης."
   ]
  },
  {
   "cell_type": "code",
   "execution_count": 16,
   "metadata": {
    "slideshow": {
     "slide_type": "fragment"
    }
   },
   "outputs": [],
   "source": [
    "model.compile(\n",
    "    optimizer=optimizers.Adam(), \n",
    "    loss=tf.keras.losses.SparseCategoricalCrossentropy(from_logits=True),\n",
    "    metrics=['accuracy'])"
   ]
  },
  {
   "cell_type": "markdown",
   "metadata": {
    "slideshow": {
     "slide_type": "slide"
    }
   },
   "source": [
    "* Προχωράμε στην εκπαίδευση.\n",
    "\n",
    "* Θα αφήσουμε το `batch_size` στην προεπιλεγμένη τιμή, δηλαδή 32.\n",
    "\n",
    "* Κάθε εποχή θα έχει $60.000 / 32 = 1875$ φουρνιές."
   ]
  },
  {
   "cell_type": "code",
   "execution_count": 17,
   "metadata": {
    "slideshow": {
     "slide_type": "fragment"
    }
   },
   "outputs": [
    {
     "name": "stdout",
     "output_type": "stream",
     "text": [
      "Epoch 1/5\n",
      "1875/1875 [==============================] - 7s 3ms/step - loss: 0.4952 - accuracy: 0.8243\n",
      "Epoch 2/5\n",
      "1875/1875 [==============================] - 6s 3ms/step - loss: 0.3703 - accuracy: 0.8660\n",
      "Epoch 3/5\n",
      "1875/1875 [==============================] - 6s 3ms/step - loss: 0.3342 - accuracy: 0.8784\n",
      "Epoch 4/5\n",
      "1875/1875 [==============================] - 6s 3ms/step - loss: 0.3108 - accuracy: 0.8846\n",
      "Epoch 5/5\n",
      "1875/1875 [==============================] - 6s 3ms/step - loss: 0.2959 - accuracy: 0.8908\n"
     ]
    },
    {
     "data": {
      "text/plain": [
       "<keras.callbacks.History at 0x18314ba1d30>"
      ]
     },
     "execution_count": 17,
     "metadata": {},
     "output_type": "execute_result"
    }
   ],
   "source": [
    "model.fit(train_images, train_labels, epochs=5)"
   ]
  },
  {
   "cell_type": "markdown",
   "metadata": {
    "slideshow": {
     "slide_type": "slide"
    }
   },
   "source": [
    "* Θα ελέγξουμε την επίδοση του συστήματος με τα δεδομένα ελέγχου.\n",
    "\n",
    "* Αυτά θα διαβαστούν σε $\\lceil1000 / 32\\rceil = 313$ φουρνιές."
   ]
  },
  {
   "cell_type": "code",
   "execution_count": 18,
   "metadata": {
    "slideshow": {
     "slide_type": "fragment"
    }
   },
   "outputs": [
    {
     "name": "stdout",
     "output_type": "stream",
     "text": [
      "313/313 [==============================] - 1s 2ms/step - loss: 0.3370 - accuracy: 0.8814\n",
      "Test accuracy: 0.8813999891281128\n"
     ]
    }
   ],
   "source": [
    "test_loss, test_acc = model.evaluate(test_images, test_labels)\n",
    "\n",
    "print('Test accuracy:', test_acc)"
   ]
  },
  {
   "cell_type": "markdown",
   "metadata": {
    "slideshow": {
     "slide_type": "slide"
    }
   },
   "source": [
    "* Τα αποτελέσματα είναι όπως τα περιμέναμε, με την έννοια ότι η ορθότητα είναι χαμηλότερη από αυτήν που είδαμε στην εκπαίδευση.\n",
    "\n",
    "* Ουσιαστικά στην εκπαίδευση φτάσαμε σε υπερπροσαρμογή (overfitting)."
   ]
  },
  {
   "cell_type": "markdown",
   "metadata": {
    "slideshow": {
     "slide_type": "slide"
    }
   },
   "source": [
    "* Μετά την εκπαίδευση, μπορούμε να χρησιμοποιήσουμε το δίκτυο για προβλέψεις.\n",
    "\n",
    "* Πλην όμως, η έξοδος του δικτύου είναι logits.\n",
    "\n",
    "* Θα τα μετατρέψουμε σε πιθανότητες.\n",
    "\n",
    "* Για να το κάνουμε αυτό, παίρνουμε το αρχικό μας δίκτυο και του προσθέτουμε ένα στρώμα `SoftMax()`."
   ]
  },
  {
   "cell_type": "code",
   "execution_count": 19,
   "metadata": {
    "slideshow": {
     "slide_type": "fragment"
    }
   },
   "outputs": [],
   "source": [
    "probability_model = tf.keras.Sequential([model, \n",
    "                                         tf.keras.layers.Softmax()])\n",
    "predictions = probability_model.predict(test_images)"
   ]
  },
  {
   "cell_type": "markdown",
   "metadata": {
    "slideshow": {
     "slide_type": "slide"
    }
   },
   "source": [
    "* Τώρα στη μεταβλητή `predictions` έχουμε τις προβλέψεις για τα δεδομένα ελέγχου.\n",
    "\n",
    "* Για να δούμε την πρόβλεψη για την πρώτη εικόνα:"
   ]
  },
  {
   "cell_type": "code",
   "execution_count": 20,
   "metadata": {
    "slideshow": {
     "slide_type": "fragment"
    }
   },
   "outputs": [
    {
     "data": {
      "text/plain": [
       "array([7.92537412e-06, 2.64117375e-07, 3.50812516e-05, 1.60182537e-06,\n",
       "       1.29289056e-05, 7.57016521e-03, 1.41499995e-05, 2.96041798e-02,\n",
       "       4.70490522e-05, 9.62706685e-01], dtype=float32)"
      ]
     },
     "execution_count": 20,
     "metadata": {},
     "output_type": "execute_result"
    }
   ],
   "source": [
    "predictions[0]"
   ]
  },
  {
   "cell_type": "markdown",
   "metadata": {
    "slideshow": {
     "slide_type": "slide"
    }
   },
   "source": [
    "* Ή, σε ποσοστά:"
   ]
  },
  {
   "cell_type": "code",
   "execution_count": 21,
   "metadata": {
    "slideshow": {
     "slide_type": "fragment"
    }
   },
   "outputs": [
    {
     "name": "stdout",
     "output_type": "stream",
     "text": [
      "0.000008\n",
      "0.000000\n",
      "0.000035\n",
      "0.000002\n",
      "0.000013\n",
      "0.007570\n",
      "0.000014\n",
      "0.029604\n",
      "0.000047\n",
      "0.962707\n"
     ]
    }
   ],
   "source": [
    "for i in predictions[0]:\n",
    "    print(f'{i:f}')"
   ]
  },
  {
   "cell_type": "markdown",
   "metadata": {
    "slideshow": {
     "slide_type": "slide"
    }
   },
   "source": [
    "* Το σωστό ρούχο είναι το:"
   ]
  },
  {
   "cell_type": "code",
   "execution_count": 22,
   "metadata": {
    "slideshow": {
     "slide_type": "fragment"
    }
   },
   "outputs": [
    {
     "data": {
      "text/plain": [
       "9"
      ]
     },
     "execution_count": 22,
     "metadata": {},
     "output_type": "execute_result"
    }
   ],
   "source": [
    "test_labels[0]"
   ]
  },
  {
   "cell_type": "markdown",
   "metadata": {
    "slideshow": {
     "slide_type": "slide"
    },
    "tags": [
     "remove_cell"
    ]
   },
   "source": [
    "* Θα φτιάξουμε μια βοηθητική συνάρτητη η οποία θα μας δείχνει την πρόβλεψη και τον στόχο.\n",
    "\n",
    "* Αν η πρόβλεψη συμπίπτει με τον στόχο, θα είναι μπλε. Διαφορετικά, θα είναι κόκκινη."
   ]
  },
  {
   "cell_type": "code",
   "execution_count": 23,
   "metadata": {
    "slideshow": {
     "slide_type": "slide"
    },
    "tags": [
     "remove_cell"
    ]
   },
   "outputs": [],
   "source": [
    "def plot_image(i, predictions, true_labels, img):\n",
    "    predictions_array, true_label, img = predictions[i], true_labels[i], img[i]\n",
    "    plt.grid(False)\n",
    "    plt.xticks([])\n",
    "    plt.yticks([])\n",
    "    \n",
    "    plt.imshow(img, cmap=plt.cm.binary)\n",
    "    \n",
    "    predicted_label = np.argmax(predictions_array)\n",
    "    \n",
    "    if predicted_label == true_label:\n",
    "        color = 'blue'\n",
    "    else:\n",
    "        color = 'red'\n",
    "  \n",
    "    plt.xlabel(\"{} {:2.0f}% ({})\".format(class_names[predicted_label],\n",
    "                                         100*np.max(predictions_array),\n",
    "                                         class_names[true_label]),\n",
    "                                         color=color)"
   ]
  },
  {
   "cell_type": "markdown",
   "metadata": {
    "slideshow": {
     "slide_type": "slide"
    },
    "tags": [
     "remove_cell"
    ]
   },
   "source": [
    "* Θα φτιάξουμε και μια ακόμα βοηθητική συνάρτηση που θα μας εμφανίζει όλες τις πιθανότητες που δίνει το δίκτυο για κάθε εικόνα."
   ]
  },
  {
   "cell_type": "code",
   "execution_count": 24,
   "metadata": {
    "slideshow": {
     "slide_type": "fragment"
    },
    "tags": [
     "remove_cell"
    ]
   },
   "outputs": [],
   "source": [
    "def plot_value_array(i, predictions, true_labels, show_xticks=False):\n",
    "    predictions_array, true_label = predictions[i], true_labels[i]\n",
    "    plt.grid(False)\n",
    "    plt.xticks([])\n",
    "    if show_xticks:\n",
    "        plt.xticks(range(10), class_names, rotation='vertical')\n",
    "    else:\n",
    "        plt.xticks([])\n",
    "    plt.yticks([])\n",
    "    thisplot = plt.bar(range(10), predictions_array, color=\"#777777\")\n",
    "    plt.ylim([0, 1]) \n",
    "    predicted_label = np.argmax(predictions_array)\n",
    " \n",
    "    thisplot[predicted_label].set_color('red')\n",
    "    thisplot[true_label].set_color('blue')"
   ]
  },
  {
   "cell_type": "markdown",
   "metadata": {
    "slideshow": {
     "slide_type": "slide"
    }
   },
   "source": [
    "* Ας δούμε τι παίρνουμε για την πρώτη εικόνα."
   ]
  },
  {
   "cell_type": "code",
   "execution_count": 25,
   "metadata": {
    "slideshow": {
     "slide_type": "fragment"
    },
    "tags": [
     "remove_input"
    ]
   },
   "outputs": [
    {
     "data": {
      "image/png": "[encoded data removed]",
      "text/plain": [
       "<Figure size 432x216 with 2 Axes>"
      ]
     },
     "metadata": {
      "needs_background": "light"
     },
     "output_type": "display_data"
    }
   ],
   "source": [
    "plt.figure(figsize=(6,3))\n",
    "plt.subplot(1,2,1)\n",
    "plot_image(0, predictions, test_labels, test_images)\n",
    "\n",
    "plt.subplot(1,2,2)\n",
    "plot_value_array(0, predictions, test_labels, True)"
   ]
  },
  {
   "cell_type": "markdown",
   "metadata": {
    "slideshow": {
     "slide_type": "slide"
    }
   },
   "source": [
    "* Είναι ενδιαφέρον να δούμε τι συνέβη με τις εικόνες που έκανε λάθος το δίκτυο.\n",
    "\n",
    "* Ας τις βρούμε."
   ]
  },
  {
   "cell_type": "code",
   "execution_count": 26,
   "metadata": {
    "slideshow": {
     "slide_type": "fragment"
    }
   },
   "outputs": [
    {
     "name": "stdout",
     "output_type": "stream",
     "text": [
      "Predicted labels: [9 2 1 ... 8 1 5]\n",
      "Misclassified: [False False False ... False False False]\n",
      "Misclassified indices:\n",
      " [[  12]\n",
      " [  17]\n",
      " [  23]\n",
      " ...\n",
      " [9977]\n",
      " [9979]\n",
      " [9989]]\n",
      "Number of misclassified: 1186\n"
     ]
    }
   ],
   "source": [
    "predicted_labels = np.apply_along_axis(np.argmax, 1, predictions)\n",
    "print('Predicted labels:', predicted_labels)\n",
    "misclassified = test_labels != predicted_labels\n",
    "print('Misclassified:', misclassified)\n",
    "misclassified_indices = np.argwhere(misclassified)\n",
    "print('Misclassified indices:\\n', misclassified_indices)\n",
    "print('Number of misclassified:', len(misclassified_indices))"
   ]
  },
  {
   "cell_type": "markdown",
   "metadata": {
    "slideshow": {
     "slide_type": "slide"
    }
   },
   "source": [
    "* Στη συνέχεια, ας τις δούμε."
   ]
  },
  {
   "cell_type": "code",
   "execution_count": 27,
   "metadata": {
    "slideshow": {
     "slide_type": "slide"
    },
    "tags": [
     "remove_input"
    ]
   },
   "outputs": [
    {
     "data": {
      "image/png": "[encoded data removed]",
      "text/plain": [
       "<Figure size 864x720 with 30 Axes>"
      ]
     },
     "metadata": {
      "needs_background": "light"
     },
     "output_type": "display_data"
    }
   ],
   "source": [
    "num_rows = 5\n",
    "num_cols = 3\n",
    "num_images = num_rows * num_cols\n",
    "plt.figure(figsize=(2*2*num_cols, 2*num_rows))\n",
    "\n",
    "show_x_ticks = False\n",
    "for i in range(num_images):\n",
    "    if i >= num_images - num_cols:\n",
    "        show_x_ticks = True\n",
    "    plt.subplot(num_rows, 2*num_cols, 2*i+1)\n",
    "    plot_image(misclassified_indices[i-1][0], predictions, test_labels, test_images)\n",
    "    plt.subplot(num_rows, 2 * num_cols, 2*i+2)\n",
    "    plot_value_array(misclassified_indices[i-1][0], predictions,  test_labels, show_x_ticks)"
   ]
  },
  {
   "cell_type": "markdown",
   "metadata": {
    "slideshow": {
     "slide_type": "slide"
    }
   },
   "source": [
    "* Όπως πάντα, μπορούμε να χρησιμοποιήσουμε την αναφορά ταξινόμησης.\n",
    "\n",
    "* Αφού οι `predictions` είναι κατανομές πιθανοτήτων, παίρνουμε την κλάση της μέγιστης πιθανότητας με την `np.argmax()`."
   ]
  },
  {
   "cell_type": "code",
   "execution_count": 28,
   "metadata": {
    "slideshow": {
     "slide_type": "slide"
    }
   },
   "outputs": [
    {
     "name": "stdout",
     "output_type": "stream",
     "text": [
      "              precision    recall  f1-score   support\n",
      "\n",
      "           0       0.83      0.85      0.84      1000\n",
      "           1       0.99      0.97      0.98      1000\n",
      "           2       0.78      0.81      0.79      1000\n",
      "           3       0.90      0.87      0.89      1000\n",
      "           4       0.77      0.81      0.79      1000\n",
      "           5       0.98      0.94      0.96      1000\n",
      "           6       0.71      0.67      0.69      1000\n",
      "           7       0.94      0.96      0.95      1000\n",
      "           8       0.98      0.97      0.97      1000\n",
      "           9       0.95      0.96      0.95      1000\n",
      "\n",
      "    accuracy                           0.88     10000\n",
      "   macro avg       0.88      0.88      0.88     10000\n",
      "weighted avg       0.88      0.88      0.88     10000\n",
      "\n"
     ]
    }
   ],
   "source": [
    "from sklearn.metrics import classification_report\n",
    "\n",
    "print(classification_report(test_labels, np.argmax(predictions, axis=1)))"
   ]
  },
  {
   "cell_type": "markdown",
   "metadata": {
    "slideshow": {
     "slide_type": "slide"
    }
   },
   "source": [
    "* Και ο πίνακας σύγχισης:"
   ]
  },
  {
   "cell_type": "code",
   "execution_count": 29,
   "metadata": {
    "slideshow": {
     "slide_type": "fragment"
    }
   },
   "outputs": [
    {
     "name": "stdout",
     "output_type": "stream",
     "text": [
      "[[853   0  17  14   5   0 104   0   7   0]\n",
      " [  2 969   3  22   2   0   1   0   1   0]\n",
      " [ 12   0 806   7 115   0  59   0   1   0]\n",
      " [ 26   7  15 874  44   0  30   0   4   0]\n",
      " [  0   1  97  20 814   0  68   0   0   0]\n",
      " [  0   0   0   0   0 943   0  25   1  31]\n",
      " [126   1  95  25  74   0 670   0   9   0]\n",
      " [  0   0   0   0   0  14   0 961   1  24]\n",
      " [  5   0   3   3   8   3   7   3 968   0]\n",
      " [  0   0   0   1   0   4   1  38   0 956]]\n"
     ]
    }
   ],
   "source": [
    "from sklearn.metrics import confusion_matrix\n",
    "\n",
    "print(confusion_matrix(test_labels, np.argmax(predictions, axis=1)))"
   ]
  }
 ],
 "metadata": {
  "celltoolbar": "Slideshow",
  "kernelspec": {
   "display_name": "Python 3 (ipykernel)",
   "language": "python",
   "name": "python3"
  },
  "language_info": {
   "codemirror_mode": {
    "name": "ipython",
    "version": 3
   },
   "file_extension": ".py",
   "mimetype": "text/x-python",
   "name": "python",
   "nbconvert_exporter": "python",
   "pygments_lexer": "ipython3",
   "version": "3.9.7"
  }
 },
 "nbformat": 4,
 "nbformat_minor": 2
}
