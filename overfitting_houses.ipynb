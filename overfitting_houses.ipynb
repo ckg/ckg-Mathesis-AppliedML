{
 "cells": [
  {
   "cell_type": "markdown",
   "metadata": {
    "slideshow": {
     "slide_type": "slide"
    }
   },
   "source": [
    "# Υπερεκπαιδεύοντας τα Σπίτια\n",
    "\n",
    "---\n",
    "\n",
    "> Πάνος Λουρίδας, Αναπληρωτής Καθηγητής <br />\n",
    "> Τμήμα Διοικητικής Επιστήμης και Τεχνολογίας <br />\n",
    "> Οικονομικό Πανεπιστήμιο Αθηνών <br />\n",
    "> louridas@aueb.gr"
   ]
  },
  {
   "cell_type": "code",
   "execution_count": 1,
   "metadata": {
    "slideshow": {
     "slide_type": "slide"
    }
   },
   "outputs": [],
   "source": [
    "import matplotlib.pyplot as plt\n",
    "\n",
    "import tensorflow as tf\n",
    "from tensorflow import keras\n",
    "from tensorflow.keras import layers\n",
    "\n",
    "from sklearn.datasets import fetch_california_housing\n",
    "from sklearn.model_selection import train_test_split\n",
    "\n",
    "import pandas as pd\n",
    "import numpy as np\n",
    "\n",
    "tf.random.set_seed(0) # for replicability purposes, not for production"
   ]
  },
  {
   "cell_type": "markdown",
   "metadata": {
    "slideshow": {
     "slide_type": "slide"
    }
   },
   "source": [
    "* Για να δούμε πώς μπορούμε να κάνουμε πρόβλεψη μιας αριθμητικής τιμής, θα επιστρέψουμε στο γνώριμό μας σύνολο δεδομένων με τα σπίτια από την Καλιφόρνια."
   ]
  },
  {
   "cell_type": "code",
   "execution_count": 2,
   "metadata": {
    "slideshow": {
     "slide_type": "fragment"
    }
   },
   "outputs": [
    {
     "data": {
      "text/html": [
       "<div>\n",
       "<style scoped>\n",
       "    .dataframe tbody tr th:only-of-type {\n",
       "        vertical-align: middle;\n",
       "    }\n",
       "\n",
       "    .dataframe tbody tr th {\n",
       "        vertical-align: top;\n",
       "    }\n",
       "\n",
       "    .dataframe thead th {\n",
       "        text-align: right;\n",
       "    }\n",
       "</style>\n",
       "<table border=\"1\" class=\"dataframe\">\n",
       "  <thead>\n",
       "    <tr style=\"text-align: right;\">\n",
       "      <th></th>\n",
       "      <th>MedInc</th>\n",
       "      <th>HouseAge</th>\n",
       "      <th>AveRooms</th>\n",
       "      <th>AveBedrms</th>\n",
       "      <th>Population</th>\n",
       "      <th>AveOccup</th>\n",
       "      <th>Latitude</th>\n",
       "      <th>Longitude</th>\n",
       "    </tr>\n",
       "  </thead>\n",
       "  <tbody>\n",
       "    <tr>\n",
       "      <th>0</th>\n",
       "      <td>8.3252</td>\n",
       "      <td>41.0</td>\n",
       "      <td>6.984127</td>\n",
       "      <td>1.023810</td>\n",
       "      <td>322.0</td>\n",
       "      <td>2.555556</td>\n",
       "      <td>37.88</td>\n",
       "      <td>-122.23</td>\n",
       "    </tr>\n",
       "    <tr>\n",
       "      <th>1</th>\n",
       "      <td>8.3014</td>\n",
       "      <td>21.0</td>\n",
       "      <td>6.238137</td>\n",
       "      <td>0.971880</td>\n",
       "      <td>2401.0</td>\n",
       "      <td>2.109842</td>\n",
       "      <td>37.86</td>\n",
       "      <td>-122.22</td>\n",
       "    </tr>\n",
       "    <tr>\n",
       "      <th>2</th>\n",
       "      <td>7.2574</td>\n",
       "      <td>52.0</td>\n",
       "      <td>8.288136</td>\n",
       "      <td>1.073446</td>\n",
       "      <td>496.0</td>\n",
       "      <td>2.802260</td>\n",
       "      <td>37.85</td>\n",
       "      <td>-122.24</td>\n",
       "    </tr>\n",
       "    <tr>\n",
       "      <th>3</th>\n",
       "      <td>5.6431</td>\n",
       "      <td>52.0</td>\n",
       "      <td>5.817352</td>\n",
       "      <td>1.073059</td>\n",
       "      <td>558.0</td>\n",
       "      <td>2.547945</td>\n",
       "      <td>37.85</td>\n",
       "      <td>-122.25</td>\n",
       "    </tr>\n",
       "    <tr>\n",
       "      <th>4</th>\n",
       "      <td>3.8462</td>\n",
       "      <td>52.0</td>\n",
       "      <td>6.281853</td>\n",
       "      <td>1.081081</td>\n",
       "      <td>565.0</td>\n",
       "      <td>2.181467</td>\n",
       "      <td>37.85</td>\n",
       "      <td>-122.25</td>\n",
       "    </tr>\n",
       "    <tr>\n",
       "      <th>...</th>\n",
       "      <td>...</td>\n",
       "      <td>...</td>\n",
       "      <td>...</td>\n",
       "      <td>...</td>\n",
       "      <td>...</td>\n",
       "      <td>...</td>\n",
       "      <td>...</td>\n",
       "      <td>...</td>\n",
       "    </tr>\n",
       "    <tr>\n",
       "      <th>20635</th>\n",
       "      <td>1.5603</td>\n",
       "      <td>25.0</td>\n",
       "      <td>5.045455</td>\n",
       "      <td>1.133333</td>\n",
       "      <td>845.0</td>\n",
       "      <td>2.560606</td>\n",
       "      <td>39.48</td>\n",
       "      <td>-121.09</td>\n",
       "    </tr>\n",
       "    <tr>\n",
       "      <th>20636</th>\n",
       "      <td>2.5568</td>\n",
       "      <td>18.0</td>\n",
       "      <td>6.114035</td>\n",
       "      <td>1.315789</td>\n",
       "      <td>356.0</td>\n",
       "      <td>3.122807</td>\n",
       "      <td>39.49</td>\n",
       "      <td>-121.21</td>\n",
       "    </tr>\n",
       "    <tr>\n",
       "      <th>20637</th>\n",
       "      <td>1.7000</td>\n",
       "      <td>17.0</td>\n",
       "      <td>5.205543</td>\n",
       "      <td>1.120092</td>\n",
       "      <td>1007.0</td>\n",
       "      <td>2.325635</td>\n",
       "      <td>39.43</td>\n",
       "      <td>-121.22</td>\n",
       "    </tr>\n",
       "    <tr>\n",
       "      <th>20638</th>\n",
       "      <td>1.8672</td>\n",
       "      <td>18.0</td>\n",
       "      <td>5.329513</td>\n",
       "      <td>1.171920</td>\n",
       "      <td>741.0</td>\n",
       "      <td>2.123209</td>\n",
       "      <td>39.43</td>\n",
       "      <td>-121.32</td>\n",
       "    </tr>\n",
       "    <tr>\n",
       "      <th>20639</th>\n",
       "      <td>2.3886</td>\n",
       "      <td>16.0</td>\n",
       "      <td>5.254717</td>\n",
       "      <td>1.162264</td>\n",
       "      <td>1387.0</td>\n",
       "      <td>2.616981</td>\n",
       "      <td>39.37</td>\n",
       "      <td>-121.24</td>\n",
       "    </tr>\n",
       "  </tbody>\n",
       "</table>\n",
       "<p>20640 rows × 8 columns</p>\n",
       "</div>"
      ],
      "text/plain": [
       "       MedInc  HouseAge  AveRooms  AveBedrms  Population  AveOccup  Latitude  \\\n",
       "0      8.3252      41.0  6.984127   1.023810       322.0  2.555556     37.88   \n",
       "1      8.3014      21.0  6.238137   0.971880      2401.0  2.109842     37.86   \n",
       "2      7.2574      52.0  8.288136   1.073446       496.0  2.802260     37.85   \n",
       "3      5.6431      52.0  5.817352   1.073059       558.0  2.547945     37.85   \n",
       "4      3.8462      52.0  6.281853   1.081081       565.0  2.181467     37.85   \n",
       "...       ...       ...       ...        ...         ...       ...       ...   \n",
       "20635  1.5603      25.0  5.045455   1.133333       845.0  2.560606     39.48   \n",
       "20636  2.5568      18.0  6.114035   1.315789       356.0  3.122807     39.49   \n",
       "20637  1.7000      17.0  5.205543   1.120092      1007.0  2.325635     39.43   \n",
       "20638  1.8672      18.0  5.329513   1.171920       741.0  2.123209     39.43   \n",
       "20639  2.3886      16.0  5.254717   1.162264      1387.0  2.616981     39.37   \n",
       "\n",
       "       Longitude  \n",
       "0        -122.23  \n",
       "1        -122.22  \n",
       "2        -122.24  \n",
       "3        -122.25  \n",
       "4        -122.25  \n",
       "...          ...  \n",
       "20635    -121.09  \n",
       "20636    -121.21  \n",
       "20637    -121.22  \n",
       "20638    -121.32  \n",
       "20639    -121.24  \n",
       "\n",
       "[20640 rows x 8 columns]"
      ]
     },
     "execution_count": 2,
     "metadata": {},
     "output_type": "execute_result"
    }
   ],
   "source": [
    "california = fetch_california_housing(as_frame=True)\n",
    "california.data"
   ]
  },
  {
   "cell_type": "markdown",
   "metadata": {
    "slideshow": {
     "slide_type": "slide"
    }
   },
   "source": [
    "* Θα τα χωρίσουμε σε δεδομένα εκπαίδευσης και ελέγχου."
   ]
  },
  {
   "cell_type": "code",
   "execution_count": 3,
   "metadata": {
    "slideshow": {
     "slide_type": "fragment"
    }
   },
   "outputs": [],
   "source": [
    "from sklearn.model_selection import train_test_split\n",
    "\n",
    "X_train, X_test, y_train, y_test = train_test_split(california.data, \n",
    "                                                    california.target, \n",
    "                                                    test_size=0.20,\n",
    "                                                    random_state=13)"
   ]
  },
  {
   "cell_type": "markdown",
   "metadata": {
    "slideshow": {
     "slide_type": "slide"
    }
   },
   "source": [
    "* Θυμηθείτε ότι πρέπει να κανονικοποιήσουμε τα δεδομένα.\n",
    "\n",
    "* Για το σκοπό αυτό μπορούμε στο TensorFlow να χρησιμοποιήσουμε το ειδικό στρώμα `Normalization`.\n",
    "\n",
    "* Αυτό το χρησιμοποιούμε χρησιμοποιώντας τη μέθοδο `adapt()` στα δεδομένα εκπαίδευσης.\n",
    "\n",
    "* Τότε θα διαβάσει τα δεδομένα και θα υπολογίσει το μέσο όρο, τη διακύμανση, και τον αριθμό των δεδομένων, για κάθε στήλη."
   ]
  },
  {
   "cell_type": "code",
   "execution_count": 4,
   "metadata": {
    "slideshow": {
     "slide_type": "fragment"
    }
   },
   "outputs": [
    {
     "name": "stdout",
     "output_type": "stream",
     "text": [
      "[[ 3.86e+00  2.87e+01  5.43e+00  1.10e+00  1.43e+03  3.10e+00  3.57e+01\n",
      "  -1.20e+02]]\n",
      "[[3.58e+00 1.58e+02 6.53e+00 2.43e-01 1.33e+06 1.34e+02 4.60e+00 4.04e+00]]\n",
      "16512\n"
     ]
    }
   ],
   "source": [
    "normalizer = layers.Normalization()\n",
    "normalizer.adapt(np.array(X_train))\n",
    "with np.printoptions(precision=2):\n",
    "    print(normalizer.mean.numpy())\n",
    "    print(normalizer.variance.numpy())\n",
    "    print(normalizer.count.numpy())"
   ]
  },
  {
   "cell_type": "markdown",
   "metadata": {
    "slideshow": {
     "slide_type": "slide"
    }
   },
   "source": [
    "* Ξεκινάμε με ένα μοντέλο με 32 νευρώνες σε ένα κρυμμένο στρώμα και έναν νευρώνα στο στρώμα εξόδου.\n",
    "\n",
    "* Δεν δίνουμε συνάρτηση ενεργοποίησης στο στρώμα εξόδου αφού θέλουμε να προβλέψουμε την τιμή του σπιτιού, άρα να πάρουμε το αποτέλεσμα του νευρώνα χωρίς να το υποχρεώνουμε να είναι σε κάποια όρια τιμών.\n",
    "\n",
    "* Την απώλεια θα την μετράμε με βάση το Μέσο Απόλυτο Λάθος."
   ]
  },
  {
   "cell_type": "code",
   "execution_count": 5,
   "metadata": {
    "slideshow": {
     "slide_type": "fragment"
    }
   },
   "outputs": [],
   "source": [
    "model = keras.Sequential([\n",
    "        normalizer,\n",
    "        layers.Dense(32, activation='relu'),\n",
    "        layers.Dense(1)\n",
    "    ])\n",
    "\n",
    "model.compile(loss='mean_absolute_error',\n",
    "              optimizer=tf.keras.optimizers.Adam(0.001))"
   ]
  },
  {
   "cell_type": "markdown",
   "metadata": {
    "slideshow": {
     "slide_type": "slide"
    }
   },
   "source": [
    "* Να το δούμε συνοπτικά.\n",
    "\n",
    "* Παρατηρείστε ότι έχουμε παραμέτρους που δεν εκπαιδεύονται: είναι οι μέσοι όροι, οι διακυμάνσεις, και ο αριθμός των στοιχείων που έχει ήδη βρει το επίπεδο `Normalization`."
   ]
  },
  {
   "cell_type": "code",
   "execution_count": 6,
   "metadata": {
    "slideshow": {
     "slide_type": "fragment"
    }
   },
   "outputs": [
    {
     "name": "stdout",
     "output_type": "stream",
     "text": [
      "Model: \"sequential\"\n",
      "_________________________________________________________________\n",
      " Layer (type)                Output Shape              Param #   \n",
      "=================================================================\n",
      " normalization (Normalizatio  (None, 8)                17        \n",
      " n)                                                              \n",
      "                                                                 \n",
      " dense (Dense)               (None, 32)                288       \n",
      "                                                                 \n",
      " dense_1 (Dense)             (None, 1)                 33        \n",
      "                                                                 \n",
      "=================================================================\n",
      "Total params: 338\n",
      "Trainable params: 321\n",
      "Non-trainable params: 17\n",
      "_________________________________________________________________\n"
     ]
    }
   ],
   "source": [
    "model.summary()"
   ]
  },
  {
   "cell_type": "markdown",
   "metadata": {
    "slideshow": {
     "slide_type": "slide"
    }
   },
   "source": [
    "* Θα εκπαιδεύσουμε το μοντέλο μας για 100 εποχές.\n",
    "\n",
    "* Σε κάθε εποχή τα τελευταία 20% των δεδομένων θα χρησιμοποιούνται για επικύρωση.\n",
    "\n",
    "* Θα αποθηκεύσουμε την πορεία της εκπαίδευσης σε μία μεταβλητή `history`."
   ]
  },
  {
   "cell_type": "code",
   "execution_count": 7,
   "metadata": {
    "slideshow": {
     "slide_type": "fragment"
    }
   },
   "outputs": [
    {
     "name": "stdout",
     "output_type": "stream",
     "text": [
      "Epoch 1/100\n",
      "413/413 [==============================] - 3s 4ms/step - loss: 0.8047 - val_loss: 0.5796\n",
      "Epoch 2/100\n",
      "413/413 [==============================] - 1s 4ms/step - loss: 0.5087 - val_loss: 0.4928\n",
      "Epoch 3/100\n",
      "413/413 [==============================] - 1s 3ms/step - loss: 0.4637 - val_loss: 0.4640\n",
      "Epoch 4/100\n",
      "413/413 [==============================] - 1s 3ms/step - loss: 0.4462 - val_loss: 0.4573\n",
      "Epoch 5/100\n",
      "413/413 [==============================] - 2s 4ms/step - loss: 0.4370 - val_loss: 0.4532\n",
      "Epoch 6/100\n",
      "413/413 [==============================] - 1s 3ms/step - loss: 0.4323 - val_loss: 0.4418\n",
      "Epoch 7/100\n",
      "413/413 [==============================] - 1s 3ms/step - loss: 0.4275 - val_loss: 0.4401\n",
      "Epoch 8/100\n",
      "413/413 [==============================] - 2s 4ms/step - loss: 0.4243 - val_loss: 0.4356\n",
      "Epoch 9/100\n",
      "413/413 [==============================] - 1s 3ms/step - loss: 0.4203 - val_loss: 0.4366\n",
      "Epoch 10/100\n",
      "413/413 [==============================] - 2s 4ms/step - loss: 0.4175 - val_loss: 0.4331\n",
      "Epoch 11/100\n",
      "413/413 [==============================] - 2s 4ms/step - loss: 0.4153 - val_loss: 0.4301\n",
      "Epoch 12/100\n",
      "413/413 [==============================] - 2s 4ms/step - loss: 0.4125 - val_loss: 0.4274\n",
      "Epoch 13/100\n",
      "413/413 [==============================] - 2s 4ms/step - loss: 0.4105 - val_loss: 0.4272\n",
      "Epoch 14/100\n",
      "413/413 [==============================] - 2s 4ms/step - loss: 0.4087 - val_loss: 0.4334\n",
      "Epoch 15/100\n",
      "413/413 [==============================] - 2s 4ms/step - loss: 0.4065 - val_loss: 0.4292\n",
      "Epoch 16/100\n",
      "413/413 [==============================] - 2s 4ms/step - loss: 0.4045 - val_loss: 0.4215\n",
      "Epoch 17/100\n",
      "413/413 [==============================] - 1s 4ms/step - loss: 0.4032 - val_loss: 0.4173\n",
      "Epoch 18/100\n",
      "413/413 [==============================] - 2s 4ms/step - loss: 0.4020 - val_loss: 0.4197\n",
      "Epoch 19/100\n",
      "413/413 [==============================] - 1s 3ms/step - loss: 0.4006 - val_loss: 0.4182\n",
      "Epoch 20/100\n",
      "413/413 [==============================] - 1s 3ms/step - loss: 0.3998 - val_loss: 0.4138\n",
      "Epoch 21/100\n",
      "413/413 [==============================] - 2s 4ms/step - loss: 0.3979 - val_loss: 0.4155\n",
      "Epoch 22/100\n",
      "413/413 [==============================] - 1s 3ms/step - loss: 0.3970 - val_loss: 0.4172\n",
      "Epoch 23/100\n",
      "413/413 [==============================] - 1s 3ms/step - loss: 0.3950 - val_loss: 0.4178\n",
      "Epoch 24/100\n",
      "413/413 [==============================] - 1s 3ms/step - loss: 0.3949 - val_loss: 0.4106\n",
      "Epoch 25/100\n",
      "413/413 [==============================] - 1s 3ms/step - loss: 0.3935 - val_loss: 0.4092\n",
      "Epoch 26/100\n",
      "413/413 [==============================] - 1s 3ms/step - loss: 0.3918 - val_loss: 0.4058\n",
      "Epoch 27/100\n",
      "413/413 [==============================] - 2s 4ms/step - loss: 0.3905 - val_loss: 0.4065\n",
      "Epoch 28/100\n",
      "413/413 [==============================] - 2s 4ms/step - loss: 0.3896 - val_loss: 0.4056\n",
      "Epoch 29/100\n",
      "413/413 [==============================] - 1s 3ms/step - loss: 0.3882 - val_loss: 0.4060\n",
      "Epoch 30/100\n",
      "413/413 [==============================] - 2s 4ms/step - loss: 0.3871 - val_loss: 0.4059\n",
      "Epoch 31/100\n",
      "413/413 [==============================] - 2s 4ms/step - loss: 0.3862 - val_loss: 0.4041\n",
      "Epoch 32/100\n",
      "413/413 [==============================] - 1s 3ms/step - loss: 0.3849 - val_loss: 0.4060\n",
      "Epoch 33/100\n",
      "413/413 [==============================] - 2s 4ms/step - loss: 0.3846 - val_loss: 0.4031\n",
      "Epoch 34/100\n",
      "413/413 [==============================] - 1s 3ms/step - loss: 0.3840 - val_loss: 0.4004\n",
      "Epoch 35/100\n",
      "413/413 [==============================] - 1s 3ms/step - loss: 0.3831 - val_loss: 0.4043\n",
      "Epoch 36/100\n",
      "413/413 [==============================] - 1s 2ms/step - loss: 0.3826 - val_loss: 0.4036\n",
      "Epoch 37/100\n",
      "413/413 [==============================] - 1s 3ms/step - loss: 0.3815 - val_loss: 0.4007\n",
      "Epoch 38/100\n",
      "413/413 [==============================] - 1s 3ms/step - loss: 0.3804 - val_loss: 0.3959\n",
      "Epoch 39/100\n",
      "413/413 [==============================] - 1s 3ms/step - loss: 0.3810 - val_loss: 0.3980\n",
      "Epoch 40/100\n",
      "413/413 [==============================] - 1s 3ms/step - loss: 0.3801 - val_loss: 0.3974\n",
      "Epoch 41/100\n",
      "413/413 [==============================] - 1s 2ms/step - loss: 0.3793 - val_loss: 0.3992\n",
      "Epoch 42/100\n",
      "413/413 [==============================] - 1s 3ms/step - loss: 0.3785 - val_loss: 0.3952\n",
      "Epoch 43/100\n",
      "413/413 [==============================] - 1s 3ms/step - loss: 0.3774 - val_loss: 0.3980\n",
      "Epoch 44/100\n",
      "413/413 [==============================] - 1s 3ms/step - loss: 0.3782 - val_loss: 0.3951\n",
      "Epoch 45/100\n",
      "413/413 [==============================] - 1s 2ms/step - loss: 0.3779 - val_loss: 0.3921\n",
      "Epoch 46/100\n",
      "413/413 [==============================] - 1s 2ms/step - loss: 0.3759 - val_loss: 0.4003\n",
      "Epoch 47/100\n",
      "413/413 [==============================] - 1s 2ms/step - loss: 0.3766 - val_loss: 0.3922\n",
      "Epoch 48/100\n",
      "413/413 [==============================] - 1s 3ms/step - loss: 0.3750 - val_loss: 0.3988\n",
      "Epoch 49/100\n",
      "413/413 [==============================] - 1s 3ms/step - loss: 0.3758 - val_loss: 0.3936\n",
      "Epoch 50/100\n",
      "413/413 [==============================] - 1s 2ms/step - loss: 0.3748 - val_loss: 0.3927\n",
      "Epoch 51/100\n",
      "413/413 [==============================] - 1s 2ms/step - loss: 0.3742 - val_loss: 0.3919\n",
      "Epoch 52/100\n",
      "413/413 [==============================] - 1s 2ms/step - loss: 0.3753 - val_loss: 0.3913\n",
      "Epoch 53/100\n",
      "413/413 [==============================] - 1s 3ms/step - loss: 0.3744 - val_loss: 0.3902\n",
      "Epoch 54/100\n",
      "413/413 [==============================] - 1s 3ms/step - loss: 0.3740 - val_loss: 0.3911\n",
      "Epoch 55/100\n",
      "413/413 [==============================] - 1s 3ms/step - loss: 0.3727 - val_loss: 0.3930\n",
      "Epoch 56/100\n",
      "413/413 [==============================] - 1s 3ms/step - loss: 0.3723 - val_loss: 0.3938\n",
      "Epoch 57/100\n",
      "413/413 [==============================] - 1s 2ms/step - loss: 0.3716 - val_loss: 0.3893\n",
      "Epoch 58/100\n",
      "413/413 [==============================] - 2s 4ms/step - loss: 0.3719 - val_loss: 0.3894\n",
      "Epoch 59/100\n",
      "413/413 [==============================] - 1s 3ms/step - loss: 0.3713 - val_loss: 0.3885\n",
      "Epoch 60/100\n",
      "413/413 [==============================] - 1s 3ms/step - loss: 0.3715 - val_loss: 0.3887\n",
      "Epoch 61/100\n",
      "413/413 [==============================] - 1s 3ms/step - loss: 0.3710 - val_loss: 0.3894\n",
      "Epoch 62/100\n",
      "413/413 [==============================] - 1s 3ms/step - loss: 0.3711 - val_loss: 0.3916\n",
      "Epoch 63/100\n",
      "413/413 [==============================] - 1s 3ms/step - loss: 0.3712 - val_loss: 0.3921\n",
      "Epoch 64/100\n",
      "413/413 [==============================] - 1s 3ms/step - loss: 0.3699 - val_loss: 0.3914\n",
      "Epoch 65/100\n",
      "413/413 [==============================] - 1s 3ms/step - loss: 0.3698 - val_loss: 0.3840\n",
      "Epoch 66/100\n",
      "413/413 [==============================] - 1s 3ms/step - loss: 0.3691 - val_loss: 0.3859\n",
      "Epoch 67/100\n",
      "413/413 [==============================] - 1s 3ms/step - loss: 0.3690 - val_loss: 0.3872\n",
      "Epoch 68/100\n",
      "413/413 [==============================] - 1s 3ms/step - loss: 0.3692 - val_loss: 0.3849\n",
      "Epoch 69/100\n",
      "413/413 [==============================] - 2s 4ms/step - loss: 0.3694 - val_loss: 0.3863\n",
      "Epoch 70/100\n",
      "413/413 [==============================] - 1s 3ms/step - loss: 0.3682 - val_loss: 0.3877\n",
      "Epoch 71/100\n",
      "413/413 [==============================] - 1s 3ms/step - loss: 0.3686 - val_loss: 0.3833\n",
      "Epoch 72/100\n",
      "413/413 [==============================] - 1s 3ms/step - loss: 0.3685 - val_loss: 0.3946\n",
      "Epoch 73/100\n",
      "413/413 [==============================] - 2s 4ms/step - loss: 0.3680 - val_loss: 0.3898\n",
      "Epoch 74/100\n",
      "413/413 [==============================] - 1s 3ms/step - loss: 0.3679 - val_loss: 0.3858\n",
      "Epoch 75/100\n",
      "413/413 [==============================] - 1s 3ms/step - loss: 0.3681 - val_loss: 0.3848\n",
      "Epoch 76/100\n",
      "413/413 [==============================] - 1s 3ms/step - loss: 0.3684 - val_loss: 0.3858\n",
      "Epoch 77/100\n",
      "413/413 [==============================] - 1s 3ms/step - loss: 0.3667 - val_loss: 0.3886\n",
      "Epoch 78/100\n",
      "413/413 [==============================] - 1s 3ms/step - loss: 0.3667 - val_loss: 0.3893\n",
      "Epoch 79/100\n",
      "413/413 [==============================] - 1s 3ms/step - loss: 0.3667 - val_loss: 0.3841\n",
      "Epoch 80/100\n",
      "413/413 [==============================] - 1s 3ms/step - loss: 0.3664 - val_loss: 0.3851\n",
      "Epoch 81/100\n",
      "413/413 [==============================] - 1s 3ms/step - loss: 0.3665 - val_loss: 0.3858\n",
      "Epoch 82/100\n",
      "413/413 [==============================] - 1s 3ms/step - loss: 0.3665 - val_loss: 0.3840\n",
      "Epoch 83/100\n",
      "413/413 [==============================] - 1s 3ms/step - loss: 0.3667 - val_loss: 0.3899\n",
      "Epoch 84/100\n",
      "413/413 [==============================] - 1s 3ms/step - loss: 0.3665 - val_loss: 0.3872\n",
      "Epoch 85/100\n",
      "413/413 [==============================] - 1s 3ms/step - loss: 0.3664 - val_loss: 0.3820\n",
      "Epoch 86/100\n",
      "413/413 [==============================] - 1s 3ms/step - loss: 0.3665 - val_loss: 0.3837\n",
      "Epoch 87/100\n",
      "413/413 [==============================] - 1s 3ms/step - loss: 0.3655 - val_loss: 0.3806\n",
      "Epoch 88/100\n",
      "413/413 [==============================] - 2s 4ms/step - loss: 0.3655 - val_loss: 0.3830\n",
      "Epoch 89/100\n",
      "413/413 [==============================] - 1s 3ms/step - loss: 0.3650 - val_loss: 0.3879\n",
      "Epoch 90/100\n",
      "413/413 [==============================] - 1s 3ms/step - loss: 0.3651 - val_loss: 0.3815\n",
      "Epoch 91/100\n",
      "413/413 [==============================] - 1s 3ms/step - loss: 0.3646 - val_loss: 0.3851\n",
      "Epoch 92/100\n",
      "413/413 [==============================] - 1s 4ms/step - loss: 0.3652 - val_loss: 0.3814\n",
      "Epoch 93/100\n",
      "413/413 [==============================] - 1s 3ms/step - loss: 0.3643 - val_loss: 0.3847\n",
      "Epoch 94/100\n",
      "413/413 [==============================] - 1s 3ms/step - loss: 0.3649 - val_loss: 0.3848\n",
      "Epoch 95/100\n",
      "413/413 [==============================] - 1s 3ms/step - loss: 0.3648 - val_loss: 0.3823\n",
      "Epoch 96/100\n",
      "413/413 [==============================] - 1s 3ms/step - loss: 0.3645 - val_loss: 0.3804\n",
      "Epoch 97/100\n",
      "413/413 [==============================] - 1s 3ms/step - loss: 0.3634 - val_loss: 0.3877\n",
      "Epoch 98/100\n",
      "413/413 [==============================] - 1s 3ms/step - loss: 0.3633 - val_loss: 0.3826\n",
      "Epoch 99/100\n",
      "413/413 [==============================] - 1s 3ms/step - loss: 0.3635 - val_loss: 0.3807\n",
      "Epoch 100/100\n",
      "413/413 [==============================] - 1s 3ms/step - loss: 0.3633 - val_loss: 0.3824\n"
     ]
    }
   ],
   "source": [
    "num_epochs = 100\n",
    "\n",
    "history = model.fit(\n",
    "    X_train, \n",
    "    y_train,\n",
    "    epochs=num_epochs, \n",
    "    validation_split=0.2,\n",
    "    verbose=1)"
   ]
  },
  {
   "cell_type": "markdown",
   "metadata": {
    "slideshow": {
     "slide_type": "slide"
    }
   },
   "source": [
    "* Η πορεία της εκπαίδευσης μας δείχνει την πρόοδο στην απώλεια εκπαίδευσης και στην απώλεια επικύρωσης, σε κάθε εποχή."
   ]
  },
  {
   "cell_type": "code",
   "execution_count": 8,
   "metadata": {
    "slideshow": {
     "slide_type": "fragment"
    }
   },
   "outputs": [
    {
     "data": {
      "text/html": [
       "<div>\n",
       "<style scoped>\n",
       "    .dataframe tbody tr th:only-of-type {\n",
       "        vertical-align: middle;\n",
       "    }\n",
       "\n",
       "    .dataframe tbody tr th {\n",
       "        vertical-align: top;\n",
       "    }\n",
       "\n",
       "    .dataframe thead th {\n",
       "        text-align: right;\n",
       "    }\n",
       "</style>\n",
       "<table border=\"1\" class=\"dataframe\">\n",
       "  <thead>\n",
       "    <tr style=\"text-align: right;\">\n",
       "      <th></th>\n",
       "      <th>loss</th>\n",
       "      <th>val_loss</th>\n",
       "      <th>epoch</th>\n",
       "    </tr>\n",
       "  </thead>\n",
       "  <tbody>\n",
       "    <tr>\n",
       "      <th>0</th>\n",
       "      <td>0.804669</td>\n",
       "      <td>0.579563</td>\n",
       "      <td>0</td>\n",
       "    </tr>\n",
       "    <tr>\n",
       "      <th>1</th>\n",
       "      <td>0.508653</td>\n",
       "      <td>0.492838</td>\n",
       "      <td>1</td>\n",
       "    </tr>\n",
       "    <tr>\n",
       "      <th>2</th>\n",
       "      <td>0.463731</td>\n",
       "      <td>0.463953</td>\n",
       "      <td>2</td>\n",
       "    </tr>\n",
       "    <tr>\n",
       "      <th>3</th>\n",
       "      <td>0.446166</td>\n",
       "      <td>0.457256</td>\n",
       "      <td>3</td>\n",
       "    </tr>\n",
       "    <tr>\n",
       "      <th>4</th>\n",
       "      <td>0.436963</td>\n",
       "      <td>0.453202</td>\n",
       "      <td>4</td>\n",
       "    </tr>\n",
       "    <tr>\n",
       "      <th>...</th>\n",
       "      <td>...</td>\n",
       "      <td>...</td>\n",
       "      <td>...</td>\n",
       "    </tr>\n",
       "    <tr>\n",
       "      <th>95</th>\n",
       "      <td>0.364532</td>\n",
       "      <td>0.380361</td>\n",
       "      <td>95</td>\n",
       "    </tr>\n",
       "    <tr>\n",
       "      <th>96</th>\n",
       "      <td>0.363425</td>\n",
       "      <td>0.387689</td>\n",
       "      <td>96</td>\n",
       "    </tr>\n",
       "    <tr>\n",
       "      <th>97</th>\n",
       "      <td>0.363332</td>\n",
       "      <td>0.382579</td>\n",
       "      <td>97</td>\n",
       "    </tr>\n",
       "    <tr>\n",
       "      <th>98</th>\n",
       "      <td>0.363485</td>\n",
       "      <td>0.380733</td>\n",
       "      <td>98</td>\n",
       "    </tr>\n",
       "    <tr>\n",
       "      <th>99</th>\n",
       "      <td>0.363330</td>\n",
       "      <td>0.382385</td>\n",
       "      <td>99</td>\n",
       "    </tr>\n",
       "  </tbody>\n",
       "</table>\n",
       "<p>100 rows × 3 columns</p>\n",
       "</div>"
      ],
      "text/plain": [
       "        loss  val_loss  epoch\n",
       "0   0.804669  0.579563      0\n",
       "1   0.508653  0.492838      1\n",
       "2   0.463731  0.463953      2\n",
       "3   0.446166  0.457256      3\n",
       "4   0.436963  0.453202      4\n",
       "..       ...       ...    ...\n",
       "95  0.364532  0.380361     95\n",
       "96  0.363425  0.387689     96\n",
       "97  0.363332  0.382579     97\n",
       "98  0.363485  0.380733     98\n",
       "99  0.363330  0.382385     99\n",
       "\n",
       "[100 rows x 3 columns]"
      ]
     },
     "execution_count": 8,
     "metadata": {},
     "output_type": "execute_result"
    }
   ],
   "source": [
    "hist = pd.DataFrame(history.history)\n",
    "hist['epoch'] = history.epoch\n",
    "hist"
   ]
  },
  {
   "cell_type": "markdown",
   "metadata": {
    "slideshow": {
     "slide_type": "slide"
    }
   },
   "source": [
    "* Μπορούμε να δούμε την εξέλιξη αν φτιάξουμε μια βοηθητική συνάρτηση για την απεικόνιση."
   ]
  },
  {
   "cell_type": "code",
   "execution_count": 9,
   "metadata": {
    "slideshow": {
     "slide_type": "fragment"
    }
   },
   "outputs": [],
   "source": [
    "def plot_loss(history):\n",
    "    plt.plot(history.history['loss'], label='loss')\n",
    "    plt.plot(history.history['val_loss'], label='val_loss')\n",
    "    plt.xlabel('Epoch')\n",
    "    plt.ylabel('Error')\n",
    "    plt.legend()\n",
    "    plt.grid(True)"
   ]
  },
  {
   "cell_type": "code",
   "execution_count": 10,
   "metadata": {
    "scrolled": false,
    "slideshow": {
     "slide_type": "slide"
    }
   },
   "outputs": [
    {
     "data": {
      "image/png": "[encoded data removed]",
      "text/plain": [
       "<Figure size 432x288 with 1 Axes>"
      ]
     },
     "metadata": {
      "needs_background": "light"
     },
     "output_type": "display_data"
    }
   ],
   "source": [
    "plot_loss(history)"
   ]
  },
  {
   "cell_type": "markdown",
   "metadata": {
    "slideshow": {
     "slide_type": "slide"
    }
   },
   "source": [
    "* Βλέπουμε ότι η απώλεια στην επικύρωση αποκλίνει από την απώλεια εκπαίδευσης.\n",
    "\n",
    "* Αυτό μπορεί να είναι δείγμα υπερπροσαρμογής."
   ]
  },
  {
   "cell_type": "markdown",
   "metadata": {
    "slideshow": {
     "slide_type": "slide"
    }
   },
   "source": [
    "* Αξιολογούμε το μοντέλο μας με βάση τα δεδομένα ελέγχου."
   ]
  },
  {
   "cell_type": "code",
   "execution_count": 11,
   "metadata": {
    "slideshow": {
     "slide_type": "fragment"
    }
   },
   "outputs": [
    {
     "data": {
      "text/plain": [
       "0.3827310800552368"
      ]
     },
     "execution_count": 11,
     "metadata": {},
     "output_type": "execute_result"
    }
   ],
   "source": [
    "model.evaluate(X_test, y_test, verbose=0)"
   ]
  },
  {
   "cell_type": "markdown",
   "metadata": {
    "slideshow": {
     "slide_type": "slide"
    }
   },
   "source": [
    "* Ας δούμε αν θα τα πάμε καλύτερα με ένα μεγαλύτερο δίκτυο."
   ]
  },
  {
   "cell_type": "code",
   "execution_count": 12,
   "metadata": {
    "slideshow": {
     "slide_type": "fragment"
    }
   },
   "outputs": [],
   "source": [
    "model = keras.Sequential([\n",
    "        normalizer,\n",
    "        layers.Dense(64, activation='relu'),\n",
    "        layers.Dense(32, activation='relu'),\n",
    "        layers.Dense(1)\n",
    "    ])\n",
    "\n",
    "model.compile(loss='mean_absolute_error',\n",
    "              optimizer=tf.keras.optimizers.Adam(0.001))"
   ]
  },
  {
   "cell_type": "markdown",
   "metadata": {
    "slideshow": {
     "slide_type": "slide"
    }
   },
   "source": [
    "* Συνοπτικά:"
   ]
  },
  {
   "cell_type": "code",
   "execution_count": 13,
   "metadata": {
    "slideshow": {
     "slide_type": "fragment"
    }
   },
   "outputs": [
    {
     "name": "stdout",
     "output_type": "stream",
     "text": [
      "Model: \"sequential_1\"\n",
      "_________________________________________________________________\n",
      " Layer (type)                Output Shape              Param #   \n",
      "=================================================================\n",
      " normalization (Normalizatio  (None, 8)                17        \n",
      " n)                                                              \n",
      "                                                                 \n",
      " dense_2 (Dense)             (None, 64)                576       \n",
      "                                                                 \n",
      " dense_3 (Dense)             (None, 32)                2080      \n",
      "                                                                 \n",
      " dense_4 (Dense)             (None, 1)                 33        \n",
      "                                                                 \n",
      "=================================================================\n",
      "Total params: 2,706\n",
      "Trainable params: 2,689\n",
      "Non-trainable params: 17\n",
      "_________________________________________________________________\n"
     ]
    }
   ],
   "source": [
    "model.summary()"
   ]
  },
  {
   "cell_type": "markdown",
   "metadata": {
    "slideshow": {
     "slide_type": "slide"
    }
   },
   "source": [
    "* Εκπαιδεύουμε:"
   ]
  },
  {
   "cell_type": "code",
   "execution_count": 14,
   "metadata": {
    "slideshow": {
     "slide_type": "fragment"
    }
   },
   "outputs": [
    {
     "name": "stdout",
     "output_type": "stream",
     "text": [
      "Epoch 1/100\n",
      "413/413 [==============================] - 2s 4ms/step - loss: 0.6449 - val_loss: 0.4896\n",
      "Epoch 2/100\n",
      "413/413 [==============================] - 1s 3ms/step - loss: 0.4441 - val_loss: 0.4435\n",
      "Epoch 3/100\n",
      "413/413 [==============================] - 1s 3ms/step - loss: 0.4193 - val_loss: 0.4303\n",
      "Epoch 4/100\n",
      "413/413 [==============================] - 2s 4ms/step - loss: 0.4072 - val_loss: 0.4200\n",
      "Epoch 5/100\n",
      "413/413 [==============================] - 1s 3ms/step - loss: 0.3930 - val_loss: 0.4068\n",
      "Epoch 6/100\n",
      "413/413 [==============================] - 1s 4ms/step - loss: 0.3848 - val_loss: 0.3959\n",
      "Epoch 7/100\n",
      "413/413 [==============================] - 2s 4ms/step - loss: 0.3769 - val_loss: 0.3937\n",
      "Epoch 8/100\n",
      "413/413 [==============================] - 1s 3ms/step - loss: 0.3736 - val_loss: 0.3836\n",
      "Epoch 9/100\n",
      "413/413 [==============================] - 1s 3ms/step - loss: 0.3674 - val_loss: 0.3798\n",
      "Epoch 10/100\n",
      "413/413 [==============================] - 1s 3ms/step - loss: 0.3645 - val_loss: 0.3806\n",
      "Epoch 11/100\n",
      "413/413 [==============================] - 2s 4ms/step - loss: 0.3603 - val_loss: 0.3886\n",
      "Epoch 12/100\n",
      "413/413 [==============================] - 1s 3ms/step - loss: 0.3586 - val_loss: 0.3712\n",
      "Epoch 13/100\n",
      "413/413 [==============================] - 1s 4ms/step - loss: 0.3548 - val_loss: 0.3739\n",
      "Epoch 14/100\n",
      "413/413 [==============================] - 1s 4ms/step - loss: 0.3548 - val_loss: 0.3739\n",
      "Epoch 15/100\n",
      "413/413 [==============================] - 1s 3ms/step - loss: 0.3513 - val_loss: 0.3696\n",
      "Epoch 16/100\n",
      "413/413 [==============================] - 1s 3ms/step - loss: 0.3509 - val_loss: 0.3672\n",
      "Epoch 17/100\n",
      "413/413 [==============================] - 1s 4ms/step - loss: 0.3488 - val_loss: 0.3673\n",
      "Epoch 18/100\n",
      "413/413 [==============================] - 2s 4ms/step - loss: 0.3485 - val_loss: 0.3684\n",
      "Epoch 19/100\n",
      "413/413 [==============================] - 1s 3ms/step - loss: 0.3471 - val_loss: 0.3664\n",
      "Epoch 20/100\n",
      "413/413 [==============================] - 1s 3ms/step - loss: 0.3451 - val_loss: 0.3660\n",
      "Epoch 21/100\n",
      "413/413 [==============================] - 2s 4ms/step - loss: 0.3437 - val_loss: 0.3605\n",
      "Epoch 22/100\n",
      "413/413 [==============================] - 1s 3ms/step - loss: 0.3429 - val_loss: 0.3632\n",
      "Epoch 23/100\n",
      "413/413 [==============================] - 1s 3ms/step - loss: 0.3423 - val_loss: 0.3647\n",
      "Epoch 24/100\n",
      "413/413 [==============================] - 1s 3ms/step - loss: 0.3418 - val_loss: 0.3542\n",
      "Epoch 25/100\n",
      "413/413 [==============================] - 2s 4ms/step - loss: 0.3403 - val_loss: 0.3590\n",
      "Epoch 26/100\n",
      "413/413 [==============================] - 1s 3ms/step - loss: 0.3376 - val_loss: 0.3603\n",
      "Epoch 27/100\n",
      "413/413 [==============================] - 1s 3ms/step - loss: 0.3376 - val_loss: 0.3566\n",
      "Epoch 28/100\n",
      "413/413 [==============================] - 2s 4ms/step - loss: 0.3367 - val_loss: 0.3531\n",
      "Epoch 29/100\n",
      "413/413 [==============================] - 1s 3ms/step - loss: 0.3353 - val_loss: 0.3692\n",
      "Epoch 30/100\n",
      "413/413 [==============================] - 2s 4ms/step - loss: 0.3357 - val_loss: 0.3615\n",
      "Epoch 31/100\n",
      "413/413 [==============================] - 2s 4ms/step - loss: 0.3342 - val_loss: 0.3515\n",
      "Epoch 32/100\n",
      "413/413 [==============================] - 1s 3ms/step - loss: 0.3331 - val_loss: 0.3624\n",
      "Epoch 33/100\n",
      "413/413 [==============================] - 1s 3ms/step - loss: 0.3326 - val_loss: 0.3482\n",
      "Epoch 34/100\n",
      "413/413 [==============================] - 1s 3ms/step - loss: 0.3328 - val_loss: 0.3476\n",
      "Epoch 35/100\n",
      "413/413 [==============================] - 2s 4ms/step - loss: 0.3320 - val_loss: 0.3489\n",
      "Epoch 36/100\n",
      "413/413 [==============================] - 2s 4ms/step - loss: 0.3315 - val_loss: 0.3577\n",
      "Epoch 37/100\n",
      "413/413 [==============================] - 2s 4ms/step - loss: 0.3300 - val_loss: 0.3520\n",
      "Epoch 38/100\n",
      "413/413 [==============================] - 2s 5ms/step - loss: 0.3289 - val_loss: 0.3513\n",
      "Epoch 39/100\n",
      "413/413 [==============================] - 2s 4ms/step - loss: 0.3292 - val_loss: 0.3613\n",
      "Epoch 40/100\n",
      "413/413 [==============================] - 2s 5ms/step - loss: 0.3279 - val_loss: 0.3439\n",
      "Epoch 41/100\n",
      "413/413 [==============================] - 2s 4ms/step - loss: 0.3273 - val_loss: 0.3460\n",
      "Epoch 42/100\n",
      "413/413 [==============================] - 2s 4ms/step - loss: 0.3267 - val_loss: 0.3551\n",
      "Epoch 43/100\n",
      "413/413 [==============================] - 2s 4ms/step - loss: 0.3254 - val_loss: 0.3465\n",
      "Epoch 44/100\n",
      "413/413 [==============================] - 2s 4ms/step - loss: 0.3248 - val_loss: 0.3457\n",
      "Epoch 45/100\n",
      "413/413 [==============================] - 2s 4ms/step - loss: 0.3239 - val_loss: 0.3530\n",
      "Epoch 46/100\n",
      "413/413 [==============================] - 2s 4ms/step - loss: 0.3242 - val_loss: 0.3440\n",
      "Epoch 47/100\n",
      "413/413 [==============================] - 2s 4ms/step - loss: 0.3230 - val_loss: 0.3409\n",
      "Epoch 48/100\n",
      "413/413 [==============================] - 2s 4ms/step - loss: 0.3233 - val_loss: 0.3444\n",
      "Epoch 49/100\n",
      "413/413 [==============================] - 2s 4ms/step - loss: 0.3209 - val_loss: 0.3458\n",
      "Epoch 50/100\n",
      "413/413 [==============================] - 2s 4ms/step - loss: 0.3229 - val_loss: 0.3412\n",
      "Epoch 51/100\n",
      "413/413 [==============================] - 2s 4ms/step - loss: 0.3200 - val_loss: 0.3459\n",
      "Epoch 52/100\n",
      "413/413 [==============================] - 2s 4ms/step - loss: 0.3213 - val_loss: 0.3411\n",
      "Epoch 53/100\n",
      "413/413 [==============================] - 2s 4ms/step - loss: 0.3201 - val_loss: 0.3408\n",
      "Epoch 54/100\n",
      "413/413 [==============================] - 2s 4ms/step - loss: 0.3186 - val_loss: 0.3461\n",
      "Epoch 55/100\n",
      "413/413 [==============================] - 2s 4ms/step - loss: 0.3187 - val_loss: 0.3469\n",
      "Epoch 56/100\n",
      "413/413 [==============================] - 2s 4ms/step - loss: 0.3199 - val_loss: 0.3393\n",
      "Epoch 57/100\n",
      "413/413 [==============================] - 1s 3ms/step - loss: 0.3172 - val_loss: 0.3405\n",
      "Epoch 58/100\n",
      "413/413 [==============================] - 1s 3ms/step - loss: 0.3174 - val_loss: 0.3441\n",
      "Epoch 59/100\n",
      "413/413 [==============================] - 1s 3ms/step - loss: 0.3178 - val_loss: 0.3365\n",
      "Epoch 60/100\n",
      "413/413 [==============================] - 1s 3ms/step - loss: 0.3175 - val_loss: 0.3478\n",
      "Epoch 61/100\n",
      "413/413 [==============================] - 2s 4ms/step - loss: 0.3160 - val_loss: 0.3410\n",
      "Epoch 62/100\n",
      "413/413 [==============================] - 2s 4ms/step - loss: 0.3168 - val_loss: 0.3416\n",
      "Epoch 63/100\n",
      "413/413 [==============================] - 1s 3ms/step - loss: 0.3154 - val_loss: 0.3386\n",
      "Epoch 64/100\n",
      "413/413 [==============================] - 1s 4ms/step - loss: 0.3147 - val_loss: 0.3553\n",
      "Epoch 65/100\n",
      "413/413 [==============================] - 2s 4ms/step - loss: 0.3150 - val_loss: 0.3381\n",
      "Epoch 66/100\n",
      "413/413 [==============================] - 2s 4ms/step - loss: 0.3136 - val_loss: 0.3409\n",
      "Epoch 67/100\n",
      "413/413 [==============================] - 1s 3ms/step - loss: 0.3145 - val_loss: 0.3390\n",
      "Epoch 68/100\n",
      "413/413 [==============================] - 1s 3ms/step - loss: 0.3137 - val_loss: 0.3353\n",
      "Epoch 69/100\n",
      "413/413 [==============================] - 1s 3ms/step - loss: 0.3132 - val_loss: 0.3440\n",
      "Epoch 70/100\n",
      "413/413 [==============================] - 1s 3ms/step - loss: 0.3134 - val_loss: 0.3435\n",
      "Epoch 71/100\n",
      "413/413 [==============================] - 1s 3ms/step - loss: 0.3148 - val_loss: 0.3366\n",
      "Epoch 72/100\n",
      "413/413 [==============================] - 1s 3ms/step - loss: 0.3138 - val_loss: 0.3393\n",
      "Epoch 73/100\n",
      "413/413 [==============================] - 1s 3ms/step - loss: 0.3124 - val_loss: 0.3415\n",
      "Epoch 74/100\n",
      "413/413 [==============================] - 1s 3ms/step - loss: 0.3127 - val_loss: 0.3381\n",
      "Epoch 75/100\n",
      "413/413 [==============================] - 1s 3ms/step - loss: 0.3121 - val_loss: 0.3380\n",
      "Epoch 76/100\n",
      "413/413 [==============================] - 1s 3ms/step - loss: 0.3128 - val_loss: 0.3436\n",
      "Epoch 77/100\n",
      "413/413 [==============================] - 1s 3ms/step - loss: 0.3114 - val_loss: 0.3382\n",
      "Epoch 78/100\n",
      "413/413 [==============================] - 1s 3ms/step - loss: 0.3114 - val_loss: 0.3463\n",
      "Epoch 79/100\n",
      "413/413 [==============================] - 1s 3ms/step - loss: 0.3107 - val_loss: 0.3396\n",
      "Epoch 80/100\n",
      "413/413 [==============================] - 1s 3ms/step - loss: 0.3108 - val_loss: 0.3374\n",
      "Epoch 81/100\n",
      "413/413 [==============================] - 1s 3ms/step - loss: 0.3119 - val_loss: 0.3416\n",
      "Epoch 82/100\n",
      "413/413 [==============================] - 1s 3ms/step - loss: 0.3102 - val_loss: 0.3399\n",
      "Epoch 83/100\n",
      "413/413 [==============================] - 1s 3ms/step - loss: 0.3103 - val_loss: 0.3344\n",
      "Epoch 84/100\n",
      "413/413 [==============================] - 1s 3ms/step - loss: 0.3100 - val_loss: 0.3433\n",
      "Epoch 85/100\n",
      "413/413 [==============================] - 1s 3ms/step - loss: 0.3093 - val_loss: 0.3426\n",
      "Epoch 86/100\n",
      "413/413 [==============================] - 1s 3ms/step - loss: 0.3086 - val_loss: 0.3359\n",
      "Epoch 87/100\n",
      "413/413 [==============================] - 2s 4ms/step - loss: 0.3094 - val_loss: 0.3393\n",
      "Epoch 88/100\n",
      "413/413 [==============================] - 1s 3ms/step - loss: 0.3090 - val_loss: 0.3379\n",
      "Epoch 89/100\n",
      "413/413 [==============================] - 1s 3ms/step - loss: 0.3103 - val_loss: 0.3415\n",
      "Epoch 90/100\n",
      "413/413 [==============================] - 1s 4ms/step - loss: 0.3088 - val_loss: 0.3429\n",
      "Epoch 91/100\n",
      "413/413 [==============================] - 1s 3ms/step - loss: 0.3086 - val_loss: 0.3358\n",
      "Epoch 92/100\n",
      "413/413 [==============================] - 1s 3ms/step - loss: 0.3090 - val_loss: 0.3351\n",
      "Epoch 93/100\n",
      "413/413 [==============================] - 1s 3ms/step - loss: 0.3064 - val_loss: 0.3368\n",
      "Epoch 94/100\n",
      "413/413 [==============================] - 2s 4ms/step - loss: 0.3074 - val_loss: 0.3402\n",
      "Epoch 95/100\n",
      "413/413 [==============================] - 2s 4ms/step - loss: 0.3082 - val_loss: 0.3422\n",
      "Epoch 96/100\n",
      "413/413 [==============================] - 2s 4ms/step - loss: 0.3084 - val_loss: 0.3365\n",
      "Epoch 97/100\n",
      "413/413 [==============================] - 1s 3ms/step - loss: 0.3062 - val_loss: 0.3328\n",
      "Epoch 98/100\n",
      "413/413 [==============================] - 1s 3ms/step - loss: 0.3064 - val_loss: 0.3347\n",
      "Epoch 99/100\n",
      "413/413 [==============================] - 1s 3ms/step - loss: 0.3058 - val_loss: 0.3383\n",
      "Epoch 100/100\n",
      "413/413 [==============================] - 1s 3ms/step - loss: 0.3065 - val_loss: 0.3457\n"
     ]
    }
   ],
   "source": [
    "history = model.fit(\n",
    "    X_train, \n",
    "    y_train,\n",
    "    epochs=num_epochs, \n",
    "    validation_split=0.2,\n",
    "    verbose=1)"
   ]
  },
  {
   "cell_type": "markdown",
   "metadata": {
    "slideshow": {
     "slide_type": "slide"
    }
   },
   "source": [
    "* Η αξιολόγησή του:"
   ]
  },
  {
   "cell_type": "code",
   "execution_count": 15,
   "metadata": {
    "slideshow": {
     "slide_type": "fragment"
    }
   },
   "outputs": [
    {
     "data": {
      "text/plain": [
       "0.34064018726348877"
      ]
     },
     "execution_count": 15,
     "metadata": {},
     "output_type": "execute_result"
    }
   ],
   "source": [
    "model.evaluate(X_test, y_test, verbose=0)"
   ]
  },
  {
   "cell_type": "markdown",
   "metadata": {
    "slideshow": {
     "slide_type": "slide"
    }
   },
   "source": [
    "* Τα πήγαμε μεν καλύτερα, αλλά οι δύο απώλειες άρχισαν να αποκλίνουν νωρίτερα.\n",
    "\n",
    "* Επίσης, η απώλεια επικύρωσης δεν φαίνεται να βελτιώνεται σημαντικά από ένα σημείο και μετά."
   ]
  },
  {
   "cell_type": "code",
   "execution_count": 16,
   "metadata": {},
   "outputs": [
    {
     "data": {
      "image/png": "[encoded data removed]",
      "text/plain": [
       "<Figure size 432x288 with 1 Axes>"
      ]
     },
     "metadata": {
      "needs_background": "light"
     },
     "output_type": "display_data"
    }
   ],
   "source": [
    "plot_loss(history)"
   ]
  },
  {
   "cell_type": "markdown",
   "metadata": {
    "slideshow": {
     "slide_type": "slide"
    }
   },
   "source": [
    "* Προκειμένου να μην χάνουμε το χρόνο μας εκπαιδεύοντας το δίκτυο σε περισσότερες εποχές από όσες χρειάζεται, μπορούμε να χρησιμοποιήσουμε έναν μηχανισμό για πρόωρη διακοπή.\n",
    "\n",
    "* Η εκπαίδευση θα διακοπεί αν δεν σημειωθεί βελτίωση σε δέκα εποχές."
   ]
  },
  {
   "cell_type": "code",
   "execution_count": 17,
   "metadata": {
    "slideshow": {
     "slide_type": "fragment"
    }
   },
   "outputs": [],
   "source": [
    "early_stop = keras.callbacks.EarlyStopping(monitor='val_loss', patience=10)"
   ]
  },
  {
   "cell_type": "markdown",
   "metadata": {
    "slideshow": {
     "slide_type": "slide"
    }
   },
   "source": [
    "* Ξαναφτιάχνουμε το μοντέλο μας."
   ]
  },
  {
   "cell_type": "code",
   "execution_count": 18,
   "metadata": {
    "slideshow": {
     "slide_type": "fragment"
    }
   },
   "outputs": [],
   "source": [
    "model = keras.Sequential([\n",
    "        normalizer,\n",
    "        layers.Dense(64, activation='relu'),\n",
    "        layers.Dense(32, activation='relu'),\n",
    "        layers.Dense(1)\n",
    "    ])\n",
    "\n",
    "model.compile(loss='mean_absolute_error',\n",
    "              optimizer=tf.keras.optimizers.Adam(0.001))"
   ]
  },
  {
   "cell_type": "markdown",
   "metadata": {
    "slideshow": {
     "slide_type": "slide"
    }
   },
   "source": [
    "* Αυτή τη φορά του δίνουμε τον κανόνα πρόωρης διακοπής μέσω της παραμέτρου `callbacks`."
   ]
  },
  {
   "cell_type": "code",
   "execution_count": 19,
   "metadata": {
    "slideshow": {
     "slide_type": "fragment"
    }
   },
   "outputs": [
    {
     "name": "stdout",
     "output_type": "stream",
     "text": [
      "Epoch 1/100\n",
      "413/413 [==============================] - 2s 3ms/step - loss: 0.5950 - val_loss: 0.4631\n",
      "Epoch 2/100\n",
      "413/413 [==============================] - 1s 2ms/step - loss: 0.4354 - val_loss: 0.4421\n",
      "Epoch 3/100\n",
      "413/413 [==============================] - 1s 3ms/step - loss: 0.4186 - val_loss: 0.4324\n",
      "Epoch 4/100\n",
      "413/413 [==============================] - 1s 3ms/step - loss: 0.4115 - val_loss: 0.4242\n",
      "Epoch 5/100\n",
      "413/413 [==============================] - 1s 2ms/step - loss: 0.4023 - val_loss: 0.4149\n",
      "Epoch 6/100\n",
      "413/413 [==============================] - 1s 3ms/step - loss: 0.3943 - val_loss: 0.4066\n",
      "Epoch 7/100\n",
      "413/413 [==============================] - 1s 3ms/step - loss: 0.3884 - val_loss: 0.4101\n",
      "Epoch 8/100\n",
      "413/413 [==============================] - 1s 3ms/step - loss: 0.3839 - val_loss: 0.3975\n",
      "Epoch 9/100\n",
      "413/413 [==============================] - 1s 2ms/step - loss: 0.3796 - val_loss: 0.3927\n",
      "Epoch 10/100\n",
      "413/413 [==============================] - 1s 2ms/step - loss: 0.3748 - val_loss: 0.3886\n",
      "Epoch 11/100\n",
      "413/413 [==============================] - 1s 3ms/step - loss: 0.3719 - val_loss: 0.3918\n",
      "Epoch 12/100\n",
      "413/413 [==============================] - 1s 3ms/step - loss: 0.3691 - val_loss: 0.3837\n",
      "Epoch 13/100\n",
      "413/413 [==============================] - 1s 3ms/step - loss: 0.3668 - val_loss: 0.3873\n",
      "Epoch 14/100\n",
      "413/413 [==============================] - 1s 2ms/step - loss: 0.3650 - val_loss: 0.3890\n",
      "Epoch 15/100\n",
      "413/413 [==============================] - 1s 2ms/step - loss: 0.3627 - val_loss: 0.3900\n",
      "Epoch 16/100\n",
      "413/413 [==============================] - 1s 2ms/step - loss: 0.3610 - val_loss: 0.3748\n",
      "Epoch 17/100\n",
      "413/413 [==============================] - 1s 3ms/step - loss: 0.3578 - val_loss: 0.3715\n",
      "Epoch 18/100\n",
      "413/413 [==============================] - 1s 3ms/step - loss: 0.3559 - val_loss: 0.3739\n",
      "Epoch 19/100\n",
      "413/413 [==============================] - 1s 2ms/step - loss: 0.3566 - val_loss: 0.3663\n",
      "Epoch 20/100\n",
      "413/413 [==============================] - 1s 3ms/step - loss: 0.3517 - val_loss: 0.3727\n",
      "Epoch 21/100\n",
      "413/413 [==============================] - 1s 3ms/step - loss: 0.3533 - val_loss: 0.3650\n",
      "Epoch 22/100\n",
      "413/413 [==============================] - 1s 3ms/step - loss: 0.3501 - val_loss: 0.3654\n",
      "Epoch 23/100\n",
      "413/413 [==============================] - 1s 3ms/step - loss: 0.3492 - val_loss: 0.3751\n",
      "Epoch 24/100\n",
      "413/413 [==============================] - 1s 2ms/step - loss: 0.3472 - val_loss: 0.3608\n",
      "Epoch 25/100\n",
      "413/413 [==============================] - 1s 3ms/step - loss: 0.3456 - val_loss: 0.3665\n",
      "Epoch 26/100\n",
      "413/413 [==============================] - 1s 3ms/step - loss: 0.3459 - val_loss: 0.3601\n",
      "Epoch 27/100\n",
      "413/413 [==============================] - 1s 3ms/step - loss: 0.3446 - val_loss: 0.3633\n",
      "Epoch 28/100\n",
      "413/413 [==============================] - 1s 3ms/step - loss: 0.3421 - val_loss: 0.3587\n",
      "Epoch 29/100\n",
      "413/413 [==============================] - 1s 2ms/step - loss: 0.3422 - val_loss: 0.3662\n",
      "Epoch 30/100\n",
      "413/413 [==============================] - 1s 2ms/step - loss: 0.3417 - val_loss: 0.3612\n",
      "Epoch 31/100\n",
      "413/413 [==============================] - 1s 3ms/step - loss: 0.3386 - val_loss: 0.3579\n",
      "Epoch 32/100\n",
      "413/413 [==============================] - 1s 2ms/step - loss: 0.3378 - val_loss: 0.3676\n",
      "Epoch 33/100\n",
      "413/413 [==============================] - 1s 3ms/step - loss: 0.3401 - val_loss: 0.3508\n",
      "Epoch 34/100\n",
      "413/413 [==============================] - 1s 2ms/step - loss: 0.3381 - val_loss: 0.3534\n",
      "Epoch 35/100\n",
      "413/413 [==============================] - 1s 3ms/step - loss: 0.3359 - val_loss: 0.3661\n",
      "Epoch 36/100\n",
      "413/413 [==============================] - 1s 3ms/step - loss: 0.3344 - val_loss: 0.3600\n",
      "Epoch 37/100\n",
      "413/413 [==============================] - 1s 2ms/step - loss: 0.3342 - val_loss: 0.3590\n",
      "Epoch 38/100\n",
      "413/413 [==============================] - 1s 2ms/step - loss: 0.3324 - val_loss: 0.3642\n",
      "Epoch 39/100\n",
      "413/413 [==============================] - 1s 2ms/step - loss: 0.3344 - val_loss: 0.3533\n",
      "Epoch 40/100\n",
      "413/413 [==============================] - 1s 3ms/step - loss: 0.3315 - val_loss: 0.3510\n",
      "Epoch 41/100\n",
      "413/413 [==============================] - 1s 2ms/step - loss: 0.3310 - val_loss: 0.3521\n",
      "Epoch 42/100\n",
      "413/413 [==============================] - 1s 2ms/step - loss: 0.3308 - val_loss: 0.3554\n",
      "Epoch 43/100\n",
      "413/413 [==============================] - 1s 3ms/step - loss: 0.3282 - val_loss: 0.3521\n"
     ]
    }
   ],
   "source": [
    "history = model.fit(\n",
    "    X_train, \n",
    "    y_train,\n",
    "    epochs=num_epochs, \n",
    "    validation_split=0.2,\n",
    "    verbose=1,\n",
    "    callbacks=[early_stop])"
   ]
  },
  {
   "cell_type": "markdown",
   "metadata": {
    "slideshow": {
     "slide_type": "slide"
    }
   },
   "source": [
    "* Πράγματι, σταματήσαμε πριν από τις 80 εποχές."
   ]
  },
  {
   "cell_type": "code",
   "execution_count": 20,
   "metadata": {
    "slideshow": {
     "slide_type": "fragment"
    }
   },
   "outputs": [
    {
     "data": {
      "image/png": "[encoded data removed]",
      "text/plain": [
       "<Figure size 432x288 with 1 Axes>"
      ]
     },
     "metadata": {
      "needs_background": "light"
     },
     "output_type": "display_data"
    }
   ],
   "source": [
    "plot_loss(history)"
   ]
  },
  {
   "cell_type": "markdown",
   "metadata": {
    "slideshow": {
     "slide_type": "slide"
    }
   },
   "source": [
    "* Η δε επίδοση του μοντέλου δεν επηρεάστηκε σημαντικά."
   ]
  },
  {
   "cell_type": "code",
   "execution_count": 21,
   "metadata": {
    "slideshow": {
     "slide_type": "fragment"
    }
   },
   "outputs": [
    {
     "data": {
      "text/plain": [
       "0.3531564176082611"
      ]
     },
     "execution_count": 21,
     "metadata": {},
     "output_type": "execute_result"
    }
   ],
   "source": [
    "model.evaluate(X_test, y_test, verbose=0)"
   ]
  },
  {
   "cell_type": "markdown",
   "metadata": {
    "slideshow": {
     "slide_type": "slide"
    }
   },
   "source": [
    "* Ας φτιάξουμε τότε ένα ακόμα μεγαλύτερο μοντέλο να δούμε αν θα τα πάμε ακόμα καλύτερα."
   ]
  },
  {
   "cell_type": "code",
   "execution_count": 22,
   "metadata": {
    "slideshow": {
     "slide_type": "fragment"
    }
   },
   "outputs": [],
   "source": [
    "model = keras.Sequential([\n",
    "        normalizer,\n",
    "        layers.Dense(128, activation='relu'),\n",
    "        layers.Dense(64, activation='relu'),\n",
    "        layers.Dense(1)\n",
    "    ])\n",
    "\n",
    "model.compile(loss='mean_absolute_error',\n",
    "              optimizer=tf.keras.optimizers.Adam(0.001))"
   ]
  },
  {
   "cell_type": "markdown",
   "metadata": {
    "slideshow": {
     "slide_type": "slide"
    }
   },
   "source": [
    "* Εκπαιδεύουμε:"
   ]
  },
  {
   "cell_type": "code",
   "execution_count": 23,
   "metadata": {
    "slideshow": {
     "slide_type": "fragment"
    }
   },
   "outputs": [
    {
     "name": "stdout",
     "output_type": "stream",
     "text": [
      "Epoch 1/100\n",
      "413/413 [==============================] - 2s 3ms/step - loss: 0.5739 - val_loss: 0.4513\n",
      "Epoch 2/100\n",
      "413/413 [==============================] - 1s 3ms/step - loss: 0.4288 - val_loss: 0.4314\n",
      "Epoch 3/100\n",
      "413/413 [==============================] - 1s 3ms/step - loss: 0.4125 - val_loss: 0.4230\n",
      "Epoch 4/100\n",
      "413/413 [==============================] - 1s 3ms/step - loss: 0.4020 - val_loss: 0.4321\n",
      "Epoch 5/100\n",
      "413/413 [==============================] - 1s 3ms/step - loss: 0.3880 - val_loss: 0.4036\n",
      "Epoch 6/100\n",
      "413/413 [==============================] - 1s 3ms/step - loss: 0.3791 - val_loss: 0.3898\n",
      "Epoch 7/100\n",
      "413/413 [==============================] - 1s 3ms/step - loss: 0.3718 - val_loss: 0.3922\n",
      "Epoch 8/100\n",
      "413/413 [==============================] - 1s 3ms/step - loss: 0.3678 - val_loss: 0.3788\n",
      "Epoch 9/100\n",
      "413/413 [==============================] - 1s 3ms/step - loss: 0.3625 - val_loss: 0.3811\n",
      "Epoch 10/100\n",
      "413/413 [==============================] - 1s 3ms/step - loss: 0.3600 - val_loss: 0.3765\n",
      "Epoch 11/100\n",
      "413/413 [==============================] - 1s 3ms/step - loss: 0.3546 - val_loss: 0.3740\n",
      "Epoch 12/100\n",
      "413/413 [==============================] - 1s 3ms/step - loss: 0.3510 - val_loss: 0.3718\n",
      "Epoch 13/100\n",
      "413/413 [==============================] - 1s 3ms/step - loss: 0.3506 - val_loss: 0.3710\n",
      "Epoch 14/100\n",
      "413/413 [==============================] - 1s 3ms/step - loss: 0.3473 - val_loss: 0.3718\n",
      "Epoch 15/100\n",
      "413/413 [==============================] - 1s 3ms/step - loss: 0.3476 - val_loss: 0.3605\n",
      "Epoch 16/100\n",
      "413/413 [==============================] - 1s 3ms/step - loss: 0.3433 - val_loss: 0.3637\n",
      "Epoch 17/100\n",
      "413/413 [==============================] - 1s 3ms/step - loss: 0.3411 - val_loss: 0.3581\n",
      "Epoch 18/100\n",
      "413/413 [==============================] - 1s 3ms/step - loss: 0.3415 - val_loss: 0.3530\n",
      "Epoch 19/100\n",
      "413/413 [==============================] - 1s 3ms/step - loss: 0.3394 - val_loss: 0.3541\n",
      "Epoch 20/100\n",
      "413/413 [==============================] - 1s 3ms/step - loss: 0.3357 - val_loss: 0.3490\n",
      "Epoch 21/100\n",
      "413/413 [==============================] - 1s 3ms/step - loss: 0.3360 - val_loss: 0.3571\n",
      "Epoch 22/100\n",
      "413/413 [==============================] - 1s 3ms/step - loss: 0.3351 - val_loss: 0.3489\n",
      "Epoch 23/100\n",
      "413/413 [==============================] - 1s 3ms/step - loss: 0.3340 - val_loss: 0.3589\n",
      "Epoch 24/100\n",
      "413/413 [==============================] - 1s 3ms/step - loss: 0.3327 - val_loss: 0.3446\n",
      "Epoch 25/100\n",
      "413/413 [==============================] - 1s 3ms/step - loss: 0.3316 - val_loss: 0.3592\n",
      "Epoch 26/100\n",
      "413/413 [==============================] - 1s 3ms/step - loss: 0.3283 - val_loss: 0.3511\n",
      "Epoch 27/100\n",
      "413/413 [==============================] - 1s 3ms/step - loss: 0.3290 - val_loss: 0.3463\n",
      "Epoch 28/100\n",
      "413/413 [==============================] - 1s 3ms/step - loss: 0.3282 - val_loss: 0.3462\n",
      "Epoch 29/100\n",
      "413/413 [==============================] - 1s 3ms/step - loss: 0.3263 - val_loss: 0.3593\n",
      "Epoch 30/100\n",
      "413/413 [==============================] - 1s 3ms/step - loss: 0.3262 - val_loss: 0.3532\n",
      "Epoch 31/100\n",
      "413/413 [==============================] - 1s 3ms/step - loss: 0.3237 - val_loss: 0.3403\n",
      "Epoch 32/100\n",
      "413/413 [==============================] - 1s 3ms/step - loss: 0.3223 - val_loss: 0.3541\n",
      "Epoch 33/100\n",
      "413/413 [==============================] - 1s 3ms/step - loss: 0.3237 - val_loss: 0.3382\n",
      "Epoch 34/100\n",
      "413/413 [==============================] - 1s 3ms/step - loss: 0.3218 - val_loss: 0.3435\n",
      "Epoch 35/100\n",
      "413/413 [==============================] - 1s 3ms/step - loss: 0.3218 - val_loss: 0.3384\n",
      "Epoch 36/100\n",
      "413/413 [==============================] - 1s 3ms/step - loss: 0.3213 - val_loss: 0.3554\n",
      "Epoch 37/100\n",
      "413/413 [==============================] - 1s 3ms/step - loss: 0.3177 - val_loss: 0.3487\n",
      "Epoch 38/100\n",
      "413/413 [==============================] - 1s 3ms/step - loss: 0.3172 - val_loss: 0.3422\n",
      "Epoch 39/100\n",
      "413/413 [==============================] - 1s 3ms/step - loss: 0.3177 - val_loss: 0.3519\n",
      "Epoch 40/100\n",
      "413/413 [==============================] - 1s 3ms/step - loss: 0.3164 - val_loss: 0.3431\n",
      "Epoch 41/100\n",
      "413/413 [==============================] - 1s 3ms/step - loss: 0.3160 - val_loss: 0.3454\n",
      "Epoch 42/100\n",
      "413/413 [==============================] - 1s 3ms/step - loss: 0.3155 - val_loss: 0.3460\n",
      "Epoch 43/100\n",
      "413/413 [==============================] - 1s 3ms/step - loss: 0.3128 - val_loss: 0.3410\n"
     ]
    }
   ],
   "source": [
    "history = model.fit(\n",
    "    X_train, \n",
    "    y_train,\n",
    "    epochs=num_epochs, \n",
    "    validation_split=0.2,\n",
    "    verbose=1,\n",
    "    callbacks=[early_stop])"
   ]
  },
  {
   "cell_type": "markdown",
   "metadata": {
    "slideshow": {
     "slide_type": "slide"
    }
   },
   "source": [
    "* Η απόκλιση μεταξύ των απωλειών μεγάλωσε ακόμα περισσότερο."
   ]
  },
  {
   "cell_type": "code",
   "execution_count": 24,
   "metadata": {
    "slideshow": {
     "slide_type": "fragment"
    }
   },
   "outputs": [
    {
     "data": {
      "image/png": "[encoded data removed]",
      "text/plain": [
       "<Figure size 432x288 with 1 Axes>"
      ]
     },
     "metadata": {
      "needs_background": "light"
     },
     "output_type": "display_data"
    }
   ],
   "source": [
    "plot_loss(history)"
   ]
  },
  {
   "cell_type": "markdown",
   "metadata": {
    "slideshow": {
     "slide_type": "slide"
    }
   },
   "source": [
    "* Η δε επίδοση έμεινε στα ίδια επίπεδα."
   ]
  },
  {
   "cell_type": "code",
   "execution_count": 25,
   "metadata": {
    "slideshow": {
     "slide_type": "fragment"
    }
   },
   "outputs": [
    {
     "data": {
      "text/plain": [
       "0.34105488657951355"
      ]
     },
     "execution_count": 25,
     "metadata": {},
     "output_type": "execute_result"
    }
   ],
   "source": [
    "model.evaluate(X_test, y_test, verbose=0)"
   ]
  },
  {
   "cell_type": "markdown",
   "metadata": {
    "slideshow": {
     "slide_type": "slide"
    }
   },
   "source": [
    "* Και αν το μεγαλώσουμε ακόμα περισσότερο;"
   ]
  },
  {
   "cell_type": "code",
   "execution_count": 26,
   "metadata": {
    "slideshow": {
     "slide_type": "fragment"
    }
   },
   "outputs": [],
   "source": [
    "model = keras.Sequential([\n",
    "        normalizer,\n",
    "        layers.Dense(256, activation='relu'),\n",
    "        layers.Dense(128, activation='relu'),\n",
    "        layers.Dense(64, activation='relu'),\n",
    "        layers.Dense(1)\n",
    "    ])\n",
    "\n",
    "model.compile(loss='mean_absolute_error',\n",
    "              optimizer=tf.keras.optimizers.Adam(0.001))"
   ]
  },
  {
   "cell_type": "markdown",
   "metadata": {
    "slideshow": {
     "slide_type": "slide"
    }
   },
   "source": [
    "* Εκπαιδεύουμε:"
   ]
  },
  {
   "cell_type": "code",
   "execution_count": 27,
   "metadata": {
    "slideshow": {
     "slide_type": "fragment"
    }
   },
   "outputs": [
    {
     "name": "stdout",
     "output_type": "stream",
     "text": [
      "Epoch 1/100\n",
      "413/413 [==============================] - 3s 4ms/step - loss: 0.5213 - val_loss: 0.4465\n",
      "Epoch 2/100\n",
      "413/413 [==============================] - 2s 4ms/step - loss: 0.4194 - val_loss: 0.4193\n",
      "Epoch 3/100\n",
      "413/413 [==============================] - 1s 3ms/step - loss: 0.3935 - val_loss: 0.3964\n",
      "Epoch 4/100\n",
      "413/413 [==============================] - 1s 4ms/step - loss: 0.3804 - val_loss: 0.4294\n",
      "Epoch 5/100\n",
      "413/413 [==============================] - 2s 4ms/step - loss: 0.3718 - val_loss: 0.3982\n",
      "Epoch 6/100\n",
      "413/413 [==============================] - 1s 3ms/step - loss: 0.3650 - val_loss: 0.3783\n",
      "Epoch 7/100\n",
      "413/413 [==============================] - 1s 3ms/step - loss: 0.3607 - val_loss: 0.3813\n",
      "Epoch 8/100\n",
      "413/413 [==============================] - 2s 4ms/step - loss: 0.3559 - val_loss: 0.3679\n",
      "Epoch 9/100\n",
      "413/413 [==============================] - 1s 4ms/step - loss: 0.3510 - val_loss: 0.3679\n",
      "Epoch 10/100\n",
      "413/413 [==============================] - 1s 3ms/step - loss: 0.3455 - val_loss: 0.3653\n",
      "Epoch 11/100\n",
      "413/413 [==============================] - 1s 3ms/step - loss: 0.3441 - val_loss: 0.3642\n",
      "Epoch 12/100\n",
      "413/413 [==============================] - 2s 4ms/step - loss: 0.3423 - val_loss: 0.3690\n",
      "Epoch 13/100\n",
      "413/413 [==============================] - 1s 3ms/step - loss: 0.3401 - val_loss: 0.3722\n",
      "Epoch 14/100\n",
      "413/413 [==============================] - 1s 3ms/step - loss: 0.3370 - val_loss: 0.3564\n",
      "Epoch 15/100\n",
      "413/413 [==============================] - 1s 4ms/step - loss: 0.3361 - val_loss: 0.3610\n",
      "Epoch 16/100\n",
      "413/413 [==============================] - 2s 4ms/step - loss: 0.3322 - val_loss: 0.3456\n",
      "Epoch 17/100\n",
      "413/413 [==============================] - 1s 3ms/step - loss: 0.3286 - val_loss: 0.3484\n",
      "Epoch 18/100\n",
      "413/413 [==============================] - 1s 3ms/step - loss: 0.3277 - val_loss: 0.3374\n",
      "Epoch 19/100\n",
      "413/413 [==============================] - 2s 4ms/step - loss: 0.3257 - val_loss: 0.3389\n",
      "Epoch 20/100\n",
      "413/413 [==============================] - 1s 3ms/step - loss: 0.3241 - val_loss: 0.3418\n",
      "Epoch 21/100\n",
      "413/413 [==============================] - 1s 3ms/step - loss: 0.3239 - val_loss: 0.3584\n",
      "Epoch 22/100\n",
      "413/413 [==============================] - 2s 4ms/step - loss: 0.3223 - val_loss: 0.3396\n",
      "Epoch 23/100\n",
      "413/413 [==============================] - 1s 4ms/step - loss: 0.3184 - val_loss: 0.3392\n",
      "Epoch 24/100\n",
      "413/413 [==============================] - 1s 4ms/step - loss: 0.3183 - val_loss: 0.3333\n",
      "Epoch 25/100\n",
      "413/413 [==============================] - 1s 4ms/step - loss: 0.3162 - val_loss: 0.3439\n",
      "Epoch 26/100\n",
      "413/413 [==============================] - 2s 4ms/step - loss: 0.3132 - val_loss: 0.3366\n",
      "Epoch 27/100\n",
      "413/413 [==============================] - 1s 3ms/step - loss: 0.3124 - val_loss: 0.3346\n",
      "Epoch 28/100\n",
      "413/413 [==============================] - 1s 3ms/step - loss: 0.3118 - val_loss: 0.3415\n",
      "Epoch 29/100\n",
      "413/413 [==============================] - 2s 4ms/step - loss: 0.3079 - val_loss: 0.3358\n",
      "Epoch 30/100\n",
      "413/413 [==============================] - 2s 4ms/step - loss: 0.3087 - val_loss: 0.3417\n",
      "Epoch 31/100\n",
      "413/413 [==============================] - 1s 3ms/step - loss: 0.3075 - val_loss: 0.3357\n",
      "Epoch 32/100\n",
      "413/413 [==============================] - 2s 4ms/step - loss: 0.3056 - val_loss: 0.3380\n",
      "Epoch 33/100\n",
      "413/413 [==============================] - 1s 3ms/step - loss: 0.3059 - val_loss: 0.3474\n",
      "Epoch 34/100\n",
      "413/413 [==============================] - 1s 3ms/step - loss: 0.3037 - val_loss: 0.3290\n",
      "Epoch 35/100\n",
      "413/413 [==============================] - 1s 3ms/step - loss: 0.3019 - val_loss: 0.3251\n",
      "Epoch 36/100\n",
      "413/413 [==============================] - 2s 4ms/step - loss: 0.3011 - val_loss: 0.3338\n",
      "Epoch 37/100\n",
      "413/413 [==============================] - 1s 3ms/step - loss: 0.2995 - val_loss: 0.3310\n",
      "Epoch 38/100\n",
      "413/413 [==============================] - 2s 4ms/step - loss: 0.2975 - val_loss: 0.3457\n",
      "Epoch 39/100\n",
      "413/413 [==============================] - 2s 4ms/step - loss: 0.2965 - val_loss: 0.3463\n",
      "Epoch 40/100\n",
      "413/413 [==============================] - 1s 4ms/step - loss: 0.2959 - val_loss: 0.3346\n",
      "Epoch 41/100\n",
      "413/413 [==============================] - 1s 3ms/step - loss: 0.2941 - val_loss: 0.3373\n",
      "Epoch 42/100\n",
      "413/413 [==============================] - 2s 4ms/step - loss: 0.2938 - val_loss: 0.3407\n",
      "Epoch 43/100\n",
      "413/413 [==============================] - 1s 3ms/step - loss: 0.2928 - val_loss: 0.3292\n",
      "Epoch 44/100\n",
      "413/413 [==============================] - 1s 4ms/step - loss: 0.2916 - val_loss: 0.3323\n",
      "Epoch 45/100\n",
      "413/413 [==============================] - 1s 3ms/step - loss: 0.2914 - val_loss: 0.3410\n"
     ]
    }
   ],
   "source": [
    "history = model.fit(\n",
    "    X_train, \n",
    "    y_train,\n",
    "    epochs=num_epochs, \n",
    "    validation_split=0.2,\n",
    "    verbose=1,\n",
    "    callbacks=[early_stop])"
   ]
  },
  {
   "cell_type": "markdown",
   "metadata": {
    "slideshow": {
     "slide_type": "slide"
    }
   },
   "source": [
    "* Εδώ κι αν μεγάλωσε η απόκλιση!"
   ]
  },
  {
   "cell_type": "code",
   "execution_count": 28,
   "metadata": {
    "slideshow": {
     "slide_type": "fragment"
    }
   },
   "outputs": [
    {
     "data": {
      "image/png": "[encoded data removed]",
      "text/plain": [
       "<Figure size 432x288 with 1 Axes>"
      ]
     },
     "metadata": {
      "needs_background": "light"
     },
     "output_type": "display_data"
    }
   ],
   "source": [
    "plot_loss(history)"
   ]
  },
  {
   "cell_type": "markdown",
   "metadata": {
    "slideshow": {
     "slide_type": "slide"
    }
   },
   "source": [
    "* Και η επίδοση στα ίδια (ή μάλλον ανεπαίσθητα χειρότερα)."
   ]
  },
  {
   "cell_type": "code",
   "execution_count": 29,
   "metadata": {
    "slideshow": {
     "slide_type": "fragment"
    }
   },
   "outputs": [
    {
     "data": {
      "text/plain": [
       "0.3379669785499573"
      ]
     },
     "execution_count": 29,
     "metadata": {},
     "output_type": "execute_result"
    }
   ],
   "source": [
    "model.evaluate(X_test, y_test, verbose=0)"
   ]
  },
  {
   "cell_type": "markdown",
   "metadata": {
    "slideshow": {
     "slide_type": "slide"
    }
   },
   "source": [
    "* Γιατί συμβαίνει αυτό;\n",
    "\n",
    "* Ας δούμε το μοντέλο."
   ]
  },
  {
   "cell_type": "code",
   "execution_count": 30,
   "metadata": {
    "slideshow": {
     "slide_type": "fragment"
    }
   },
   "outputs": [
    {
     "name": "stdout",
     "output_type": "stream",
     "text": [
      "Model: \"sequential_4\"\n",
      "_________________________________________________________________\n",
      " Layer (type)                Output Shape              Param #   \n",
      "=================================================================\n",
      " normalization (Normalizatio  (None, 8)                17        \n",
      " n)                                                              \n",
      "                                                                 \n",
      " dense_11 (Dense)            (None, 256)               2304      \n",
      "                                                                 \n",
      " dense_12 (Dense)            (None, 128)               32896     \n",
      "                                                                 \n",
      " dense_13 (Dense)            (None, 64)                8256      \n",
      "                                                                 \n",
      " dense_14 (Dense)            (None, 1)                 65        \n",
      "                                                                 \n",
      "=================================================================\n",
      "Total params: 43,538\n",
      "Trainable params: 43,521\n",
      "Non-trainable params: 17\n",
      "_________________________________________________________________\n"
     ]
    }
   ],
   "source": [
    "model.summary()"
   ]
  },
  {
   "cell_type": "markdown",
   "metadata": {
    "slideshow": {
     "slide_type": "slide"
    }
   },
   "source": [
    "* Έχουμε φτιάξει ένα μοντέλο που έχει περισσότερες παραμέτρους από όσα είναι τα δείγματά μας.\n",
    "\n",
    "* Το μοντέλο παραείναι ισχυρό για τα δεδομένα που έχουμε στη διάθεσή μας.\n",
    "\n",
    "* Ένα τέτοιο μοντέλο μπορεί να πέσει θύμα της υπερπροσαρμογής."
   ]
  },
  {
   "cell_type": "code",
   "execution_count": 31,
   "metadata": {
    "slideshow": {
     "slide_type": "fragment"
    }
   },
   "outputs": [
    {
     "data": {
      "text/plain": [
       "43538"
      ]
     },
     "execution_count": 31,
     "metadata": {},
     "output_type": "execute_result"
    }
   ],
   "source": [
    "model.count_params()"
   ]
  },
  {
   "cell_type": "markdown",
   "metadata": {
    "slideshow": {
     "slide_type": "slide"
    }
   },
   "source": [
    "* Προσοχή! Όταν φτιάχνουμε νευρωνικά δίκτυα, δεν προσθέτουμε τυφλά στρώματα και νευρώνες.\n",
    "\n",
    "* Τελικά αυτό που θα πετύχουμε είναι να φτιάξουμε ένα δίκτυο με τόσους νευρώνες και συνδέσεις ώστε πολύ γρήγορα θα αρχίσει να παπαγαλίζει τα δεδομένα.\n",
    "\n",
    "* Πρέπει να διαστασιολογούμε το δίκτυο με βάση τον όγκο των δεδομένων του προβλήματός μας."
   ]
  },
  {
   "cell_type": "markdown",
   "metadata": {
    "slideshow": {
     "slide_type": "slide"
    }
   },
   "source": [
    "* Τα αποτελέσματα είναι αντίστοιχα (ίσως λίγο χειρότερα, αλλά δεν ψάξαμε τις υπερπαραμέτρους) με αυτά που πετύχαμε μέσω δένδρων αποφάσεων.\n",
    "\n",
    "* Όπως μπορούμε να διαπιστώσουμε όμως, η εκπαίδευση των νευρωνικών δικτύων μπορεί να χρειάζεται περισσότερους πόρους.\n",
    "\n",
    "* Επίσης όπως μπορούμε να διαπιστώσουμε, δεν έχουμε την ερμηνευσιμότητα που μπορούμε να έχουμε με άλλες μεθόδους."
   ]
  }
 ],
 "metadata": {
  "celltoolbar": "Slideshow",
  "kernelspec": {
   "display_name": "Python 3 (ipykernel)",
   "language": "python",
   "name": "python3"
  },
  "language_info": {
   "codemirror_mode": {
    "name": "ipython",
    "version": 3
   },
   "file_extension": ".py",
   "mimetype": "text/x-python",
   "name": "python",
   "nbconvert_exporter": "python",
   "pygments_lexer": "ipython3",
   "version": "3.9.7"
  }
 },
 "nbformat": 4,
 "nbformat_minor": 2
}
