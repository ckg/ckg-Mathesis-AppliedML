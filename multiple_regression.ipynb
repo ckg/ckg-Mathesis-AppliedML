{
 "cells": [
  {
   "cell_type": "markdown",
   "metadata": {
    "slideshow": {
     "slide_type": "slide"
    }
   },
   "source": [
    "# Πολλαπλή Παλινδρόμηση \n",
    "\n",
    "\n",
    "---\n",
    "\n",
    "> Πάνος Λουρίδας, Αναπληρωτής Καθηγητής <br />\n",
    "> Τμήμα Διοικητικής Επιστήμης και Τεχνολογίας <br />\n",
    "> Οικονομικό Πανεπιστήμιο Αθηνών <br />\n",
    "> louridas@aueb.gr"
   ]
  },
  {
   "cell_type": "code",
   "execution_count": 1,
   "metadata": {
    "slideshow": {
     "slide_type": "slide"
    }
   },
   "outputs": [],
   "source": [
    "import pandas as pd\n",
    "import numpy as np\n",
    "import statsmodels.api as sm\n",
    "import statsmodels.formula.api as smf\n",
    "import matplotlib.pyplot as plt\n",
    "import seaborn as sns"
   ]
  },
  {
   "cell_type": "markdown",
   "metadata": {
    "slideshow": {
     "slide_type": "slide"
    }
   },
   "source": [
    "* Μέχρι τώρα είδαμε παραδείγματα παλινδρόμησης με μία εξαρτημένη και μία ανεξάρτητη μεταβλητή.\n",
    "\n",
    "* Γενικότερα όμως, μπορεί να έχουμε περιπτώσεις όπου υποθέτουμε ότι η εξαρτημένη μεταβλητή εξαρτάται από παραπάνω από μία ανεξάρτητες μεταβλητές.\n",
    "\n",
    "* Τις περιπτώσεις αυτές τις χειριζόμαστε με την *πολλαπλή παλινδρόμηση* (multiple regression)."
   ]
  },
  {
   "cell_type": "markdown",
   "metadata": {
    "slideshow": {
     "slide_type": "slide"
    }
   },
   "source": [
    "* Στην πολλαπλή γραμμική παλινδρόμηση ξεκινάμε με την *υπόθεση* ότι η σχέση μεταξύ της εξαρτημένης μεταβλητής $y$ και των ανεξάρτητων μεταβλητών $x_1, x_2, \\ldots, x_n$ έχει τη μορφή:\n",
    "\n",
    "$$y = \\alpha + \\beta_1 x_1 + \\beta_2 x_2 + \\cdots + \\beta_n x_n + \\epsilon$$\n",
    "\n",
    "* Στην πράξη, έχουμε ένα σύνολο παρατηρήσεων $y_i$ και $x_{ij}$ και θέλουμε να εκτιμήσουμε τα $\\alpha$ και $\\beta_i$."
   ]
  },
  {
   "cell_type": "markdown",
   "metadata": {
    "slideshow": {
     "slide_type": "slide"
    }
   },
   "source": [
    "* Θα επιτρέψουμε στο ιστορικό παράδειγμα του Galton."
   ]
  },
  {
   "cell_type": "code",
   "execution_count": 2,
   "metadata": {
    "slideshow": {
     "slide_type": "slide"
    }
   },
   "outputs": [
    {
     "data": {
      "text/html": [
       "<div>\n",
       "<style scoped>\n",
       "    .dataframe tbody tr th:only-of-type {\n",
       "        vertical-align: middle;\n",
       "    }\n",
       "\n",
       "    .dataframe tbody tr th {\n",
       "        vertical-align: top;\n",
       "    }\n",
       "\n",
       "    .dataframe thead th {\n",
       "        text-align: right;\n",
       "    }\n",
       "</style>\n",
       "<table border=\"1\" class=\"dataframe\">\n",
       "  <thead>\n",
       "    <tr style=\"text-align: right;\">\n",
       "      <th></th>\n",
       "      <th>family</th>\n",
       "      <th>father</th>\n",
       "      <th>mother</th>\n",
       "      <th>midparentHeight</th>\n",
       "      <th>children</th>\n",
       "      <th>childNum</th>\n",
       "      <th>gender</th>\n",
       "      <th>childHeight</th>\n",
       "    </tr>\n",
       "  </thead>\n",
       "  <tbody>\n",
       "    <tr>\n",
       "      <th>0</th>\n",
       "      <td>001</td>\n",
       "      <td>78.5</td>\n",
       "      <td>67.0</td>\n",
       "      <td>75.43</td>\n",
       "      <td>4</td>\n",
       "      <td>1</td>\n",
       "      <td>male</td>\n",
       "      <td>73.2</td>\n",
       "    </tr>\n",
       "    <tr>\n",
       "      <th>1</th>\n",
       "      <td>001</td>\n",
       "      <td>78.5</td>\n",
       "      <td>67.0</td>\n",
       "      <td>75.43</td>\n",
       "      <td>4</td>\n",
       "      <td>2</td>\n",
       "      <td>female</td>\n",
       "      <td>69.2</td>\n",
       "    </tr>\n",
       "    <tr>\n",
       "      <th>2</th>\n",
       "      <td>001</td>\n",
       "      <td>78.5</td>\n",
       "      <td>67.0</td>\n",
       "      <td>75.43</td>\n",
       "      <td>4</td>\n",
       "      <td>3</td>\n",
       "      <td>female</td>\n",
       "      <td>69.0</td>\n",
       "    </tr>\n",
       "    <tr>\n",
       "      <th>3</th>\n",
       "      <td>001</td>\n",
       "      <td>78.5</td>\n",
       "      <td>67.0</td>\n",
       "      <td>75.43</td>\n",
       "      <td>4</td>\n",
       "      <td>4</td>\n",
       "      <td>female</td>\n",
       "      <td>69.0</td>\n",
       "    </tr>\n",
       "    <tr>\n",
       "      <th>4</th>\n",
       "      <td>002</td>\n",
       "      <td>75.5</td>\n",
       "      <td>66.5</td>\n",
       "      <td>73.66</td>\n",
       "      <td>4</td>\n",
       "      <td>1</td>\n",
       "      <td>male</td>\n",
       "      <td>73.5</td>\n",
       "    </tr>\n",
       "    <tr>\n",
       "      <th>...</th>\n",
       "      <td>...</td>\n",
       "      <td>...</td>\n",
       "      <td>...</td>\n",
       "      <td>...</td>\n",
       "      <td>...</td>\n",
       "      <td>...</td>\n",
       "      <td>...</td>\n",
       "      <td>...</td>\n",
       "    </tr>\n",
       "    <tr>\n",
       "      <th>929</th>\n",
       "      <td>203</td>\n",
       "      <td>62.0</td>\n",
       "      <td>66.0</td>\n",
       "      <td>66.64</td>\n",
       "      <td>3</td>\n",
       "      <td>1</td>\n",
       "      <td>male</td>\n",
       "      <td>64.0</td>\n",
       "    </tr>\n",
       "    <tr>\n",
       "      <th>930</th>\n",
       "      <td>203</td>\n",
       "      <td>62.0</td>\n",
       "      <td>66.0</td>\n",
       "      <td>66.64</td>\n",
       "      <td>3</td>\n",
       "      <td>2</td>\n",
       "      <td>female</td>\n",
       "      <td>62.0</td>\n",
       "    </tr>\n",
       "    <tr>\n",
       "      <th>931</th>\n",
       "      <td>203</td>\n",
       "      <td>62.0</td>\n",
       "      <td>66.0</td>\n",
       "      <td>66.64</td>\n",
       "      <td>3</td>\n",
       "      <td>3</td>\n",
       "      <td>female</td>\n",
       "      <td>61.0</td>\n",
       "    </tr>\n",
       "    <tr>\n",
       "      <th>932</th>\n",
       "      <td>204</td>\n",
       "      <td>62.5</td>\n",
       "      <td>63.0</td>\n",
       "      <td>65.27</td>\n",
       "      <td>2</td>\n",
       "      <td>1</td>\n",
       "      <td>male</td>\n",
       "      <td>66.5</td>\n",
       "    </tr>\n",
       "    <tr>\n",
       "      <th>933</th>\n",
       "      <td>204</td>\n",
       "      <td>62.5</td>\n",
       "      <td>63.0</td>\n",
       "      <td>65.27</td>\n",
       "      <td>2</td>\n",
       "      <td>2</td>\n",
       "      <td>female</td>\n",
       "      <td>57.0</td>\n",
       "    </tr>\n",
       "  </tbody>\n",
       "</table>\n",
       "<p>934 rows × 8 columns</p>\n",
       "</div>"
      ],
      "text/plain": [
       "    family  father  mother  midparentHeight  children  childNum  gender  \\\n",
       "0      001    78.5    67.0            75.43         4         1    male   \n",
       "1      001    78.5    67.0            75.43         4         2  female   \n",
       "2      001    78.5    67.0            75.43         4         3  female   \n",
       "3      001    78.5    67.0            75.43         4         4  female   \n",
       "4      002    75.5    66.5            73.66         4         1    male   \n",
       "..     ...     ...     ...              ...       ...       ...     ...   \n",
       "929    203    62.0    66.0            66.64         3         1    male   \n",
       "930    203    62.0    66.0            66.64         3         2  female   \n",
       "931    203    62.0    66.0            66.64         3         3  female   \n",
       "932    204    62.5    63.0            65.27         2         1    male   \n",
       "933    204    62.5    63.0            65.27         2         2  female   \n",
       "\n",
       "     childHeight  \n",
       "0           73.2  \n",
       "1           69.2  \n",
       "2           69.0  \n",
       "3           69.0  \n",
       "4           73.5  \n",
       "..           ...  \n",
       "929         64.0  \n",
       "930         62.0  \n",
       "931         61.0  \n",
       "932         66.5  \n",
       "933         57.0  \n",
       "\n",
       "[934 rows x 8 columns]"
      ]
     },
     "execution_count": 2,
     "metadata": {},
     "output_type": "execute_result"
    }
   ],
   "source": [
    "galton_families = sm.datasets.get_rdataset(\"GaltonFamilies\", package=\"HistData\")\n",
    "\n",
    "galton_families.data"
   ]
  },
  {
   "cell_type": "markdown",
   "metadata": {
    "slideshow": {
     "slide_type": "slide"
    }
   },
   "source": [
    "* Ας πάρουμε πάλι τους γιούς, αλλά αυτή τη φορά θα εξετάσουμε τη σχέση του ύψους του γιου με το ύψος και των δύο γονιών."
   ]
  },
  {
   "cell_type": "code",
   "execution_count": 3,
   "metadata": {
    "slideshow": {
     "slide_type": "fragment"
    }
   },
   "outputs": [
    {
     "data": {
      "text/html": [
       "<div>\n",
       "<style scoped>\n",
       "    .dataframe tbody tr th:only-of-type {\n",
       "        vertical-align: middle;\n",
       "    }\n",
       "\n",
       "    .dataframe tbody tr th {\n",
       "        vertical-align: top;\n",
       "    }\n",
       "\n",
       "    .dataframe thead th {\n",
       "        text-align: right;\n",
       "    }\n",
       "</style>\n",
       "<table border=\"1\" class=\"dataframe\">\n",
       "  <thead>\n",
       "    <tr style=\"text-align: right;\">\n",
       "      <th></th>\n",
       "      <th>family</th>\n",
       "      <th>father</th>\n",
       "      <th>mother</th>\n",
       "      <th>midparentHeight</th>\n",
       "      <th>children</th>\n",
       "      <th>childNum</th>\n",
       "      <th>gender</th>\n",
       "      <th>childHeight</th>\n",
       "    </tr>\n",
       "  </thead>\n",
       "  <tbody>\n",
       "    <tr>\n",
       "      <th>0</th>\n",
       "      <td>001</td>\n",
       "      <td>78.5</td>\n",
       "      <td>67.0</td>\n",
       "      <td>75.43</td>\n",
       "      <td>4</td>\n",
       "      <td>1</td>\n",
       "      <td>male</td>\n",
       "      <td>73.2</td>\n",
       "    </tr>\n",
       "    <tr>\n",
       "      <th>4</th>\n",
       "      <td>002</td>\n",
       "      <td>75.5</td>\n",
       "      <td>66.5</td>\n",
       "      <td>73.66</td>\n",
       "      <td>4</td>\n",
       "      <td>1</td>\n",
       "      <td>male</td>\n",
       "      <td>73.5</td>\n",
       "    </tr>\n",
       "    <tr>\n",
       "      <th>5</th>\n",
       "      <td>002</td>\n",
       "      <td>75.5</td>\n",
       "      <td>66.5</td>\n",
       "      <td>73.66</td>\n",
       "      <td>4</td>\n",
       "      <td>2</td>\n",
       "      <td>male</td>\n",
       "      <td>72.5</td>\n",
       "    </tr>\n",
       "    <tr>\n",
       "      <th>8</th>\n",
       "      <td>003</td>\n",
       "      <td>75.0</td>\n",
       "      <td>64.0</td>\n",
       "      <td>72.06</td>\n",
       "      <td>2</td>\n",
       "      <td>1</td>\n",
       "      <td>male</td>\n",
       "      <td>71.0</td>\n",
       "    </tr>\n",
       "    <tr>\n",
       "      <th>10</th>\n",
       "      <td>004</td>\n",
       "      <td>75.0</td>\n",
       "      <td>64.0</td>\n",
       "      <td>72.06</td>\n",
       "      <td>5</td>\n",
       "      <td>1</td>\n",
       "      <td>male</td>\n",
       "      <td>70.5</td>\n",
       "    </tr>\n",
       "    <tr>\n",
       "      <th>...</th>\n",
       "      <td>...</td>\n",
       "      <td>...</td>\n",
       "      <td>...</td>\n",
       "      <td>...</td>\n",
       "      <td>...</td>\n",
       "      <td>...</td>\n",
       "      <td>...</td>\n",
       "      <td>...</td>\n",
       "    </tr>\n",
       "    <tr>\n",
       "      <th>918</th>\n",
       "      <td>199</td>\n",
       "      <td>64.0</td>\n",
       "      <td>64.0</td>\n",
       "      <td>66.56</td>\n",
       "      <td>7</td>\n",
       "      <td>2</td>\n",
       "      <td>male</td>\n",
       "      <td>68.0</td>\n",
       "    </tr>\n",
       "    <tr>\n",
       "      <th>924</th>\n",
       "      <td>200</td>\n",
       "      <td>64.0</td>\n",
       "      <td>63.0</td>\n",
       "      <td>66.02</td>\n",
       "      <td>1</td>\n",
       "      <td>1</td>\n",
       "      <td>male</td>\n",
       "      <td>64.5</td>\n",
       "    </tr>\n",
       "    <tr>\n",
       "      <th>925</th>\n",
       "      <td>201</td>\n",
       "      <td>64.0</td>\n",
       "      <td>60.0</td>\n",
       "      <td>64.40</td>\n",
       "      <td>2</td>\n",
       "      <td>1</td>\n",
       "      <td>male</td>\n",
       "      <td>66.0</td>\n",
       "    </tr>\n",
       "    <tr>\n",
       "      <th>929</th>\n",
       "      <td>203</td>\n",
       "      <td>62.0</td>\n",
       "      <td>66.0</td>\n",
       "      <td>66.64</td>\n",
       "      <td>3</td>\n",
       "      <td>1</td>\n",
       "      <td>male</td>\n",
       "      <td>64.0</td>\n",
       "    </tr>\n",
       "    <tr>\n",
       "      <th>932</th>\n",
       "      <td>204</td>\n",
       "      <td>62.5</td>\n",
       "      <td>63.0</td>\n",
       "      <td>65.27</td>\n",
       "      <td>2</td>\n",
       "      <td>1</td>\n",
       "      <td>male</td>\n",
       "      <td>66.5</td>\n",
       "    </tr>\n",
       "  </tbody>\n",
       "</table>\n",
       "<p>481 rows × 8 columns</p>\n",
       "</div>"
      ],
      "text/plain": [
       "    family  father  mother  midparentHeight  children  childNum gender  \\\n",
       "0      001    78.5    67.0            75.43         4         1   male   \n",
       "4      002    75.5    66.5            73.66         4         1   male   \n",
       "5      002    75.5    66.5            73.66         4         2   male   \n",
       "8      003    75.0    64.0            72.06         2         1   male   \n",
       "10     004    75.0    64.0            72.06         5         1   male   \n",
       "..     ...     ...     ...              ...       ...       ...    ...   \n",
       "918    199    64.0    64.0            66.56         7         2   male   \n",
       "924    200    64.0    63.0            66.02         1         1   male   \n",
       "925    201    64.0    60.0            64.40         2         1   male   \n",
       "929    203    62.0    66.0            66.64         3         1   male   \n",
       "932    204    62.5    63.0            65.27         2         1   male   \n",
       "\n",
       "     childHeight  \n",
       "0           73.2  \n",
       "4           73.5  \n",
       "5           72.5  \n",
       "8           71.0  \n",
       "10          70.5  \n",
       "..           ...  \n",
       "918         68.0  \n",
       "924         64.5  \n",
       "925         66.0  \n",
       "929         64.0  \n",
       "932         66.5  \n",
       "\n",
       "[481 rows x 8 columns]"
      ]
     },
     "execution_count": 3,
     "metadata": {},
     "output_type": "execute_result"
    }
   ],
   "source": [
    "parents_sons = galton_families.data[galton_families.data['gender'] == 'male']\n",
    "parents_sons"
   ]
  },
  {
   "cell_type": "markdown",
   "metadata": {
    "slideshow": {
     "slide_type": "slide"
    }
   },
   "source": [
    "* Για να φτιάξουμε ένα μοντέλο με παραπάνω από μία ανεξάρτητη μεταβλητή, απλώς προσθέτουμε τις μεταβλητές στον τύπο του μοντέλου."
   ]
  },
  {
   "cell_type": "code",
   "execution_count": 4,
   "metadata": {
    "slideshow": {
     "slide_type": "fragment"
    }
   },
   "outputs": [
    {
     "data": {
      "text/plain": [
       "Intercept    19.312813\n",
       "father        0.417556\n",
       "mother        0.328773\n",
       "dtype: float64"
      ]
     },
     "execution_count": 4,
     "metadata": {},
     "output_type": "execute_result"
    }
   ],
   "source": [
    "parents_sons_mod = smf.ols(\"childHeight ~ father +  mother\", data=parents_sons)\n",
    "parents_sons_res = parents_sons_mod.fit()\n",
    "parents_sons_res.params"
   ]
  },
  {
   "cell_type": "markdown",
   "metadata": {
    "slideshow": {
     "slide_type": "slide"
    }
   },
   "source": [
    "* Αυτό σημαίνει ότι η σχέση μεταξύ της μεταβλητής `childHeight` ($y$) του ύψους των γιών και του ύψους των κάθε ενός από τους δύο γονείς, `father` ($x_1$) και `mother` ($x_2$) είναι:\n",
    "\n",
    "$$ y = 19{,}312813 + 0{,}417556 x_1 +  0{,}328773 x_2 $$"
   ]
  },
  {
   "cell_type": "markdown",
   "metadata": {
    "slideshow": {
     "slide_type": "slide"
    }
   },
   "source": [
    "* Στην πολλαπλή παλινδρόμηση δεν μπορούμε να φτιάξουμε διάγραμμα όπως στην απλή παλινδρόμηση, γιατί έχουμε τρεις διαστάσεις.\n",
    "\n",
    "* Μπορούμε όμως να πάρουμε πάλι μια σύνοψη όλων των παραμέτρων και των αποτελεσμάτων της παλινδρόμησης με τη μέθοδο `summary()`."
   ]
  },
  {
   "cell_type": "code",
   "execution_count": 5,
   "metadata": {
    "slideshow": {
     "slide_type": "fragment"
    }
   },
   "outputs": [
    {
     "data": {
      "text/html": [
       "<table class=\"simpletable\">\n",
       "<caption>OLS Regression Results</caption>\n",
       "<tr>\n",
       "  <th>Dep. Variable:</th>       <td>childHeight</td>   <th>  R-squared:         </th> <td>   0.238</td>\n",
       "</tr>\n",
       "<tr>\n",
       "  <th>Model:</th>                   <td>OLS</td>       <th>  Adj. R-squared:    </th> <td>   0.235</td>\n",
       "</tr>\n",
       "<tr>\n",
       "  <th>Method:</th>             <td>Least Squares</td>  <th>  F-statistic:       </th> <td>   74.62</td>\n",
       "</tr>\n",
       "<tr>\n",
       "  <th>Date:</th>             <td>Wed, 09 Mar 2022</td> <th>  Prob (F-statistic):</th> <td>6.25e-29</td>\n",
       "</tr>\n",
       "<tr>\n",
       "  <th>Time:</th>                 <td>17:55:10</td>     <th>  Log-Likelihood:    </th> <td> -1080.7</td>\n",
       "</tr>\n",
       "<tr>\n",
       "  <th>No. Observations:</th>      <td>   481</td>      <th>  AIC:               </th> <td>   2167.</td>\n",
       "</tr>\n",
       "<tr>\n",
       "  <th>Df Residuals:</th>          <td>   478</td>      <th>  BIC:               </th> <td>   2180.</td>\n",
       "</tr>\n",
       "<tr>\n",
       "  <th>Df Model:</th>              <td>     2</td>      <th>                     </th>     <td> </td>   \n",
       "</tr>\n",
       "<tr>\n",
       "  <th>Covariance Type:</th>      <td>nonrobust</td>    <th>                     </th>     <td> </td>   \n",
       "</tr>\n",
       "</table>\n",
       "<table class=\"simpletable\">\n",
       "<tr>\n",
       "      <td></td>         <th>coef</th>     <th>std err</th>      <th>t</th>      <th>P>|t|</th>  <th>[0.025</th>    <th>0.975]</th>  \n",
       "</tr>\n",
       "<tr>\n",
       "  <th>Intercept</th> <td>   19.3128</td> <td>    4.095</td> <td>    4.716</td> <td> 0.000</td> <td>   11.266</td> <td>   27.359</td>\n",
       "</tr>\n",
       "<tr>\n",
       "  <th>father</th>    <td>    0.4176</td> <td>    0.046</td> <td>    9.154</td> <td> 0.000</td> <td>    0.328</td> <td>    0.507</td>\n",
       "</tr>\n",
       "<tr>\n",
       "  <th>mother</th>    <td>    0.3288</td> <td>    0.045</td> <td>    7.258</td> <td> 0.000</td> <td>    0.240</td> <td>    0.418</td>\n",
       "</tr>\n",
       "</table>\n",
       "<table class=\"simpletable\">\n",
       "<tr>\n",
       "  <th>Omnibus:</th>       <td>10.653</td> <th>  Durbin-Watson:     </th> <td>   1.592</td>\n",
       "</tr>\n",
       "<tr>\n",
       "  <th>Prob(Omnibus):</th> <td> 0.005</td> <th>  Jarque-Bera (JB):  </th> <td>  14.542</td>\n",
       "</tr>\n",
       "<tr>\n",
       "  <th>Skew:</th>          <td>-0.200</td> <th>  Prob(JB):          </th> <td>0.000695</td>\n",
       "</tr>\n",
       "<tr>\n",
       "  <th>Kurtosis:</th>      <td> 3.752</td> <th>  Cond. No.          </th> <td>3.69e+03</td>\n",
       "</tr>\n",
       "</table><br/><br/>Notes:<br/>[1] Standard Errors assume that the covariance matrix of the errors is correctly specified.<br/>[2] The condition number is large, 3.69e+03. This might indicate that there are<br/>strong multicollinearity or other numerical problems."
      ],
      "text/plain": [
       "<class 'statsmodels.iolib.summary.Summary'>\n",
       "\"\"\"\n",
       "                            OLS Regression Results                            \n",
       "==============================================================================\n",
       "Dep. Variable:            childHeight   R-squared:                       0.238\n",
       "Model:                            OLS   Adj. R-squared:                  0.235\n",
       "Method:                 Least Squares   F-statistic:                     74.62\n",
       "Date:                Wed, 09 Mar 2022   Prob (F-statistic):           6.25e-29\n",
       "Time:                        17:55:10   Log-Likelihood:                -1080.7\n",
       "No. Observations:                 481   AIC:                             2167.\n",
       "Df Residuals:                     478   BIC:                             2180.\n",
       "Df Model:                           2                                         \n",
       "Covariance Type:            nonrobust                                         \n",
       "==============================================================================\n",
       "                 coef    std err          t      P>|t|      [0.025      0.975]\n",
       "------------------------------------------------------------------------------\n",
       "Intercept     19.3128      4.095      4.716      0.000      11.266      27.359\n",
       "father         0.4176      0.046      9.154      0.000       0.328       0.507\n",
       "mother         0.3288      0.045      7.258      0.000       0.240       0.418\n",
       "==============================================================================\n",
       "Omnibus:                       10.653   Durbin-Watson:                   1.592\n",
       "Prob(Omnibus):                  0.005   Jarque-Bera (JB):               14.542\n",
       "Skew:                          -0.200   Prob(JB):                     0.000695\n",
       "Kurtosis:                       3.752   Cond. No.                     3.69e+03\n",
       "==============================================================================\n",
       "\n",
       "Notes:\n",
       "[1] Standard Errors assume that the covariance matrix of the errors is correctly specified.\n",
       "[2] The condition number is large, 3.69e+03. This might indicate that there are\n",
       "strong multicollinearity or other numerical problems.\n",
       "\"\"\""
      ]
     },
     "execution_count": 5,
     "metadata": {},
     "output_type": "execute_result"
    }
   ],
   "source": [
    "parents_sons_res.summary()"
   ]
  },
  {
   "cell_type": "markdown",
   "metadata": {
    "slideshow": {
     "slide_type": "slide"
    }
   },
   "source": [
    "* Στο σημείο αυτό αξίζει να επιστρέψουμε στην απλή παλινδρόμηση μεταξύ των πατεράδων και των γιών."
   ]
  },
  {
   "cell_type": "code",
   "execution_count": 6,
   "metadata": {
    "slideshow": {
     "slide_type": "fragment"
    }
   },
   "outputs": [
    {
     "name": "stdout",
     "output_type": "stream",
     "text": [
      "Fathers and sons\n",
      "Intercept    38.362581\n",
      "father        0.446523\n",
      "dtype: float64\n",
      "R-squared: 0.1539648084533537\n",
      "Parents and sons\n",
      "Intercept    19.312813\n",
      "father        0.417556\n",
      "mother        0.328773\n",
      "dtype: float64\n",
      "R-squared: 0.23793835969307797\n"
     ]
    }
   ],
   "source": [
    "fathers_sons_mod = smf.ols(\"childHeight ~ father\", data=parents_sons)\n",
    "fathers_sons_res = fathers_sons_mod.fit()\n",
    "print('Fathers and sons')\n",
    "print(fathers_sons_res.params)\n",
    "print('R-squared:', fathers_sons_res.rsquared)\n",
    "print('Parents and sons')\n",
    "print(parents_sons_res.params)\n",
    "print('R-squared:', parents_sons_res.rsquared)"
   ]
  },
  {
   "cell_type": "markdown",
   "metadata": {
    "slideshow": {
     "slide_type": "slide"
    }
   },
   "source": [
    "* Παρατηρούμε ότι το $R^2$ αυξήθηκε σημαντικά. Επομένως το μοντέλο της γραμμικής παλινδρόμησης ταιριάζει καλύτερα στα δεδομένα μας.\n",
    "\n",
    "* Παρατηρούμε ταυτόχρονα ότι ο συντελεστής για τον πατέρα μειώθηκε, όταν λάβαμε υπόψη και το ύψος της μητέρας.\n",
    "\n",
    "* Αυτό μπορεί να συμβαίνει ότι ψηλότερες γυναίκες τείνουν να παντρεύονται ψηλότερους άντρες, οπότε το ύψος του πατέρα και της μητέρας δεν είναι στην πραγματικότητα εντελώς ανεξάρτητες μεταβλητές."
   ]
  },
  {
   "cell_type": "markdown",
   "metadata": {
    "slideshow": {
     "slide_type": "slide"
    }
   },
   "source": [
    "* Όσον αφορά τη ερμηνεία των συντελεστών, ο συντελεστής της μεταβλητής `father` είναι η αύξηση στο ύψος του γιου αν αυξηθεί κατά μία ίντσα το ύψος του πατέρα ενώ μείνει το ύψος της μητέρας σταθερό.\n",
    "\n",
    "* Εντελώς συμμετρική είναι η ερμηνεία του συντελεστή της μεταβλητής `mother`."
   ]
  },
  {
   "cell_type": "markdown",
   "metadata": {
    "slideshow": {
     "slide_type": "slide"
    }
   },
   "source": [
    "* Ας δούμε τώρα ένα διαφορετικό σύνολο δεδομένων, το οποίο αφορά τιμές σπιτιών στην Καλιφόρνια.\n",
    "\n",
    "* Tα δεδομένα προέρχονται από την εργασία των Pace, R. Kelley and Ronald Barry, Sparse Spatial Autoregressions, Statistics and Probability Letters, 33 (1997) 291-297.\n",
    "\n",
    "* Είναι διαθέσιμα από το https://www.dcc.fc.up.pt/~ltorgo/Regression/cal_housing.html."
   ]
  },
  {
   "cell_type": "code",
   "execution_count": 7,
   "metadata": {
    "slideshow": {
     "slide_type": "slide"
    }
   },
   "outputs": [
    {
     "data": {
      "text/html": [
       "<div>\n",
       "<style scoped>\n",
       "    .dataframe tbody tr th:only-of-type {\n",
       "        vertical-align: middle;\n",
       "    }\n",
       "\n",
       "    .dataframe tbody tr th {\n",
       "        vertical-align: top;\n",
       "    }\n",
       "\n",
       "    .dataframe thead th {\n",
       "        text-align: right;\n",
       "    }\n",
       "</style>\n",
       "<table border=\"1\" class=\"dataframe\">\n",
       "  <thead>\n",
       "    <tr style=\"text-align: right;\">\n",
       "      <th></th>\n",
       "      <th>longitude</th>\n",
       "      <th>latitude</th>\n",
       "      <th>housingMedianAge</th>\n",
       "      <th>totalRooms</th>\n",
       "      <th>totalBedrooms</th>\n",
       "      <th>population</th>\n",
       "      <th>households</th>\n",
       "      <th>medianIncome</th>\n",
       "      <th>medianHouseValue</th>\n",
       "    </tr>\n",
       "  </thead>\n",
       "  <tbody>\n",
       "    <tr>\n",
       "      <th>0</th>\n",
       "      <td>-122.22</td>\n",
       "      <td>37.86</td>\n",
       "      <td>21.0</td>\n",
       "      <td>7099.0</td>\n",
       "      <td>1106.0</td>\n",
       "      <td>2401.0</td>\n",
       "      <td>1138.0</td>\n",
       "      <td>8.3014</td>\n",
       "      <td>358500.0</td>\n",
       "    </tr>\n",
       "    <tr>\n",
       "      <th>1</th>\n",
       "      <td>-122.24</td>\n",
       "      <td>37.85</td>\n",
       "      <td>52.0</td>\n",
       "      <td>1467.0</td>\n",
       "      <td>190.0</td>\n",
       "      <td>496.0</td>\n",
       "      <td>177.0</td>\n",
       "      <td>7.2574</td>\n",
       "      <td>352100.0</td>\n",
       "    </tr>\n",
       "    <tr>\n",
       "      <th>2</th>\n",
       "      <td>-122.25</td>\n",
       "      <td>37.85</td>\n",
       "      <td>52.0</td>\n",
       "      <td>1274.0</td>\n",
       "      <td>235.0</td>\n",
       "      <td>558.0</td>\n",
       "      <td>219.0</td>\n",
       "      <td>5.6431</td>\n",
       "      <td>341300.0</td>\n",
       "    </tr>\n",
       "    <tr>\n",
       "      <th>3</th>\n",
       "      <td>-122.25</td>\n",
       "      <td>37.85</td>\n",
       "      <td>52.0</td>\n",
       "      <td>1627.0</td>\n",
       "      <td>280.0</td>\n",
       "      <td>565.0</td>\n",
       "      <td>259.0</td>\n",
       "      <td>3.8462</td>\n",
       "      <td>342200.0</td>\n",
       "    </tr>\n",
       "    <tr>\n",
       "      <th>4</th>\n",
       "      <td>-122.25</td>\n",
       "      <td>37.85</td>\n",
       "      <td>52.0</td>\n",
       "      <td>919.0</td>\n",
       "      <td>213.0</td>\n",
       "      <td>413.0</td>\n",
       "      <td>193.0</td>\n",
       "      <td>4.0368</td>\n",
       "      <td>269700.0</td>\n",
       "    </tr>\n",
       "    <tr>\n",
       "      <th>...</th>\n",
       "      <td>...</td>\n",
       "      <td>...</td>\n",
       "      <td>...</td>\n",
       "      <td>...</td>\n",
       "      <td>...</td>\n",
       "      <td>...</td>\n",
       "      <td>...</td>\n",
       "      <td>...</td>\n",
       "      <td>...</td>\n",
       "    </tr>\n",
       "    <tr>\n",
       "      <th>20634</th>\n",
       "      <td>-121.09</td>\n",
       "      <td>39.48</td>\n",
       "      <td>25.0</td>\n",
       "      <td>1665.0</td>\n",
       "      <td>374.0</td>\n",
       "      <td>845.0</td>\n",
       "      <td>330.0</td>\n",
       "      <td>1.5603</td>\n",
       "      <td>78100.0</td>\n",
       "    </tr>\n",
       "    <tr>\n",
       "      <th>20635</th>\n",
       "      <td>-121.21</td>\n",
       "      <td>39.49</td>\n",
       "      <td>18.0</td>\n",
       "      <td>697.0</td>\n",
       "      <td>150.0</td>\n",
       "      <td>356.0</td>\n",
       "      <td>114.0</td>\n",
       "      <td>2.5568</td>\n",
       "      <td>77100.0</td>\n",
       "    </tr>\n",
       "    <tr>\n",
       "      <th>20636</th>\n",
       "      <td>-121.22</td>\n",
       "      <td>39.43</td>\n",
       "      <td>17.0</td>\n",
       "      <td>2254.0</td>\n",
       "      <td>485.0</td>\n",
       "      <td>1007.0</td>\n",
       "      <td>433.0</td>\n",
       "      <td>1.7000</td>\n",
       "      <td>92300.0</td>\n",
       "    </tr>\n",
       "    <tr>\n",
       "      <th>20637</th>\n",
       "      <td>-121.32</td>\n",
       "      <td>39.43</td>\n",
       "      <td>18.0</td>\n",
       "      <td>1860.0</td>\n",
       "      <td>409.0</td>\n",
       "      <td>741.0</td>\n",
       "      <td>349.0</td>\n",
       "      <td>1.8672</td>\n",
       "      <td>84700.0</td>\n",
       "    </tr>\n",
       "    <tr>\n",
       "      <th>20638</th>\n",
       "      <td>-121.24</td>\n",
       "      <td>39.37</td>\n",
       "      <td>16.0</td>\n",
       "      <td>2785.0</td>\n",
       "      <td>616.0</td>\n",
       "      <td>1387.0</td>\n",
       "      <td>530.0</td>\n",
       "      <td>2.3886</td>\n",
       "      <td>89400.0</td>\n",
       "    </tr>\n",
       "  </tbody>\n",
       "</table>\n",
       "<p>20639 rows × 9 columns</p>\n",
       "</div>"
      ],
      "text/plain": [
       "       longitude  latitude  housingMedianAge  totalRooms  totalBedrooms  \\\n",
       "0        -122.22     37.86              21.0      7099.0         1106.0   \n",
       "1        -122.24     37.85              52.0      1467.0          190.0   \n",
       "2        -122.25     37.85              52.0      1274.0          235.0   \n",
       "3        -122.25     37.85              52.0      1627.0          280.0   \n",
       "4        -122.25     37.85              52.0       919.0          213.0   \n",
       "...          ...       ...               ...         ...            ...   \n",
       "20634    -121.09     39.48              25.0      1665.0          374.0   \n",
       "20635    -121.21     39.49              18.0       697.0          150.0   \n",
       "20636    -121.22     39.43              17.0      2254.0          485.0   \n",
       "20637    -121.32     39.43              18.0      1860.0          409.0   \n",
       "20638    -121.24     39.37              16.0      2785.0          616.0   \n",
       "\n",
       "       population  households  medianIncome  medianHouseValue  \n",
       "0          2401.0      1138.0        8.3014          358500.0  \n",
       "1           496.0       177.0        7.2574          352100.0  \n",
       "2           558.0       219.0        5.6431          341300.0  \n",
       "3           565.0       259.0        3.8462          342200.0  \n",
       "4           413.0       193.0        4.0368          269700.0  \n",
       "...           ...         ...           ...               ...  \n",
       "20634       845.0       330.0        1.5603           78100.0  \n",
       "20635       356.0       114.0        2.5568           77100.0  \n",
       "20636      1007.0       433.0        1.7000           92300.0  \n",
       "20637       741.0       349.0        1.8672           84700.0  \n",
       "20638      1387.0       530.0        2.3886           89400.0  \n",
       "\n",
       "[20639 rows x 9 columns]"
      ]
     },
     "execution_count": 7,
     "metadata": {},
     "output_type": "execute_result"
    }
   ],
   "source": [
    "cal_housing = pd.read_csv('data/cal_housing.csv')\n",
    "cal_housing.columns=['longitude', 'latitude','housingMedianAge','totalRooms','totalBedrooms','population','households',\n",
    "                      'medianIncome','medianHouseValue']\n",
    "cal_housing"
   ]
  },
  {
   "cell_type": "markdown",
   "metadata": {
    "slideshow": {
     "slide_type": "slide"
    }
   },
   "source": [
    "* Είναι πάντα μια καλή ιδέα να πάρουμε μια εποπτική άποψη των δεδομένων μας, όπως για παράδειγμα με ιστογράμματα κάθε μεταβλητής."
   ]
  },
  {
   "cell_type": "code",
   "execution_count": 8,
   "metadata": {
    "slideshow": {
     "slide_type": "slide"
    }
   },
   "outputs": [
    {
     "data": {
      "image/png": "[encoded data removed]",
      "text/plain": [
       "<Figure size 864x720 with 9 Axes>"
      ]
     },
     "metadata": {
      "needs_background": "light"
     },
     "output_type": "display_data"
    }
   ],
   "source": [
    "cal_housing.hist(figsize=(12, 10), bins=30, edgecolor=\"black\")\n",
    "plt.subplots_adjust(hspace=0.7, wspace=0.4)"
   ]
  },
  {
   "cell_type": "markdown",
   "metadata": {
    "slideshow": {
     "slide_type": "slide"
    }
   },
   "source": [
    "* Εδώ θα δοκιμάσουμε ένα μοντέλο με τη στήλη `medianHouseValue` ως εξαρτημένη μεταβλητή, και όλες τις άλλες στήλες ως ανεξάρτητες μεταβλητές."
   ]
  },
  {
   "cell_type": "code",
   "execution_count": 9,
   "metadata": {
    "slideshow": {
     "slide_type": "fragment"
    }
   },
   "outputs": [
    {
     "name": "stdout",
     "output_type": "stream",
     "text": [
      "longitude + latitude + housingMedianAge + totalRooms + totalBedrooms + population + households + medianIncome\n"
     ]
    }
   ],
   "source": [
    "independent_variables = ' + '.join(cal_housing.columns[:-1])\n",
    "print(independent_variables)\n",
    "cal_housing_mod = smf.ols(\"medianHouseValue ~ \" + independent_variables, data=cal_housing)"
   ]
  },
  {
   "cell_type": "code",
   "execution_count": 10,
   "metadata": {
    "slideshow": {
     "slide_type": "slide"
    }
   },
   "outputs": [
    {
     "data": {
      "text/html": [
       "<table class=\"simpletable\">\n",
       "<caption>OLS Regression Results</caption>\n",
       "<tr>\n",
       "  <th>Dep. Variable:</th>    <td>medianHouseValue</td> <th>  R-squared:         </th>  <td>   0.637</td>  \n",
       "</tr>\n",
       "<tr>\n",
       "  <th>Model:</th>                   <td>OLS</td>       <th>  Adj. R-squared:    </th>  <td>   0.637</td>  \n",
       "</tr>\n",
       "<tr>\n",
       "  <th>Method:</th>             <td>Least Squares</td>  <th>  F-statistic:       </th>  <td>   4526.</td>  \n",
       "</tr>\n",
       "<tr>\n",
       "  <th>Date:</th>             <td>Wed, 09 Mar 2022</td> <th>  Prob (F-statistic):</th>   <td>  0.00</td>   \n",
       "</tr>\n",
       "<tr>\n",
       "  <th>Time:</th>                 <td>17:55:13</td>     <th>  Log-Likelihood:    </th> <td>-2.5940e+05</td>\n",
       "</tr>\n",
       "<tr>\n",
       "  <th>No. Observations:</th>      <td> 20639</td>      <th>  AIC:               </th>  <td>5.188e+05</td> \n",
       "</tr>\n",
       "<tr>\n",
       "  <th>Df Residuals:</th>          <td> 20630</td>      <th>  BIC:               </th>  <td>5.189e+05</td> \n",
       "</tr>\n",
       "<tr>\n",
       "  <th>Df Model:</th>              <td>     8</td>      <th>                     </th>      <td> </td>     \n",
       "</tr>\n",
       "<tr>\n",
       "  <th>Covariance Type:</th>      <td>nonrobust</td>    <th>                     </th>      <td> </td>     \n",
       "</tr>\n",
       "</table>\n",
       "<table class=\"simpletable\">\n",
       "<tr>\n",
       "          <td></td>            <th>coef</th>     <th>std err</th>      <th>t</th>      <th>P>|t|</th>  <th>[0.025</th>    <th>0.975]</th>  \n",
       "</tr>\n",
       "<tr>\n",
       "  <th>Intercept</th>        <td>-3.594e+06</td> <td> 6.25e+04</td> <td>  -57.467</td> <td> 0.000</td> <td>-3.72e+06</td> <td>-3.47e+06</td>\n",
       "</tr>\n",
       "<tr>\n",
       "  <th>longitude</th>        <td>-4.282e+04</td> <td>  713.020</td> <td>  -60.060</td> <td> 0.000</td> <td>-4.42e+04</td> <td>-4.14e+04</td>\n",
       "</tr>\n",
       "<tr>\n",
       "  <th>latitude</th>         <td>-4.258e+04</td> <td>  673.274</td> <td>  -63.241</td> <td> 0.000</td> <td>-4.39e+04</td> <td>-4.13e+04</td>\n",
       "</tr>\n",
       "<tr>\n",
       "  <th>housingMedianAge</th> <td> 1156.1421</td> <td>   43.169</td> <td>   26.782</td> <td> 0.000</td> <td> 1071.528</td> <td> 1240.756</td>\n",
       "</tr>\n",
       "<tr>\n",
       "  <th>totalRooms</th>       <td>   -8.1772</td> <td>    0.788</td> <td>  -10.375</td> <td> 0.000</td> <td>   -9.722</td> <td>   -6.632</td>\n",
       "</tr>\n",
       "<tr>\n",
       "  <th>totalBedrooms</th>    <td>  113.3830</td> <td>    6.902</td> <td>   16.427</td> <td> 0.000</td> <td>   99.854</td> <td>  126.912</td>\n",
       "</tr>\n",
       "<tr>\n",
       "  <th>population</th>       <td>  -38.5371</td> <td>    1.079</td> <td>  -35.718</td> <td> 0.000</td> <td>  -40.652</td> <td>  -36.422</td>\n",
       "</tr>\n",
       "<tr>\n",
       "  <th>households</th>       <td>   48.3235</td> <td>    7.515</td> <td>    6.430</td> <td> 0.000</td> <td>   33.594</td> <td>   63.053</td>\n",
       "</tr>\n",
       "<tr>\n",
       "  <th>medianIncome</th>     <td> 4.024e+04</td> <td>  335.127</td> <td>  120.088</td> <td> 0.000</td> <td> 3.96e+04</td> <td> 4.09e+04</td>\n",
       "</tr>\n",
       "</table>\n",
       "<table class=\"simpletable\">\n",
       "<tr>\n",
       "  <th>Omnibus:</th>       <td>4940.738</td> <th>  Durbin-Watson:     </th> <td>   0.974</td> \n",
       "</tr>\n",
       "<tr>\n",
       "  <th>Prob(Omnibus):</th>  <td> 0.000</td>  <th>  Jarque-Bera (JB):  </th> <td>18459.071</td>\n",
       "</tr>\n",
       "<tr>\n",
       "  <th>Skew:</th>           <td> 1.163</td>  <th>  Prob(JB):          </th> <td>    0.00</td> \n",
       "</tr>\n",
       "<tr>\n",
       "  <th>Kurtosis:</th>       <td> 7.007</td>  <th>  Cond. No.          </th> <td>5.10e+05</td> \n",
       "</tr>\n",
       "</table><br/><br/>Notes:<br/>[1] Standard Errors assume that the covariance matrix of the errors is correctly specified.<br/>[2] The condition number is large, 5.1e+05. This might indicate that there are<br/>strong multicollinearity or other numerical problems."
      ],
      "text/plain": [
       "<class 'statsmodels.iolib.summary.Summary'>\n",
       "\"\"\"\n",
       "                            OLS Regression Results                            \n",
       "==============================================================================\n",
       "Dep. Variable:       medianHouseValue   R-squared:                       0.637\n",
       "Model:                            OLS   Adj. R-squared:                  0.637\n",
       "Method:                 Least Squares   F-statistic:                     4526.\n",
       "Date:                Wed, 09 Mar 2022   Prob (F-statistic):               0.00\n",
       "Time:                        17:55:13   Log-Likelihood:            -2.5940e+05\n",
       "No. Observations:               20639   AIC:                         5.188e+05\n",
       "Df Residuals:                   20630   BIC:                         5.189e+05\n",
       "Df Model:                           8                                         \n",
       "Covariance Type:            nonrobust                                         \n",
       "====================================================================================\n",
       "                       coef    std err          t      P>|t|      [0.025      0.975]\n",
       "------------------------------------------------------------------------------------\n",
       "Intercept        -3.594e+06   6.25e+04    -57.467      0.000   -3.72e+06   -3.47e+06\n",
       "longitude        -4.282e+04    713.020    -60.060      0.000   -4.42e+04   -4.14e+04\n",
       "latitude         -4.258e+04    673.274    -63.241      0.000   -4.39e+04   -4.13e+04\n",
       "housingMedianAge  1156.1421     43.169     26.782      0.000    1071.528    1240.756\n",
       "totalRooms          -8.1772      0.788    -10.375      0.000      -9.722      -6.632\n",
       "totalBedrooms      113.3830      6.902     16.427      0.000      99.854     126.912\n",
       "population         -38.5371      1.079    -35.718      0.000     -40.652     -36.422\n",
       "households          48.3235      7.515      6.430      0.000      33.594      63.053\n",
       "medianIncome      4.024e+04    335.127    120.088      0.000    3.96e+04    4.09e+04\n",
       "==============================================================================\n",
       "Omnibus:                     4940.738   Durbin-Watson:                   0.974\n",
       "Prob(Omnibus):                  0.000   Jarque-Bera (JB):            18459.071\n",
       "Skew:                           1.163   Prob(JB):                         0.00\n",
       "Kurtosis:                       7.007   Cond. No.                     5.10e+05\n",
       "==============================================================================\n",
       "\n",
       "Notes:\n",
       "[1] Standard Errors assume that the covariance matrix of the errors is correctly specified.\n",
       "[2] The condition number is large, 5.1e+05. This might indicate that there are\n",
       "strong multicollinearity or other numerical problems.\n",
       "\"\"\""
      ]
     },
     "execution_count": 10,
     "metadata": {},
     "output_type": "execute_result"
    }
   ],
   "source": [
    "cal_housing_res = cal_housing_mod.fit()\n",
    "cal_housing_res.summary()"
   ]
  },
  {
   "cell_type": "markdown",
   "metadata": {
    "slideshow": {
     "slide_type": "slide"
    }
   },
   "source": [
    "* Βλέπουμε ότι το μοντέλο έχει ψηλό $R^2$.\n",
    "\n",
    "* Επίσης βλέπουμε ότι την τιμή του σπιτιού επηρεάζει η τοποθεσία του, όπως δίνεται από το γεωγραφικό μήκος (`longitude`) και το γεωγραφικό πλάτος (`latitude`).\n",
    "\n",
    "* Μήπως όμως θα έπρεπε να εξετάσουμε και την *αλληλεπίδραση* (interaction) του γεωγραφικού μήκους με το γεωγραφικό πλάτος;"
   ]
  },
  {
   "cell_type": "markdown",
   "metadata": {
    "slideshow": {
     "slide_type": "slide"
    }
   },
   "source": [
    "* Αν έχουμε δύο ανεξάρτητες μεταβλητές $x_i$ και $x_j$, μπορούμε να εισάγουμε την αλληλεπίδρασή τους στο μοντέλο χρησιμοποιώντας το γινόμενό τους $x_i x_j$.\n",
    "\n",
    "* Στους τύπους που δίνουμε, η συντάξη `longitude:latitude` σημαίνει το γινόμενο των `longitude` και `latitude`.\n",
    "\n",
    "* Η σύνταξη `longitude*latitude` είναι συντομογραφία για το `longitude + latitude + longitude:latitude`."
   ]
  },
  {
   "cell_type": "code",
   "execution_count": 11,
   "metadata": {
    "scrolled": true,
    "slideshow": {
     "slide_type": "slide"
    }
   },
   "outputs": [
    {
     "name": "stdout",
     "output_type": "stream",
     "text": [
      "housingMedianAge + totalRooms + totalBedrooms + population + households + medianIncome + longitude*latitude\n"
     ]
    },
    {
     "data": {
      "text/html": [
       "<table class=\"simpletable\">\n",
       "<caption>OLS Regression Results</caption>\n",
       "<tr>\n",
       "  <th>Dep. Variable:</th>    <td>medianHouseValue</td> <th>  R-squared:         </th>  <td>   0.637</td>  \n",
       "</tr>\n",
       "<tr>\n",
       "  <th>Model:</th>                   <td>OLS</td>       <th>  Adj. R-squared:    </th>  <td>   0.637</td>  \n",
       "</tr>\n",
       "<tr>\n",
       "  <th>Method:</th>             <td>Least Squares</td>  <th>  F-statistic:       </th>  <td>   4028.</td>  \n",
       "</tr>\n",
       "<tr>\n",
       "  <th>Date:</th>             <td>Wed, 09 Mar 2022</td> <th>  Prob (F-statistic):</th>   <td>  0.00</td>   \n",
       "</tr>\n",
       "<tr>\n",
       "  <th>Time:</th>                 <td>17:55:14</td>     <th>  Log-Likelihood:    </th> <td>-2.5939e+05</td>\n",
       "</tr>\n",
       "<tr>\n",
       "  <th>No. Observations:</th>      <td> 20639</td>      <th>  AIC:               </th>  <td>5.188e+05</td> \n",
       "</tr>\n",
       "<tr>\n",
       "  <th>Df Residuals:</th>          <td> 20629</td>      <th>  BIC:               </th>  <td>5.189e+05</td> \n",
       "</tr>\n",
       "<tr>\n",
       "  <th>Df Model:</th>              <td>     9</td>      <th>                     </th>      <td> </td>     \n",
       "</tr>\n",
       "<tr>\n",
       "  <th>Covariance Type:</th>      <td>nonrobust</td>    <th>                     </th>      <td> </td>     \n",
       "</tr>\n",
       "</table>\n",
       "<table class=\"simpletable\">\n",
       "<tr>\n",
       "           <td></td>             <th>coef</th>     <th>std err</th>      <th>t</th>      <th>P>|t|</th>  <th>[0.025</th>    <th>0.975]</th>  \n",
       "</tr>\n",
       "<tr>\n",
       "  <th>Intercept</th>          <td>  -6.5e+06</td> <td> 7.37e+05</td> <td>   -8.814</td> <td> 0.000</td> <td>-7.95e+06</td> <td>-5.05e+06</td>\n",
       "</tr>\n",
       "<tr>\n",
       "  <th>housingMedianAge</th>   <td> 1150.3363</td> <td>   43.178</td> <td>   26.642</td> <td> 0.000</td> <td> 1065.703</td> <td> 1234.969</td>\n",
       "</tr>\n",
       "<tr>\n",
       "  <th>totalRooms</th>         <td>   -8.0512</td> <td>    0.789</td> <td>  -10.210</td> <td> 0.000</td> <td>   -9.597</td> <td>   -6.506</td>\n",
       "</tr>\n",
       "<tr>\n",
       "  <th>totalBedrooms</th>      <td>  112.7489</td> <td>    6.902</td> <td>   16.337</td> <td> 0.000</td> <td>   99.221</td> <td>  126.276</td>\n",
       "</tr>\n",
       "<tr>\n",
       "  <th>population</th>         <td>  -38.8584</td> <td>    1.082</td> <td>  -35.926</td> <td> 0.000</td> <td>  -40.978</td> <td>  -36.738</td>\n",
       "</tr>\n",
       "<tr>\n",
       "  <th>households</th>         <td>   49.2121</td> <td>    7.515</td> <td>    6.548</td> <td> 0.000</td> <td>   34.481</td> <td>   63.943</td>\n",
       "</tr>\n",
       "<tr>\n",
       "  <th>medianIncome</th>       <td> 4.018e+04</td> <td>  335.443</td> <td>  119.773</td> <td> 0.000</td> <td> 3.95e+04</td> <td> 4.08e+04</td>\n",
       "</tr>\n",
       "<tr>\n",
       "  <th>longitude</th>          <td>-6.702e+04</td> <td> 6158.950</td> <td>  -10.881</td> <td> 0.000</td> <td>-7.91e+04</td> <td>-5.49e+04</td>\n",
       "</tr>\n",
       "<tr>\n",
       "  <th>latitude</th>           <td> 3.922e+04</td> <td> 2.07e+04</td> <td>    1.895</td> <td> 0.058</td> <td>-1344.250</td> <td> 7.98e+04</td>\n",
       "</tr>\n",
       "<tr>\n",
       "  <th>longitude:latitude</th> <td>  680.2734</td> <td>  172.013</td> <td>    3.955</td> <td> 0.000</td> <td>  343.114</td> <td> 1017.432</td>\n",
       "</tr>\n",
       "</table>\n",
       "<table class=\"simpletable\">\n",
       "<tr>\n",
       "  <th>Omnibus:</th>       <td>4951.757</td> <th>  Durbin-Watson:     </th> <td>   0.974</td> \n",
       "</tr>\n",
       "<tr>\n",
       "  <th>Prob(Omnibus):</th>  <td> 0.000</td>  <th>  Jarque-Bera (JB):  </th> <td>18705.035</td>\n",
       "</tr>\n",
       "<tr>\n",
       "  <th>Skew:</th>           <td> 1.162</td>  <th>  Prob(JB):          </th> <td>    0.00</td> \n",
       "</tr>\n",
       "<tr>\n",
       "  <th>Kurtosis:</th>       <td> 7.043</td>  <th>  Cond. No.          </th> <td>8.37e+06</td> \n",
       "</tr>\n",
       "</table><br/><br/>Notes:<br/>[1] Standard Errors assume that the covariance matrix of the errors is correctly specified.<br/>[2] The condition number is large, 8.37e+06. This might indicate that there are<br/>strong multicollinearity or other numerical problems."
      ],
      "text/plain": [
       "<class 'statsmodels.iolib.summary.Summary'>\n",
       "\"\"\"\n",
       "                            OLS Regression Results                            \n",
       "==============================================================================\n",
       "Dep. Variable:       medianHouseValue   R-squared:                       0.637\n",
       "Model:                            OLS   Adj. R-squared:                  0.637\n",
       "Method:                 Least Squares   F-statistic:                     4028.\n",
       "Date:                Wed, 09 Mar 2022   Prob (F-statistic):               0.00\n",
       "Time:                        17:55:14   Log-Likelihood:            -2.5939e+05\n",
       "No. Observations:               20639   AIC:                         5.188e+05\n",
       "Df Residuals:                   20629   BIC:                         5.189e+05\n",
       "Df Model:                           9                                         \n",
       "Covariance Type:            nonrobust                                         \n",
       "======================================================================================\n",
       "                         coef    std err          t      P>|t|      [0.025      0.975]\n",
       "--------------------------------------------------------------------------------------\n",
       "Intercept            -6.5e+06   7.37e+05     -8.814      0.000   -7.95e+06   -5.05e+06\n",
       "housingMedianAge    1150.3363     43.178     26.642      0.000    1065.703    1234.969\n",
       "totalRooms            -8.0512      0.789    -10.210      0.000      -9.597      -6.506\n",
       "totalBedrooms        112.7489      6.902     16.337      0.000      99.221     126.276\n",
       "population           -38.8584      1.082    -35.926      0.000     -40.978     -36.738\n",
       "households            49.2121      7.515      6.548      0.000      34.481      63.943\n",
       "medianIncome        4.018e+04    335.443    119.773      0.000    3.95e+04    4.08e+04\n",
       "longitude          -6.702e+04   6158.950    -10.881      0.000   -7.91e+04   -5.49e+04\n",
       "latitude            3.922e+04   2.07e+04      1.895      0.058   -1344.250    7.98e+04\n",
       "longitude:latitude   680.2734    172.013      3.955      0.000     343.114    1017.432\n",
       "==============================================================================\n",
       "Omnibus:                     4951.757   Durbin-Watson:                   0.974\n",
       "Prob(Omnibus):                  0.000   Jarque-Bera (JB):            18705.035\n",
       "Skew:                           1.162   Prob(JB):                         0.00\n",
       "Kurtosis:                       7.043   Cond. No.                     8.37e+06\n",
       "==============================================================================\n",
       "\n",
       "Notes:\n",
       "[1] Standard Errors assume that the covariance matrix of the errors is correctly specified.\n",
       "[2] The condition number is large, 8.37e+06. This might indicate that there are\n",
       "strong multicollinearity or other numerical problems.\n",
       "\"\"\""
      ]
     },
     "execution_count": 11,
     "metadata": {},
     "output_type": "execute_result"
    }
   ],
   "source": [
    "independent_variables = \"housingMedianAge + totalRooms + totalBedrooms + population\"\n",
    "independent_variables += \" + households + medianIncome\"\n",
    "independent_variables += \" + longitude*latitude\"\n",
    "cal_housing_mod = smf.ols(\"medianHouseValue ~ \" + independent_variables, data=cal_housing)\n",
    "print(independent_variables)\n",
    "cal_housing_res = cal_housing_mod.fit()\n",
    "cal_housing_res.summary()"
   ]
  },
  {
   "cell_type": "markdown",
   "metadata": {
    "slideshow": {
     "slide_type": "slide"
    }
   },
   "source": [
    "* Βλέπουμε ότι πράγματι η αλληλεπίδραση `longitude:latitude` επηρεάζει την τιμή του σπιτιού.\n",
    "\n",
    "* Ταυτόχρονα βλέπουμε ότι άλλαξαν οι συντελεστές των `longitude` και `latitude` όπως και ο συντελεστής σημαντικότητας του `latitude`.\n",
    "\n",
    "* Εδώ θέλει λίγο προσοχή η ερμηνεία των συντελεστών των μεταβλητών που υπεισέρχονται σε αλληλεπίδραση. \n",
    "\n",
    "* Στην ουσία, ο συντελεστής του `latitude` αντιστοιχεί στην αλλαγή της τιμής του σπιτιού όταν αυξηθεί κατά μία μονάδα το γεωγραφικό πλάτος ενώ το γεωγραφικό μήκος μείνει σταθερό *στο μηδέν* (και οι άλλες μεταβλητές σταθερές)."
   ]
  },
  {
   "cell_type": "markdown",
   "metadata": {
    "slideshow": {
     "slide_type": "slide"
    }
   },
   "source": [
    "* Στο μεταξύ έχουμε βάλει μεν όλες τις στήλες μέσα στο μοντέλο, αλλά μπορεί να μην χρειάζονταν.\n",
    "\n",
    "* Μπορεί κάποιες στήλες να σχετίζονται με άλλες.\n",
    "\n",
    "* Έτσι, είναι λογικό να υποθέσουμε ότι ο αριθμός των δωματίων σχετίζεται με τον αριθμό των υπνοδωματίων.\n",
    "\n",
    "* Οπότε ας δοκιμάσουμε να αφαιρέσουμε τον αριθμό των δωματίων από το μοντέλο μας."
   ]
  },
  {
   "cell_type": "code",
   "execution_count": 12,
   "metadata": {
    "slideshow": {
     "slide_type": "slide"
    }
   },
   "outputs": [
    {
     "data": {
      "text/html": [
       "<table class=\"simpletable\">\n",
       "<caption>OLS Regression Results</caption>\n",
       "<tr>\n",
       "  <th>Dep. Variable:</th>    <td>medianHouseValue</td> <th>  R-squared:         </th>  <td>   0.635</td>  \n",
       "</tr>\n",
       "<tr>\n",
       "  <th>Model:</th>                   <td>OLS</td>       <th>  Adj. R-squared:    </th>  <td>   0.635</td>  \n",
       "</tr>\n",
       "<tr>\n",
       "  <th>Method:</th>             <td>Least Squares</td>  <th>  F-statistic:       </th>  <td>   4496.</td>  \n",
       "</tr>\n",
       "<tr>\n",
       "  <th>Date:</th>             <td>Wed, 09 Mar 2022</td> <th>  Prob (F-statistic):</th>   <td>  0.00</td>   \n",
       "</tr>\n",
       "<tr>\n",
       "  <th>Time:</th>                 <td>17:55:14</td>     <th>  Log-Likelihood:    </th> <td>-2.5944e+05</td>\n",
       "</tr>\n",
       "<tr>\n",
       "  <th>No. Observations:</th>      <td> 20639</td>      <th>  AIC:               </th>  <td>5.189e+05</td> \n",
       "</tr>\n",
       "<tr>\n",
       "  <th>Df Residuals:</th>          <td> 20630</td>      <th>  BIC:               </th>  <td>5.190e+05</td> \n",
       "</tr>\n",
       "<tr>\n",
       "  <th>Df Model:</th>              <td>     8</td>      <th>                     </th>      <td> </td>     \n",
       "</tr>\n",
       "<tr>\n",
       "  <th>Covariance Type:</th>      <td>nonrobust</td>    <th>                     </th>      <td> </td>     \n",
       "</tr>\n",
       "</table>\n",
       "<table class=\"simpletable\">\n",
       "<tr>\n",
       "           <td></td>             <th>coef</th>     <th>std err</th>      <th>t</th>      <th>P>|t|</th>  <th>[0.025</th>    <th>0.975]</th>  \n",
       "</tr>\n",
       "<tr>\n",
       "  <th>Intercept</th>          <td>  -6.9e+06</td> <td> 7.38e+05</td> <td>   -9.346</td> <td> 0.000</td> <td>-8.35e+06</td> <td>-5.45e+06</td>\n",
       "</tr>\n",
       "<tr>\n",
       "  <th>longitude</th>          <td>-7.089e+04</td> <td> 6162.644</td> <td>  -11.503</td> <td> 0.000</td> <td> -8.3e+04</td> <td>-5.88e+04</td>\n",
       "</tr>\n",
       "<tr>\n",
       "  <th>latitude</th>           <td> 4.615e+04</td> <td> 2.07e+04</td> <td>    2.226</td> <td> 0.026</td> <td> 5505.094</td> <td> 8.68e+04</td>\n",
       "</tr>\n",
       "<tr>\n",
       "  <th>longitude:latitude</th> <td>  751.2156</td> <td>  172.302</td> <td>    4.360</td> <td> 0.000</td> <td>  413.490</td> <td> 1088.941</td>\n",
       "</tr>\n",
       "<tr>\n",
       "  <th>housingMedianAge</th>   <td> 1176.5479</td> <td>   43.210</td> <td>   27.229</td> <td> 0.000</td> <td> 1091.853</td> <td> 1261.242</td>\n",
       "</tr>\n",
       "<tr>\n",
       "  <th>totalBedrooms</th>      <td>   77.8416</td> <td>    6.010</td> <td>   12.952</td> <td> 0.000</td> <td>   66.061</td> <td>   89.622</td>\n",
       "</tr>\n",
       "<tr>\n",
       "  <th>population</th>         <td>  -41.9657</td> <td>    1.041</td> <td>  -40.332</td> <td> 0.000</td> <td>  -44.005</td> <td>  -39.926</td>\n",
       "</tr>\n",
       "<tr>\n",
       "  <th>households</th>         <td>   53.2052</td> <td>    7.524</td> <td>    7.071</td> <td> 0.000</td> <td>   38.457</td> <td>   67.953</td>\n",
       "</tr>\n",
       "<tr>\n",
       "  <th>medianIncome</th>       <td> 3.813e+04</td> <td>  269.868</td> <td>  141.305</td> <td> 0.000</td> <td> 3.76e+04</td> <td> 3.87e+04</td>\n",
       "</tr>\n",
       "</table>\n",
       "<table class=\"simpletable\">\n",
       "<tr>\n",
       "  <th>Omnibus:</th>       <td>5186.352</td> <th>  Durbin-Watson:     </th> <td>   0.943</td> \n",
       "</tr>\n",
       "<tr>\n",
       "  <th>Prob(Omnibus):</th>  <td> 0.000</td>  <th>  Jarque-Bera (JB):  </th> <td>20199.434</td>\n",
       "</tr>\n",
       "<tr>\n",
       "  <th>Skew:</th>           <td> 1.208</td>  <th>  Prob(JB):          </th> <td>    0.00</td> \n",
       "</tr>\n",
       "<tr>\n",
       "  <th>Kurtosis:</th>       <td> 7.201</td>  <th>  Cond. No.          </th> <td>6.98e+06</td> \n",
       "</tr>\n",
       "</table><br/><br/>Notes:<br/>[1] Standard Errors assume that the covariance matrix of the errors is correctly specified.<br/>[2] The condition number is large, 6.98e+06. This might indicate that there are<br/>strong multicollinearity or other numerical problems."
      ],
      "text/plain": [
       "<class 'statsmodels.iolib.summary.Summary'>\n",
       "\"\"\"\n",
       "                            OLS Regression Results                            \n",
       "==============================================================================\n",
       "Dep. Variable:       medianHouseValue   R-squared:                       0.635\n",
       "Model:                            OLS   Adj. R-squared:                  0.635\n",
       "Method:                 Least Squares   F-statistic:                     4496.\n",
       "Date:                Wed, 09 Mar 2022   Prob (F-statistic):               0.00\n",
       "Time:                        17:55:14   Log-Likelihood:            -2.5944e+05\n",
       "No. Observations:               20639   AIC:                         5.189e+05\n",
       "Df Residuals:                   20630   BIC:                         5.190e+05\n",
       "Df Model:                           8                                         \n",
       "Covariance Type:            nonrobust                                         \n",
       "======================================================================================\n",
       "                         coef    std err          t      P>|t|      [0.025      0.975]\n",
       "--------------------------------------------------------------------------------------\n",
       "Intercept            -6.9e+06   7.38e+05     -9.346      0.000   -8.35e+06   -5.45e+06\n",
       "longitude          -7.089e+04   6162.644    -11.503      0.000    -8.3e+04   -5.88e+04\n",
       "latitude            4.615e+04   2.07e+04      2.226      0.026    5505.094    8.68e+04\n",
       "longitude:latitude   751.2156    172.302      4.360      0.000     413.490    1088.941\n",
       "housingMedianAge    1176.5479     43.210     27.229      0.000    1091.853    1261.242\n",
       "totalBedrooms         77.8416      6.010     12.952      0.000      66.061      89.622\n",
       "population           -41.9657      1.041    -40.332      0.000     -44.005     -39.926\n",
       "households            53.2052      7.524      7.071      0.000      38.457      67.953\n",
       "medianIncome        3.813e+04    269.868    141.305      0.000    3.76e+04    3.87e+04\n",
       "==============================================================================\n",
       "Omnibus:                     5186.352   Durbin-Watson:                   0.943\n",
       "Prob(Omnibus):                  0.000   Jarque-Bera (JB):            20199.434\n",
       "Skew:                           1.208   Prob(JB):                         0.00\n",
       "Kurtosis:                       7.201   Cond. No.                     6.98e+06\n",
       "==============================================================================\n",
       "\n",
       "Notes:\n",
       "[1] Standard Errors assume that the covariance matrix of the errors is correctly specified.\n",
       "[2] The condition number is large, 6.98e+06. This might indicate that there are\n",
       "strong multicollinearity or other numerical problems.\n",
       "\"\"\""
      ]
     },
     "execution_count": 12,
     "metadata": {},
     "output_type": "execute_result"
    }
   ],
   "source": [
    "independent_variables = (\n",
    "    'longitude*latitude',\n",
    "    'housingMedianAge',\n",
    "    'totalBedrooms',\n",
    "    'population',\n",
    "    'households',\n",
    "    'medianIncome')\n",
    "cal_housing_mod = smf.ols(\"medianHouseValue ~ \" + '+'.join(independent_variables), data=cal_housing)\n",
    "cal_housing_res = cal_housing_mod.fit()\n",
    "cal_housing_res.summary()"
   ]
  },
  {
   "cell_type": "markdown",
   "metadata": {
    "slideshow": {
     "slide_type": "slide"
    }
   },
   "source": [
    "* Ας επιστρέψουμε στην τοποθεσία του σπιτιού.\n",
    "\n",
    "* Μπορούμε εύκολα να κάνουμε ένα διάγραμμα για να δούμε αν κάπου συγκεντρώνονται σπίτια με υψηλές ή χαμηλές αξίες."
   ]
  },
  {
   "cell_type": "code",
   "execution_count": 13,
   "metadata": {
    "slideshow": {
     "slide_type": "slide"
    }
   },
   "outputs": [
    {
     "data": {
      "image/png": "[encoded data removed]",
      "text/plain": [
       "<Figure size 720x576 with 1 Axes>"
      ]
     },
     "metadata": {
      "needs_background": "light"
     },
     "output_type": "display_data"
    }
   ],
   "source": [
    "plt.figure(figsize=(10, 8))\n",
    "sns.set_theme(font_scale=1.5)\n",
    "sns.scatterplot(data=cal_housing, \n",
    "                x=\"longitude\", y=\"latitude\", size=\"medianHouseValue\", hue=\"medianHouseValue\",\n",
    "                palette=\"viridis\", alpha=0.5)\n",
    "plt.legend(title=\"medianHouseValue\", bbox_to_anchor=(1.05, 0.95), loc=\"upper left\")\n",
    "_ = plt.title(\"Median house value depending on location\")"
   ]
  },
  {
   "cell_type": "markdown",
   "metadata": {
    "slideshow": {
     "slide_type": "slide"
    }
   },
   "source": [
    "* Έχοντας γνωρίσει την πολλαπλή παλινδρόμηση, κάτι που θα μπορούμε να δούμε εκ νέου είναι η τιμή των διαμαντιών.\n",
    "\n",
    "* Είχαμε δει ότι το βάρος επηρεάζει την τιμή, αλλά ότι και η καθαρότητα, χρώμα, και κοπή φαίνονταν να επηρεάζουν το υπόλοιπο της τιμής που δεν μπορούμε να εξηγήσει το βάρος.\n",
    "\n",
    "* Ας ξαναδούμε λοιπόν την παλινδρόμηση στην οποία είχαμε καταλήξει."
   ]
  },
  {
   "cell_type": "code",
   "execution_count": 14,
   "metadata": {
    "slideshow": {
     "slide_type": "slide"
    }
   },
   "outputs": [
    {
     "data": {
      "text/html": [
       "<table class=\"simpletable\">\n",
       "<caption>OLS Regression Results</caption>\n",
       "<tr>\n",
       "  <th>Dep. Variable:</th>     <td>np.log2(price)</td>  <th>  R-squared:         </th> <td>   0.933</td> \n",
       "</tr>\n",
       "<tr>\n",
       "  <th>Model:</th>                   <td>OLS</td>       <th>  Adj. R-squared:    </th> <td>   0.933</td> \n",
       "</tr>\n",
       "<tr>\n",
       "  <th>Method:</th>             <td>Least Squares</td>  <th>  F-statistic:       </th> <td>7.542e+05</td>\n",
       "</tr>\n",
       "<tr>\n",
       "  <th>Date:</th>             <td>Wed, 09 Mar 2022</td> <th>  Prob (F-statistic):</th>  <td>  0.00</td>  \n",
       "</tr>\n",
       "<tr>\n",
       "  <th>Time:</th>                 <td>17:55:18</td>     <th>  Log-Likelihood:    </th> <td> -23824.</td> \n",
       "</tr>\n",
       "<tr>\n",
       "  <th>No. Observations:</th>      <td> 53814</td>      <th>  AIC:               </th> <td>4.765e+04</td>\n",
       "</tr>\n",
       "<tr>\n",
       "  <th>Df Residuals:</th>          <td> 53812</td>      <th>  BIC:               </th> <td>4.767e+04</td>\n",
       "</tr>\n",
       "<tr>\n",
       "  <th>Df Model:</th>              <td>     1</td>      <th>                     </th>     <td> </td>    \n",
       "</tr>\n",
       "<tr>\n",
       "  <th>Covariance Type:</th>      <td>nonrobust</td>    <th>                     </th>     <td> </td>    \n",
       "</tr>\n",
       "</table>\n",
       "<table class=\"simpletable\">\n",
       "<tr>\n",
       "         <td></td>           <th>coef</th>     <th>std err</th>      <th>t</th>      <th>P>|t|</th>  <th>[0.025</th>    <th>0.975]</th>  \n",
       "</tr>\n",
       "<tr>\n",
       "  <th>Intercept</th>      <td>   12.1939</td> <td>    0.002</td> <td> 6194.469</td> <td> 0.000</td> <td>   12.190</td> <td>   12.198</td>\n",
       "</tr>\n",
       "<tr>\n",
       "  <th>np.log2(carat)</th> <td>    1.6814</td> <td>    0.002</td> <td>  868.451</td> <td> 0.000</td> <td>    1.678</td> <td>    1.685</td>\n",
       "</tr>\n",
       "</table>\n",
       "<table class=\"simpletable\">\n",
       "<tr>\n",
       "  <th>Omnibus:</th>       <td>777.755</td> <th>  Durbin-Watson:     </th> <td>   1.214</td> \n",
       "</tr>\n",
       "<tr>\n",
       "  <th>Prob(Omnibus):</th> <td> 0.000</td>  <th>  Jarque-Bera (JB):  </th> <td>1345.432</td> \n",
       "</tr>\n",
       "<tr>\n",
       "  <th>Skew:</th>          <td> 0.104</td>  <th>  Prob(JB):          </th> <td>6.97e-293</td>\n",
       "</tr>\n",
       "<tr>\n",
       "  <th>Kurtosis:</th>      <td> 3.746</td>  <th>  Cond. No.          </th> <td>    1.90</td> \n",
       "</tr>\n",
       "</table><br/><br/>Notes:<br/>[1] Standard Errors assume that the covariance matrix of the errors is correctly specified."
      ],
      "text/plain": [
       "<class 'statsmodels.iolib.summary.Summary'>\n",
       "\"\"\"\n",
       "                            OLS Regression Results                            \n",
       "==============================================================================\n",
       "Dep. Variable:         np.log2(price)   R-squared:                       0.933\n",
       "Model:                            OLS   Adj. R-squared:                  0.933\n",
       "Method:                 Least Squares   F-statistic:                 7.542e+05\n",
       "Date:                Wed, 09 Mar 2022   Prob (F-statistic):               0.00\n",
       "Time:                        17:55:18   Log-Likelihood:                -23824.\n",
       "No. Observations:               53814   AIC:                         4.765e+04\n",
       "Df Residuals:                   53812   BIC:                         4.767e+04\n",
       "Df Model:                           1                                         \n",
       "Covariance Type:            nonrobust                                         \n",
       "==================================================================================\n",
       "                     coef    std err          t      P>|t|      [0.025      0.975]\n",
       "----------------------------------------------------------------------------------\n",
       "Intercept         12.1939      0.002   6194.469      0.000      12.190      12.198\n",
       "np.log2(carat)     1.6814      0.002    868.451      0.000       1.678       1.685\n",
       "==============================================================================\n",
       "Omnibus:                      777.755   Durbin-Watson:                   1.214\n",
       "Prob(Omnibus):                  0.000   Jarque-Bera (JB):             1345.432\n",
       "Skew:                           0.104   Prob(JB):                    6.97e-293\n",
       "Kurtosis:                       3.746   Cond. No.                         1.90\n",
       "==============================================================================\n",
       "\n",
       "Notes:\n",
       "[1] Standard Errors assume that the covariance matrix of the errors is correctly specified.\n",
       "\"\"\""
      ]
     },
     "execution_count": 14,
     "metadata": {},
     "output_type": "execute_result"
    }
   ],
   "source": [
    "from plotnine.data import diamonds\n",
    "diamonds_mod = smf.ols(\"np.log2(price) ~ np.log2(carat)\", \n",
    "                       data=diamonds.query('carat <= 2.5'))\n",
    "diamonds_res = diamonds_mod.fit()\n",
    "diamonds_res.summary()"
   ]
  },
  {
   "cell_type": "markdown",
   "metadata": {
    "slideshow": {
     "slide_type": "slide"
    }
   },
   "source": [
    "* Τώρα, ας προσθέσουμε στις ανεξάρτητες μεταβλητές την καθαρότητα, το χρώμα, και την κοπή.\n",
    "\n",
    "* Καθώς αυτές είναι κωδικοποιημένες εσωτερικά ως διατεγμένες *κατηγορικές μεταβλητές* (categorical variables) στο pandas, θα πρέπει να πάρουμε τους αντίστοιχους ακέραιους αριθμούς που αντιστοιχούν σε κάθε κατηγορία."
   ]
  },
  {
   "cell_type": "code",
   "execution_count": 15,
   "metadata": {
    "slideshow": {
     "slide_type": "slide"
    }
   },
   "outputs": [
    {
     "data": {
      "text/html": [
       "<table class=\"simpletable\">\n",
       "<caption>OLS Regression Results</caption>\n",
       "<tr>\n",
       "  <th>Dep. Variable:</th>     <td>np.log2(price)</td>  <th>  R-squared:         </th>  <td>   0.980</td> \n",
       "</tr>\n",
       "<tr>\n",
       "  <th>Model:</th>                   <td>OLS</td>       <th>  Adj. R-squared:    </th>  <td>   0.980</td> \n",
       "</tr>\n",
       "<tr>\n",
       "  <th>Method:</th>             <td>Least Squares</td>  <th>  F-statistic:       </th>  <td>6.474e+05</td>\n",
       "</tr>\n",
       "<tr>\n",
       "  <th>Date:</th>             <td>Wed, 09 Mar 2022</td> <th>  Prob (F-statistic):</th>   <td>  0.00</td>  \n",
       "</tr>\n",
       "<tr>\n",
       "  <th>Time:</th>                 <td>17:55:19</td>     <th>  Log-Likelihood:    </th>  <td>  8068.7</td> \n",
       "</tr>\n",
       "<tr>\n",
       "  <th>No. Observations:</th>      <td> 53814</td>      <th>  AIC:               </th> <td>-1.613e+04</td>\n",
       "</tr>\n",
       "<tr>\n",
       "  <th>Df Residuals:</th>          <td> 53809</td>      <th>  BIC:               </th> <td>-1.608e+04</td>\n",
       "</tr>\n",
       "<tr>\n",
       "  <th>Df Model:</th>              <td>     4</td>      <th>                     </th>      <td> </td>    \n",
       "</tr>\n",
       "<tr>\n",
       "  <th>Covariance Type:</th>      <td>nonrobust</td>    <th>                     </th>      <td> </td>    \n",
       "</tr>\n",
       "</table>\n",
       "<table class=\"simpletable\">\n",
       "<tr>\n",
       "          <td></td>             <th>coef</th>     <th>std err</th>      <th>t</th>      <th>P>|t|</th>  <th>[0.025</th>    <th>0.975]</th>  \n",
       "</tr>\n",
       "<tr>\n",
       "  <th>Intercept</th>         <td>   11.9256</td> <td>    0.003</td> <td> 3815.476</td> <td> 0.000</td> <td>   11.919</td> <td>   11.932</td>\n",
       "</tr>\n",
       "<tr>\n",
       "  <th>np.log2(carat)</th>    <td>    1.8809</td> <td>    0.001</td> <td> 1550.255</td> <td> 0.000</td> <td>    1.879</td> <td>    1.883</td>\n",
       "</tr>\n",
       "<tr>\n",
       "  <th>clarity.cat.codes</th> <td>    0.1770</td> <td>    0.001</td> <td>  293.925</td> <td> 0.000</td> <td>    0.176</td> <td>    0.178</td>\n",
       "</tr>\n",
       "<tr>\n",
       "  <th>color.cat.codes</th>   <td>   -0.1122</td> <td>    0.001</td> <td> -203.259</td> <td> 0.000</td> <td>   -0.113</td> <td>   -0.111</td>\n",
       "</tr>\n",
       "<tr>\n",
       "  <th>cut.cat.codes</th>     <td>    0.0456</td> <td>    0.001</td> <td>   55.500</td> <td> 0.000</td> <td>    0.044</td> <td>    0.047</td>\n",
       "</tr>\n",
       "</table>\n",
       "<table class=\"simpletable\">\n",
       "<tr>\n",
       "  <th>Omnibus:</th>       <td>2769.320</td> <th>  Durbin-Watson:     </th> <td>   1.245</td>\n",
       "</tr>\n",
       "<tr>\n",
       "  <th>Prob(Omnibus):</th>  <td> 0.000</td>  <th>  Jarque-Bera (JB):  </th> <td>9768.480</td>\n",
       "</tr>\n",
       "<tr>\n",
       "  <th>Skew:</th>           <td>-0.145</td>  <th>  Prob(JB):          </th> <td>    0.00</td>\n",
       "</tr>\n",
       "<tr>\n",
       "  <th>Kurtosis:</th>       <td> 5.067</td>  <th>  Cond. No.          </th> <td>    18.9</td>\n",
       "</tr>\n",
       "</table><br/><br/>Notes:<br/>[1] Standard Errors assume that the covariance matrix of the errors is correctly specified."
      ],
      "text/plain": [
       "<class 'statsmodels.iolib.summary.Summary'>\n",
       "\"\"\"\n",
       "                            OLS Regression Results                            \n",
       "==============================================================================\n",
       "Dep. Variable:         np.log2(price)   R-squared:                       0.980\n",
       "Model:                            OLS   Adj. R-squared:                  0.980\n",
       "Method:                 Least Squares   F-statistic:                 6.474e+05\n",
       "Date:                Wed, 09 Mar 2022   Prob (F-statistic):               0.00\n",
       "Time:                        17:55:19   Log-Likelihood:                 8068.7\n",
       "No. Observations:               53814   AIC:                        -1.613e+04\n",
       "Df Residuals:                   53809   BIC:                        -1.608e+04\n",
       "Df Model:                           4                                         \n",
       "Covariance Type:            nonrobust                                         \n",
       "=====================================================================================\n",
       "                        coef    std err          t      P>|t|      [0.025      0.975]\n",
       "-------------------------------------------------------------------------------------\n",
       "Intercept            11.9256      0.003   3815.476      0.000      11.919      11.932\n",
       "np.log2(carat)        1.8809      0.001   1550.255      0.000       1.879       1.883\n",
       "clarity.cat.codes     0.1770      0.001    293.925      0.000       0.176       0.178\n",
       "color.cat.codes      -0.1122      0.001   -203.259      0.000      -0.113      -0.111\n",
       "cut.cat.codes         0.0456      0.001     55.500      0.000       0.044       0.047\n",
       "==============================================================================\n",
       "Omnibus:                     2769.320   Durbin-Watson:                   1.245\n",
       "Prob(Omnibus):                  0.000   Jarque-Bera (JB):             9768.480\n",
       "Skew:                          -0.145   Prob(JB):                         0.00\n",
       "Kurtosis:                       5.067   Cond. No.                         18.9\n",
       "==============================================================================\n",
       "\n",
       "Notes:\n",
       "[1] Standard Errors assume that the covariance matrix of the errors is correctly specified.\n",
       "\"\"\""
      ]
     },
     "execution_count": 15,
     "metadata": {},
     "output_type": "execute_result"
    }
   ],
   "source": [
    "diamonds_mod = smf.ols(\"np.log2(price) ~ np.log2(carat)\"\n",
    "                       + \"+ clarity.cat.codes + color.cat.codes + cut.cat.codes\", \n",
    "                       data=diamonds.query('carat <= 2.5'))\n",
    "diamonds_res = diamonds_mod.fit()\n",
    "diamonds_res.summary()"
   ]
  },
  {
   "cell_type": "markdown",
   "metadata": {
    "slideshow": {
     "slide_type": "slide"
    }
   },
   "source": [
    "* Παρατηρούμε ότι το $R^2$ αυξήθηκε σε σχέση με πριν.\n",
    "\n",
    "* Το νέο μας μοντέλο ταιριάζει καλύτερα στα δεδομένα.\n",
    "\n",
    "* Και από τους συντελεστές βλέπουμε ότι:\n",
    "\n",
    "  * Η καθαρότητα επηρεάζει θετικά την τιμή του διαμαντιού.\n",
    "  * Η παρουσία χρώματος επηρεάζει αρνητικά την τιμή του διαμαντιού.\n",
    "  * Η ποιότητα της κοπής επηρεάζει θετικά την τιμή του διαμαντιού.\n",
    "  * Βεβαίως, το βάρος επηρεάζει την τιμή πολύ περισσότερο."
   ]
  }
 ],
 "metadata": {
  "celltoolbar": "Slideshow",
  "kernelspec": {
   "display_name": "Python 3 (ipykernel)",
   "language": "python",
   "name": "python3"
  },
  "language_info": {
   "codemirror_mode": {
    "name": "ipython",
    "version": 3
   },
   "file_extension": ".py",
   "mimetype": "text/x-python",
   "name": "python",
   "nbconvert_exporter": "python",
   "pygments_lexer": "ipython3",
   "version": "3.9.7"
  }
 },
 "nbformat": 4,
 "nbformat_minor": 1
}
